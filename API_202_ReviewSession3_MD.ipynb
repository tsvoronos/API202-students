{
  "cells": [
    {
      "cell_type": "markdown",
      "metadata": {
        "id": "view-in-github",
        "colab_type": "text"
      },
      "source": [
        "<a href=\"https://colab.research.google.com/github/tsvoronos/API202-students/blob/main/API_202_ReviewSession3_MD.ipynb\" target=\"_parent\"><img src=\"https://colab.research.google.com/assets/colab-badge.svg\" alt=\"Open In Colab\"/></a>"
      ]
    },
    {
      "cell_type": "markdown",
      "id": "4839cd02-22e6-4e06-9617-eccba2b91eb8",
      "metadata": {
        "id": "4839cd02-22e6-4e06-9617-eccba2b91eb8"
      },
      "source": [
        "# API-202 Review Session #3\n",
        "**Friday, February 10**\n",
        "\n",
        "TF: Matthew Dodier"
      ]
    },
    {
      "cell_type": "markdown",
      "id": "-6f4j5MrJr6P",
      "metadata": {
        "id": "-6f4j5MrJr6P"
      },
      "source": [
        "# Table of Contents\n",
        "1. [Lecture Recap](#Lecture-Recap)\n",
        "2. [Exercises](#Exercises)"
      ]
    },
    {
      "cell_type": "markdown",
      "source": [
        "# Lecture Recap"
      ],
      "metadata": {
        "id": "mljmgQImRCV-"
      },
      "id": "mljmgQImRCV-"
    },
    {
      "cell_type": "markdown",
      "source": [
        "* Dummy Variables\n",
        "* Multiple Categories and Dummy Variables\n",
        "* Binary Dependent Variables (i.e., the Linear Probability Model)\n",
        "* Interactions\n",
        "  * Continuous-Dummy Interactions\n",
        "  * Dummy-Dummy Interactions"
      ],
      "metadata": {
        "id": "4_pMK19EqRjo"
      },
      "id": "4_pMK19EqRjo"
    },
    {
      "cell_type": "markdown",
      "source": [
        "## Motivation for Dummy Variables\n",
        "\n",
        "* In public policy, we are often interested in differences between groups, or how different characteristics correlate with a variable that we care about.  Some examples:\n",
        "  * Differential experiences in hiring for different racial groups;\n",
        "  * How democracies differ from non-democracies in terms of public spending\n",
        "  \n",
        "* **Dummy variables** in multiple regression provide us with a way to test for statistical differences between group, while also controlling for other confounding variables."
      ],
      "metadata": {
        "id": "DqpIk1VPzDfd"
      },
      "id": "DqpIk1VPzDfd"
    },
    {
      "cell_type": "markdown",
      "source": [
        "* Suppose, we want to examine whether earnings differ between men and women\n",
        "\n",
        "* We can do this with a bivariate regression, using the following PRF:\n",
        "\n",
        "$$\n",
        "\\text { income }_i=\\beta_0+\\beta_1 \\text { female }_i+u_i\n",
        "$$\n",
        "\n",
        "* The SRF for predıcted earnıngs is thus:\n",
        "\n",
        "$$\n",
        "\\text { income }_i=\\hat{\\beta}_0+\\hat{\\beta}_1 \\text { female }_i + u_i\n",
        "$$"
      ],
      "metadata": {
        "id": "pNnwLQYMH7Qq"
      },
      "id": "pNnwLQYMH7Qq"
    },
    {
      "cell_type": "markdown",
      "source": [
        "Given this PRF and SRF, what are the predicted earnings of:\n",
        "\n",
        "* Males?\n",
        "\n",
        "$$\n",
        "\\begin{aligned}\n",
        "& \\text { income }=\\widehat{\\beta_0}+\\widehat{\\beta_1} \\text { female }=\\widehat{\\beta_0}+\\widehat{\\beta_1}(0) \\\\\n",
        "& \\text { income }=\\widehat{\\beta_0}\n",
        "\\end{aligned}\n",
        "$$\n",
        "\n",
        "* Females?\n",
        "\n",
        "$$\n",
        "\\begin{aligned}\n",
        "& \\text { income }=\\widehat{\\beta_0}+\\widehat{\\beta_1} \\text { female }=\\widehat{\\beta_0}+\\widehat{\\beta_1}(1) \\\\\n",
        "& \\text { income }=\\widehat{\\beta_0}+\\widehat{\\beta_1}\n",
        "\\end{aligned}\n",
        "$$\n",
        "\n",
        "* Here, males are the omitted or reference category (the group for which the included dummies are equal to 0 )"
      ],
      "metadata": {
        "id": "ZM0OnL0_Q5mz"
      },
      "id": "ZM0OnL0_Q5mz"
    },
    {
      "cell_type": "markdown",
      "source": [
        "**What is the interpretation of $\\widehat{\\beta_0}$?**\n",
        "\n",
        "Average earnings of men (the reference/omitted group)."
      ],
      "metadata": {
        "id": "4mXoKZwuRayh"
      },
      "id": "4mXoKZwuRayh"
    },
    {
      "cell_type": "markdown",
      "source": [
        "**What is the interpretation of $\\widehat{\\beta_1}$?**\n",
        "\n",
        "The difference in average earnings between women and men."
      ],
      "metadata": {
        "id": "1nqsuTB-Rjy2"
      },
      "id": "1nqsuTB-Rjy2"
    },
    {
      "cell_type": "markdown",
      "source": [
        "### Program evaluation\n",
        "* Randomized experiments assign people to 2 groups, treatment and control.\n",
        "\n",
        "* Use a dummy variable to estimate the effect of the treatment\n",
        "\n",
        "* Define a dummy variable treat (=1 for treatment group, $=0$ for control group)\n",
        "\n",
        "* PRF: $Y_i=\\beta_0+\\beta_1 \\operatorname{treat}_i+u_i$\n",
        "\n",
        "* $\\beta_0$ is the mean outcome for the control group.\n",
        "\n",
        "* $\\beta_1$ is the difference in mean outcomes between treatment and control.\n",
        "\n",
        "* If we reject the null hypothesis $H_0: \\beta_1=0$, we have found evidence of:\n",
        "\n",
        "  * Different outcomes between the two groups.\n",
        "  * A causal impact of treatment (because random assignment guarantees nothing else differs between the two groups)."
      ],
      "metadata": {
        "id": "M-IOuNHrITtY"
      },
      "id": "M-IOuNHrITtY"
    },
    {
      "cell_type": "markdown",
      "source": [
        "### Dummy variables for multiple categories\n",
        "\n",
        "* In addition to specifying two mutually exclusive groups, dummy variable can be used to interpret multiple categories in a regression\n",
        "\n",
        "* Examples of qualitative variables with more than two categories:\n",
        "  * Race, education, political affliation, etc.\n",
        "\n",
        "* Example of education as a categorical variable:\n",
        "  * Less than high school (i.e., educ $<12$ )\n",
        "  * High school (i.e., $12 \\leq$ educ $<16$ )\n",
        "  * College (i.e., educ $\\geq 16$ )"
      ],
      "metadata": {
        "id": "b8setrQ80vG9"
      },
      "id": "b8setrQ80vG9"
    },
    {
      "cell_type": "markdown",
      "source": [
        "#### More than two categories\n",
        "* We can use dummy variables with more than two categories.\n",
        "\n",
        "* For example, do different racial/ethnic groups in the US have different earnings?\n",
        "\n",
        "* Create one dummy variable for each group (assume categories are mutually exclusive and exhaustive):\n",
        "\n",
        "$\\begin{array}{lll}\\text { white: } & =1 \\text { if white } & (=0 \\text { otherwise }) \\\\ \\text { black: } & =1 \\text { if black } & (=0 \\text { otherwise) } \\\\ \\text { hispanic: } & =1 \\text { if Hispanic } & (=0 \\text { otherwise }) \\\\ \\text { asian: } & =1 \\text { if Asian } & (=0 \\text { otherwise) } \\\\ \\text { other: } & =1 \\text { if other } & (=0 \\text { otherwise) }\\end{array}$"
      ],
      "metadata": {
        "id": "bSOMF67BIbbJ"
      },
      "id": "bSOMF67BIbbJ"
    },
    {
      "cell_type": "markdown",
      "source": [
        "* Next, we run the following regression:\n",
        "$$\n",
        "\\text { income }_i=\\beta_0+\\beta_1 \\text { black }_i+\\beta_2 \\text { hispanic }_i+\\beta_3 \\text { asian }_i +\\beta_4 \\text { other }_i+u_i\n",
        "$$\n",
        "\n",
        "\n",
        "* Interpret $\\widehat{\\beta}_0$: Average income among whites\n",
        "\n",
        "* Interpret $\\widehat{\\beta}_1$: Difference in average income between blacks and whites\n",
        "\n",
        "* Interpret $\\widehat{\\beta}_2$: Difference in average income between Hispanics and whites\n",
        "\n",
        "* Interpret $\\widehat{\\beta}_3$: Difference in average income between Asians and whites\n",
        "\n",
        "* Interpret $\\widehat{\\beta}_4$: Difference in average income between people with race=other and whites"
      ],
      "metadata": {
        "id": "IdoTDMp3Svkk"
      },
      "id": "IdoTDMp3Svkk"
    },
    {
      "cell_type": "markdown",
      "source": [
        "**Question: Instead of multiple dummies, why not use race (=1 for $\\mathrm{W}$, $=2$ for $\\mathrm{B},=3$ for $\\mathrm{H}$, etc.)?**\n",
        "\n",
        "This would assume a linear relationship between earnings and the variable race, which does not make sense because race/ethnicity is not continuous"
      ],
      "metadata": {
        "id": "aX1wgDkhS-GS"
      },
      "id": "aX1wgDkhS-GS"
    },
    {
      "cell_type": "markdown",
      "source": [
        "### Selecting a base group\n",
        "\n",
        "* Instead of including all categories in a regression, we omit one which then gets bundled into the constant $\\beta_0$.\n",
        "\n",
        "* We call this the \"base group\" or \"reference group\"\n",
        "\n",
        "* All coefficient estimates are then relative to this base group\n",
        "\n",
        "* How should you go about choosing a base group?\n",
        "  * What do you want to compare against? That's your base group.\n",
        "  * Often, you will choose your largest group as the base group."
      ],
      "metadata": {
        "id": "BO3AUA1bzNlo"
      },
      "id": "BO3AUA1bzNlo"
    },
    {
      "cell_type": "markdown",
      "source": [
        "## Dummy variables as outcomes\n",
        "\n",
        "* Examples of binary variables as outcomes.\n",
        "  * Whether or not someone voted\n",
        "  * Whether or not someone participates in the labor force\n",
        "\n",
        "* Since binary variables are between 0 and 1 , our regression coefficients represent the **change in the probability of $Y$** (between 0 and 1) associated with a one unit increase in $X$.\n",
        "\n",
        "* Modeling a binary outcome is called a **Linear Probability Model (LPM).**\n"
      ],
      "metadata": {
        "id": "dvIDouz35SDu"
      },
      "id": "dvIDouz35SDu"
    },
    {
      "cell_type": "markdown",
      "source": [
        "### Brief example of the distinction between percents and percentage points\n",
        "\n",
        "In 2009, the US Census Bureau calculated that 9 percent of women and 6 percent of men held advanced degrees. Compared to men, women:\n",
        "\n",
        "* Are $\\underline{3}$ percentage points more likely to have an advanced degree\n",
        "\n",
        "* Are $\\underline{50}$ percent more likely to have an advanced degree."
      ],
      "metadata": {
        "id": "-Wr-mnRy6QF2"
      },
      "id": "-Wr-mnRy6QF2"
    },
    {
      "cell_type": "markdown",
      "source": [
        "$$\n",
        "Y=\\beta_0+\\beta_1 X+u\n",
        "$$\n",
        "\n",
        "* We use OLS to estimate the coefficients, as before. What is somewhat different is how we interpret these coefficients:\n",
        "\n",
        "  * A one unit increase in $X$ is associated with a $\\beta_1 \\times 100$ percentage point change in the probability that $Y=1$.  $\\beta_0$ is the probability of $Y=1$ when $X=0$\n",
        "\n",
        "* In the multivariate case: simply add \"holding constant\" all the other variables, just like before"
      ],
      "metadata": {
        "id": "W8ZGJ1-j6BwB"
      },
      "id": "W8ZGJ1-j6BwB"
    },
    {
      "cell_type": "markdown",
      "source": [
        "### Last comments on LPMs\n",
        "\n",
        "* Because our regression is plotting linear relationships, it is possible to get predicted probabilities that are below 0 or above 1.\n",
        "\n",
        "* There are more nuanced ways to model a binary outcome so that this does not happen, but the coefficients that we estimate with a Linear Probability Model are usually similar to these more technically complex approaches.\n",
        "\n",
        "* If you are primarily interested in the magnitude of coefficients that you estimate (e.g., the change in the probability of $Y$ associated with a one unit in X) and their statistical significance, then the Linear Probability Model is useful and reliable."
      ],
      "metadata": {
        "id": "KWB2UuvJ5aGp"
      },
      "id": "KWB2UuvJ5aGp"
    },
    {
      "cell_type": "markdown",
      "source": [
        "## Introduction to Interactions\n",
        "\n",
        "* So far we have been generally assuming that the Population Regression Function (PRF) is linear in the explanatory variables.\n",
        "\n",
        "* When $X$ and $Y$ are linearly related in a regression, the change in $Y$ given a one-unit increase in $X$ (i.e. the slope) is the same regardless of the value of $X$. For example:\n",
        "\n",
        "$$\n",
        "\\text { testscore }_i=\\beta_0+\\beta_1 \\text { class_size }_i+\\beta_2 \\text { avginc }_i+u_i\n",
        "$$\n",
        "\n",
        "* We will study PRFs that are not linear in their explanatory variables: \n",
        "\n",
        "$$\n",
        "\\text { testscore }_i=\\beta_0+\\beta_1 \\text { class_size }_i+\\beta_2 \\text { avginc }_i+\\beta_3 \\text { class_size }_i * \\text { avginc }_i+u_i\n",
        "$$\n",
        "\n",
        "* In other words, **the relationship between some variable $X_1$ and $Y$ depends on the value for a different variable $X_2$**"
      ],
      "metadata": {
        "id": "_DPZ78CI5hGs"
      },
      "id": "_DPZ78CI5hGs"
    },
    {
      "cell_type": "markdown",
      "source": [
        "* An \"interaction\" in econometrics refers to a variable that is calculated as the product (i.e. multiplication) of two other variables\n",
        "\n",
        "* Models with interactions help us explore questions of the form:\n",
        "Does the association between $____$ and $____$ vary depending on $___$?\n"
      ],
      "metadata": {
        "id": "hp2W0Ntz7XvD"
      },
      "id": "hp2W0Ntz7XvD"
    },
    {
      "cell_type": "markdown",
      "source": [
        "* Interactions allows us to model the case in which a predicted change in $Y$ associated with a change in $X_1$ can depend on the value of another explanatory variable $X_2$\n",
        "\n",
        "* Examples\n",
        "  * Is the effect of foreign aid $(X_1)$ on poverty levels $(Y)$ larger or smaller depending on the level of corruption $(X_2)$ in the recipient country?\n",
        "  * Is the effect of import tariffs $(X_1)$ on government tax revenue $(Y)$ greater if the country is democratic $(X_2)$?\n",
        "  * Does the effect of microfinance $(X_1)$ on business growth $(Y)$ depend on location of the entrepreneur $(X_2)$?"
      ],
      "metadata": {
        "id": "P4hfxCVunOrN"
      },
      "id": "P4hfxCVunOrN"
    },
    {
      "cell_type": "markdown",
      "source": [
        "## Continuous-Dummy Interactions\n",
        "\n",
        "Do the returns to education on income differ between non-urban and urban areas?\n",
        "\n",
        "* Now, suppose that we would try to answer this question by running the following PRF:\n",
        "\n",
        "$$\n",
        "\\text { income }=\\beta_0+\\beta_1 \\text { urban }+\\beta_2 \\text { educ } + u\n",
        "$$\n",
        "\n",
        "where urban = 1 if reside in urban area and 0 otherwise; educ = years of education\n",
        "\n",
        "\n",
        "* The PRF above assumes that the relationship between education and income is the same in non-urban and urban areas\n",
        "  * This may not be very realistic\n",
        "\n",
        "  * Does not allow us to investigate if the returns to education differ between urban and non-urban areas\n",
        "  \n",
        "* We want the regression to allow the slopes (and not just the intercepts) to differ by location    \n",
        "\n"
      ],
      "metadata": {
        "id": "tnygkiUI-DSF"
      },
      "id": "tnygkiUI-DSF"
    },
    {
      "cell_type": "markdown",
      "source": [
        "* Suppose we instead estimate the following PRF: \n",
        "\n",
        "    income $_i=\\beta_0+\\beta_1$ urban $_i+\\beta_2$ educ $_i+\\beta_3$ educ_urban $+u_i$\n",
        "\n",
        "\"educ_urban\" is an interaction term between \"educ\" and \"urban\"\n",
        "\n",
        "  a) income $_i=\\beta_0+\\beta_2 e d u c_i+u_i$\n",
        "\n",
        "  b) income $_i=\\beta_0+\\beta_1+\\beta_2$ educ $_i+\\beta_3 e d u c_i+u_i$\n",
        "\n",
        "  c) income $_i=\\left(\\beta_0+\\beta_1\\right)+\\left(\\beta_2+\\beta_3\\right) e d u c_i+u_i$\n"
      ],
      "metadata": {
        "id": "QFNq6Xkj_AtU"
      },
      "id": "QFNq6Xkj_AtU"
    },
    {
      "cell_type": "markdown",
      "source": [
        "**Question: What is the PRF in non-urban areas?**\n",
        "\n"
      ],
      "metadata": {
        "id": "KQxooqKlKnNy"
      },
      "id": "KQxooqKlKnNy"
    },
    {
      "cell_type": "markdown",
      "source": [
        "Your answer here:"
      ],
      "metadata": {
        "id": "qWxnb_7rm6fZ"
      },
      "id": "qWxnb_7rm6fZ"
    },
    {
      "cell_type": "markdown",
      "source": [
        "**Question: What is the PRF in urban areas?**"
      ],
      "metadata": {
        "id": "mrQdtJ7VKqgG"
      },
      "id": "mrQdtJ7VKqgG"
    },
    {
      "cell_type": "markdown",
      "source": [
        "Your answer here:"
      ],
      "metadata": {
        "id": "FcN_IlFwm9gk"
      },
      "id": "FcN_IlFwm9gk"
    },
    {
      "cell_type": "markdown",
      "source": [
        "Sticking with the same PRF:\n",
        "\n",
        "$$\n",
        "\\text { income }_i=\\beta_0+\\beta_1 \\text { urban }_i+\\beta_2 \\text { educ }_i+\\beta_3 \\text { educ_urban }+u_i\n",
        "$$"
      ],
      "metadata": {
        "id": "PYJ5q24p0BRO"
      },
      "id": "PYJ5q24p0BRO"
    },
    {
      "cell_type": "markdown",
      "source": [
        "* Question: what captures the difference in intercept between urban and non-urban areas?\n",
        "$$\n",
        "\\beta_1\n",
        "$$\n",
        "\n",
        "* Question: what captures the slope in non-urban areas?\n",
        "$$\n",
        "\\beta_2\n",
        "$$\n",
        "\n",
        "* Question: what captures the slope for urban areas?\n",
        "$$\n",
        "\\beta_2+\\beta_3\n",
        "$$\n",
        "\n",
        "* Question: what captures the difference in slope between rural and urban areas?\n",
        "$$\n",
        "\\beta_3\n",
        "$$"
      ],
      "metadata": {
        "id": "QLnhmGkaLJvb"
      },
      "id": "QLnhmGkaLJvb"
    },
    {
      "cell_type": "markdown",
      "source": [
        "### Interacting Dummies (Dummy-Dummy Interactions)\n",
        "\n",
        "* The coefficient on the dummy-dummy interaction tells us that the predicted change in $Y$ going from one category to another depends on which category of the other (dummy) independent variable you are in.\n",
        "\n",
        "* Example: Imagine you implement a savings program and employ a randomized trial to measure its effects. Assume the study was well designed and conducted and that you can interpret the differences between the treatment and control groups as the effect of the program."
      ],
      "metadata": {
        "id": "ROrmDtXV5xHw"
      },
      "id": "ROrmDtXV5xHw"
    },
    {
      "cell_type": "markdown",
      "source": [
        "#### Example: Impacts by Immigration Status\n",
        "\n",
        "Consider the following PRF:\n",
        "\n",
        "$$\n",
        "\\text { Earnings }=\\beta_0+\\beta_1 \\text { TREAT }+\\beta_2 \\text { IMMIGRANT }+\\beta_3 \\text { TREAT } * \\text { IMMIGRANT } + u\n",
        "$$\n",
        "\n",
        "$$\n",
        "\\begin{array}{|l|l|l|l|}\n",
        "\\hline \\\\\n",
        "& Non-immigrants & Immigrants & Difference \\\\\n",
        "\\hline \\\\\n",
        "Control Group (Treat = 0) & \\beta_0 & \\beta_0 + \\beta_2 & \\beta_2 \\\\\n",
        "\\hline \\\\\n",
        "Treatment Group (Treat = 1) & \\beta_0 + \\beta_1 & \\beta_0 + \\beta_1 + \\beta_2 + \\beta_3 & \\beta_2 + \\beta_3 \\\\\n",
        "\\hline \\\\\n",
        "Difference & \\beta_1 & \\beta_1 + \\beta_3 & \\beta_3 \\\\\n",
        "\\hline \\\\\n",
        "\\end{array}\n",
        "$$"
      ],
      "metadata": {
        "id": "2z3iKaIBFf5l"
      },
      "id": "2z3iKaIBFf5l"
    },
    {
      "cell_type": "markdown",
      "source": [
        "### Last comments on interactions\n",
        "\n",
        "* Interactions are often used to explore heterogeneity in data, the question of whether a relationship between the outcome and a factor depends on some other factor\n",
        "\n",
        "* Remember to test statistical significance of the interaction coefficient\n",
        "\n",
        "* We can add control variables, just like before"
      ],
      "metadata": {
        "id": "eiA0HaYA8Fl4"
      },
      "id": "eiA0HaYA8Fl4"
    },
    {
      "cell_type": "markdown",
      "source": [
        "## Key Takeaways\n",
        "\n",
        "* When including dummy variables in a regression, always be aware of your base group, and interpret coefficients relative to that group. \n",
        "\n",
        "* Dummy variables generally represent differences in average values between groups.\n",
        "\n",
        "* If we have a binary outcome variable, we can (approximately) model it using OLS and interpreting coefficients as a $100 \\times \\hat{\\beta}_1$ percentage point change.\n",
        "\n",
        "* Interactions allow us to deepen our models by allowing for associations between two variables to vary depending on a third variable."
      ],
      "metadata": {
        "id": "a6fNg7dm0Z-F"
      },
      "id": "a6fNg7dm0Z-F"
    },
    {
      "cell_type": "markdown",
      "id": "d5711e37-1060-49bc-99a6-d15b04756f16",
      "metadata": {
        "id": "d5711e37-1060-49bc-99a6-d15b04756f16"
      },
      "source": [
        "# Exercises"
      ]
    },
    {
      "cell_type": "markdown",
      "source": [
        "*The purpose of this exercise is to help you understand how to use dummy variables and interactions terms in R.*\n",
        "\n",
        "In this part, you will explore how locality and education affects income patterns using data from the National Longitudinal Survey of Youth 2000 sample. The variables of interest in this exercise are: \n",
        "\n",
        "*   `income`: weekly earnings\n",
        "*   `yrs_educ`: years of education\n",
        "*   `married`: a binary variable for whether the individual is married\n",
        "*   `urban`: a binary variable for whether the individual is living in an urban (as opposed to rural) area"
      ],
      "metadata": {
        "id": "x3QubBvH68js"
      },
      "id": "x3QubBvH68js"
    },
    {
      "cell_type": "code",
      "source": [
        "#suppress warnings\n",
        "options(warn =-1,dplyr.summarise.inform=FALSE)\n",
        "\n",
        "library(tidyverse)\n",
        "NLSY <- read.csv(\"https://github.com/tsvoronos/API202-students/blob/9b0d9d54fff8677151f5ae86df096fb55e6b39d7/data/nlsy2000_2012.csv?raw=1\")\n",
        "\n",
        "head(NLSY)\n"
      ],
      "metadata": {
        "id": "wk3XNTHp5qXY"
      },
      "id": "wk3XNTHp5qXY",
      "execution_count": null,
      "outputs": []
    },
    {
      "cell_type": "markdown",
      "source": [
        "**1. Run a regression of income on urban and years of education. Interpret the coefficients.** "
      ],
      "metadata": {
        "id": "8JT0gIZFYOnY"
      },
      "id": "8JT0gIZFYOnY"
    },
    {
      "cell_type": "code",
      "source": [
        "# Your code here\n",
        "\n"
      ],
      "metadata": {
        "id": "wx7uGfjhYLGP"
      },
      "id": "wx7uGfjhYLGP",
      "execution_count": null,
      "outputs": []
    },
    {
      "cell_type": "markdown",
      "source": [
        "Your answer here:"
      ],
      "metadata": {
        "id": "CYbXbbEWmhgd"
      },
      "id": "CYbXbbEWmhgd"
    },
    {
      "cell_type": "markdown",
      "source": [
        "**2. Generate a new variable equal to the interaction of urban and years of eduction. Then run a regression income on urban, years of education, and the interaction between urban and years of education.**"
      ],
      "metadata": {
        "id": "rPuLIOl8YUWN"
      },
      "id": "rPuLIOl8YUWN"
    },
    {
      "cell_type": "code",
      "source": [
        "# Your code here\n",
        "\n"
      ],
      "metadata": {
        "id": "lWXx9EpGYVam"
      },
      "id": "lWXx9EpGYVam",
      "execution_count": null,
      "outputs": []
    },
    {
      "cell_type": "markdown",
      "source": [
        "**3. Compare the results of the regressions ran in (1) and (2). Interpret the coefficient on the interaction term. Does the interaction term add any additional insight into understanding the relationship between income and locality?**"
      ],
      "metadata": {
        "id": "cI4YcZvzYjH2"
      },
      "id": "cI4YcZvzYjH2"
    },
    {
      "cell_type": "markdown",
      "source": [
        "Your answer here:"
      ],
      "metadata": {
        "id": "NTOgFaQUgqBE"
      },
      "id": "NTOgFaQUgqBE"
    },
    {
      "cell_type": "markdown",
      "source": [
        "**4. Instead of using years of education (a continuous variable) let's create a factor variable for education.  Create new factor variable called `grad` that takes on values of \"Less than HS,\" \"HS,\" and \"College\" depending on the values of `yrs_edu`.**\n",
        "\n"
      ],
      "metadata": {
        "id": "VmQkD7IWUY4U"
      },
      "id": "VmQkD7IWUY4U"
    },
    {
      "cell_type": "markdown",
      "source": [
        "Hint: the new factor variable called `grad` that takes on values of: \n",
        "\n",
        "* \"Less than HS\" if years of education is less than\n",
        "\n",
        "* \"HS\" if years of education is greater than or equal to 12 and less than 16\n",
        "\n",
        "* \"College\" if years of education is greater than or equal to 16\n"
      ],
      "metadata": {
        "id": "-qFDL8a8n9BT"
      },
      "id": "-qFDL8a8n9BT"
    },
    {
      "cell_type": "code",
      "source": [
        "# Your code here"
      ],
      "metadata": {
        "id": "eTg4u3eYjstp"
      },
      "execution_count": 6,
      "outputs": [],
      "id": "eTg4u3eYjstp"
    },
    {
      "cell_type": "markdown",
      "source": [
        "**Bonus: If you want to specify in R what your base group is, you can do so with the \"relevel\" command**"
      ],
      "metadata": {
        "id": "R_wjF37edUFq"
      },
      "id": "R_wjF37edUFq"
    },
    {
      "cell_type": "code",
      "source": [
        "# Your code here"
      ],
      "metadata": {
        "id": "-Vh3G35ldX-U"
      },
      "id": "-Vh3G35ldX-U",
      "execution_count": 7,
      "outputs": []
    },
    {
      "cell_type": "markdown",
      "source": [
        "Your answer here:\n",
        "\n",
        "By doing so, a regression you run on the grad variable will use \"Less than HS\" as the base group. "
      ],
      "metadata": {
        "id": "PS3oQwn5Ucq7"
      },
      "id": "PS3oQwn5Ucq7"
    },
    {
      "cell_type": "markdown",
      "source": [
        "**5. Run a regression of income on urban and grad. Interpret the coefficients.**"
      ],
      "metadata": {
        "id": "b5emWei2ng9C"
      },
      "id": "b5emWei2ng9C"
    },
    {
      "cell_type": "code",
      "source": [
        "# Your code here"
      ],
      "metadata": {
        "id": "EiiI6SiugD6A"
      },
      "id": "EiiI6SiugD6A",
      "execution_count": null,
      "outputs": []
    },
    {
      "cell_type": "markdown",
      "source": [
        "Your answer here:"
      ],
      "metadata": {
        "id": "1YTDYan8mSxj"
      },
      "id": "1YTDYan8mSxj"
    },
    {
      "cell_type": "markdown",
      "source": [
        "**6. How could we include this education categorical variable in R without using a factor variable?** "
      ],
      "metadata": {
        "id": "i6I0BonVaWP8"
      },
      "id": "i6I0BonVaWP8"
    },
    {
      "cell_type": "code",
      "source": [
        "# Your code here\n"
      ],
      "metadata": {
        "id": "wvTVaGPmeDdW"
      },
      "id": "wvTVaGPmeDdW",
      "execution_count": null,
      "outputs": []
    }
  ],
  "metadata": {
    "colab": {
      "provenance": [],
      "include_colab_link": true
    },
    "kernelspec": {
      "display_name": "R",
      "language": "R",
      "name": "ir"
    },
    "language_info": {
      "codemirror_mode": "r",
      "file_extension": ".r",
      "mimetype": "text/x-r-source",
      "name": "R",
      "pygments_lexer": "r",
      "version": "4.2.1"
    }
  },
  "nbformat": 4,
  "nbformat_minor": 5
}