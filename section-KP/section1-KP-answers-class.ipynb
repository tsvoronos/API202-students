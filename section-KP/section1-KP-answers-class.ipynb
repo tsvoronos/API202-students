{
  "nbformat": 4,
  "nbformat_minor": 0,
  "metadata": {
    "colab": {
      "provenance": [],
      "include_colab_link": true
    },
    "kernelspec": {
      "name": "ir",
      "display_name": "R"
    },
    "language_info": {
      "name": "R"
    }
  },
  "cells": [
    {
      "cell_type": "markdown",
      "metadata": {
        "id": "view-in-github",
        "colab_type": "text"
      },
      "source": [
        "<a href=\"https://colab.research.google.com/github/tsvoronos/API202-students/blob/main/section-KP/section1-KP-answers-class.ipynb\" target=\"_parent\"><img src=\"https://colab.research.google.com/assets/colab-badge.svg\" alt=\"Open In Colab\"/></a>"
      ]
    },
    {
      "cell_type": "markdown",
      "source": [
        "# API-202M ABC SECTION #1\n",
        "###### TF: Kelsey Pukelis"
      ],
      "metadata": {
        "id": "jX3Jfe-X8rv6"
      }
    },
    {
      "cell_type": "markdown",
      "source": [
        "**I - INSTRUCTIONS**  \n",
        "\n",
        "1. **Create a copy of this Jupyter notebook in your own drive by clicking `Copy to Drive` in the menubar (this is explained below in more detail below) - *if you do not do this your work will not be saved!***\n",
        "    1. Remember to save your work frequently by pressing `command-S` or clicking `File > Save` in the menubar.\n",
        "    1. We recommend completing this in Google Chrome."
      ],
      "metadata": {
        "id": "ZTrAsOpk81_L"
      }
    },
    {
      "cell_type": "markdown",
      "source": [
        "## Part I: regression by hand (and in reverse)"
      ],
      "metadata": {
        "id": "sFsITNE-VRue"
      }
    },
    {
      "cell_type": "markdown",
      "source": [
        "Hint: Note that the following formulas apply:\n",
        "\n",
        "$\\hat \\beta_1 = \\frac{\\Delta Y }{\\Delta X}$ (Change in Y divided by Change in X)\n",
        "\n",
        "$\\hat u_i = Y_i - \\hat Y_i $ (The residual for each observation)\n",
        "\n",
        "*Note: You may use R to do the calculations as long as you do not use the built-in regression function. Alternatively, you can calculate them by hand or using Excel.*"
      ],
      "metadata": {
        "id": "0O9G7VDkWFbI"
      }
    },
    {
      "cell_type": "markdown",
      "source": [
        "**0a. Write the Sample Regression Function for generic variables $X$ and $Y$ (the version without a residual).**"
      ],
      "metadata": {
        "id": "zif9aWoDW9eU"
      }
    },
    {
      "cell_type": "markdown",
      "source": [
        "Your Answer Here"
      ],
      "metadata": {
        "id": "5jXt-XBpXHI9"
      }
    },
    {
      "cell_type": "markdown",
      "source": [
        "**0b. Rearrange the equation above to have an equation: $\\hat{\\beta}_0 = $ ...**"
      ],
      "metadata": {
        "id": "OZ9gm-xCBDHO"
      }
    },
    {
      "cell_type": "markdown",
      "source": [
        "Your Answer Here \n",
        "\n"
      ],
      "metadata": {
        "id": "qHiJQ9czBV-O"
      }
    },
    {
      "cell_type": "markdown",
      "source": [
        "*Note: You may find it especially helpful for the rest of this exercise to hand-draw a picture.*"
      ],
      "metadata": {
        "id": "S2AUulMMDhDT"
      }
    },
    {
      "cell_type": "markdown",
      "source": [
        "Suppose you were given two points on a regression line:\n",
        "\n",
        "$$\n",
        "(X_A,\\hat{Y}_A) = (2,2)\n",
        "$$\n",
        "\n",
        "$$\n",
        "(X_B,\\hat{Y}_B) = (4,3)\n",
        "$$\n",
        "\n"
      ],
      "metadata": {
        "id": "zgSb8O9hVcgi"
      }
    },
    {
      "cell_type": "markdown",
      "source": [
        "**1. Calculate $\\hat{\\beta}_1$.**"
      ],
      "metadata": {
        "id": "U5enQzhTD5KP"
      }
    },
    {
      "cell_type": "code",
      "source": [
        "# Code block for calulations\n"
      ],
      "metadata": {
        "id": "_VSZ-6xODxPI"
      },
      "execution_count": null,
      "outputs": []
    },
    {
      "cell_type": "markdown",
      "source": [
        "**2. Calculate $\\hat{\\beta_0}$.**"
      ],
      "metadata": {
        "id": "2wCilwU1WT_R"
      }
    },
    {
      "cell_type": "code",
      "source": [
        "# Code block for calculations\n"
      ],
      "metadata": {
        "id": "biYwy4SQEM-c"
      },
      "execution_count": null,
      "outputs": []
    },
    {
      "cell_type": "markdown",
      "source": [
        "Suppose someone tells you that there is a third observation, where $X_C = 7$ "
      ],
      "metadata": {
        "id": "pio23zwXX11X"
      }
    },
    {
      "cell_type": "markdown",
      "source": [
        "**3. Calculate $\\hat{Y}_C$.**"
      ],
      "metadata": {
        "id": "FKuoWv8GWz6v"
      }
    },
    {
      "cell_type": "code",
      "source": [
        "# Code block for calculations\n"
      ],
      "metadata": {
        "id": "LFXkUeHuGG5b"
      },
      "execution_count": null,
      "outputs": []
    },
    {
      "cell_type": "markdown",
      "source": [
        "Now suppose someone gives you 3 points from the actual, observed data: \n",
        "\n",
        "$$\n",
        "(X_A,Y_A) = (2,1)\n",
        "$$\n",
        "$$\n",
        "(X_B,Y_B) = (4,5)\n",
        "$$\n",
        "$$\n",
        "(X_C,Y_C) = (7,3.5)\n",
        "$$\n"
      ],
      "metadata": {
        "id": "GowgGkOPWczS"
      }
    },
    {
      "cell_type": "markdown",
      "source": [
        "**4. Calculate $\\hat{u}_A$, $\\hat{u}_B$, and $\\hat{u}_C$.**"
      ],
      "metadata": {
        "id": "RgRoUKEvWZKy"
      }
    },
    {
      "cell_type": "code",
      "source": [
        "# Code block for calculations\n"
      ],
      "metadata": {
        "id": "sRDgW3x9Gh6f"
      },
      "execution_count": null,
      "outputs": []
    },
    {
      "cell_type": "markdown",
      "source": [
        "## Part II: Data exercise"
      ],
      "metadata": {
        "id": "JKHdHpTP3LsD"
      }
    },
    {
      "cell_type": "markdown",
      "source": [
        "For this problem, we will be looking at data you may have seen before on income mobility in the U.S. "
      ],
      "metadata": {
        "id": "KwQVm6vUvEcD"
      }
    },
    {
      "cell_type": "markdown",
      "source": [
        "For more information, see the paper [\"The Opportunity Atlas: Mapping the Childhood Roots of Social Mobility\"](https://opportunityinsights.org/paper/the-opportunity-atlas/) by Raj Chetty, Nathaniel Hendren, John Friedman, Maggie R. Jones, and Sonya R. Porter. (Looking at this resource is not necessary for completing the problem, but you may find it interesting or helpful for articulating interpretations.)"
      ],
      "metadata": {
        "id": "nUFG_4NMuLXs"
      }
    },
    {
      "cell_type": "markdown",
      "source": [
        "In particular, we will be working to replicate Figure I, Panel B in this [academic paper](https://opportunityinsights.org/wp-content/uploads/2018/10/atlas_paper.pdf). (The numbers will be slightly different because we are plotting for all genders, not just men.)"
      ],
      "metadata": {
        "id": "yisgokuUu5G2"
      }
    },
    {
      "cell_type": "markdown",
      "source": [
        "## Load `R` libraries and data\n",
        "\n",
        "**Please refer to Sheet 1 in this [R Cheat Sheet](https://bit.ly/HKS-R) which includes the commands you learned last semester in addition to a number of additional ones.**\n",
        "\n",
        "The code cell below imports the R tidyverse and creates a dataframe that we will be using for the next exercise. Make sure to run it before starting the problem!\n",
        "\n",
        "*Note: Click the \"play\" button that appears when you hover over a cell to run it. The first time you do this you may receive an alert that this notebook was not authored by Google. If so, click \"Run anyway\" to proceed.*"
      ],
      "metadata": {
        "id": "SWj0YRUh9558"
      }
    },
    {
      "cell_type": "code",
      "execution_count": 1,
      "metadata": {
        "id": "Bmm4lWyNta7U",
        "outputId": "f3c5b954-0f97-4613-e5e8-68043455eb2a",
        "colab": {
          "base_uri": "https://localhost:8080/"
        }
      },
      "outputs": [
        {
          "output_type": "stream",
          "name": "stderr",
          "text": [
            "── \u001b[1mAttaching packages\u001b[22m ─────────────────────────────────────── tidyverse 1.3.1 ──\n",
            "\n",
            "\u001b[32m✔\u001b[39m \u001b[34mggplot2\u001b[39m 3.4.0      \u001b[32m✔\u001b[39m \u001b[34mpurrr  \u001b[39m 1.0.1 \n",
            "\u001b[32m✔\u001b[39m \u001b[34mtibble \u001b[39m 3.1.8      \u001b[32m✔\u001b[39m \u001b[34mdplyr  \u001b[39m 1.0.10\n",
            "\u001b[32m✔\u001b[39m \u001b[34mtidyr  \u001b[39m 1.2.1      \u001b[32m✔\u001b[39m \u001b[34mstringr\u001b[39m 1.4.1 \n",
            "\u001b[32m✔\u001b[39m \u001b[34mreadr  \u001b[39m 2.1.3      \u001b[32m✔\u001b[39m \u001b[34mforcats\u001b[39m 0.5.2 \n",
            "\n",
            "── \u001b[1mConflicts\u001b[22m ────────────────────────────────────────── tidyverse_conflicts() ──\n",
            "\u001b[31m✖\u001b[39m \u001b[34mdplyr\u001b[39m::\u001b[32mfilter()\u001b[39m masks \u001b[34mstats\u001b[39m::filter()\n",
            "\u001b[31m✖\u001b[39m \u001b[34mdplyr\u001b[39m::\u001b[32mlag()\u001b[39m    masks \u001b[34mstats\u001b[39m::lag()\n",
            "\n"
          ]
        }
      ],
      "source": [
        "#suppress warnings\n",
        "options(warn = -1,dplyr.summarise.inform=FALSE)\n",
        "\n",
        "#load packages\n",
        "library(tidyverse)\n",
        "library(broom)\n",
        "library(ggplot2)\n",
        "\n",
        "# load data\n",
        "mobility_all <- read.csv('https://opportunityinsights.org/wp-content/uploads/2018/10/national_percentile_outcomes.csv')"
      ]
    },
    {
      "cell_type": "code",
      "source": [
        "# run this to select only the variables in the data we will be working with\n",
        "mobility <- mobility_all %>% \n",
        "  select(par_pctile,(starts_with(\"jail\") & ends_with(\"_pooled\")))"
      ],
      "metadata": {
        "id": "jQ9y3_i3wW1i"
      },
      "execution_count": 2,
      "outputs": []
    },
    {
      "cell_type": "markdown",
      "source": [
        "Here is a description of each variable in our shortened dataset:\n",
        "\n",
        "*   ``par_pctile``: Parent Income Rank in National Income Distribution. \n",
        "*   ``jail_pooled_pooled``: Fraction incarcerated on April 1st, 2010 (where incarceration is defined as residing in a federal detention center, federal prison, state prison, local jail, residential correctional facility, military jail, or juvenile correctional facility). The first \"pooled\" label means the data represents all races. The second \"pooled\" label means because the data represents all genders.\n",
        "*   ``jail_[race]_pooled``: Fraction incarcerated on April 1st, 2010 for that race/ethnicity group. (Like above, the last \"pooled\" means these data represents all genders.)"
      ],
      "metadata": {
        "id": "Pq6UybAjz65U"
      }
    },
    {
      "cell_type": "markdown",
      "source": [
        "(Here is the  [codebook](https://opportunityinsights.org/wp-content/uploads/2019/07/Codebook-for-Table-7.pdf) for the full data, if you're curious.)"
      ],
      "metadata": {
        "id": "md-MaiBXy9O9"
      }
    },
    {
      "cell_type": "code",
      "source": [
        "# take a look at the first few observations of the data\n",
        "head(mobility)\n"
      ],
      "metadata": {
        "colab": {
          "base_uri": "https://localhost:8080/",
          "height": 286
        },
        "id": "fCxpmJEaMCcL",
        "outputId": "c7604671-473a-4a88-ae38-96f652a6ee77"
      },
      "execution_count": null,
      "outputs": [
        {
          "output_type": "display_data",
          "data": {
            "text/html": [
              "<table class=\"dataframe\">\n",
              "<caption>A data.frame: 6 × 8</caption>\n",
              "<thead>\n",
              "\t<tr><th></th><th scope=col>par_pctile</th><th scope=col>jail_pooled_pooled</th><th scope=col>jail_asian_pooled</th><th scope=col>jail_black_pooled</th><th scope=col>jail_hisp_pooled</th><th scope=col>jail_natam_pooled</th><th scope=col>jail_other_pooled</th><th scope=col>jail_white_pooled</th></tr>\n",
              "\t<tr><th></th><th scope=col>&lt;int&gt;</th><th scope=col>&lt;dbl&gt;</th><th scope=col>&lt;dbl&gt;</th><th scope=col>&lt;dbl&gt;</th><th scope=col>&lt;dbl&gt;</th><th scope=col>&lt;dbl&gt;</th><th scope=col>&lt;dbl&gt;</th><th scope=col>&lt;dbl&gt;</th></tr>\n",
              "</thead>\n",
              "<tbody>\n",
              "\t<tr><th scope=row>1</th><td>1</td><td>0.05587</td><td>0.004098</td><td>0.10430</td><td>0.03499</td><td>0.07073</td><td>0.02007</td><td>0.03733</td></tr>\n",
              "\t<tr><th scope=row>2</th><td>2</td><td>0.05033</td><td>0.003936</td><td>0.09618</td><td>0.03290</td><td>0.05996</td><td>0.01597</td><td>0.03464</td></tr>\n",
              "\t<tr><th scope=row>3</th><td>3</td><td>0.04627</td><td>0.004104</td><td>0.08644</td><td>0.02931</td><td>0.06418</td><td>0.01906</td><td>0.03460</td></tr>\n",
              "\t<tr><th scope=row>4</th><td>4</td><td>0.04445</td><td>0.004954</td><td>0.08586</td><td>0.02776</td><td>0.05662</td><td>0.01667</td><td>0.03246</td></tr>\n",
              "\t<tr><th scope=row>5</th><td>5</td><td>0.04172</td><td>0.004271</td><td>0.08046</td><td>0.02634</td><td>0.04995</td><td>0.01573</td><td>0.03146</td></tr>\n",
              "\t<tr><th scope=row>6</th><td>6</td><td>0.04048</td><td>0.003178</td><td>0.08032</td><td>0.02490</td><td>0.05258</td><td>0.01598</td><td>0.02974</td></tr>\n",
              "</tbody>\n",
              "</table>\n"
            ],
            "text/markdown": "\nA data.frame: 6 × 8\n\n| <!--/--> | par_pctile &lt;int&gt; | jail_pooled_pooled &lt;dbl&gt; | jail_asian_pooled &lt;dbl&gt; | jail_black_pooled &lt;dbl&gt; | jail_hisp_pooled &lt;dbl&gt; | jail_natam_pooled &lt;dbl&gt; | jail_other_pooled &lt;dbl&gt; | jail_white_pooled &lt;dbl&gt; |\n|---|---|---|---|---|---|---|---|---|\n| 1 | 1 | 0.05587 | 0.004098 | 0.10430 | 0.03499 | 0.07073 | 0.02007 | 0.03733 |\n| 2 | 2 | 0.05033 | 0.003936 | 0.09618 | 0.03290 | 0.05996 | 0.01597 | 0.03464 |\n| 3 | 3 | 0.04627 | 0.004104 | 0.08644 | 0.02931 | 0.06418 | 0.01906 | 0.03460 |\n| 4 | 4 | 0.04445 | 0.004954 | 0.08586 | 0.02776 | 0.05662 | 0.01667 | 0.03246 |\n| 5 | 5 | 0.04172 | 0.004271 | 0.08046 | 0.02634 | 0.04995 | 0.01573 | 0.03146 |\n| 6 | 6 | 0.04048 | 0.003178 | 0.08032 | 0.02490 | 0.05258 | 0.01598 | 0.02974 |\n\n",
            "text/latex": "A data.frame: 6 × 8\n\\begin{tabular}{r|llllllll}\n  & par\\_pctile & jail\\_pooled\\_pooled & jail\\_asian\\_pooled & jail\\_black\\_pooled & jail\\_hisp\\_pooled & jail\\_natam\\_pooled & jail\\_other\\_pooled & jail\\_white\\_pooled\\\\\n  & <int> & <dbl> & <dbl> & <dbl> & <dbl> & <dbl> & <dbl> & <dbl>\\\\\n\\hline\n\t1 & 1 & 0.05587 & 0.004098 & 0.10430 & 0.03499 & 0.07073 & 0.02007 & 0.03733\\\\\n\t2 & 2 & 0.05033 & 0.003936 & 0.09618 & 0.03290 & 0.05996 & 0.01597 & 0.03464\\\\\n\t3 & 3 & 0.04627 & 0.004104 & 0.08644 & 0.02931 & 0.06418 & 0.01906 & 0.03460\\\\\n\t4 & 4 & 0.04445 & 0.004954 & 0.08586 & 0.02776 & 0.05662 & 0.01667 & 0.03246\\\\\n\t5 & 5 & 0.04172 & 0.004271 & 0.08046 & 0.02634 & 0.04995 & 0.01573 & 0.03146\\\\\n\t6 & 6 & 0.04048 & 0.003178 & 0.08032 & 0.02490 & 0.05258 & 0.01598 & 0.02974\\\\\n\\end{tabular}\n",
            "text/plain": [
              "  par_pctile jail_pooled_pooled jail_asian_pooled jail_black_pooled\n",
              "1 1          0.05587            0.004098          0.10430          \n",
              "2 2          0.05033            0.003936          0.09618          \n",
              "3 3          0.04627            0.004104          0.08644          \n",
              "4 4          0.04445            0.004954          0.08586          \n",
              "5 5          0.04172            0.004271          0.08046          \n",
              "6 6          0.04048            0.003178          0.08032          \n",
              "  jail_hisp_pooled jail_natam_pooled jail_other_pooled jail_white_pooled\n",
              "1 0.03499          0.07073           0.02007           0.03733          \n",
              "2 0.03290          0.05996           0.01597           0.03464          \n",
              "3 0.02931          0.06418           0.01906           0.03460          \n",
              "4 0.02776          0.05662           0.01667           0.03246          \n",
              "5 0.02634          0.04995           0.01573           0.03146          \n",
              "6 0.02490          0.05258           0.01598           0.02974          "
            ]
          },
          "metadata": {}
        }
      ]
    },
    {
      "cell_type": "code",
      "source": [
        "#nrow(mobility)\n",
        "#table(mobility$par_pctile)\n",
        "#max(mobility$par_pctile)\n",
        "#mobility\n",
        "tail(mobility)"
      ],
      "metadata": {
        "colab": {
          "base_uri": "https://localhost:8080/",
          "height": 286
        },
        "id": "ef-AH9QqnK2E",
        "outputId": "0f640048-a6cb-4f7d-ee89-c7d85cefb8a4"
      },
      "execution_count": 8,
      "outputs": [
        {
          "output_type": "display_data",
          "data": {
            "text/html": [
              "<table class=\"dataframe\">\n",
              "<caption>A data.frame: 6 × 8</caption>\n",
              "<thead>\n",
              "\t<tr><th></th><th scope=col>par_pctile</th><th scope=col>jail_pooled_pooled</th><th scope=col>jail_asian_pooled</th><th scope=col>jail_black_pooled</th><th scope=col>jail_hisp_pooled</th><th scope=col>jail_natam_pooled</th><th scope=col>jail_other_pooled</th><th scope=col>jail_white_pooled</th></tr>\n",
              "\t<tr><th></th><th scope=col>&lt;int&gt;</th><th scope=col>&lt;dbl&gt;</th><th scope=col>&lt;dbl&gt;</th><th scope=col>&lt;dbl&gt;</th><th scope=col>&lt;dbl&gt;</th><th scope=col>&lt;dbl&gt;</th><th scope=col>&lt;dbl&gt;</th><th scope=col>&lt;dbl&gt;</th></tr>\n",
              "</thead>\n",
              "<tbody>\n",
              "\t<tr><th scope=row>95</th><td> 95</td><td>0.002150</td><td>NA</td><td>0.010190</td><td>0.003350</td><td>NA</td><td>      NA</td><td>0.001916</td></tr>\n",
              "\t<tr><th scope=row>96</th><td> 96</td><td>0.002090</td><td>NA</td><td>0.011960</td><td>      NA</td><td>NA</td><td>      NA</td><td>0.001875</td></tr>\n",
              "\t<tr><th scope=row>97</th><td> 97</td><td>0.001797</td><td>NA</td><td>0.009026</td><td>0.002624</td><td>NA</td><td>      NA</td><td>0.001628</td></tr>\n",
              "\t<tr><th scope=row>98</th><td> 98</td><td>0.001654</td><td>NA</td><td>0.009444</td><td>0.003226</td><td>NA</td><td>0.002812</td><td>0.001455</td></tr>\n",
              "\t<tr><th scope=row>99</th><td> 99</td><td>0.001410</td><td>NA</td><td>0.011170</td><td>      NA</td><td>NA</td><td>      NA</td><td>0.001338</td></tr>\n",
              "\t<tr><th scope=row>100</th><td>100</td><td>0.001323</td><td>NA</td><td>0.013650</td><td>      NA</td><td>NA</td><td>      NA</td><td>0.001234</td></tr>\n",
              "</tbody>\n",
              "</table>\n"
            ],
            "text/markdown": "\nA data.frame: 6 × 8\n\n| <!--/--> | par_pctile &lt;int&gt; | jail_pooled_pooled &lt;dbl&gt; | jail_asian_pooled &lt;dbl&gt; | jail_black_pooled &lt;dbl&gt; | jail_hisp_pooled &lt;dbl&gt; | jail_natam_pooled &lt;dbl&gt; | jail_other_pooled &lt;dbl&gt; | jail_white_pooled &lt;dbl&gt; |\n|---|---|---|---|---|---|---|---|---|\n| 95 |  95 | 0.002150 | NA | 0.010190 | 0.003350 | NA |       NA | 0.001916 |\n| 96 |  96 | 0.002090 | NA | 0.011960 |       NA | NA |       NA | 0.001875 |\n| 97 |  97 | 0.001797 | NA | 0.009026 | 0.002624 | NA |       NA | 0.001628 |\n| 98 |  98 | 0.001654 | NA | 0.009444 | 0.003226 | NA | 0.002812 | 0.001455 |\n| 99 |  99 | 0.001410 | NA | 0.011170 |       NA | NA |       NA | 0.001338 |\n| 100 | 100 | 0.001323 | NA | 0.013650 |       NA | NA |       NA | 0.001234 |\n\n",
            "text/latex": "A data.frame: 6 × 8\n\\begin{tabular}{r|llllllll}\n  & par\\_pctile & jail\\_pooled\\_pooled & jail\\_asian\\_pooled & jail\\_black\\_pooled & jail\\_hisp\\_pooled & jail\\_natam\\_pooled & jail\\_other\\_pooled & jail\\_white\\_pooled\\\\\n  & <int> & <dbl> & <dbl> & <dbl> & <dbl> & <dbl> & <dbl> & <dbl>\\\\\n\\hline\n\t95 &  95 & 0.002150 & NA & 0.010190 & 0.003350 & NA &       NA & 0.001916\\\\\n\t96 &  96 & 0.002090 & NA & 0.011960 &       NA & NA &       NA & 0.001875\\\\\n\t97 &  97 & 0.001797 & NA & 0.009026 & 0.002624 & NA &       NA & 0.001628\\\\\n\t98 &  98 & 0.001654 & NA & 0.009444 & 0.003226 & NA & 0.002812 & 0.001455\\\\\n\t99 &  99 & 0.001410 & NA & 0.011170 &       NA & NA &       NA & 0.001338\\\\\n\t100 & 100 & 0.001323 & NA & 0.013650 &       NA & NA &       NA & 0.001234\\\\\n\\end{tabular}\n",
            "text/plain": [
              "    par_pctile jail_pooled_pooled jail_asian_pooled jail_black_pooled\n",
              "95   95        0.002150           NA                0.010190         \n",
              "96   96        0.002090           NA                0.011960         \n",
              "97   97        0.001797           NA                0.009026         \n",
              "98   98        0.001654           NA                0.009444         \n",
              "99   99        0.001410           NA                0.011170         \n",
              "100 100        0.001323           NA                0.013650         \n",
              "    jail_hisp_pooled jail_natam_pooled jail_other_pooled jail_white_pooled\n",
              "95  0.003350         NA                      NA          0.001916         \n",
              "96        NA         NA                      NA          0.001875         \n",
              "97  0.002624         NA                      NA          0.001628         \n",
              "98  0.003226         NA                0.002812          0.001455         \n",
              "99        NA         NA                      NA          0.001338         \n",
              "100       NA         NA                      NA          0.001234         "
            ]
          },
          "metadata": {}
        }
      ]
    },
    {
      "cell_type": "markdown",
      "source": [
        "\n",
        "**Let's start out with familiarizing ourselves with the interpretation of the variable for Parent Income Rank** (``par_pctile``)."
      ],
      "metadata": {
        "id": "cjmZdl3t0f9y"
      }
    },
    {
      "cell_type": "markdown",
      "source": [
        "A. A rank of 1 mean means that a parent was **very poor**. In particular, they were in the lowest percentile of the national income distribution.\n",
        "\n",
        "B. A rank of 99 mean means that a parent was **very rich**. In particular, they were in the highest percentile of the national income distribution.\n",
        "\n",
        "C. A rank of 50 mean means that a parent was **in the middle** of the national income distribution. In particular, they were at the median."
      ],
      "metadata": {
        "id": "eqXrLqRj2T3D"
      }
    },
    {
      "cell_type": "markdown",
      "source": [
        "**Convert the ``jail_`` variables from fractions to percents, to ease interpretations.**"
      ],
      "metadata": {
        "id": "qjtO84BO-sc6"
      }
    },
    {
      "cell_type": "code",
      "source": [
        "mobility_pct <- mobility %>% \n",
        "  mutate(jail_pooled_pooled = jail_pooled_pooled*100) %>% \n",
        "  mutate(jail_asian_pooled = jail_asian_pooled*100) %>% \n",
        "  mutate(jail_black_pooled = jail_black_pooled*100) %>% \n",
        "  mutate(jail_hisp_pooled = jail_hisp_pooled*100) %>% \n",
        "  mutate(jail_natam_pooled = jail_natam_pooled*100) %>% \n",
        "  mutate(jail_other_pooled = jail_other_pooled*100) %>% \n",
        "  mutate(jail_white_pooled = jail_white_pooled*100)\n",
        "head(mobility)\n",
        "head(mobility_pct)"
      ],
      "metadata": {
        "colab": {
          "base_uri": "https://localhost:8080/",
          "height": 555
        },
        "id": "9jEjfpHf_H-L",
        "outputId": "9808ca26-2910-4270-e215-007f5482c836"
      },
      "execution_count": 9,
      "outputs": [
        {
          "output_type": "display_data",
          "data": {
            "text/html": [
              "<table class=\"dataframe\">\n",
              "<caption>A data.frame: 6 × 8</caption>\n",
              "<thead>\n",
              "\t<tr><th></th><th scope=col>par_pctile</th><th scope=col>jail_pooled_pooled</th><th scope=col>jail_asian_pooled</th><th scope=col>jail_black_pooled</th><th scope=col>jail_hisp_pooled</th><th scope=col>jail_natam_pooled</th><th scope=col>jail_other_pooled</th><th scope=col>jail_white_pooled</th></tr>\n",
              "\t<tr><th></th><th scope=col>&lt;int&gt;</th><th scope=col>&lt;dbl&gt;</th><th scope=col>&lt;dbl&gt;</th><th scope=col>&lt;dbl&gt;</th><th scope=col>&lt;dbl&gt;</th><th scope=col>&lt;dbl&gt;</th><th scope=col>&lt;dbl&gt;</th><th scope=col>&lt;dbl&gt;</th></tr>\n",
              "</thead>\n",
              "<tbody>\n",
              "\t<tr><th scope=row>1</th><td>1</td><td>0.05587</td><td>0.004098</td><td>0.10430</td><td>0.03499</td><td>0.07073</td><td>0.02007</td><td>0.03733</td></tr>\n",
              "\t<tr><th scope=row>2</th><td>2</td><td>0.05033</td><td>0.003936</td><td>0.09618</td><td>0.03290</td><td>0.05996</td><td>0.01597</td><td>0.03464</td></tr>\n",
              "\t<tr><th scope=row>3</th><td>3</td><td>0.04627</td><td>0.004104</td><td>0.08644</td><td>0.02931</td><td>0.06418</td><td>0.01906</td><td>0.03460</td></tr>\n",
              "\t<tr><th scope=row>4</th><td>4</td><td>0.04445</td><td>0.004954</td><td>0.08586</td><td>0.02776</td><td>0.05662</td><td>0.01667</td><td>0.03246</td></tr>\n",
              "\t<tr><th scope=row>5</th><td>5</td><td>0.04172</td><td>0.004271</td><td>0.08046</td><td>0.02634</td><td>0.04995</td><td>0.01573</td><td>0.03146</td></tr>\n",
              "\t<tr><th scope=row>6</th><td>6</td><td>0.04048</td><td>0.003178</td><td>0.08032</td><td>0.02490</td><td>0.05258</td><td>0.01598</td><td>0.02974</td></tr>\n",
              "</tbody>\n",
              "</table>\n"
            ],
            "text/markdown": "\nA data.frame: 6 × 8\n\n| <!--/--> | par_pctile &lt;int&gt; | jail_pooled_pooled &lt;dbl&gt; | jail_asian_pooled &lt;dbl&gt; | jail_black_pooled &lt;dbl&gt; | jail_hisp_pooled &lt;dbl&gt; | jail_natam_pooled &lt;dbl&gt; | jail_other_pooled &lt;dbl&gt; | jail_white_pooled &lt;dbl&gt; |\n|---|---|---|---|---|---|---|---|---|\n| 1 | 1 | 0.05587 | 0.004098 | 0.10430 | 0.03499 | 0.07073 | 0.02007 | 0.03733 |\n| 2 | 2 | 0.05033 | 0.003936 | 0.09618 | 0.03290 | 0.05996 | 0.01597 | 0.03464 |\n| 3 | 3 | 0.04627 | 0.004104 | 0.08644 | 0.02931 | 0.06418 | 0.01906 | 0.03460 |\n| 4 | 4 | 0.04445 | 0.004954 | 0.08586 | 0.02776 | 0.05662 | 0.01667 | 0.03246 |\n| 5 | 5 | 0.04172 | 0.004271 | 0.08046 | 0.02634 | 0.04995 | 0.01573 | 0.03146 |\n| 6 | 6 | 0.04048 | 0.003178 | 0.08032 | 0.02490 | 0.05258 | 0.01598 | 0.02974 |\n\n",
            "text/latex": "A data.frame: 6 × 8\n\\begin{tabular}{r|llllllll}\n  & par\\_pctile & jail\\_pooled\\_pooled & jail\\_asian\\_pooled & jail\\_black\\_pooled & jail\\_hisp\\_pooled & jail\\_natam\\_pooled & jail\\_other\\_pooled & jail\\_white\\_pooled\\\\\n  & <int> & <dbl> & <dbl> & <dbl> & <dbl> & <dbl> & <dbl> & <dbl>\\\\\n\\hline\n\t1 & 1 & 0.05587 & 0.004098 & 0.10430 & 0.03499 & 0.07073 & 0.02007 & 0.03733\\\\\n\t2 & 2 & 0.05033 & 0.003936 & 0.09618 & 0.03290 & 0.05996 & 0.01597 & 0.03464\\\\\n\t3 & 3 & 0.04627 & 0.004104 & 0.08644 & 0.02931 & 0.06418 & 0.01906 & 0.03460\\\\\n\t4 & 4 & 0.04445 & 0.004954 & 0.08586 & 0.02776 & 0.05662 & 0.01667 & 0.03246\\\\\n\t5 & 5 & 0.04172 & 0.004271 & 0.08046 & 0.02634 & 0.04995 & 0.01573 & 0.03146\\\\\n\t6 & 6 & 0.04048 & 0.003178 & 0.08032 & 0.02490 & 0.05258 & 0.01598 & 0.02974\\\\\n\\end{tabular}\n",
            "text/plain": [
              "  par_pctile jail_pooled_pooled jail_asian_pooled jail_black_pooled\n",
              "1 1          0.05587            0.004098          0.10430          \n",
              "2 2          0.05033            0.003936          0.09618          \n",
              "3 3          0.04627            0.004104          0.08644          \n",
              "4 4          0.04445            0.004954          0.08586          \n",
              "5 5          0.04172            0.004271          0.08046          \n",
              "6 6          0.04048            0.003178          0.08032          \n",
              "  jail_hisp_pooled jail_natam_pooled jail_other_pooled jail_white_pooled\n",
              "1 0.03499          0.07073           0.02007           0.03733          \n",
              "2 0.03290          0.05996           0.01597           0.03464          \n",
              "3 0.02931          0.06418           0.01906           0.03460          \n",
              "4 0.02776          0.05662           0.01667           0.03246          \n",
              "5 0.02634          0.04995           0.01573           0.03146          \n",
              "6 0.02490          0.05258           0.01598           0.02974          "
            ]
          },
          "metadata": {}
        },
        {
          "output_type": "display_data",
          "data": {
            "text/html": [
              "<table class=\"dataframe\">\n",
              "<caption>A data.frame: 6 × 8</caption>\n",
              "<thead>\n",
              "\t<tr><th></th><th scope=col>par_pctile</th><th scope=col>jail_pooled_pooled</th><th scope=col>jail_asian_pooled</th><th scope=col>jail_black_pooled</th><th scope=col>jail_hisp_pooled</th><th scope=col>jail_natam_pooled</th><th scope=col>jail_other_pooled</th><th scope=col>jail_white_pooled</th></tr>\n",
              "\t<tr><th></th><th scope=col>&lt;int&gt;</th><th scope=col>&lt;dbl&gt;</th><th scope=col>&lt;dbl&gt;</th><th scope=col>&lt;dbl&gt;</th><th scope=col>&lt;dbl&gt;</th><th scope=col>&lt;dbl&gt;</th><th scope=col>&lt;dbl&gt;</th><th scope=col>&lt;dbl&gt;</th></tr>\n",
              "</thead>\n",
              "<tbody>\n",
              "\t<tr><th scope=row>1</th><td>1</td><td>5.587</td><td>0.4098</td><td>10.430</td><td>3.499</td><td>7.073</td><td>2.007</td><td>3.733</td></tr>\n",
              "\t<tr><th scope=row>2</th><td>2</td><td>5.033</td><td>0.3936</td><td> 9.618</td><td>3.290</td><td>5.996</td><td>1.597</td><td>3.464</td></tr>\n",
              "\t<tr><th scope=row>3</th><td>3</td><td>4.627</td><td>0.4104</td><td> 8.644</td><td>2.931</td><td>6.418</td><td>1.906</td><td>3.460</td></tr>\n",
              "\t<tr><th scope=row>4</th><td>4</td><td>4.445</td><td>0.4954</td><td> 8.586</td><td>2.776</td><td>5.662</td><td>1.667</td><td>3.246</td></tr>\n",
              "\t<tr><th scope=row>5</th><td>5</td><td>4.172</td><td>0.4271</td><td> 8.046</td><td>2.634</td><td>4.995</td><td>1.573</td><td>3.146</td></tr>\n",
              "\t<tr><th scope=row>6</th><td>6</td><td>4.048</td><td>0.3178</td><td> 8.032</td><td>2.490</td><td>5.258</td><td>1.598</td><td>2.974</td></tr>\n",
              "</tbody>\n",
              "</table>\n"
            ],
            "text/markdown": "\nA data.frame: 6 × 8\n\n| <!--/--> | par_pctile &lt;int&gt; | jail_pooled_pooled &lt;dbl&gt; | jail_asian_pooled &lt;dbl&gt; | jail_black_pooled &lt;dbl&gt; | jail_hisp_pooled &lt;dbl&gt; | jail_natam_pooled &lt;dbl&gt; | jail_other_pooled &lt;dbl&gt; | jail_white_pooled &lt;dbl&gt; |\n|---|---|---|---|---|---|---|---|---|\n| 1 | 1 | 5.587 | 0.4098 | 10.430 | 3.499 | 7.073 | 2.007 | 3.733 |\n| 2 | 2 | 5.033 | 0.3936 |  9.618 | 3.290 | 5.996 | 1.597 | 3.464 |\n| 3 | 3 | 4.627 | 0.4104 |  8.644 | 2.931 | 6.418 | 1.906 | 3.460 |\n| 4 | 4 | 4.445 | 0.4954 |  8.586 | 2.776 | 5.662 | 1.667 | 3.246 |\n| 5 | 5 | 4.172 | 0.4271 |  8.046 | 2.634 | 4.995 | 1.573 | 3.146 |\n| 6 | 6 | 4.048 | 0.3178 |  8.032 | 2.490 | 5.258 | 1.598 | 2.974 |\n\n",
            "text/latex": "A data.frame: 6 × 8\n\\begin{tabular}{r|llllllll}\n  & par\\_pctile & jail\\_pooled\\_pooled & jail\\_asian\\_pooled & jail\\_black\\_pooled & jail\\_hisp\\_pooled & jail\\_natam\\_pooled & jail\\_other\\_pooled & jail\\_white\\_pooled\\\\\n  & <int> & <dbl> & <dbl> & <dbl> & <dbl> & <dbl> & <dbl> & <dbl>\\\\\n\\hline\n\t1 & 1 & 5.587 & 0.4098 & 10.430 & 3.499 & 7.073 & 2.007 & 3.733\\\\\n\t2 & 2 & 5.033 & 0.3936 &  9.618 & 3.290 & 5.996 & 1.597 & 3.464\\\\\n\t3 & 3 & 4.627 & 0.4104 &  8.644 & 2.931 & 6.418 & 1.906 & 3.460\\\\\n\t4 & 4 & 4.445 & 0.4954 &  8.586 & 2.776 & 5.662 & 1.667 & 3.246\\\\\n\t5 & 5 & 4.172 & 0.4271 &  8.046 & 2.634 & 4.995 & 1.573 & 3.146\\\\\n\t6 & 6 & 4.048 & 0.3178 &  8.032 & 2.490 & 5.258 & 1.598 & 2.974\\\\\n\\end{tabular}\n",
            "text/plain": [
              "  par_pctile jail_pooled_pooled jail_asian_pooled jail_black_pooled\n",
              "1 1          5.587              0.4098            10.430           \n",
              "2 2          5.033              0.3936             9.618           \n",
              "3 3          4.627              0.4104             8.644           \n",
              "4 4          4.445              0.4954             8.586           \n",
              "5 5          4.172              0.4271             8.046           \n",
              "6 6          4.048              0.3178             8.032           \n",
              "  jail_hisp_pooled jail_natam_pooled jail_other_pooled jail_white_pooled\n",
              "1 3.499            7.073             2.007             3.733            \n",
              "2 3.290            5.996             1.597             3.464            \n",
              "3 2.931            6.418             1.906             3.460            \n",
              "4 2.776            5.662             1.667             3.246            \n",
              "5 2.634            4.995             1.573             3.146            \n",
              "6 2.490            5.258             1.598             2.974            "
            ]
          },
          "metadata": {}
        }
      ]
    },
    {
      "cell_type": "markdown",
      "source": [
        "## All races"
      ],
      "metadata": {
        "id": "k4jIRDD6FHmk"
      }
    },
    {
      "cell_type": "markdown",
      "source": [
        "**1. Create a scatter plot showing the relationship between incarceration rates and parent income rank for the whole sample (all races and genders).**"
      ],
      "metadata": {
        "id": "shmCeVjn4cBq"
      }
    },
    {
      "cell_type": "code",
      "source": [
        "# Your Answer Here\n",
        "#ggplot(data = mobility,aes(x = par_pctile, y = jail_pooled_pooled)) + geom_point()\n",
        "base_plot <- mobility %>%\n",
        "  ggplot(aes(x = par_pctile, y = jail_pooled_pooled)) + geom_point()\n",
        "#base_plot\n",
        "\n",
        "base_plot + geom_smooth(method = \"lm\", formula = y ~ x, se = FALSE)"
      ],
      "metadata": {
        "id": "0Dr-iwGQ4X4p",
        "colab": {
          "base_uri": "https://localhost:8080/",
          "height": 437
        },
        "outputId": "0488136a-a4cc-4926-cf03-b70f5b8ef67d"
      },
      "execution_count": 19,
      "outputs": [
        {
          "output_type": "display_data",
          "data": {
            "text/plain": [
              "plot without title"
            ],
            "image/png": "[encoded data removed]"
          },
          "metadata": {
            "image/png": {
              "width": 420,
              "height": 420
            }
          }
        }
      ]
    },
    {
      "cell_type": "markdown",
      "source": [
        "**2. Comment on this \"scatter\" plot. For example, you might consider whether the relationship appears linear, whether this looks like a \"scatter\" plot, and on the correlation of these variables. What is your takeaway about the relationship between parental income and incarceration rates?**"
      ],
      "metadata": {
        "id": "SjFezyI3FE4y"
      }
    },
    {
      "cell_type": "markdown",
      "source": [
        "Your Answer Here"
      ],
      "metadata": {
        "id": "qpzs74YOF-p7"
      }
    },
    {
      "cell_type": "markdown",
      "source": [
        "**3. Overlay a linear regression line to your plot. Comment on the fit of this regression line to the data.**\n"
      ],
      "metadata": {
        "id": "Xf4cl8rSH62f"
      }
    },
    {
      "cell_type": "code",
      "source": [
        "# Your Answer Here\n"
      ],
      "metadata": {
        "id": "TiS5yLwhIlg7"
      },
      "execution_count": null,
      "outputs": []
    },
    {
      "cell_type": "markdown",
      "source": [
        "Your Answer Here"
      ],
      "metadata": {
        "id": "IS7Kg4SkJw8a"
      }
    },
    {
      "cell_type": "markdown",
      "source": [
        "**4. Run a linear regression of incarceration rate on parental income rank. Interpret the coefficients and comment on their statistical significance.**"
      ],
      "metadata": {
        "id": "G8hG6m5mUmnt"
      }
    },
    {
      "cell_type": "code",
      "source": [
        "# Your Answer Here\n",
        "#fit <- lm(jail_pooled_pooled ~ par_pctile,data = mobility)\n",
        "fit <-  lm(jail_pooled_pooled ~ par_pctile, data = mobility_pct)\n",
        "summary(fit)"
      ],
      "metadata": {
        "id": "aRLq0NwyUk6L",
        "colab": {
          "base_uri": "https://localhost:8080/",
          "height": 329
        },
        "outputId": "992451c9-f50b-4870-afe3-284acc9afb87"
      },
      "execution_count": 24,
      "outputs": [
        {
          "output_type": "display_data",
          "data": {
            "text/plain": [
              "\n",
              "Call:\n",
              "lm(formula = jail_pooled_pooled ~ par_pctile, data = mobility_pct)\n",
              "\n",
              "Residuals:\n",
              "    Min      1Q  Median      3Q     Max \n",
              "-0.4944 -0.3486 -0.1082  0.2401  1.9691 \n",
              "\n",
              "Coefficients:\n",
              "             Estimate Std. Error t value Pr(>|t|)    \n",
              "(Intercept)  3.659181   0.088678   41.26   <2e-16 ***\n",
              "par_pctile  -0.041263   0.001525  -27.07   <2e-16 ***\n",
              "---\n",
              "Signif. codes:  0 ‘***’ 0.001 ‘**’ 0.01 ‘*’ 0.05 ‘.’ 0.1 ‘ ’ 1\n",
              "\n",
              "Residual standard error: 0.4401 on 98 degrees of freedom\n",
              "Multiple R-squared:  0.882,\tAdjusted R-squared:  0.8808 \n",
              "F-statistic: 732.6 on 1 and 98 DF,  p-value: < 2.2e-16\n"
            ]
          },
          "metadata": {}
        }
      ]
    },
    {
      "cell_type": "markdown",
      "source": [
        "Your Answer Here"
      ],
      "metadata": {
        "id": "bLF2gEXceUF9"
      }
    },
    {
      "cell_type": "markdown",
      "source": [
        "**5. Divide the sample into \"rich\" and \"poor\" families by defining your own cutoff point. (Note: solutions will use the median, where the \"rich\" group includes the median.) Estimate two regressions of incarceration rates on parental income rank separately: one regression for \"poor\" and one regression for \"rich\" children. How do the coefficients differ between the two groups?**"
      ],
      "metadata": {
        "id": "tqvX9XI1RsPm"
      }
    },
    {
      "cell_type": "code",
      "source": [
        "# Your Answer Here\n",
        "mobility_pct <- mobility_pct %>%\n",
        "  mutate(poor = par_pctile<50)\n",
        "head(mobility_pct)\n",
        "tail(mobility_pct)\n",
        "\n",
        "# poor group only\n",
        "mobility_poor <- mobility_pct %>% filter(poor == TRUE)\n",
        "fit_poor <- lm(jail_pooled_pooled ~ par_pctile,data = mobility_poor)\n",
        "summary(fit_poor)\n",
        "\n",
        "# rich group only\n",
        "mobility_rich <- mobility_pct %>% filter(poor == FALSE)\n",
        "fit_rich <- lm(jail_pooled_pooled ~ par_pctile,data = mobility_rich)\n",
        "summary(fit_rich)"
      ],
      "metadata": {
        "id": "2SLHvkaTgoOy",
        "colab": {
          "base_uri": "https://localhost:8080/",
          "height": 867
        },
        "outputId": "326e18aa-474e-4719-fe01-6852d08eaf7c"
      },
      "execution_count": 27,
      "outputs": [
        {
          "output_type": "display_data",
          "data": {
            "text/html": [
              "<table class=\"dataframe\">\n",
              "<caption>A data.frame: 6 × 9</caption>\n",
              "<thead>\n",
              "\t<tr><th></th><th scope=col>par_pctile</th><th scope=col>jail_pooled_pooled</th><th scope=col>jail_asian_pooled</th><th scope=col>jail_black_pooled</th><th scope=col>jail_hisp_pooled</th><th scope=col>jail_natam_pooled</th><th scope=col>jail_other_pooled</th><th scope=col>jail_white_pooled</th><th scope=col>poor</th></tr>\n",
              "\t<tr><th></th><th scope=col>&lt;int&gt;</th><th scope=col>&lt;dbl&gt;</th><th scope=col>&lt;dbl&gt;</th><th scope=col>&lt;dbl&gt;</th><th scope=col>&lt;dbl&gt;</th><th scope=col>&lt;dbl&gt;</th><th scope=col>&lt;dbl&gt;</th><th scope=col>&lt;dbl&gt;</th><th scope=col>&lt;lgl&gt;</th></tr>\n",
              "</thead>\n",
              "<tbody>\n",
              "\t<tr><th scope=row>1</th><td>1</td><td>5.587</td><td>0.4098</td><td>10.430</td><td>3.499</td><td>7.073</td><td>2.007</td><td>3.733</td><td>TRUE</td></tr>\n",
              "\t<tr><th scope=row>2</th><td>2</td><td>5.033</td><td>0.3936</td><td> 9.618</td><td>3.290</td><td>5.996</td><td>1.597</td><td>3.464</td><td>TRUE</td></tr>\n",
              "\t<tr><th scope=row>3</th><td>3</td><td>4.627</td><td>0.4104</td><td> 8.644</td><td>2.931</td><td>6.418</td><td>1.906</td><td>3.460</td><td>TRUE</td></tr>\n",
              "\t<tr><th scope=row>4</th><td>4</td><td>4.445</td><td>0.4954</td><td> 8.586</td><td>2.776</td><td>5.662</td><td>1.667</td><td>3.246</td><td>TRUE</td></tr>\n",
              "\t<tr><th scope=row>5</th><td>5</td><td>4.172</td><td>0.4271</td><td> 8.046</td><td>2.634</td><td>4.995</td><td>1.573</td><td>3.146</td><td>TRUE</td></tr>\n",
              "\t<tr><th scope=row>6</th><td>6</td><td>4.048</td><td>0.3178</td><td> 8.032</td><td>2.490</td><td>5.258</td><td>1.598</td><td>2.974</td><td>TRUE</td></tr>\n",
              "</tbody>\n",
              "</table>\n"
            ],
            "text/markdown": "\nA data.frame: 6 × 9\n\n| <!--/--> | par_pctile &lt;int&gt; | jail_pooled_pooled &lt;dbl&gt; | jail_asian_pooled &lt;dbl&gt; | jail_black_pooled &lt;dbl&gt; | jail_hisp_pooled &lt;dbl&gt; | jail_natam_pooled &lt;dbl&gt; | jail_other_pooled &lt;dbl&gt; | jail_white_pooled &lt;dbl&gt; | poor &lt;lgl&gt; |\n|---|---|---|---|---|---|---|---|---|---|\n| 1 | 1 | 5.587 | 0.4098 | 10.430 | 3.499 | 7.073 | 2.007 | 3.733 | TRUE |\n| 2 | 2 | 5.033 | 0.3936 |  9.618 | 3.290 | 5.996 | 1.597 | 3.464 | TRUE |\n| 3 | 3 | 4.627 | 0.4104 |  8.644 | 2.931 | 6.418 | 1.906 | 3.460 | TRUE |\n| 4 | 4 | 4.445 | 0.4954 |  8.586 | 2.776 | 5.662 | 1.667 | 3.246 | TRUE |\n| 5 | 5 | 4.172 | 0.4271 |  8.046 | 2.634 | 4.995 | 1.573 | 3.146 | TRUE |\n| 6 | 6 | 4.048 | 0.3178 |  8.032 | 2.490 | 5.258 | 1.598 | 2.974 | TRUE |\n\n",
            "text/latex": "A data.frame: 6 × 9\n\\begin{tabular}{r|lllllllll}\n  & par\\_pctile & jail\\_pooled\\_pooled & jail\\_asian\\_pooled & jail\\_black\\_pooled & jail\\_hisp\\_pooled & jail\\_natam\\_pooled & jail\\_other\\_pooled & jail\\_white\\_pooled & poor\\\\\n  & <int> & <dbl> & <dbl> & <dbl> & <dbl> & <dbl> & <dbl> & <dbl> & <lgl>\\\\\n\\hline\n\t1 & 1 & 5.587 & 0.4098 & 10.430 & 3.499 & 7.073 & 2.007 & 3.733 & TRUE\\\\\n\t2 & 2 & 5.033 & 0.3936 &  9.618 & 3.290 & 5.996 & 1.597 & 3.464 & TRUE\\\\\n\t3 & 3 & 4.627 & 0.4104 &  8.644 & 2.931 & 6.418 & 1.906 & 3.460 & TRUE\\\\\n\t4 & 4 & 4.445 & 0.4954 &  8.586 & 2.776 & 5.662 & 1.667 & 3.246 & TRUE\\\\\n\t5 & 5 & 4.172 & 0.4271 &  8.046 & 2.634 & 4.995 & 1.573 & 3.146 & TRUE\\\\\n\t6 & 6 & 4.048 & 0.3178 &  8.032 & 2.490 & 5.258 & 1.598 & 2.974 & TRUE\\\\\n\\end{tabular}\n",
            "text/plain": [
              "  par_pctile jail_pooled_pooled jail_asian_pooled jail_black_pooled\n",
              "1 1          5.587              0.4098            10.430           \n",
              "2 2          5.033              0.3936             9.618           \n",
              "3 3          4.627              0.4104             8.644           \n",
              "4 4          4.445              0.4954             8.586           \n",
              "5 5          4.172              0.4271             8.046           \n",
              "6 6          4.048              0.3178             8.032           \n",
              "  jail_hisp_pooled jail_natam_pooled jail_other_pooled jail_white_pooled poor\n",
              "1 3.499            7.073             2.007             3.733             TRUE\n",
              "2 3.290            5.996             1.597             3.464             TRUE\n",
              "3 2.931            6.418             1.906             3.460             TRUE\n",
              "4 2.776            5.662             1.667             3.246             TRUE\n",
              "5 2.634            4.995             1.573             3.146             TRUE\n",
              "6 2.490            5.258             1.598             2.974             TRUE"
            ]
          },
          "metadata": {}
        },
        {
          "output_type": "display_data",
          "data": {
            "text/html": [
              "<table class=\"dataframe\">\n",
              "<caption>A data.frame: 6 × 9</caption>\n",
              "<thead>\n",
              "\t<tr><th></th><th scope=col>par_pctile</th><th scope=col>jail_pooled_pooled</th><th scope=col>jail_asian_pooled</th><th scope=col>jail_black_pooled</th><th scope=col>jail_hisp_pooled</th><th scope=col>jail_natam_pooled</th><th scope=col>jail_other_pooled</th><th scope=col>jail_white_pooled</th><th scope=col>poor</th></tr>\n",
              "\t<tr><th></th><th scope=col>&lt;int&gt;</th><th scope=col>&lt;dbl&gt;</th><th scope=col>&lt;dbl&gt;</th><th scope=col>&lt;dbl&gt;</th><th scope=col>&lt;dbl&gt;</th><th scope=col>&lt;dbl&gt;</th><th scope=col>&lt;dbl&gt;</th><th scope=col>&lt;dbl&gt;</th><th scope=col>&lt;lgl&gt;</th></tr>\n",
              "</thead>\n",
              "<tbody>\n",
              "\t<tr><th scope=row>95</th><td> 95</td><td>0.2150</td><td>NA</td><td>1.0190</td><td>0.3350</td><td>NA</td><td>    NA</td><td>0.1916</td><td>FALSE</td></tr>\n",
              "\t<tr><th scope=row>96</th><td> 96</td><td>0.2090</td><td>NA</td><td>1.1960</td><td>    NA</td><td>NA</td><td>    NA</td><td>0.1875</td><td>FALSE</td></tr>\n",
              "\t<tr><th scope=row>97</th><td> 97</td><td>0.1797</td><td>NA</td><td>0.9026</td><td>0.2624</td><td>NA</td><td>    NA</td><td>0.1628</td><td>FALSE</td></tr>\n",
              "\t<tr><th scope=row>98</th><td> 98</td><td>0.1654</td><td>NA</td><td>0.9444</td><td>0.3226</td><td>NA</td><td>0.2812</td><td>0.1455</td><td>FALSE</td></tr>\n",
              "\t<tr><th scope=row>99</th><td> 99</td><td>0.1410</td><td>NA</td><td>1.1170</td><td>    NA</td><td>NA</td><td>    NA</td><td>0.1338</td><td>FALSE</td></tr>\n",
              "\t<tr><th scope=row>100</th><td>100</td><td>0.1323</td><td>NA</td><td>1.3650</td><td>    NA</td><td>NA</td><td>    NA</td><td>0.1234</td><td>FALSE</td></tr>\n",
              "</tbody>\n",
              "</table>\n"
            ],
            "text/markdown": "\nA data.frame: 6 × 9\n\n| <!--/--> | par_pctile &lt;int&gt; | jail_pooled_pooled &lt;dbl&gt; | jail_asian_pooled &lt;dbl&gt; | jail_black_pooled &lt;dbl&gt; | jail_hisp_pooled &lt;dbl&gt; | jail_natam_pooled &lt;dbl&gt; | jail_other_pooled &lt;dbl&gt; | jail_white_pooled &lt;dbl&gt; | poor &lt;lgl&gt; |\n|---|---|---|---|---|---|---|---|---|---|\n| 95 |  95 | 0.2150 | NA | 1.0190 | 0.3350 | NA |     NA | 0.1916 | FALSE |\n| 96 |  96 | 0.2090 | NA | 1.1960 |     NA | NA |     NA | 0.1875 | FALSE |\n| 97 |  97 | 0.1797 | NA | 0.9026 | 0.2624 | NA |     NA | 0.1628 | FALSE |\n| 98 |  98 | 0.1654 | NA | 0.9444 | 0.3226 | NA | 0.2812 | 0.1455 | FALSE |\n| 99 |  99 | 0.1410 | NA | 1.1170 |     NA | NA |     NA | 0.1338 | FALSE |\n| 100 | 100 | 0.1323 | NA | 1.3650 |     NA | NA |     NA | 0.1234 | FALSE |\n\n",
            "text/latex": "A data.frame: 6 × 9\n\\begin{tabular}{r|lllllllll}\n  & par\\_pctile & jail\\_pooled\\_pooled & jail\\_asian\\_pooled & jail\\_black\\_pooled & jail\\_hisp\\_pooled & jail\\_natam\\_pooled & jail\\_other\\_pooled & jail\\_white\\_pooled & poor\\\\\n  & <int> & <dbl> & <dbl> & <dbl> & <dbl> & <dbl> & <dbl> & <dbl> & <lgl>\\\\\n\\hline\n\t95 &  95 & 0.2150 & NA & 1.0190 & 0.3350 & NA &     NA & 0.1916 & FALSE\\\\\n\t96 &  96 & 0.2090 & NA & 1.1960 &     NA & NA &     NA & 0.1875 & FALSE\\\\\n\t97 &  97 & 0.1797 & NA & 0.9026 & 0.2624 & NA &     NA & 0.1628 & FALSE\\\\\n\t98 &  98 & 0.1654 & NA & 0.9444 & 0.3226 & NA & 0.2812 & 0.1455 & FALSE\\\\\n\t99 &  99 & 0.1410 & NA & 1.1170 &     NA & NA &     NA & 0.1338 & FALSE\\\\\n\t100 & 100 & 0.1323 & NA & 1.3650 &     NA & NA &     NA & 0.1234 & FALSE\\\\\n\\end{tabular}\n",
            "text/plain": [
              "    par_pctile jail_pooled_pooled jail_asian_pooled jail_black_pooled\n",
              "95   95        0.2150             NA                1.0190           \n",
              "96   96        0.2090             NA                1.1960           \n",
              "97   97        0.1797             NA                0.9026           \n",
              "98   98        0.1654             NA                0.9444           \n",
              "99   99        0.1410             NA                1.1170           \n",
              "100 100        0.1323             NA                1.3650           \n",
              "    jail_hisp_pooled jail_natam_pooled jail_other_pooled jail_white_pooled\n",
              "95  0.3350           NA                    NA            0.1916           \n",
              "96      NA           NA                    NA            0.1875           \n",
              "97  0.2624           NA                    NA            0.1628           \n",
              "98  0.3226           NA                0.2812            0.1455           \n",
              "99      NA           NA                    NA            0.1338           \n",
              "100     NA           NA                    NA            0.1234           \n",
              "    poor \n",
              "95  FALSE\n",
              "96  FALSE\n",
              "97  FALSE\n",
              "98  FALSE\n",
              "99  FALSE\n",
              "100 FALSE"
            ]
          },
          "metadata": {}
        },
        {
          "output_type": "display_data",
          "data": {
            "text/plain": [
              "\n",
              "Call:\n",
              "lm(formula = jail_pooled_pooled ~ par_pctile, data = mobility_poor)\n",
              "\n",
              "Residuals:\n",
              "     Min       1Q   Median       3Q      Max \n",
              "-0.27202 -0.16982 -0.08299  0.07822  1.23827 \n",
              "\n",
              "Coefficients:\n",
              "             Estimate Std. Error t value Pr(>|t|)    \n",
              "(Intercept)  4.421633   0.082394   53.66   <2e-16 ***\n",
              "par_pctile  -0.072901   0.002869  -25.41   <2e-16 ***\n",
              "---\n",
              "Signif. codes:  0 ‘***’ 0.001 ‘**’ 0.01 ‘*’ 0.05 ‘.’ 0.1 ‘ ’ 1\n",
              "\n",
              "Residual standard error: 0.284 on 47 degrees of freedom\n",
              "Multiple R-squared:  0.9322,\tAdjusted R-squared:  0.9307 \n",
              "F-statistic: 645.9 on 1 and 47 DF,  p-value: < 2.2e-16\n"
            ]
          },
          "metadata": {}
        }
      ]
    },
    {
      "cell_type": "code",
      "source": [],
      "metadata": {
        "id": "OtCZZvcdwaDX"
      },
      "execution_count": null,
      "outputs": []
    },
    {
      "cell_type": "markdown",
      "source": [
        "Your Answer Here"
      ],
      "metadata": {
        "id": "aS3_OCYhi_gp"
      }
    },
    {
      "cell_type": "markdown",
      "source": [
        "**Bonus: plot the points and two regression lines separately by the variable indicating \"poor\" or \"rich\" families that you just created.**"
      ],
      "metadata": {
        "id": "5cmBmhmagooa"
      }
    },
    {
      "cell_type": "code",
      "source": [
        "# Your Answer Here\n"
      ],
      "metadata": {
        "id": "UDGitnrlSy5w"
      },
      "execution_count": null,
      "outputs": []
    },
    {
      "cell_type": "markdown",
      "source": [
        "## By race"
      ],
      "metadata": {
        "id": "GY4MqT-gHot6"
      }
    },
    {
      "cell_type": "markdown",
      "source": [
        "**6. Now plot the relationship between incarceration rates and parental income rank for at least two race/ethnicity groups of your choosing. (Note: The solutions will include all race/ethnicity groups.)**"
      ],
      "metadata": {
        "id": "cCv6cjdOHVlN"
      }
    },
    {
      "cell_type": "code",
      "source": [
        "# Your Answer Here\n"
      ],
      "metadata": {
        "id": "mZAeku94H2Qq"
      },
      "execution_count": null,
      "outputs": []
    },
    {
      "cell_type": "markdown",
      "source": [
        "**7. Comment on the results of this graph.**"
      ],
      "metadata": {
        "id": "CMJAFrMsmV_T"
      }
    },
    {
      "cell_type": "markdown",
      "source": [
        "Your Answer Here"
      ],
      "metadata": {
        "id": "fZFS3Ge8mw5f"
      }
    }
  ]
}