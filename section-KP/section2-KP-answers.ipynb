{
  "cells": [
    {
      "cell_type": "markdown",
      "metadata": {
        "id": "view-in-github",
        "colab_type": "text"
      },
      "source": [
        "<a href=\"https://colab.research.google.com/github/tsvoronos/API202-students/blob/main/section-KP/section2-KP-answers.ipynb\" target=\"_parent\"><img src=\"https://colab.research.google.com/assets/colab-badge.svg\" alt=\"Open In Colab\"/></a>"
      ]
    },
    {
      "cell_type": "markdown",
      "metadata": {
        "id": "llzlIZkjYwoE"
      },
      "source": [
        "## API-202M ABC SECTION #2\n",
        "###### TF: Kelsey Pukelis"
      ]
    },
    {
      "cell_type": "markdown",
      "source": [
        "**I - INSTRUCTIONS**  \n",
        "\n",
        "1. **Create a copy of this Jupyter notebook in your own drive by clicking `Copy to Drive` in the menubar (this is explained below in more detail below) - *if you do not do this your work will not be saved!***\n",
        "    1. Remember to save your work frequently by pressing `command-S` or clicking `File > Save` in the menubar.\n",
        "    1. We recommend completing this in Google Chrome."
      ],
      "metadata": {
        "id": "OdxPtxeisYYY"
      }
    },
    {
      "cell_type": "markdown",
      "metadata": {
        "id": "d5711e37-1060-49bc-99a6-d15b04756f16"
      },
      "source": [
        "## Load `R` libraries and data\n",
        "\n",
        "**Please refer this [R Cheat Sheet](https://bit.ly/HKS-R) which includes the commands you learned last semester in addition to a number of additional ones.**\n",
        "\n",
        "The code cell below imports the R tidyverse. Make sure to run it before starting the problem set!\n",
        "\n",
        "*Note: Click the \"play\" button that appears when you hover over a cell to run it. The first time you do this you may receive an alert that this notebook was not authored by Google. If so, click \"Run anyway\" to proceed.*"
      ]
    },
    {
      "cell_type": "code",
      "execution_count": null,
      "metadata": {
        "id": "aa889d79-5ab9-42af-8590-30819c45124f",
        "tags": [],
        "colab": {
          "base_uri": "https://localhost:8080/"
        },
        "outputId": "ae607451-4e73-48c7-e338-94356c5c083a"
      },
      "outputs": [
        {
          "output_type": "stream",
          "name": "stderr",
          "text": [
            "Warning message in system(\"timedatectl\", intern = TRUE):\n",
            "“running command 'timedatectl' had status 1”\n",
            "── \u001b[1mAttaching packages\u001b[22m ─────────────────────────────────────── tidyverse 1.3.1 ──\n",
            "\n",
            "\u001b[32m✔\u001b[39m \u001b[34mggplot2\u001b[39m 3.4.0      \u001b[32m✔\u001b[39m \u001b[34mpurrr  \u001b[39m 1.0.1 \n",
            "\u001b[32m✔\u001b[39m \u001b[34mtibble \u001b[39m 3.1.8      \u001b[32m✔\u001b[39m \u001b[34mdplyr  \u001b[39m 1.0.10\n",
            "\u001b[32m✔\u001b[39m \u001b[34mtidyr  \u001b[39m 1.3.0      \u001b[32m✔\u001b[39m \u001b[34mstringr\u001b[39m 1.4.1 \n",
            "\u001b[32m✔\u001b[39m \u001b[34mreadr  \u001b[39m 2.1.3      \u001b[32m✔\u001b[39m \u001b[34mforcats\u001b[39m 0.5.2 \n",
            "\n",
            "── \u001b[1mConflicts\u001b[22m ────────────────────────────────────────── tidyverse_conflicts() ──\n",
            "\u001b[31m✖\u001b[39m \u001b[34mdplyr\u001b[39m::\u001b[32mfilter()\u001b[39m masks \u001b[34mstats\u001b[39m::filter()\n",
            "\u001b[31m✖\u001b[39m \u001b[34mdplyr\u001b[39m::\u001b[32mlag()\u001b[39m    masks \u001b[34mstats\u001b[39m::lag()\n",
            "\n"
          ]
        }
      ],
      "source": [
        "library(tidyverse)"
      ]
    },
    {
      "cell_type": "markdown",
      "metadata": {
        "id": "tIl3nGigdeIl"
      },
      "source": [
        "# PART I: High School Student Exercise and Grades\n",
        "\n",
        "The purpose of this exercise is to help you understand multiple regression and omitted variable bias.\n",
        "\n",
        "The dataset for this question is an extract of data from [a survey of high school students on health behaviors](https://www.cdc.gov/healthyyouth/data/yrbs/data.htm). The variables in this dataset are:\n",
        "\n",
        "*   `age`: age in years \n",
        "*   `exercise`: Number of days exercised during the past 7 days\n",
        "*   `grades`: reported grades during the last 12 months, where 5 = \"Mostly A's\" ... 1 = \"Mostly F's\"\n",
        "*   `sleep`: \"On an average school night, how many hours of sleep do you get?\"\n",
        "\n",
        "Notes about pre-processing just to be aware of:\n",
        "\n",
        "*   The age variable treats students as age 12 or younger as age 12.\n",
        "*   The age variable treats students as age 18 or older as age 18.\n",
        "*   The sleep variable treats less than 4 hours as 4 hours. \n",
        "*   The sleep variable treats more than 10 hours as 10 hours. \n",
        "*   Students who report their grades are \"None of these grades\" or \"Not sure\" are not included in this dataset.\n",
        "*   I only include students whose data is not missing for all four variables."
      ]
    },
    {
      "cell_type": "code",
      "source": [
        "students <- read.csv('https://raw.githubusercontent.com/tsvoronos/API202-students/6c2c5ac7433e47e2d31bee81999da063f221e3b7/data/student_health.csv')\n",
        "head(students)"
      ],
      "metadata": {
        "colab": {
          "base_uri": "https://localhost:8080/",
          "height": 286
        },
        "id": "30EqFSEstYhD",
        "outputId": "a71bf321-1e9c-42d2-b15c-e8ca03448726"
      },
      "execution_count": null,
      "outputs": [
        {
          "output_type": "display_data",
          "data": {
            "text/html": [
              "<table class=\"dataframe\">\n",
              "<caption>A data.frame: 6 × 4</caption>\n",
              "<thead>\n",
              "\t<tr><th></th><th scope=col>age</th><th scope=col>sleep</th><th scope=col>grades</th><th scope=col>exercise</th></tr>\n",
              "\t<tr><th></th><th scope=col>&lt;int&gt;</th><th scope=col>&lt;int&gt;</th><th scope=col>&lt;int&gt;</th><th scope=col>&lt;int&gt;</th></tr>\n",
              "</thead>\n",
              "<tbody>\n",
              "\t<tr><th scope=row>1</th><td>16</td><td>7</td><td>4</td><td>4</td></tr>\n",
              "\t<tr><th scope=row>2</th><td>15</td><td>7</td><td>4</td><td>5</td></tr>\n",
              "\t<tr><th scope=row>3</th><td>15</td><td>8</td><td>4</td><td>0</td></tr>\n",
              "\t<tr><th scope=row>4</th><td>15</td><td>7</td><td>3</td><td>0</td></tr>\n",
              "\t<tr><th scope=row>5</th><td>16</td><td>5</td><td>5</td><td>1</td></tr>\n",
              "\t<tr><th scope=row>6</th><td>15</td><td>6</td><td>4</td><td>7</td></tr>\n",
              "</tbody>\n",
              "</table>\n"
            ],
            "text/markdown": "\nA data.frame: 6 × 4\n\n| <!--/--> | age &lt;int&gt; | sleep &lt;int&gt; | grades &lt;int&gt; | exercise &lt;int&gt; |\n|---|---|---|---|---|\n| 1 | 16 | 7 | 4 | 4 |\n| 2 | 15 | 7 | 4 | 5 |\n| 3 | 15 | 8 | 4 | 0 |\n| 4 | 15 | 7 | 3 | 0 |\n| 5 | 16 | 5 | 5 | 1 |\n| 6 | 15 | 6 | 4 | 7 |\n\n",
            "text/latex": "A data.frame: 6 × 4\n\\begin{tabular}{r|llll}\n  & age & sleep & grades & exercise\\\\\n  & <int> & <int> & <int> & <int>\\\\\n\\hline\n\t1 & 16 & 7 & 4 & 4\\\\\n\t2 & 15 & 7 & 4 & 5\\\\\n\t3 & 15 & 8 & 4 & 0\\\\\n\t4 & 15 & 7 & 3 & 0\\\\\n\t5 & 16 & 5 & 5 & 1\\\\\n\t6 & 15 & 6 & 4 & 7\\\\\n\\end{tabular}\n",
            "text/plain": [
              "  age sleep grades exercise\n",
              "1 16  7     4      4       \n",
              "2 15  7     4      5       \n",
              "3 15  8     4      0       \n",
              "4 15  7     3      0       \n",
              "5 16  5     5      1       \n",
              "6 15  6     4      7       "
            ]
          },
          "metadata": {}
        }
      ]
    },
    {
      "cell_type": "markdown",
      "metadata": {
        "id": "8JMs5bTJUMwL"
      },
      "source": [
        "**1. Let's start with plotting a histogram for the `exercise` variable.**\n",
        "\n",
        "**HINT: the code for a histogram \n",
        "is `ggplot(dataset, aes(x = var)) + geom_histogram()`\n",
        "Where dataset is the name of the dataset and var is the variable of interest.**"
      ]
    },
    {
      "cell_type": "code",
      "execution_count": null,
      "metadata": {
        "colab": {
          "base_uri": "https://localhost:8080/",
          "height": 437
        },
        "id": "IIpSO48vVWeO",
        "outputId": "acaa094b-191c-4972-eddc-77e65b9d47de"
      },
      "outputs": [
        {
          "output_type": "display_data",
          "data": {
            "text/plain": [
              "plot without title"
            ],
            "image/png": "[encoded data removed]"
          },
          "metadata": {
            "image/png": {
              "width": 420,
              "height": 420
            }
          }
        }
      ],
      "source": [
        "# Your code here\n",
        "\n",
        "# START\n",
        "ggplot(students, aes(x = exercise)) + \n",
        "geom_histogram(binwidth = 1,color = \"blue\") +\n",
        "scale_x_continuous(breaks = 0:7) +\n",
        "labs(x = \"Days exercised last week\", y = \"Count\")\n",
        "#END\n"
      ]
    },
    {
      "cell_type": "markdown",
      "source": [
        "Your Answer Here \n",
        "\n",
        "#### START \n",
        "A takeaway is that many students didn't exercise any days in the previous week. The rest of the students are spread approximately uniformly across the other numbers (1 through 7 days a week). \n",
        "\n",
        "#### END "
      ],
      "metadata": {
        "id": "aI4bWhJnp0lW"
      }
    },
    {
      "cell_type": "markdown",
      "metadata": {
        "id": "bTnR2PSPZqSb"
      },
      "source": [
        "**Bonus: Plot a histogram for student grades. Label the values appropriately.**"
      ]
    },
    {
      "cell_type": "code",
      "execution_count": null,
      "metadata": {
        "colab": {
          "base_uri": "https://localhost:8080/",
          "height": 437
        },
        "id": "vEu2BsHzaLLw",
        "outputId": "2bc9893b-b883-4d6a-d281-c4eeaef4a451"
      },
      "outputs": [
        {
          "output_type": "display_data",
          "data": {
            "text/plain": [
              "plot without title"
            ],
            "image/png": "[encoded data removed]"
          },
          "metadata": {
            "image/png": {
              "width": 420,
              "height": 420
            }
          }
        }
      ],
      "source": [
        "# Your code here\n",
        "\n",
        "# START\n",
        "ggplot(students, aes(x = grades)) + \n",
        "geom_histogram(binwidth = 1,color = \"blue\") +\n",
        "scale_x_continuous(breaks = 1:5, labels = c(\"F's\",\"D's\",\"C's\",\"B's\",\"A's\")) +\n",
        "labs(x = \"Grades\", y = \"Count\")\n",
        "#END"
      ]
    },
    {
      "cell_type": "markdown",
      "source": [
        "Your Answer Here \n",
        "\n",
        "#### START \n",
        "\n",
        "A few things we discussed that are a little strange about this variable:\n",
        "\n",
        "*   We are treating the difference between an A and a B the same as the difference between an D and an F, even though that may not hold in reality. This is a limitation of how we are treating this measure in our data. \n",
        "*   This variable reflects grades roughly across all classes. A better measure of student performance would be an *average* of a student's grades across all classes (e.g. GPA). \n",
        "*   This variable is self-reported, which is less preferred than grades from administrative school records since students could lie to surveyers about their grades. \n",
        "\n",
        "#### END \n"
      ],
      "metadata": {
        "id": "E0eCO7wdp4rY"
      }
    },
    {
      "cell_type": "markdown",
      "metadata": {
        "id": "DBUNp_JqdoWt"
      },
      "source": [
        "**2. Using a regression, test the null hypothesis that exercise is not associated with student grades. Discuss the magnitude and statistical significance of your estimate.** "
      ]
    },
    {
      "cell_type": "code",
      "execution_count": null,
      "metadata": {
        "colab": {
          "base_uri": "https://localhost:8080/",
          "height": 346
        },
        "id": "DTixbTuYMPhb",
        "outputId": "850d247e-6489-49e8-dfd3-170de55a6a82"
      },
      "outputs": [
        {
          "output_type": "display_data",
          "data": {
            "text/plain": [
              "\n",
              "Call:\n",
              "lm(formula = grades ~ exercise, data = students)\n",
              "\n",
              "Residuals:\n",
              "    Min      1Q  Median      3Q     Max \n",
              "-3.1853 -0.1853 -0.1124  0.8564  0.8876 \n",
              "\n",
              "Coefficients:\n",
              "            Estimate Std. Error t value Pr(>|t|)    \n",
              "(Intercept) 4.112357   0.015359 267.750   <2e-16 ***\n",
              "exercise    0.010422   0.004208   2.477   0.0133 *  \n",
              "---\n",
              "Signif. codes:  0 ‘***’ 0.001 ‘**’ 0.01 ‘*’ 0.05 ‘.’ 0.1 ‘ ’ 1\n",
              "\n",
              "Residual standard error: 0.9111 on 7869 degrees of freedom\n",
              "Multiple R-squared:  0.0007789,\tAdjusted R-squared:  0.000652 \n",
              "F-statistic: 6.134 on 1 and 7869 DF,  p-value: 0.01328\n"
            ]
          },
          "metadata": {}
        }
      ],
      "source": [
        "# Your code here\n",
        "# START\n",
        "reg1 <- lm(grades ~ exercise, data = students)\n",
        "\n",
        "summary(reg1)\n",
        "\n",
        "#END"
      ]
    },
    {
      "cell_type": "markdown",
      "metadata": {
        "id": "pOGjpGGMdshW"
      },
      "source": [
        "Your Answer Here \n",
        "\n",
        "#### START \n",
        "\n",
        "An increase of one day of exercise per week is associated with an increase of 1.04 percent of a letter grade, on average. This coefficient is statistically significant at the 0.05 level (t = 2.477 and p-value = 0.0133). However, the magnitude of the coefficient is practically small; moving 1.04 percent of a letter grade is not a very meaningful increase in student performance. Even for exercising 7 more days a week, the predicted increase would be only 7.28 percent of a letter grade. \n",
        "\n",
        "#### END \n",
        "\n"
      ]
    },
    {
      "cell_type": "markdown",
      "metadata": {
        "id": "UfoWVyJeGhSN"
      },
      "source": [
        "**4. Run a regression of student grades on the `exercise` and `sleep` variables. Interpret each coefficient of the regression, commenting on both magnitude and statistical significance.**"
      ]
    },
    {
      "cell_type": "code",
      "execution_count": null,
      "metadata": {
        "colab": {
          "base_uri": "https://localhost:8080/",
          "height": 364
        },
        "id": "D2xaQus-G4i_",
        "outputId": "68b50561-b083-4ef7-bb0f-52d04406a05a"
      },
      "outputs": [
        {
          "output_type": "display_data",
          "data": {
            "text/plain": [
              "\n",
              "Call:\n",
              "lm(formula = grades ~ exercise + sleep, data = students)\n",
              "\n",
              "Residuals:\n",
              "    Min      1Q  Median      3Q     Max \n",
              "-3.5492 -0.3225 -0.0088  0.7961  1.1362 \n",
              "\n",
              "Coefficients:\n",
              "            Estimate Std. Error t value Pr(>|t|)    \n",
              "(Intercept) 3.431464   0.050094  68.500   <2e-16 ***\n",
              "exercise    0.005266   0.004171   1.263    0.207    \n",
              "sleep       0.108088   0.007579  14.262   <2e-16 ***\n",
              "---\n",
              "Signif. codes:  0 ‘***’ 0.001 ‘**’ 0.01 ‘*’ 0.05 ‘.’ 0.1 ‘ ’ 1\n",
              "\n",
              "Residual standard error: 0.8996 on 7868 degrees of freedom\n",
              "Multiple R-squared:  0.02596,\tAdjusted R-squared:  0.02571 \n",
              "F-statistic: 104.8 on 2 and 7868 DF,  p-value: < 2.2e-16\n"
            ]
          },
          "metadata": {}
        }
      ],
      "source": [
        "# Your code here\n",
        "# START\n",
        "reg2 <- lm(grades ~ exercise + sleep, data = students)\n",
        "\n",
        "summary(reg2)\n",
        "\n",
        "#END"
      ]
    },
    {
      "cell_type": "markdown",
      "metadata": {
        "id": "EOCRKkfceBw1"
      },
      "source": [
        "Your answer here\n",
        "\n",
        "#### START \n",
        "An increase of one day of exercise per week is now associated with an increase of 0.53 percent of a letter grade, on average, holding constant hours of sleep. This coefficient is no longer statistically significant at the 0.05 level (t = 1.263 and p-value = 0.207), and the magnitude of the coefficient is now even smaller and less practically meaningful.\n",
        "\n",
        "An increase in one hour of sleep on a typical school night is associated with an increase of 10.8 percent of a letter grade, on average, holding constant days of exercise per week. This coefficient is very statistically significant (t = 14.262 and p-value = 0.000). The magnitude of this coefficient is also quite practically meaningful. If the relationship were causal (a big \"if\"), this would suggest encouraging students to get more sleep could improve their grades marginally. \n",
        "\n",
        "Overall, we should conclude that sleep matters much more for student performance than exercise.\n",
        "#### END \n"
      ]
    },
    {
      "cell_type": "markdown",
      "source": [
        "**5. Why do you think the slope coefficient on `exercise` changes as it does between the two regressions? Provide an explanation to a policy maker interested in your results.**"
      ],
      "metadata": {
        "id": "4DQ-gGwy0YMM"
      }
    },
    {
      "cell_type": "markdown",
      "source": [
        "Your answer here\n",
        "\n",
        "#### START \n",
        "\n",
        "When we add the sleep variable, the estimated relationship between exercise and student grades becomes smaller in magnitude. This is because the type of students who sleep more are also the type of students who exercise more and who get better grades, and sleep matters more for explaining student performance than exercise. \n",
        "\n",
        "#### END "
      ],
      "metadata": {
        "id": "rab1qgXy0i51"
      }
    },
    {
      "cell_type": "markdown",
      "metadata": {
        "id": "G2ek6cxk1yrL"
      },
      "source": [
        "**6. If we fail to include hours of sleep in the regression, then the coefficient on exercise is an ________________ of the true relationship between exercise and student grades.**"
      ]
    },
    {
      "cell_type": "markdown",
      "metadata": {
        "id": "6y9rGVrv2h3R"
      },
      "source": [
        "Check one:\n",
        "- [ ] Overstatement\n",
        "- [ ] Understatement\n",
        "\n",
        "Your explanation here\n",
        "\n",
        "\n"
      ]
    },
    {
      "cell_type": "markdown",
      "source": [
        "#### START \n",
        "\n",
        "Overstatement. \n",
        "\n",
        "Here is a thorough discussion, which you can read to check your understanding. (An adequate response could be much shorter than this.)\n",
        "\n",
        "Recall: \n",
        "\n",
        "$$\n",
        "bias = \\hat{\\alpha}_1 - \\hat{\\beta}_1 = \\hat{\\beta}_2 * \\hat{\\gamma}_1\n",
        "$$\n",
        "Sleep is positively correlated with both exercise (so $\\hat{\\gamma}_1 > 0$) and grades (so $\\hat{\\beta}_2 > 0$).  This means that the bias term is greater than zero ($bias = \\hat{\\beta}_2 * \\hat{\\gamma}_1 > 0$). Remember that bias is equal to the difference in the coefficent on exercise in the shorter regression, minus the coefficient on exercise in the longer regression: $bias = \\hat{\\alpha}_1 - \\hat{\\beta}_1 > 0$. Rearranging this, we get $\\hat{\\alpha}_1 > \\hat{\\beta}_1$, i.e. the (positive) coefficient on exercise is smaller in magnitude in the second regression compared to the first. \n",
        "\n",
        "*Extra discussion.* One student asked: how do we know that exercise and sleep are positively correlated? Do we just speculate about the relationship, or is this something that we can see in the data? \n",
        "\n",
        "Since we have the data on the two variables in our dataset, we can test this by running a bivariate regression. (See the code below.) Indeed, we find that sleep and exercise are positively correlated because the slope coefficient in the bivariate regression is positive. \n",
        "\n",
        "However, we often have discussions about omitted variable bias for variables that we don't actually have data on. In this case, all we can do is use contextual knowledge to speculate about the sign (+ or -) of the relationship between variables to determine the sign of the bias. \n",
        "\n",
        "#### END "
      ],
      "metadata": {
        "id": "uO8jGA5iqN4H"
      }
    },
    {
      "cell_type": "code",
      "source": [
        "# Your code here (optional)\n",
        "\n",
        "# START\n",
        "reg3 <- lm(sleep ~ exercise, data = students)\n",
        "summary(reg3)\n",
        "# END "
      ],
      "metadata": {
        "colab": {
          "base_uri": "https://localhost:8080/",
          "height": 346
        },
        "id": "6IS3M00SqQbj",
        "outputId": "74efdcbc-5fab-4ac5-cb81-9a4365a86986"
      },
      "execution_count": null,
      "outputs": [
        {
          "output_type": "display_data",
          "data": {
            "text/plain": [
              "\n",
              "Call:\n",
              "lm(formula = sleep ~ exercise, data = students)\n",
              "\n",
              "Residuals:\n",
              "    Min      1Q  Median      3Q     Max \n",
              "-2.6334 -0.6334 -0.2994  0.7006  3.7006 \n",
              "\n",
              "Coefficients:\n",
              "            Estimate Std. Error t value Pr(>|t|)    \n",
              "(Intercept)  6.29944    0.02256  279.27  < 2e-16 ***\n",
              "exercise     0.04771    0.00618    7.72 1.31e-14 ***\n",
              "---\n",
              "Signif. codes:  0 ‘***’ 0.001 ‘**’ 0.01 ‘*’ 0.05 ‘.’ 0.1 ‘ ’ 1\n",
              "\n",
              "Residual standard error: 1.338 on 7869 degrees of freedom\n",
              "Multiple R-squared:  0.007516,\tAdjusted R-squared:  0.00739 \n",
              "F-statistic: 59.59 on 1 and 7869 DF,  p-value: 1.311e-14\n"
            ]
          },
          "metadata": {}
        }
      ]
    },
    {
      "cell_type": "markdown",
      "source": [
        "**Bonus: See what happens if you add in age to the right hand side of the regressions. Comment on what happens to the regression coefficients.**"
      ],
      "metadata": {
        "id": "EG6J38uW0ne9"
      }
    },
    {
      "cell_type": "code",
      "source": [
        "# Your code here\n",
        "\n",
        "# START \n",
        "\n",
        "reg4 <- lm(grades ~ exercise + sleep + age, data = students)\n",
        "\n",
        "summary(reg4)\n",
        "\n",
        "# END"
      ],
      "metadata": {
        "colab": {
          "base_uri": "https://localhost:8080/",
          "height": 382
        },
        "id": "VnsomBLa17DH",
        "outputId": "3937c590-b3bb-4078-d4d1-223134b1aa60"
      },
      "execution_count": null,
      "outputs": [
        {
          "output_type": "display_data",
          "data": {
            "text/plain": [
              "\n",
              "Call:\n",
              "lm(formula = grades ~ exercise + sleep + age, data = students)\n",
              "\n",
              "Residuals:\n",
              "    Min      1Q  Median      3Q     Max \n",
              "-3.5706 -0.3235 -0.0223  0.7967  1.1589 \n",
              "\n",
              "Coefficients:\n",
              "             Estimate Std. Error t value Pr(>|t|)    \n",
              "(Intercept)  3.658526   0.149018  24.551   <2e-16 ***\n",
              "exercise     0.005085   0.004172   1.219    0.223    \n",
              "sleep        0.106626   0.007632  13.971   <2e-16 ***\n",
              "age         -0.013552   0.008377  -1.618    0.106    \n",
              "---\n",
              "Signif. codes:  0 ‘***’ 0.001 ‘**’ 0.01 ‘*’ 0.05 ‘.’ 0.1 ‘ ’ 1\n",
              "\n",
              "Residual standard error: 0.8995 on 7867 degrees of freedom\n",
              "Multiple R-squared:  0.02628,\tAdjusted R-squared:  0.02591 \n",
              "F-statistic: 70.78 on 3 and 7867 DF,  p-value: < 2.2e-16\n"
            ]
          },
          "metadata": {}
        }
      ]
    },
    {
      "cell_type": "markdown",
      "source": [
        "You answer here\n",
        "\n",
        "#### START \n",
        "\n",
        "An increase of age of one year is associated with a decrease of 1.35 percent of a letter grade. The coefficient is neither significant statistically or meaningfully. We cannot reject the null hypothesis that there is no relationship between student age and grades.\n",
        "\n",
        "Relative to the second regression, the coefficients on exercise and sleep hardly changed. This makes since because age is not correlated with student grades ($\\hat{\\beta}_3 \\approx 0$), so omitting age was NOT biasing our estimate of the effect of exercise or sleep on grades. \n",
        "\n",
        "#### END "
      ],
      "metadata": {
        "id": "UQYMTtXSsXi4"
      }
    },
    {
      "cell_type": "markdown",
      "metadata": {
        "id": "VM2YV6PfJR3G"
      },
      "source": [
        "**7. The outputs from the regressions are usually presented as well-formatted tables. In this question, you will learn how to nicely format a table with the results from multiple regressions.**\n",
        "\n",
        "**First, run the script below installing the package modelsummary (this may take a minute or so to install).**"
      ]
    },
    {
      "cell_type": "code",
      "execution_count": null,
      "metadata": {
        "colab": {
          "base_uri": "https://localhost:8080/"
        },
        "id": "x4tsomrEJzcz",
        "outputId": "ef2a0ca6-ef51-493c-a5b8-98683a9d8145"
      },
      "outputs": [
        {
          "output_type": "stream",
          "name": "stderr",
          "text": [
            "Loading required package: modelsummary\n",
            "\n",
            "Warning message in library(package, lib.loc = lib.loc, character.only = TRUE, logical.return = TRUE, :\n",
            "“there is no package called ‘modelsummary’”\n",
            "Installing package into ‘/usr/local/lib/R/site-library’\n",
            "(as ‘lib’ is unspecified)\n",
            "\n",
            "also installing the dependencies ‘webshot’, ‘bayestestR’, ‘datawizard’, ‘checkmate’, ‘insight’, ‘kableExtra’, ‘parameters’, ‘performance’, ‘tables’\n",
            "\n",
            "\n",
            "Loading required package: modelsummary\n",
            "\n"
          ]
        }
      ],
      "source": [
        "check_installed <- require(modelsummary)\n",
        "if(check_installed==F){\n",
        "  install.packages(\"modelsummary\")\n",
        "  require(modelsummary)\n",
        "}"
      ]
    },
    {
      "cell_type": "markdown",
      "metadata": {
        "id": "7SxW3M4jUz-u"
      },
      "source": [
        "**8. Next, include the results of the regressions you run in this exercise in a nicely formatted table using the existing code below to get started**\n",
        "\n",
        "In the code snippet below, `fit1`, `fit2`, and `fit3` is the regression outputs you saved in previous code, `Name of Outcome Variable` is what you would like to show up on the top of each column, and `var1` and `var2` are the name of two independent variables included in the regression (e.g., exercise). Note that you can and should include all the variables that you used in the models you ran in the `coef_map` line.\n",
        "```\n",
        "  modelsummary(list(\"Name Outcome Variable\" = fit1,\"Name Outcome Variable\" = fit2, \"Name Outcome Variable\" = fit3),\n",
        "  stars=T,\n",
        "  coef_map = c(\"(Intercept)\" = \"Constant\",\"var1\" = \"Name of var1\", \"var2\" = \"Name of var2\"),\n",
        " title = \"Add Here the Title of the Table\",\n",
        "  gof_omit = 'IC|Log',\n",
        "  output=\"jupyter\")\n",
        "\n",
        "  ```"
      ]
    },
    {
      "cell_type": "code",
      "execution_count": null,
      "metadata": {
        "colab": {
          "base_uri": "https://localhost:8080/",
          "height": 333
        },
        "id": "WapTBbtWJ3t2",
        "outputId": "224cd055-7183-445e-f583-3fd05db7c7e6"
      },
      "outputs": [
        {
          "output_type": "display_data",
          "data": {
            "text/html": [
              "<table style=\"NAborder-bottom: 0; width: auto !important; margin-left: auto; margin-right: auto;\" class=\"table\">\n",
              "<caption>Relationship between Student Grades and Exercise</caption>\n",
              " <thead>\n",
              "  <tr>\n",
              "   <th style=\"text-align:left;\">   </th>\n",
              "   <th style=\"text-align:center;\"> Student grades </th>\n",
              "   <th style=\"text-align:center;\"> Student grades  </th>\n",
              "   <th style=\"text-align:center;\"> Student grades   </th>\n",
              "  </tr>\n",
              " </thead>\n",
              "<tbody>\n",
              "  <tr>\n",
              "   <td style=\"text-align:left;\"> Days exercised last week </td>\n",
              "   <td style=\"text-align:center;\"> 0.010* </td>\n",
              "   <td style=\"text-align:center;\"> 0.005 </td>\n",
              "   <td style=\"text-align:center;\"> 0.005 </td>\n",
              "  </tr>\n",
              "  <tr>\n",
              "   <td style=\"text-align:left;\">  </td>\n",
              "   <td style=\"text-align:center;\"> (0.004) </td>\n",
              "   <td style=\"text-align:center;\"> (0.004) </td>\n",
              "   <td style=\"text-align:center;\"> (0.004) </td>\n",
              "  </tr>\n",
              "  <tr>\n",
              "   <td style=\"text-align:left;\"> Typical hours slept </td>\n",
              "   <td style=\"text-align:center;\">  </td>\n",
              "   <td style=\"text-align:center;\"> 0.108*** </td>\n",
              "   <td style=\"text-align:center;\"> 0.107*** </td>\n",
              "  </tr>\n",
              "  <tr>\n",
              "   <td style=\"text-align:left;\">  </td>\n",
              "   <td style=\"text-align:center;\">  </td>\n",
              "   <td style=\"text-align:center;\"> (0.008) </td>\n",
              "   <td style=\"text-align:center;\"> (0.008) </td>\n",
              "  </tr>\n",
              "  <tr>\n",
              "   <td style=\"text-align:left;\"> Age </td>\n",
              "   <td style=\"text-align:center;\">  </td>\n",
              "   <td style=\"text-align:center;\">  </td>\n",
              "   <td style=\"text-align:center;\"> −0.014 </td>\n",
              "  </tr>\n",
              "  <tr>\n",
              "   <td style=\"text-align:left;\">  </td>\n",
              "   <td style=\"text-align:center;\">  </td>\n",
              "   <td style=\"text-align:center;\">  </td>\n",
              "   <td style=\"text-align:center;\"> (0.008) </td>\n",
              "  </tr>\n",
              "  <tr>\n",
              "   <td style=\"text-align:left;\"> Constant </td>\n",
              "   <td style=\"text-align:center;\"> 4.112*** </td>\n",
              "   <td style=\"text-align:center;\"> 3.431*** </td>\n",
              "   <td style=\"text-align:center;\"> 3.659*** </td>\n",
              "  </tr>\n",
              "  <tr>\n",
              "   <td style=\"text-align:left;box-shadow: 0px 1px\">  </td>\n",
              "   <td style=\"text-align:center;box-shadow: 0px 1px\"> (0.015) </td>\n",
              "   <td style=\"text-align:center;box-shadow: 0px 1px\"> (0.050) </td>\n",
              "   <td style=\"text-align:center;box-shadow: 0px 1px\"> (0.149) </td>\n",
              "  </tr>\n",
              "  <tr>\n",
              "   <td style=\"text-align:left;\"> Num.Obs. </td>\n",
              "   <td style=\"text-align:center;\"> 7871 </td>\n",
              "   <td style=\"text-align:center;\"> 7871 </td>\n",
              "   <td style=\"text-align:center;\"> 7871 </td>\n",
              "  </tr>\n",
              "  <tr>\n",
              "   <td style=\"text-align:left;\"> R2 </td>\n",
              "   <td style=\"text-align:center;\"> 0.001 </td>\n",
              "   <td style=\"text-align:center;\"> 0.026 </td>\n",
              "   <td style=\"text-align:center;\"> 0.026 </td>\n",
              "  </tr>\n",
              "  <tr>\n",
              "   <td style=\"text-align:left;\"> R2 Adj. </td>\n",
              "   <td style=\"text-align:center;\"> 0.001 </td>\n",
              "   <td style=\"text-align:center;\"> 0.026 </td>\n",
              "   <td style=\"text-align:center;\"> 0.026 </td>\n",
              "  </tr>\n",
              "  <tr>\n",
              "   <td style=\"text-align:left;\"> RMSE </td>\n",
              "   <td style=\"text-align:center;\"> 0.91 </td>\n",
              "   <td style=\"text-align:center;\"> 0.90 </td>\n",
              "   <td style=\"text-align:center;\"> 0.90 </td>\n",
              "  </tr>\n",
              "</tbody>\n",
              "<tfoot><tr><td style=\"padding: 0; \" colspan=\"100%\">\n",
              "<sup></sup> + p &lt; 0.1, * p &lt; 0.05, ** p &lt; 0.01, *** p &lt; 0.001</td></tr></tfoot>\n",
              "</table>"
            ]
          },
          "metadata": {}
        }
      ],
      "source": [
        "# Your answer here\n",
        "\n",
        "# START\n",
        "\n",
        "modelsummary(list(\"Student grades\" = reg1,\"Student grades\" = reg2, \"Student grades\" = reg4),\n",
        "  stars=T,\n",
        "  coef_map = c(\"exercise\" = \"Days exercised last week\",\"sleep\" = \"Typical hours slept\",\"age\" = \"Age\",\"(Intercept)\" = \"Constant\"),\n",
        "  title = \"Relationship between Student Grades and Exercise\",\n",
        "  gof_omit = 'IC|Log',\n",
        "  output=\"jupyter\")\n",
        "\n",
        "# END"
      ]
    },
    {
      "cell_type": "markdown",
      "metadata": {
        "id": "PGXLhd-jVE4s"
      },
      "source": [
        "**11. Now compare the R-squared in the different columns of the Table you created in the previous Question. What do you observe?**"
      ]
    },
    {
      "cell_type": "markdown",
      "metadata": {
        "id": "mbXRxbcCWlvS"
      },
      "source": [
        "Your explanation here\n",
        "\n",
        "#### START \n",
        "The R-squared increases between columns (1) and (2), as sleep is added to the regression. The R-squared hardly increases between columns (2) and (3) because age does not help explain variation in student grades. This makes since, since we don't really expect there to be a strong relationship between student age and grades. \n",
        "\n",
        "In column (3): the three variables explain 2.6 percent of the variation in student grades. This value of R-squared is quite low, even for data in the social sciences. \n",
        "\n",
        "#### END \n"
      ]
    },
    {
      "cell_type": "markdown",
      "metadata": {
        "id": "r95kx7VgY3bF"
      },
      "source": [
        "# PART II: College quality and future earnings\n",
        "\n"
      ]
    },
    {
      "cell_type": "markdown",
      "metadata": {
        "id": "1trK1VvJZHEK"
      },
      "source": [
        "See the handout posted on Canvas."
      ]
    }
  ],
  "metadata": {
    "colab": {
      "provenance": [],
      "include_colab_link": true
    },
    "kernelspec": {
      "display_name": "R",
      "language": "R",
      "name": "ir"
    },
    "language_info": {
      "codemirror_mode": "r",
      "file_extension": ".r",
      "mimetype": "text/x-r-source",
      "name": "R",
      "pygments_lexer": "r",
      "version": "4.2.1"
    }
  },
  "nbformat": 4,
  "nbformat_minor": 0
}