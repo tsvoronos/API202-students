{
  "cells": [
    {
      "cell_type": "markdown",
      "metadata": {
        "id": "view-in-github",
        "colab_type": "text"
      },
      "source": [
        "<a href=\"https://colab.research.google.com/github/tsvoronos/API202-students/blob/main/section-KP/section2-KP-exercises.ipynb\" target=\"_parent\"><img src=\"https://colab.research.google.com/assets/colab-badge.svg\" alt=\"Open In Colab\"/></a>"
      ]
    },
    {
      "cell_type": "markdown",
      "metadata": {
        "id": "llzlIZkjYwoE"
      },
      "source": [
        "## API-202M ABC SECTION #2\n",
        "###### TF: Kelsey Pukelis"
      ]
    },
    {
      "cell_type": "markdown",
      "source": [
        "**I - INSTRUCTIONS**  \n",
        "\n",
        "1. **Create a copy of this Jupyter notebook in your own drive by clicking `Copy to Drive` in the menubar (this is explained below in more detail below) - *if you do not do this your work will not be saved!***\n",
        "    1. Remember to save your work frequently by pressing `command-S` or clicking `File > Save` in the menubar.\n",
        "    1. We recommend completing this in Google Chrome."
      ],
      "metadata": {
        "id": "OdxPtxeisYYY"
      }
    },
    {
      "cell_type": "markdown",
      "metadata": {
        "id": "d5711e37-1060-49bc-99a6-d15b04756f16"
      },
      "source": [
        "## Load `R` libraries and data\n",
        "\n",
        "**Please refer this [R Cheat Sheet](https://bit.ly/HKS-R) which includes the commands you learned last semester in addition to a number of additional ones.**\n",
        "\n",
        "The code cell below imports the R tidyverse. Make sure to run it before starting the problem set!\n",
        "\n",
        "*Note: Click the \"play\" button that appears when you hover over a cell to run it. The first time you do this you may receive an alert that this notebook was not authored by Google. If so, click \"Run anyway\" to proceed.*"
      ]
    },
    {
      "cell_type": "code",
      "execution_count": 1,
      "metadata": {
        "id": "aa889d79-5ab9-42af-8590-30819c45124f",
        "tags": [],
        "colab": {
          "base_uri": "https://localhost:8080/"
        },
        "outputId": "8616cee4-6e7d-4f49-d2c2-22d215167c4d"
      },
      "outputs": [
        {
          "output_type": "stream",
          "name": "stderr",
          "text": [
            "Warning message in system(\"timedatectl\", intern = TRUE):\n",
            "“running command 'timedatectl' had status 1”\n",
            "── \u001b[1mAttaching packages\u001b[22m ─────────────────────────────────────── tidyverse 1.3.1 ──\n",
            "\n",
            "\u001b[32m✔\u001b[39m \u001b[34mggplot2\u001b[39m 3.4.0      \u001b[32m✔\u001b[39m \u001b[34mpurrr  \u001b[39m 1.0.1 \n",
            "\u001b[32m✔\u001b[39m \u001b[34mtibble \u001b[39m 3.1.8      \u001b[32m✔\u001b[39m \u001b[34mdplyr  \u001b[39m 1.0.10\n",
            "\u001b[32m✔\u001b[39m \u001b[34mtidyr  \u001b[39m 1.3.0      \u001b[32m✔\u001b[39m \u001b[34mstringr\u001b[39m 1.4.1 \n",
            "\u001b[32m✔\u001b[39m \u001b[34mreadr  \u001b[39m 2.1.3      \u001b[32m✔\u001b[39m \u001b[34mforcats\u001b[39m 0.5.2 \n",
            "\n",
            "── \u001b[1mConflicts\u001b[22m ────────────────────────────────────────── tidyverse_conflicts() ──\n",
            "\u001b[31m✖\u001b[39m \u001b[34mdplyr\u001b[39m::\u001b[32mfilter()\u001b[39m masks \u001b[34mstats\u001b[39m::filter()\n",
            "\u001b[31m✖\u001b[39m \u001b[34mdplyr\u001b[39m::\u001b[32mlag()\u001b[39m    masks \u001b[34mstats\u001b[39m::lag()\n",
            "\n"
          ]
        }
      ],
      "source": [
        "library(tidyverse)"
      ]
    },
    {
      "cell_type": "markdown",
      "metadata": {
        "id": "tIl3nGigdeIl"
      },
      "source": [
        "# PART I: High School Student Exercise and Grades\n",
        "\n",
        "The purpose of this exercise is to help you understand multiple regression and omitted variable bias.\n",
        "\n",
        "The dataset for this question is an extract of data from [a survey of high school students on health behaviors](https://www.cdc.gov/healthyyouth/data/yrbs/data.htm). The variables in this dataset are:\n",
        "\n",
        "*   `age`: age in years \n",
        "*   `exercise`: Number of days exercised during the past 7 days\n",
        "*   `grades`: reported grades during the last 12 months, where 5 = \"Mostly A's\" ... 1 = \"Mostly F's\"\n",
        "*   `sleep`: \"On an average school night, how many hours of sleep do you get?\"\n",
        "\n",
        "Notes about pre-processing just to be aware of:\n",
        "\n",
        "*   The age variable treats students as age 12 or younger as age 12.\n",
        "*   The age variable treats students as age 18 or older as age 18.\n",
        "*   The sleep variable treats less than 4 hours as 4 hours. \n",
        "*   The sleep variable treats more than 10 hours as 10 hours. \n",
        "*   Students who report their grades are \"None of these grades\" or \"Not sure\" are not included in this dataset.\n",
        "*   I only include students whose data is not missing for all four variables."
      ]
    },
    {
      "cell_type": "code",
      "source": [
        "students <- read.csv('https://raw.githubusercontent.com/tsvoronos/API202-students/6c2c5ac7433e47e2d31bee81999da063f221e3b7/data/student_health.csv')\n",
        "head(students)"
      ],
      "metadata": {
        "colab": {
          "base_uri": "https://localhost:8080/",
          "height": 286
        },
        "id": "30EqFSEstYhD",
        "outputId": "16a5df9f-e791-437f-d1cd-31b4676e717c"
      },
      "execution_count": 2,
      "outputs": [
        {
          "output_type": "display_data",
          "data": {
            "text/html": [
              "<table class=\"dataframe\">\n",
              "<caption>A data.frame: 6 × 4</caption>\n",
              "<thead>\n",
              "\t<tr><th></th><th scope=col>age</th><th scope=col>sleep</th><th scope=col>grades</th><th scope=col>exercise</th></tr>\n",
              "\t<tr><th></th><th scope=col>&lt;int&gt;</th><th scope=col>&lt;int&gt;</th><th scope=col>&lt;int&gt;</th><th scope=col>&lt;int&gt;</th></tr>\n",
              "</thead>\n",
              "<tbody>\n",
              "\t<tr><th scope=row>1</th><td>16</td><td>7</td><td>4</td><td>4</td></tr>\n",
              "\t<tr><th scope=row>2</th><td>15</td><td>7</td><td>4</td><td>5</td></tr>\n",
              "\t<tr><th scope=row>3</th><td>15</td><td>8</td><td>4</td><td>0</td></tr>\n",
              "\t<tr><th scope=row>4</th><td>15</td><td>7</td><td>3</td><td>0</td></tr>\n",
              "\t<tr><th scope=row>5</th><td>16</td><td>5</td><td>5</td><td>1</td></tr>\n",
              "\t<tr><th scope=row>6</th><td>15</td><td>6</td><td>4</td><td>7</td></tr>\n",
              "</tbody>\n",
              "</table>\n"
            ],
            "text/markdown": "\nA data.frame: 6 × 4\n\n| <!--/--> | age &lt;int&gt; | sleep &lt;int&gt; | grades &lt;int&gt; | exercise &lt;int&gt; |\n|---|---|---|---|---|\n| 1 | 16 | 7 | 4 | 4 |\n| 2 | 15 | 7 | 4 | 5 |\n| 3 | 15 | 8 | 4 | 0 |\n| 4 | 15 | 7 | 3 | 0 |\n| 5 | 16 | 5 | 5 | 1 |\n| 6 | 15 | 6 | 4 | 7 |\n\n",
            "text/latex": "A data.frame: 6 × 4\n\\begin{tabular}{r|llll}\n  & age & sleep & grades & exercise\\\\\n  & <int> & <int> & <int> & <int>\\\\\n\\hline\n\t1 & 16 & 7 & 4 & 4\\\\\n\t2 & 15 & 7 & 4 & 5\\\\\n\t3 & 15 & 8 & 4 & 0\\\\\n\t4 & 15 & 7 & 3 & 0\\\\\n\t5 & 16 & 5 & 5 & 1\\\\\n\t6 & 15 & 6 & 4 & 7\\\\\n\\end{tabular}\n",
            "text/plain": [
              "  age sleep grades exercise\n",
              "1 16  7     4      4       \n",
              "2 15  7     4      5       \n",
              "3 15  8     4      0       \n",
              "4 15  7     3      0       \n",
              "5 16  5     5      1       \n",
              "6 15  6     4      7       "
            ]
          },
          "metadata": {}
        }
      ]
    },
    {
      "cell_type": "markdown",
      "metadata": {
        "id": "8JMs5bTJUMwL"
      },
      "source": [
        "**1. Let's start with plotting a histogram for the `exercise` variable.**\n",
        "\n",
        "**HINT: the code for a histogram \n",
        "is `ggplot(dataset, aes(x = var)) + geom_histogram()`\n",
        "Where dataset is the name of the dataset and var is the variable of interest.**"
      ]
    },
    {
      "cell_type": "code",
      "execution_count": 3,
      "metadata": {
        "id": "IIpSO48vVWeO"
      },
      "outputs": [],
      "source": [
        "# Your code here\n"
      ]
    },
    {
      "cell_type": "markdown",
      "metadata": {
        "id": "bTnR2PSPZqSb"
      },
      "source": [
        "**Bonus: Plot a histogram for student grades. Label the values appropriately.**"
      ]
    },
    {
      "cell_type": "code",
      "execution_count": 4,
      "metadata": {
        "id": "vEu2BsHzaLLw"
      },
      "outputs": [],
      "source": [
        "# Your code here\n",
        "\n"
      ]
    },
    {
      "cell_type": "markdown",
      "metadata": {
        "id": "DBUNp_JqdoWt"
      },
      "source": [
        "**2. Using a regression, test the null hypothesis that exercise is not associated with student grades. Discuss the magnitude and statistical significance of your estimate.** "
      ]
    },
    {
      "cell_type": "code",
      "execution_count": 5,
      "metadata": {
        "id": "DTixbTuYMPhb"
      },
      "outputs": [],
      "source": [
        "# Your code here\n"
      ]
    },
    {
      "cell_type": "markdown",
      "metadata": {
        "id": "pOGjpGGMdshW"
      },
      "source": [
        "Your answer here\n",
        "\n"
      ]
    },
    {
      "cell_type": "markdown",
      "metadata": {
        "id": "UfoWVyJeGhSN"
      },
      "source": [
        "**4. Run a regression of student grades on the `exercise` and `sleep` variables. Interpret each coefficient of the regression, commenting on both magnitude and statistical significance.**"
      ]
    },
    {
      "cell_type": "code",
      "execution_count": 6,
      "metadata": {
        "id": "D2xaQus-G4i_"
      },
      "outputs": [],
      "source": [
        "# Your code here\n"
      ]
    },
    {
      "cell_type": "markdown",
      "metadata": {
        "id": "EOCRKkfceBw1"
      },
      "source": [
        "Your answer here\n"
      ]
    },
    {
      "cell_type": "markdown",
      "source": [
        "**5. Why do you think the slope coefficient on `exercise` changes as it does between the two regressions? Provide an explanation to a policy maker interested in your results.**"
      ],
      "metadata": {
        "id": "4DQ-gGwy0YMM"
      }
    },
    {
      "cell_type": "markdown",
      "source": [
        "Your answer here"
      ],
      "metadata": {
        "id": "rab1qgXy0i51"
      }
    },
    {
      "cell_type": "markdown",
      "metadata": {
        "id": "G2ek6cxk1yrL"
      },
      "source": [
        "**6. If we fail to include hours of sleep in the regression, then the coefficient on exercise is an ________________ of the true relationship between exercise and student grades.**"
      ]
    },
    {
      "cell_type": "markdown",
      "metadata": {
        "id": "6y9rGVrv2h3R"
      },
      "source": [
        "Check one:\n",
        "- [ ] Overstatement\n",
        "- [ ] Understatement\n",
        "\n",
        "Your explanation here\n",
        "\n",
        "\n"
      ]
    },
    {
      "cell_type": "markdown",
      "source": [
        "**Bonus: See what happens if you add in age to the right hand side of the regressions. Comment on what happens to the regression coefficients.**"
      ],
      "metadata": {
        "id": "EG6J38uW0ne9"
      }
    },
    {
      "cell_type": "code",
      "source": [
        "# Your code here\n"
      ],
      "metadata": {
        "id": "VnsomBLa17DH"
      },
      "execution_count": 7,
      "outputs": []
    },
    {
      "cell_type": "markdown",
      "metadata": {
        "id": "VM2YV6PfJR3G"
      },
      "source": [
        "**7. The outputs from the regressions are usually presented as well-formatted tables. In this question, you will learn how to nicely format a table with the results from multiple regressions.**\n",
        "\n",
        "**First, run the script below installing the package modelsummary (this may take a minute or so to install).**"
      ]
    },
    {
      "cell_type": "code",
      "execution_count": null,
      "metadata": {
        "colab": {
          "base_uri": "https://localhost:8080/"
        },
        "id": "x4tsomrEJzcz",
        "outputId": "e652bf67-2773-484c-80a0-56eb7f247aac"
      },
      "outputs": [
        {
          "output_type": "stream",
          "name": "stderr",
          "text": [
            "Loading required package: modelsummary\n",
            "\n",
            "Warning message in library(package, lib.loc = lib.loc, character.only = TRUE, logical.return = TRUE, :\n",
            "“there is no package called ‘modelsummary’”\n",
            "Installing package into ‘/usr/local/lib/R/site-library’\n",
            "(as ‘lib’ is unspecified)\n",
            "\n",
            "also installing the dependencies ‘webshot’, ‘bayestestR’, ‘datawizard’, ‘checkmate’, ‘insight’, ‘kableExtra’, ‘parameters’, ‘performance’, ‘tables’\n",
            "\n",
            "\n",
            "Loading required package: modelsummary\n",
            "\n"
          ]
        }
      ],
      "source": [
        "check_installed <- require(modelsummary)\n",
        "if(check_installed==F){\n",
        "  install.packages(\"modelsummary\")\n",
        "  require(modelsummary)\n",
        "}"
      ]
    },
    {
      "cell_type": "markdown",
      "metadata": {
        "id": "7SxW3M4jUz-u"
      },
      "source": [
        "**8. Next, include the results of the regressions you run in this exercise in a nicely formatted table using the existing code below to get started**\n",
        "\n",
        "In the code snippet below, `fit1`, `fit2`, and `fit3` is the regression outputs you saved in previous code, `Name of Outcome Variable` is what you would like to show up on the top of each column, and `var1` and `var2` are the name of two independent variables included in the regression (e.g., exercise). Note that you can and should include all the variables that you used in the models you ran in the `coef_map` line.\n",
        "```\n",
        "  modelsummary(list(\"Name Outcome Variable\" = fit1,\"Name Outcome Variable\" = fit2, \"Name Outcome Variable\" = fit3),\n",
        "  stars=T,\n",
        "  coef_map = c(\"(Intercept)\" = \"Constant\",\"var1\" = \"Name of var1\", \"var2\" = \"Name of var2\"),\n",
        " title = \"Add Here the Title of the Table\",\n",
        "  gof_omit = 'IC|Log',\n",
        "  output=\"jupyter\")\n",
        "\n",
        "  ```"
      ]
    },
    {
      "cell_type": "code",
      "execution_count": 8,
      "metadata": {
        "id": "WapTBbtWJ3t2"
      },
      "outputs": [],
      "source": [
        "# Your answer here\n",
        "\n"
      ]
    },
    {
      "cell_type": "markdown",
      "metadata": {
        "id": "PGXLhd-jVE4s"
      },
      "source": [
        "**11. Now compare the R-squared in the different columns of the Table you created in the previous Question. What do you observe?**"
      ]
    },
    {
      "cell_type": "markdown",
      "metadata": {
        "id": "mbXRxbcCWlvS"
      },
      "source": [
        "Your explanation here\n"
      ]
    },
    {
      "cell_type": "markdown",
      "metadata": {
        "id": "r95kx7VgY3bF"
      },
      "source": [
        "# PART II: College quality and future earnings\n",
        "\n"
      ]
    },
    {
      "cell_type": "markdown",
      "metadata": {
        "id": "1trK1VvJZHEK"
      },
      "source": [
        "See the handout posted on Canvas."
      ]
    }
  ],
  "metadata": {
    "colab": {
      "provenance": [],
      "include_colab_link": true
    },
    "kernelspec": {
      "display_name": "R",
      "language": "R",
      "name": "ir"
    },
    "language_info": {
      "codemirror_mode": "r",
      "file_extension": ".r",
      "mimetype": "text/x-r-source",
      "name": "R",
      "pygments_lexer": "r",
      "version": "4.2.1"
    }
  },
  "nbformat": 4,
  "nbformat_minor": 0
}