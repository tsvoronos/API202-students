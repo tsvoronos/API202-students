{
  "cells": [
    {
      "cell_type": "markdown",
      "metadata": {
        "id": "view-in-github",
        "colab_type": "text"
      },
      "source": [
        "<a href=\"https://colab.research.google.com/github/tsvoronos/API202-students/blob/main/section-KP/section2-KP-answers-class.ipynb\" target=\"_parent\"><img src=\"https://colab.research.google.com/assets/colab-badge.svg\" alt=\"Open In Colab\"/></a>"
      ]
    },
    {
      "cell_type": "markdown",
      "metadata": {
        "id": "llzlIZkjYwoE"
      },
      "source": [
        "## API-202M ABC SECTION #2\n",
        "###### TF: Kelsey Pukelis"
      ]
    },
    {
      "cell_type": "markdown",
      "source": [
        "**I - INSTRUCTIONS**  \n",
        "\n",
        "1. **Create a copy of this Jupyter notebook in your own drive by clicking `Copy to Drive` in the menubar (this is explained below in more detail below) - *if you do not do this your work will not be saved!***\n",
        "    1. Remember to save your work frequently by pressing `command-S` or clicking `File > Save` in the menubar.\n",
        "    1. We recommend completing this in Google Chrome."
      ],
      "metadata": {
        "id": "OdxPtxeisYYY"
      }
    },
    {
      "cell_type": "markdown",
      "metadata": {
        "id": "d5711e37-1060-49bc-99a6-d15b04756f16"
      },
      "source": [
        "## Load `R` libraries and data\n",
        "\n",
        "**Please refer this [R Cheat Sheet](https://bit.ly/HKS-R) which includes the commands you learned last semester in addition to a number of additional ones.**\n",
        "\n",
        "The code cell below imports the R tidyverse. Make sure to run it before starting the problem set!\n",
        "\n",
        "*Note: Click the \"play\" button that appears when you hover over a cell to run it. The first time you do this you may receive an alert that this notebook was not authored by Google. If so, click \"Run anyway\" to proceed.*"
      ]
    },
    {
      "cell_type": "code",
      "execution_count": null,
      "metadata": {
        "id": "aa889d79-5ab9-42af-8590-30819c45124f",
        "tags": [],
        "colab": {
          "base_uri": "https://localhost:8080/"
        },
        "outputId": "ac30c864-82e0-4a05-8007-37c975235206"
      },
      "outputs": [
        {
          "output_type": "stream",
          "name": "stderr",
          "text": [
            "Warning message in system(\"timedatectl\", intern = TRUE):\n",
            "“running command 'timedatectl' had status 1”\n",
            "── \u001b[1mAttaching packages\u001b[22m ─────────────────────────────────────── tidyverse 1.3.1 ──\n",
            "\n",
            "\u001b[32m✔\u001b[39m \u001b[34mggplot2\u001b[39m 3.4.0      \u001b[32m✔\u001b[39m \u001b[34mpurrr  \u001b[39m 1.0.1 \n",
            "\u001b[32m✔\u001b[39m \u001b[34mtibble \u001b[39m 3.1.8      \u001b[32m✔\u001b[39m \u001b[34mdplyr  \u001b[39m 1.0.10\n",
            "\u001b[32m✔\u001b[39m \u001b[34mtidyr  \u001b[39m 1.3.0      \u001b[32m✔\u001b[39m \u001b[34mstringr\u001b[39m 1.4.1 \n",
            "\u001b[32m✔\u001b[39m \u001b[34mreadr  \u001b[39m 2.1.3      \u001b[32m✔\u001b[39m \u001b[34mforcats\u001b[39m 0.5.2 \n",
            "\n",
            "── \u001b[1mConflicts\u001b[22m ────────────────────────────────────────── tidyverse_conflicts() ──\n",
            "\u001b[31m✖\u001b[39m \u001b[34mdplyr\u001b[39m::\u001b[32mfilter()\u001b[39m masks \u001b[34mstats\u001b[39m::filter()\n",
            "\u001b[31m✖\u001b[39m \u001b[34mdplyr\u001b[39m::\u001b[32mlag()\u001b[39m    masks \u001b[34mstats\u001b[39m::lag()\n",
            "\n"
          ]
        }
      ],
      "source": [
        "library(tidyverse)"
      ]
    },
    {
      "cell_type": "markdown",
      "metadata": {
        "id": "tIl3nGigdeIl"
      },
      "source": [
        "# PART I: High School Student Exercise and Grades\n",
        "\n",
        "The purpose of this exercise is to help you understand multiple regression and omitted variable bias.\n",
        "\n",
        "The dataset for this question is an extract of data from [a survey of high school students on health behaviors](https://www.cdc.gov/healthyyouth/data/yrbs/data.htm). The variables in this dataset are:\n",
        "\n",
        "*   `age`: age in years \n",
        "*   `exercise`: Number of days exercised during the past 7 days\n",
        "*   `grades`: reported grades during the last 12 months, where 5 = \"Mostly A's\" ... 1 = \"Mostly F's\"\n",
        "*   `sleep`: \"On an average school night, how many hours of sleep do you get?\"\n",
        "\n",
        "Notes about pre-processing just to be aware of:\n",
        "\n",
        "*   The age variable treats students as age 12 or younger as age 12.\n",
        "*   The age variable treats students as age 18 or older as age 18.\n",
        "*   The sleep variable treats less than 4 hours as 4 hours. \n",
        "*   The sleep variable treats more than 10 hours as 10 hours. \n",
        "*   Students who report their grades are \"None of these grades\" or \"Not sure\" are not included in this dataset.\n",
        "*   I only include students whose data is not missing for all four variables."
      ]
    },
    {
      "cell_type": "code",
      "source": [
        "students <- read.csv('https://raw.githubusercontent.com/tsvoronos/API202-students/6c2c5ac7433e47e2d31bee81999da063f221e3b7/data/student_health.csv')\n",
        "head(students)"
      ],
      "metadata": {
        "colab": {
          "base_uri": "https://localhost:8080/",
          "height": 286
        },
        "id": "30EqFSEstYhD",
        "outputId": "6a73bbe9-a410-4eb4-efe3-027db3bb6bf4"
      },
      "execution_count": null,
      "outputs": [
        {
          "output_type": "display_data",
          "data": {
            "text/html": [
              "<table class=\"dataframe\">\n",
              "<caption>A data.frame: 6 × 4</caption>\n",
              "<thead>\n",
              "\t<tr><th></th><th scope=col>age</th><th scope=col>sleep</th><th scope=col>grades</th><th scope=col>exercise</th></tr>\n",
              "\t<tr><th></th><th scope=col>&lt;int&gt;</th><th scope=col>&lt;int&gt;</th><th scope=col>&lt;int&gt;</th><th scope=col>&lt;int&gt;</th></tr>\n",
              "</thead>\n",
              "<tbody>\n",
              "\t<tr><th scope=row>1</th><td>16</td><td>7</td><td>4</td><td>4</td></tr>\n",
              "\t<tr><th scope=row>2</th><td>15</td><td>7</td><td>4</td><td>5</td></tr>\n",
              "\t<tr><th scope=row>3</th><td>15</td><td>8</td><td>4</td><td>0</td></tr>\n",
              "\t<tr><th scope=row>4</th><td>15</td><td>7</td><td>3</td><td>0</td></tr>\n",
              "\t<tr><th scope=row>5</th><td>16</td><td>5</td><td>5</td><td>1</td></tr>\n",
              "\t<tr><th scope=row>6</th><td>15</td><td>6</td><td>4</td><td>7</td></tr>\n",
              "</tbody>\n",
              "</table>\n"
            ],
            "text/markdown": "\nA data.frame: 6 × 4\n\n| <!--/--> | age &lt;int&gt; | sleep &lt;int&gt; | grades &lt;int&gt; | exercise &lt;int&gt; |\n|---|---|---|---|---|\n| 1 | 16 | 7 | 4 | 4 |\n| 2 | 15 | 7 | 4 | 5 |\n| 3 | 15 | 8 | 4 | 0 |\n| 4 | 15 | 7 | 3 | 0 |\n| 5 | 16 | 5 | 5 | 1 |\n| 6 | 15 | 6 | 4 | 7 |\n\n",
            "text/latex": "A data.frame: 6 × 4\n\\begin{tabular}{r|llll}\n  & age & sleep & grades & exercise\\\\\n  & <int> & <int> & <int> & <int>\\\\\n\\hline\n\t1 & 16 & 7 & 4 & 4\\\\\n\t2 & 15 & 7 & 4 & 5\\\\\n\t3 & 15 & 8 & 4 & 0\\\\\n\t4 & 15 & 7 & 3 & 0\\\\\n\t5 & 16 & 5 & 5 & 1\\\\\n\t6 & 15 & 6 & 4 & 7\\\\\n\\end{tabular}\n",
            "text/plain": [
              "  age sleep grades exercise\n",
              "1 16  7     4      4       \n",
              "2 15  7     4      5       \n",
              "3 15  8     4      0       \n",
              "4 15  7     3      0       \n",
              "5 16  5     5      1       \n",
              "6 15  6     4      7       "
            ]
          },
          "metadata": {}
        }
      ]
    },
    {
      "cell_type": "markdown",
      "metadata": {
        "id": "8JMs5bTJUMwL"
      },
      "source": [
        "**1. Let's start with plotting a histogram for the `exercise` variable.**\n",
        "\n",
        "**HINT: the code for a histogram \n",
        "is `ggplot(dataset, aes(x = var)) + geom_histogram()`\n",
        "Where dataset is the name of the dataset and var is the variable of interest.**"
      ]
    },
    {
      "cell_type": "code",
      "source": [
        "#?geom_histogram\n",
        "count(students)\n",
        "nrow(students)"
      ],
      "metadata": {
        "colab": {
          "base_uri": "https://localhost:8080/",
          "height": 181
        },
        "id": "-0Qbf5-Rk1cV",
        "outputId": "b4806b58-aeb8-4e3c-f94b-1067a9cc9bc0"
      },
      "execution_count": null,
      "outputs": [
        {
          "output_type": "display_data",
          "data": {
            "text/html": [
              "<table class=\"dataframe\">\n",
              "<caption>A data.frame: 1 × 1</caption>\n",
              "<thead>\n",
              "\t<tr><th scope=col>n</th></tr>\n",
              "\t<tr><th scope=col>&lt;int&gt;</th></tr>\n",
              "</thead>\n",
              "<tbody>\n",
              "\t<tr><td>7871</td></tr>\n",
              "</tbody>\n",
              "</table>\n"
            ],
            "text/markdown": "\nA data.frame: 1 × 1\n\n| n &lt;int&gt; |\n|---|\n| 7871 |\n\n",
            "text/latex": "A data.frame: 1 × 1\n\\begin{tabular}{l}\n n\\\\\n <int>\\\\\n\\hline\n\t 7871\\\\\n\\end{tabular}\n",
            "text/plain": [
              "  n   \n",
              "1 7871"
            ]
          },
          "metadata": {}
        },
        {
          "output_type": "display_data",
          "data": {
            "text/html": [
              "7871"
            ],
            "text/markdown": "7871",
            "text/latex": "7871",
            "text/plain": [
              "[1] 7871"
            ]
          },
          "metadata": {}
        }
      ]
    },
    {
      "cell_type": "code",
      "execution_count": null,
      "metadata": {
        "id": "IIpSO48vVWeO",
        "colab": {
          "base_uri": "https://localhost:8080/",
          "height": 437
        },
        "outputId": "03190658-7788-4bb7-e561-d135f03fdbe8"
      },
      "outputs": [
        {
          "output_type": "display_data",
          "data": {
            "text/plain": [
              "plot without title"
            ],
            "image/png": "[encoded data removed]"
          },
          "metadata": {
            "image/png": {
              "width": 420,
              "height": 420
            }
          }
        }
      ],
      "source": [
        "# Your code here\n",
        "ggplot(students, aes(x = exercise)) + \n",
        "  geom_histogram(binwidth = 1) +\n",
        "    scale_x_continuous(breaks = 0:7)"
      ]
    },
    {
      "cell_type": "markdown",
      "metadata": {
        "id": "bTnR2PSPZqSb"
      },
      "source": [
        "**Bonus: Plot a histogram for student grades. Label the values appropriately.**"
      ]
    },
    {
      "cell_type": "code",
      "execution_count": null,
      "metadata": {
        "id": "vEu2BsHzaLLw",
        "colab": {
          "base_uri": "https://localhost:8080/",
          "height": 437
        },
        "outputId": "44033108-4fdd-4864-8c3e-7ba013443610"
      },
      "outputs": [
        {
          "output_type": "display_data",
          "data": {
            "text/plain": [
              "plot without title"
            ],
            "image/png": "[encoded data removed]"
          },
          "metadata": {
            "image/png": {
              "width": 420,
              "height": 420
            }
          }
        }
      ],
      "source": [
        "# Your code here\n",
        "ggplot(students, aes(x = grades)) + \n",
        "  geom_histogram(binwidth = 1) +\n",
        "    scale_x_continuous(breaks = 1:5,labels = c(\"F's\",\"D's\",\"C's\",\"B's\",\"A's\"))\n"
      ]
    },
    {
      "cell_type": "markdown",
      "metadata": {
        "id": "DBUNp_JqdoWt"
      },
      "source": [
        "**2. Using a regression, test the null hypothesis that exercise is not associated with student grades. Discuss the magnitude and statistical significance of your estimate.** "
      ]
    },
    {
      "cell_type": "code",
      "execution_count": null,
      "metadata": {
        "id": "DTixbTuYMPhb",
        "colab": {
          "base_uri": "https://localhost:8080/",
          "height": 330
        },
        "outputId": "d43597df-a50c-405a-b76f-076b24b62a35"
      },
      "outputs": [
        {
          "output_type": "display_data",
          "data": {
            "text/plain": [
              "\n",
              "Call:\n",
              "lm(formula = grades ~ exercise, data = students)\n",
              "\n",
              "Residuals:\n",
              "    Min      1Q  Median      3Q     Max \n",
              "-3.1853 -0.1853 -0.1124  0.8564  0.8876 \n",
              "\n",
              "Coefficients:\n",
              "            Estimate Std. Error t value Pr(>|t|)    \n",
              "(Intercept) 4.112357   0.015359 267.750   <2e-16 ***\n",
              "exercise    0.010422   0.004208   2.477   0.0133 *  \n",
              "---\n",
              "Signif. codes:  0 ‘***’ 0.001 ‘**’ 0.01 ‘*’ 0.05 ‘.’ 0.1 ‘ ’ 1\n",
              "\n",
              "Residual standard error: 0.9111 on 7869 degrees of freedom\n",
              "Multiple R-squared:  0.0007789,\tAdjusted R-squared:  0.000652 \n",
              "F-statistic: 6.134 on 1 and 7869 DF,  p-value: 0.01328\n"
            ]
          },
          "metadata": {}
        }
      ],
      "source": [
        "# Your code here\n",
        "regression1 <- lm(grades ~ exercise, data = students)\n",
        "summary(regression1)"
      ]
    },
    {
      "cell_type": "markdown",
      "metadata": {
        "id": "pOGjpGGMdshW"
      },
      "source": [
        "Your answer here\n",
        "\n"
      ]
    },
    {
      "cell_type": "markdown",
      "metadata": {
        "id": "UfoWVyJeGhSN"
      },
      "source": [
        "**4. Run a regression of student grades on the `exercise` and `sleep` variables. Interpret each coefficient of the regression, commenting on both magnitude and statistical significance.**"
      ]
    },
    {
      "cell_type": "code",
      "execution_count": null,
      "metadata": {
        "id": "D2xaQus-G4i_",
        "colab": {
          "base_uri": "https://localhost:8080/",
          "height": 347
        },
        "outputId": "200d8eaa-0f2f-49b1-85d6-37a573984756"
      },
      "outputs": [
        {
          "output_type": "display_data",
          "data": {
            "text/plain": [
              "\n",
              "Call:\n",
              "lm(formula = grades ~ exercise + sleep, data = students)\n",
              "\n",
              "Residuals:\n",
              "    Min      1Q  Median      3Q     Max \n",
              "-3.5492 -0.3225 -0.0088  0.7961  1.1362 \n",
              "\n",
              "Coefficients:\n",
              "            Estimate Std. Error t value Pr(>|t|)    \n",
              "(Intercept) 3.431464   0.050094  68.500   <2e-16 ***\n",
              "exercise    0.005266   0.004171   1.263    0.207    \n",
              "sleep       0.108088   0.007579  14.262   <2e-16 ***\n",
              "---\n",
              "Signif. codes:  0 ‘***’ 0.001 ‘**’ 0.01 ‘*’ 0.05 ‘.’ 0.1 ‘ ’ 1\n",
              "\n",
              "Residual standard error: 0.8996 on 7868 degrees of freedom\n",
              "Multiple R-squared:  0.02596,\tAdjusted R-squared:  0.02571 \n",
              "F-statistic: 104.8 on 2 and 7868 DF,  p-value: < 2.2e-16\n"
            ]
          },
          "metadata": {}
        }
      ],
      "source": [
        "# Your code here\n",
        "regression2 <- lm(grades ~ exercise + sleep, data = students)\n",
        "summary(regression2)"
      ]
    },
    {
      "cell_type": "code",
      "source": [
        "regression3 <- lm(sleep ~ exercise, data = students)\n",
        "summary(regression3)"
      ],
      "metadata": {
        "colab": {
          "base_uri": "https://localhost:8080/",
          "height": 330
        },
        "id": "sOed1eClp6Ry",
        "outputId": "c4310513-982c-4bd6-ae49-d5445bef4299"
      },
      "execution_count": null,
      "outputs": [
        {
          "output_type": "display_data",
          "data": {
            "text/plain": [
              "\n",
              "Call:\n",
              "lm(formula = sleep ~ exercise, data = students)\n",
              "\n",
              "Residuals:\n",
              "    Min      1Q  Median      3Q     Max \n",
              "-2.6334 -0.6334 -0.2994  0.7006  3.7006 \n",
              "\n",
              "Coefficients:\n",
              "            Estimate Std. Error t value Pr(>|t|)    \n",
              "(Intercept)  6.29944    0.02256  279.27  < 2e-16 ***\n",
              "exercise     0.04771    0.00618    7.72 1.31e-14 ***\n",
              "---\n",
              "Signif. codes:  0 ‘***’ 0.001 ‘**’ 0.01 ‘*’ 0.05 ‘.’ 0.1 ‘ ’ 1\n",
              "\n",
              "Residual standard error: 1.338 on 7869 degrees of freedom\n",
              "Multiple R-squared:  0.007516,\tAdjusted R-squared:  0.00739 \n",
              "F-statistic: 59.59 on 1 and 7869 DF,  p-value: 1.311e-14\n"
            ]
          },
          "metadata": {}
        }
      ]
    },
    {
      "cell_type": "markdown",
      "metadata": {
        "id": "EOCRKkfceBw1"
      },
      "source": [
        "Your answer here\n"
      ]
    },
    {
      "cell_type": "markdown",
      "source": [
        "**5. Why do you think the slope coefficient on `exercise` changes as it does between the two regressions? Provide an explanation to a policy maker interested in your results.**"
      ],
      "metadata": {
        "id": "4DQ-gGwy0YMM"
      }
    },
    {
      "cell_type": "markdown",
      "source": [
        "Your answer here"
      ],
      "metadata": {
        "id": "rab1qgXy0i51"
      }
    },
    {
      "cell_type": "markdown",
      "metadata": {
        "id": "G2ek6cxk1yrL"
      },
      "source": [
        "**6. If we fail to include hours of sleep in the regression, then the coefficient on exercise is an ________________ of the true relationship between exercise and student grades.**"
      ]
    },
    {
      "cell_type": "markdown",
      "metadata": {
        "id": "6y9rGVrv2h3R"
      },
      "source": [
        "Check one:\n",
        "- [ ] Overstatement\n",
        "- [ ] Understatement\n",
        "\n",
        "Your explanation here\n",
        "\n",
        "\n"
      ]
    },
    {
      "cell_type": "markdown",
      "source": [
        "**Bonus: See what happens if you add in age to the right hand side of the regressions. Comment on what happens to the regression coefficients.**"
      ],
      "metadata": {
        "id": "EG6J38uW0ne9"
      }
    },
    {
      "cell_type": "code",
      "source": [
        "# Your code here\n",
        "regression4 <- lm(grades ~ exercise + sleep + age, data = students)\n",
        "summary(regression4)"
      ],
      "metadata": {
        "id": "VnsomBLa17DH",
        "colab": {
          "base_uri": "https://localhost:8080/",
          "height": 364
        },
        "outputId": "76f51352-7cbb-4d71-f360-9a98c515f6c7"
      },
      "execution_count": null,
      "outputs": [
        {
          "output_type": "display_data",
          "data": {
            "text/plain": [
              "\n",
              "Call:\n",
              "lm(formula = grades ~ exercise + sleep + age, data = students)\n",
              "\n",
              "Residuals:\n",
              "    Min      1Q  Median      3Q     Max \n",
              "-3.5706 -0.3235 -0.0223  0.7967  1.1589 \n",
              "\n",
              "Coefficients:\n",
              "             Estimate Std. Error t value Pr(>|t|)    \n",
              "(Intercept)  3.658526   0.149018  24.551   <2e-16 ***\n",
              "exercise     0.005085   0.004172   1.219    0.223    \n",
              "sleep        0.106626   0.007632  13.971   <2e-16 ***\n",
              "age         -0.013552   0.008377  -1.618    0.106    \n",
              "---\n",
              "Signif. codes:  0 ‘***’ 0.001 ‘**’ 0.01 ‘*’ 0.05 ‘.’ 0.1 ‘ ’ 1\n",
              "\n",
              "Residual standard error: 0.8995 on 7867 degrees of freedom\n",
              "Multiple R-squared:  0.02628,\tAdjusted R-squared:  0.02591 \n",
              "F-statistic: 70.78 on 3 and 7867 DF,  p-value: < 2.2e-16\n"
            ]
          },
          "metadata": {}
        }
      ]
    },
    {
      "cell_type": "markdown",
      "metadata": {
        "id": "VM2YV6PfJR3G"
      },
      "source": [
        "**7. The outputs from the regressions are usually presented as well-formatted tables. In this question, you will learn how to nicely format a table with the results from multiple regressions.**\n",
        "\n",
        "**First, run the script below installing the package modelsummary (this may take a minute or so to install).**"
      ]
    },
    {
      "cell_type": "code",
      "execution_count": null,
      "metadata": {
        "colab": {
          "base_uri": "https://localhost:8080/"
        },
        "id": "x4tsomrEJzcz",
        "outputId": "5de086c6-431d-47be-d214-c8924abc3704"
      },
      "outputs": [
        {
          "output_type": "stream",
          "name": "stderr",
          "text": [
            "Loading required package: modelsummary\n",
            "\n",
            "Warning message in library(package, lib.loc = lib.loc, character.only = TRUE, logical.return = TRUE, :\n",
            "“there is no package called ‘modelsummary’”\n",
            "Installing package into ‘/usr/local/lib/R/site-library’\n",
            "(as ‘lib’ is unspecified)\n",
            "\n",
            "also installing the dependencies ‘webshot’, ‘bayestestR’, ‘datawizard’, ‘checkmate’, ‘insight’, ‘kableExtra’, ‘parameters’, ‘performance’, ‘tables’\n",
            "\n",
            "\n",
            "Loading required package: modelsummary\n",
            "\n"
          ]
        }
      ],
      "source": [
        "check_installed <- require(modelsummary)\n",
        "if(check_installed==F){\n",
        "  install.packages(\"modelsummary\")\n",
        "  require(modelsummary)\n",
        "}"
      ]
    },
    {
      "cell_type": "markdown",
      "metadata": {
        "id": "7SxW3M4jUz-u"
      },
      "source": [
        "**8. Next, include the results of the regressions you run in this exercise in a nicely formatted table using the existing code below to get started**\n",
        "\n",
        "In the code snippet below, `fit1`, `fit2`, and `fit3` is the regression outputs you saved in previous code, `Name of Outcome Variable` is what you would like to show up on the top of each column, and `var1` and `var2` are the name of two independent variables included in the regression (e.g., exercise). Note that you can and should include all the variables that you used in the models you ran in the `coef_map` line.\n",
        "```\n",
        "  modelsummary(list(\"Name Outcome Variable\" = fit1,\"Name Outcome Variable\" = fit2, \"Name Outcome Variable\" = fit3),\n",
        "  stars=T,\n",
        "  coef_map = c(\"(Intercept)\" = \"Constant\",\"var1\" = \"Name of var1\", \"var2\" = \"Name of var2\"),\n",
        " title = \"Add Here the Title of the Table\",\n",
        "  gof_omit = 'IC|Log',\n",
        "  output=\"jupyter\")\n",
        "\n",
        "  ```"
      ]
    },
    {
      "cell_type": "code",
      "execution_count": null,
      "metadata": {
        "id": "WapTBbtWJ3t2",
        "colab": {
          "base_uri": "https://localhost:8080/",
          "height": 336
        },
        "outputId": "4873308c-5341-424a-958e-611a94ce8f7a"
      },
      "outputs": [
        {
          "output_type": "display_data",
          "data": {
            "text/html": [
              "<table style=\"NAborder-bottom: 0; width: auto !important; margin-left: auto; margin-right: auto;\" class=\"table\">\n",
              "<caption>Student grades and health behaviors</caption>\n",
              " <thead>\n",
              "  <tr>\n",
              "   <th style=\"text-align:left;\">   </th>\n",
              "   <th style=\"text-align:center;\"> Grades </th>\n",
              "   <th style=\"text-align:center;\"> Grades  </th>\n",
              "   <th style=\"text-align:center;\"> Grades   </th>\n",
              "  </tr>\n",
              " </thead>\n",
              "<tbody>\n",
              "  <tr>\n",
              "   <td style=\"text-align:left;\"> Days of exercise per week </td>\n",
              "   <td style=\"text-align:center;\"> 0.010* </td>\n",
              "   <td style=\"text-align:center;\"> 0.005 </td>\n",
              "   <td style=\"text-align:center;\"> 0.005 </td>\n",
              "  </tr>\n",
              "  <tr>\n",
              "   <td style=\"text-align:left;\">  </td>\n",
              "   <td style=\"text-align:center;\"> (0.004) </td>\n",
              "   <td style=\"text-align:center;\"> (0.004) </td>\n",
              "   <td style=\"text-align:center;\"> (0.004) </td>\n",
              "  </tr>\n",
              "  <tr>\n",
              "   <td style=\"text-align:left;\"> Typical hours of sleep </td>\n",
              "   <td style=\"text-align:center;\">  </td>\n",
              "   <td style=\"text-align:center;\"> 0.108*** </td>\n",
              "   <td style=\"text-align:center;\"> 0.107*** </td>\n",
              "  </tr>\n",
              "  <tr>\n",
              "   <td style=\"text-align:left;\">  </td>\n",
              "   <td style=\"text-align:center;\">  </td>\n",
              "   <td style=\"text-align:center;\"> (0.008) </td>\n",
              "   <td style=\"text-align:center;\"> (0.008) </td>\n",
              "  </tr>\n",
              "  <tr>\n",
              "   <td style=\"text-align:left;\"> Age </td>\n",
              "   <td style=\"text-align:center;\">  </td>\n",
              "   <td style=\"text-align:center;\">  </td>\n",
              "   <td style=\"text-align:center;\"> −0.014 </td>\n",
              "  </tr>\n",
              "  <tr>\n",
              "   <td style=\"text-align:left;\">  </td>\n",
              "   <td style=\"text-align:center;\">  </td>\n",
              "   <td style=\"text-align:center;\">  </td>\n",
              "   <td style=\"text-align:center;\"> (0.008) </td>\n",
              "  </tr>\n",
              "  <tr>\n",
              "   <td style=\"text-align:left;\"> Constant </td>\n",
              "   <td style=\"text-align:center;\"> 4.112*** </td>\n",
              "   <td style=\"text-align:center;\"> 3.431*** </td>\n",
              "   <td style=\"text-align:center;\"> 3.659*** </td>\n",
              "  </tr>\n",
              "  <tr>\n",
              "   <td style=\"text-align:left;box-shadow: 0px 1px\">  </td>\n",
              "   <td style=\"text-align:center;box-shadow: 0px 1px\"> (0.015) </td>\n",
              "   <td style=\"text-align:center;box-shadow: 0px 1px\"> (0.050) </td>\n",
              "   <td style=\"text-align:center;box-shadow: 0px 1px\"> (0.149) </td>\n",
              "  </tr>\n",
              "  <tr>\n",
              "   <td style=\"text-align:left;\"> Num.Obs. </td>\n",
              "   <td style=\"text-align:center;\"> 7871 </td>\n",
              "   <td style=\"text-align:center;\"> 7871 </td>\n",
              "   <td style=\"text-align:center;\"> 7871 </td>\n",
              "  </tr>\n",
              "  <tr>\n",
              "   <td style=\"text-align:left;\"> R2 </td>\n",
              "   <td style=\"text-align:center;\"> 0.001 </td>\n",
              "   <td style=\"text-align:center;\"> 0.026 </td>\n",
              "   <td style=\"text-align:center;\"> 0.026 </td>\n",
              "  </tr>\n",
              "  <tr>\n",
              "   <td style=\"text-align:left;\"> R2 Adj. </td>\n",
              "   <td style=\"text-align:center;\"> 0.001 </td>\n",
              "   <td style=\"text-align:center;\"> 0.026 </td>\n",
              "   <td style=\"text-align:center;\"> 0.026 </td>\n",
              "  </tr>\n",
              "  <tr>\n",
              "   <td style=\"text-align:left;\"> RMSE </td>\n",
              "   <td style=\"text-align:center;\"> 0.91 </td>\n",
              "   <td style=\"text-align:center;\"> 0.90 </td>\n",
              "   <td style=\"text-align:center;\"> 0.90 </td>\n",
              "  </tr>\n",
              "</tbody>\n",
              "<tfoot><tr><td style=\"padding: 0; \" colspan=\"100%\">\n",
              "<sup></sup> + p &lt; 0.1, * p &lt; 0.05, ** p &lt; 0.01, *** p &lt; 0.001</td></tr></tfoot>\n",
              "</table>"
            ]
          },
          "metadata": {}
        }
      ],
      "source": [
        "# Your answer here\n",
        "  modelsummary(list(\"Grades\" = regression1,\"Grades\" = regression2, \"Grades\" = regression4),\n",
        "  stars=T,\n",
        "  coef_map = c(\"exercise\" = \"Days of exercise per week\",\n",
        "              \"sleep\" = \"Typical hours of sleep\",\n",
        "              \"age\" = \"Age\",\n",
        "              \"(Intercept)\" = \"Constant\"),\n",
        " title = \"Student grades and health behaviors\",\n",
        "  gof_omit = 'IC|Log',\n",
        "  output=\"jupyter\")"
      ]
    },
    {
      "cell_type": "markdown",
      "metadata": {
        "id": "PGXLhd-jVE4s"
      },
      "source": [
        "**11. Now compare the R-squared in the different columns of the Table you created in the previous Question. What do you observe?**"
      ]
    },
    {
      "cell_type": "markdown",
      "metadata": {
        "id": "mbXRxbcCWlvS"
      },
      "source": [
        "Your explanation here\n"
      ]
    },
    {
      "cell_type": "markdown",
      "metadata": {
        "id": "r95kx7VgY3bF"
      },
      "source": [
        "# PART II: College quality and future earnings\n",
        "\n"
      ]
    },
    {
      "cell_type": "markdown",
      "metadata": {
        "id": "1trK1VvJZHEK"
      },
      "source": [
        "See the handout posted on Canvas."
      ]
    }
  ],
  "metadata": {
    "colab": {
      "provenance": [],
      "include_colab_link": true
    },
    "kernelspec": {
      "display_name": "R",
      "language": "R",
      "name": "ir"
    },
    "language_info": {
      "codemirror_mode": "r",
      "file_extension": ".r",
      "mimetype": "text/x-r-source",
      "name": "R",
      "pygments_lexer": "r",
      "version": "4.2.1"
    }
  },
  "nbformat": 4,
  "nbformat_minor": 0
}