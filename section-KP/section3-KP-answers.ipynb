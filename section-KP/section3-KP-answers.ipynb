{
  "cells": [
    {
      "cell_type": "markdown",
      "metadata": {
        "id": "view-in-github",
        "colab_type": "text"
      },
      "source": [
        "<a href=\"https://colab.research.google.com/github/tsvoronos/API202-students/blob/main/section-KP/section3-KP-answers.ipynb\" target=\"_parent\"><img src=\"https://colab.research.google.com/assets/colab-badge.svg\" alt=\"Open In Colab\"/></a>"
      ]
    },
    {
      "cell_type": "markdown",
      "metadata": {
        "id": "llzlIZkjYwoE"
      },
      "source": [
        "## API-202M ABC SECTION #3\n",
        "###### TF: Kelsey Pukelis"
      ]
    },
    {
      "cell_type": "markdown",
      "source": [
        "**I - INSTRUCTIONS**  \n",
        "\n",
        "1. **Create a copy of this Jupyter notebook in your own drive by clicking `Copy to Drive` in the menubar (this is explained below in more detail below) - *if you do not do this your work will not be saved!***\n",
        "    1. Remember to save your work frequently by pressing `command-S` or clicking `File > Save` in the menubar.\n",
        "    1. We recommend completing this in Google Chrome."
      ],
      "metadata": {
        "id": "z68qpHeLP4VW"
      }
    },
    {
      "cell_type": "markdown",
      "metadata": {
        "id": "d5711e37-1060-49bc-99a6-d15b04756f16"
      },
      "source": [
        "## Load `R` libraries and data\n",
        "\n",
        "**Please refer to Sheet 1 in this [R Cheat Sheet](https://bit.ly/HKS-R) which includes the commands you learned last semester in addition to a number of additional ones.**\n",
        "\n",
        "The code cell below imports the R tidyverse. Make sure to run it before starting the problem set!\n",
        "\n",
        "*Note: Click the \"play\" button that appears when you hover over a cell to run it. The first time you do this you may receive an alert that this notebook was not authored by Google. If so, click \"Run anyway\" to proceed.*"
      ]
    },
    {
      "cell_type": "code",
      "execution_count": null,
      "metadata": {
        "id": "aa889d79-5ab9-42af-8590-30819c45124f",
        "tags": []
      },
      "outputs": [],
      "source": [
        "library(tidyverse)"
      ]
    },
    {
      "cell_type": "markdown",
      "source": [
        "# PART I: Preferences for Receiving Redistribution: Explaining Welfare Participation\n",
        "\n"
      ],
      "metadata": {
        "id": "r95kx7VgY3bF"
      }
    },
    {
      "cell_type": "markdown",
      "source": [
        "The purpose of this exercise is to understand:\n",
        "* how to interpret a linear probability model\n",
        "* the math regression is doing when we have all dummy variables on the right-hand side. \n",
        "\n",
        "In this exercise, we will replicate exploratory analysis I did for my own research using [General Social Survey (GSS)](https://gss.norc.org/About-The-GSS) data. \n",
        "\n",
        "The dataset `gss` includes the following variables: \n",
        "* `id_`: unique identifier for individuals in the dataset (You can ignore this.)\n",
        "* `year`: The year of the survey, which is 1986 for all observations. (You can ignore this.)\n",
        "* `getaid`: ever received welfare: \"Have you personally ever received income from Aid to Families with Dependent Children (AFDC), General Assistance, Supplemental Security Income, or Food Stamps?\"\n",
        "* `welfare1`: \"For each of the following statements, please tell me whether you strongly agree, agree, disagree, or strongly disagree with it. 'Welfare makes people work less than they would if there wasn't a welfare system.'\"\n",
        "* `wrkstat`: labor force status\n",
        "* `age`: age in years\n",
        "* `educ`: years of completed education\n",
        "* `sex`: male or female\n",
        "* `race`: White, Black, or Other race\n",
        "* `incom16`: \"Thinking about the time when you were 16 years old, compared with American families in general then, would you say your family income was--far below average, below average, average, above average, or far above average?\"\n",
        "* `income`: total family income\n",
        "* `rincome`: respondent's earned income\n",
        "* `partyid`: political party affiliation\n",
        "\n",
        "In the code below, I recode some of these variables to make them easier to use in regession analysis, and save the new data as `gss_clean`. "
      ],
      "metadata": {
        "id": "bF8bnSmsQnMl"
      }
    },
    {
      "cell_type": "code",
      "source": [
        "gss <- read.csv('https://raw.githubusercontent.com/tsvoronos/API202-students/main/data/gss_short.csv')\n",
        "head(gss)"
      ],
      "metadata": {
        "colab": {
          "base_uri": "https://localhost:8080/",
          "height": 390
        },
        "id": "Fyl98NDOHDU_",
        "outputId": "57befe7d-cf37-4f18-af14-045ff10ba44b"
      },
      "execution_count": null,
      "outputs": [
        {
          "output_type": "display_data",
          "data": {
            "text/html": [
              "<table class=\"dataframe\">\n",
              "<caption>A data.frame: 6 × 13</caption>\n",
              "<thead>\n",
              "\t<tr><th></th><th scope=col>id_</th><th scope=col>year</th><th scope=col>getaid</th><th scope=col>welfare1</th><th scope=col>wrkstat</th><th scope=col>age</th><th scope=col>educ</th><th scope=col>sex</th><th scope=col>race</th><th scope=col>incom16</th><th scope=col>income</th><th scope=col>rincome</th><th scope=col>partyid</th></tr>\n",
              "\t<tr><th></th><th scope=col>&lt;int&gt;</th><th scope=col>&lt;int&gt;</th><th scope=col>&lt;chr&gt;</th><th scope=col>&lt;chr&gt;</th><th scope=col>&lt;chr&gt;</th><th scope=col>&lt;chr&gt;</th><th scope=col>&lt;chr&gt;</th><th scope=col>&lt;chr&gt;</th><th scope=col>&lt;chr&gt;</th><th scope=col>&lt;chr&gt;</th><th scope=col>&lt;chr&gt;</th><th scope=col>&lt;chr&gt;</th><th scope=col>&lt;chr&gt;</th></tr>\n",
              "</thead>\n",
              "<tbody>\n",
              "\t<tr><th scope=row>1</th><td>1</td><td>1986</td><td>2. NO </td><td>3. DISAGREE      </td><td>1. Working full time</td><td>28</td><td>14</td><td>1. MALE  </td><td>1. White</td><td>5. FAR ABOVE AVERAGE</td><td>11. $20,000 to $24,999</td><td>11. $20000 - 24999</td><td>3. Independent (neither, no response)</td></tr>\n",
              "\t<tr><th scope=row>2</th><td>2</td><td>1986</td><td>2. NO </td><td>2. AGREE         </td><td>7. Keeping house    </td><td>54</td><td>16</td><td>2. FEMALE</td><td>1. White</td><td>5. FAR ABOVE AVERAGE</td><td>12. $25,000 or more   </td><td>.i                </td><td>6. Strong republican                 </td></tr>\n",
              "\t<tr><th scope=row>3</th><td>3</td><td>1986</td><td>1. YES</td><td>2. AGREE         </td><td>1. Working full time</td><td>44</td><td>16</td><td>2. FEMALE</td><td>1. White</td><td>4. ABOVE AVERAGE    </td><td>12. $25,000 or more   </td><td>6. $6000 TO 6999  </td><td>0. Strong democrat                   </td></tr>\n",
              "\t<tr><th scope=row>4</th><td>4</td><td>1986</td><td>2. NO </td><td>3. DISAGREE      </td><td>5. Retired          </td><td>77</td><td>14</td><td>2. FEMALE</td><td>2. Black</td><td>1. FAR BELOW AVERAGE</td><td>.r                    </td><td>.i                </td><td>0. Strong democrat                   </td></tr>\n",
              "\t<tr><th scope=row>5</th><td>5</td><td>1986</td><td>1. YES</td><td>2. AGREE         </td><td>2. Working part time</td><td>44</td><td>14</td><td>2. FEMALE</td><td>2. Black</td><td>1. FAR BELOW AVERAGE</td><td>.d                    </td><td>.r                </td><td>0. Strong democrat                   </td></tr>\n",
              "\t<tr><th scope=row>6</th><td>6</td><td>1986</td><td>1. YES</td><td>1. STRONGLY AGREE</td><td>7. Keeping house    </td><td>47</td><td>10</td><td>1. MALE  </td><td>2. Black</td><td>3. AVERAGE          </td><td>5. $5,000 to $5,999   </td><td>.i                </td><td>1. Not very strong democrat          </td></tr>\n",
              "</tbody>\n",
              "</table>\n"
            ],
            "text/markdown": "\nA data.frame: 6 × 13\n\n| <!--/--> | id_ &lt;int&gt; | year &lt;int&gt; | getaid &lt;chr&gt; | welfare1 &lt;chr&gt; | wrkstat &lt;chr&gt; | age &lt;chr&gt; | educ &lt;chr&gt; | sex &lt;chr&gt; | race &lt;chr&gt; | incom16 &lt;chr&gt; | income &lt;chr&gt; | rincome &lt;chr&gt; | partyid &lt;chr&gt; |\n|---|---|---|---|---|---|---|---|---|---|---|---|---|---|\n| 1 | 1 | 1986 | 2. NO  | 3. DISAGREE       | 1. Working full time | 28 | 14 | 1. MALE   | 1. White | 5. FAR ABOVE AVERAGE | 11. $20,000 to $24,999 | 11. $20000 - 24999 | 3. Independent (neither, no response) |\n| 2 | 2 | 1986 | 2. NO  | 2. AGREE          | 7. Keeping house     | 54 | 16 | 2. FEMALE | 1. White | 5. FAR ABOVE AVERAGE | 12. $25,000 or more    | .i                 | 6. Strong republican                  |\n| 3 | 3 | 1986 | 1. YES | 2. AGREE          | 1. Working full time | 44 | 16 | 2. FEMALE | 1. White | 4. ABOVE AVERAGE     | 12. $25,000 or more    | 6. $6000 TO 6999   | 0. Strong democrat                    |\n| 4 | 4 | 1986 | 2. NO  | 3. DISAGREE       | 5. Retired           | 77 | 14 | 2. FEMALE | 2. Black | 1. FAR BELOW AVERAGE | .r                     | .i                 | 0. Strong democrat                    |\n| 5 | 5 | 1986 | 1. YES | 2. AGREE          | 2. Working part time | 44 | 14 | 2. FEMALE | 2. Black | 1. FAR BELOW AVERAGE | .d                     | .r                 | 0. Strong democrat                    |\n| 6 | 6 | 1986 | 1. YES | 1. STRONGLY AGREE | 7. Keeping house     | 47 | 10 | 1. MALE   | 2. Black | 3. AVERAGE           | 5. $5,000 to $5,999    | .i                 | 1. Not very strong democrat           |\n\n",
            "text/latex": "A data.frame: 6 × 13\n\\begin{tabular}{r|lllllllllllll}\n  & id\\_ & year & getaid & welfare1 & wrkstat & age & educ & sex & race & incom16 & income & rincome & partyid\\\\\n  & <int> & <int> & <chr> & <chr> & <chr> & <chr> & <chr> & <chr> & <chr> & <chr> & <chr> & <chr> & <chr>\\\\\n\\hline\n\t1 & 1 & 1986 & 2. NO  & 3. DISAGREE       & 1. Working full time & 28 & 14 & 1. MALE   & 1. White & 5. FAR ABOVE AVERAGE & 11. \\$20,000 to \\$24,999 & 11. \\$20000 - 24999 & 3. Independent (neither, no response)\\\\\n\t2 & 2 & 1986 & 2. NO  & 2. AGREE          & 7. Keeping house     & 54 & 16 & 2. FEMALE & 1. White & 5. FAR ABOVE AVERAGE & 12. \\$25,000 or more    & .i                 & 6. Strong republican                 \\\\\n\t3 & 3 & 1986 & 1. YES & 2. AGREE          & 1. Working full time & 44 & 16 & 2. FEMALE & 1. White & 4. ABOVE AVERAGE     & 12. \\$25,000 or more    & 6. \\$6000 TO 6999   & 0. Strong democrat                   \\\\\n\t4 & 4 & 1986 & 2. NO  & 3. DISAGREE       & 5. Retired           & 77 & 14 & 2. FEMALE & 2. Black & 1. FAR BELOW AVERAGE & .r                     & .i                 & 0. Strong democrat                   \\\\\n\t5 & 5 & 1986 & 1. YES & 2. AGREE          & 2. Working part time & 44 & 14 & 2. FEMALE & 2. Black & 1. FAR BELOW AVERAGE & .d                     & .r                 & 0. Strong democrat                   \\\\\n\t6 & 6 & 1986 & 1. YES & 1. STRONGLY AGREE & 7. Keeping house     & 47 & 10 & 1. MALE   & 2. Black & 3. AVERAGE           & 5. \\$5,000 to \\$5,999    & .i                 & 1. Not very strong democrat          \\\\\n\\end{tabular}\n",
            "text/plain": [
              "  id_ year getaid welfare1          wrkstat              age educ sex      \n",
              "1 1   1986 2. NO  3. DISAGREE       1. Working full time 28  14   1. MALE  \n",
              "2 2   1986 2. NO  2. AGREE          7. Keeping house     54  16   2. FEMALE\n",
              "3 3   1986 1. YES 2. AGREE          1. Working full time 44  16   2. FEMALE\n",
              "4 4   1986 2. NO  3. DISAGREE       5. Retired           77  14   2. FEMALE\n",
              "5 5   1986 1. YES 2. AGREE          2. Working part time 44  14   2. FEMALE\n",
              "6 6   1986 1. YES 1. STRONGLY AGREE 7. Keeping house     47  10   1. MALE  \n",
              "  race     incom16              income                 rincome           \n",
              "1 1. White 5. FAR ABOVE AVERAGE 11. $20,000 to $24,999 11. $20000 - 24999\n",
              "2 1. White 5. FAR ABOVE AVERAGE 12. $25,000 or more    .i                \n",
              "3 1. White 4. ABOVE AVERAGE     12. $25,000 or more    6. $6000 TO 6999  \n",
              "4 2. Black 1. FAR BELOW AVERAGE .r                     .i                \n",
              "5 2. Black 1. FAR BELOW AVERAGE .d                     .r                \n",
              "6 2. Black 3. AVERAGE           5. $5,000 to $5,999    .i                \n",
              "  partyid                              \n",
              "1 3. Independent (neither, no response)\n",
              "2 6. Strong republican                 \n",
              "3 0. Strong democrat                   \n",
              "4 0. Strong democrat                   \n",
              "5 0. Strong democrat                   \n",
              "6 1. Not very strong democrat          "
            ]
          },
          "metadata": {}
        }
      ]
    },
    {
      "cell_type": "code",
      "source": [
        "# some pre-processing of the data \n",
        "gss_clean <- gss %>% \n",
        "  mutate(getaid = as.numeric(recode(getaid, \n",
        "        \"2. NO\" = \"0\", \n",
        "        \"1. YES\" = \"1\", \n",
        "        \".n\" = NA_character_))) %>%\n",
        "  mutate(welfare1_num = as.numeric(recode(welfare1,\n",
        "        \"4. STRONGLY DISAGREE\" = \"4\", \n",
        "        \"3. DISAGREE\" = \"3\",\n",
        "        \"2. AGREE\" = \"2\",\n",
        "        \"1. STRONGLY AGREE\" = \"1\",\n",
        "        \".n\" = NA_character_,\n",
        "        \".d\" = NA_character_))) %>%\n",
        "  relocate(welfare1_num, .after = welfare1) %>%\n",
        "  mutate(working = as.numeric(recode(wrkstat,\n",
        "        \"1. Working full time\" = \"1\",\n",
        "        \"2. Working part time\" = \"1\",\n",
        "        \"3. With a job, but not at work because of temporary illness, vacation, strike\" = \"1\",\n",
        "        \"4. Unemployed, laid off, looking for work\" = \"0\",\n",
        "        \"5. Retired\" = \"0\",\n",
        "        \"6. In school\" = \"0\",\n",
        "        \"7. Keeping house\" = \"0\",\n",
        "        \"8. Other\" = \"0\"))) %>%\n",
        "  relocate(working, .after = wrkstat) %>%\n",
        "  mutate(age = as.numeric(recode(age,\n",
        "        \"89. 89 or older\" = \"89\",\n",
        "        \".n\" = NA_character_))) %>%\n",
        "  mutate(educ = as.numeric(recode(educ,\n",
        "        \"0. No formal schooling\" = \"0\",\n",
        "        \".n\" = NA_character_))) %>%\n",
        "  mutate(female = as.numeric(recode(sex,\n",
        "        \"1. MALE\" = \"0\",\n",
        "        \"2. FEMALE\" = \"1\"))) %>%\n",
        "  relocate(female, .after = sex) %>%\n",
        "  mutate(race_white = ifelse(race == \"1. White\",1,0)) %>%\n",
        "  mutate(race_black = ifelse(race == \"2. Black\",1,0)) %>%\n",
        "  mutate(race_other = ifelse(race == \"3. Other\",1,0)) %>%\n",
        "  relocate(race_white, .after = race) %>%\n",
        "  relocate(race_black, .after = race_white) %>%\n",
        "  relocate(race_other, .after = race_black) %>%\n",
        "  mutate(income_num = as.numeric(recode(income,\n",
        "        '1. Under $1,000' = \"1\",\n",
        "        '2. $1,000 to $2,999' = \"2\",\n",
        "        '3. $3,000 to $3,999' = \"3\",\n",
        "        '4. $4,000 to $4,999' = \"4\",\n",
        "        '5. $5,000 to $5,999' = \"5\",\n",
        "        '6. $6,000 to $6,999' = \"6\",\n",
        "        '7. $7,000 to $7,999' = \"7\",\n",
        "        '8. $8,000 to $9,999' = \"8\",\n",
        "        '9. $10,000 to $14,999' = \"9\",\n",
        "        '10. $15,000 to $19,999' = \"10\",\n",
        "        '11. $20,000 to $24,999' = \"11\",\n",
        "        '12. $25,000 or more' = \"12\",\n",
        "        '.d' = NA_character_,\n",
        "        '.n' = NA_character_,\n",
        "        '.r' = NA_character_))) %>%\n",
        "  relocate(income_num, .after = income) %>%\n",
        "  mutate(party_short = recode(partyid,\n",
        "        '0. Strong democrat' = \"Democrat\",\n",
        "        '1. Not very strong democrat' = \"Democrat\",\n",
        "        '2. Independent, close to democrat' = \"Independent\",\n",
        "        '3. Independent (neither, no response)' = \"Independent\",\n",
        "        '4. Independent, close to republican' = \"Independent\",\n",
        "        '5. Not very strong republican' = \"Republican\",\n",
        "        '6. Strong republican' = \"Republican\",\n",
        "        '7. Other party' = \"Independent\",\n",
        "        \".n\" = NA_character_)) %>%\n",
        "  relocate(party_short, .after = partyid) %>%\n",
        "  mutate(party_dem = ifelse(party_short == \"Democrat\",1,0)) %>%\n",
        "  mutate(party_ind = ifelse(party_short == \"Independent\",1,0)) %>%\n",
        "  mutate(party_rep = ifelse(party_short == \"Republican\",1,0)) %>%\n",
        "  relocate(party_dem, .after = party_short) %>%\n",
        "  relocate(party_ind, .after = party_dem) %>%\n",
        "  relocate(party_rep, .after = party_ind)\n",
        "\n",
        "head(gss_clean)"
      ],
      "metadata": {
        "colab": {
          "base_uri": "https://localhost:8080/",
          "height": 584
        },
        "id": "AdGcZlp1HPZ7",
        "outputId": "37b7a1ef-c6e6-48ed-ffc0-9f69e9870a5d"
      },
      "execution_count": null,
      "outputs": [
        {
          "output_type": "display_data",
          "data": {
            "text/html": [
              "<table class=\"dataframe\">\n",
              "<caption>A data.frame: 6 × 24</caption>\n",
              "<thead>\n",
              "\t<tr><th></th><th scope=col>id_</th><th scope=col>year</th><th scope=col>getaid</th><th scope=col>welfare1</th><th scope=col>welfare1_num</th><th scope=col>wrkstat</th><th scope=col>working</th><th scope=col>age</th><th scope=col>educ</th><th scope=col>sex</th><th scope=col>⋯</th><th scope=col>race_other</th><th scope=col>incom16</th><th scope=col>income</th><th scope=col>income_num</th><th scope=col>rincome</th><th scope=col>partyid</th><th scope=col>party_short</th><th scope=col>party_dem</th><th scope=col>party_ind</th><th scope=col>party_rep</th></tr>\n",
              "\t<tr><th></th><th scope=col>&lt;int&gt;</th><th scope=col>&lt;int&gt;</th><th scope=col>&lt;dbl&gt;</th><th scope=col>&lt;chr&gt;</th><th scope=col>&lt;dbl&gt;</th><th scope=col>&lt;chr&gt;</th><th scope=col>&lt;dbl&gt;</th><th scope=col>&lt;dbl&gt;</th><th scope=col>&lt;dbl&gt;</th><th scope=col>&lt;chr&gt;</th><th scope=col>⋯</th><th scope=col>&lt;dbl&gt;</th><th scope=col>&lt;chr&gt;</th><th scope=col>&lt;chr&gt;</th><th scope=col>&lt;dbl&gt;</th><th scope=col>&lt;chr&gt;</th><th scope=col>&lt;chr&gt;</th><th scope=col>&lt;chr&gt;</th><th scope=col>&lt;dbl&gt;</th><th scope=col>&lt;dbl&gt;</th><th scope=col>&lt;dbl&gt;</th></tr>\n",
              "</thead>\n",
              "<tbody>\n",
              "\t<tr><th scope=row>1</th><td>1</td><td>1986</td><td>0</td><td>3. DISAGREE      </td><td>3</td><td>1. Working full time</td><td>1</td><td>28</td><td>14</td><td>1. MALE  </td><td>⋯</td><td>0</td><td>5. FAR ABOVE AVERAGE</td><td>11. $20,000 to $24,999</td><td>11</td><td>11. $20000 - 24999</td><td>3. Independent (neither, no response)</td><td>Independent</td><td>0</td><td>1</td><td>0</td></tr>\n",
              "\t<tr><th scope=row>2</th><td>2</td><td>1986</td><td>0</td><td>2. AGREE         </td><td>2</td><td>7. Keeping house    </td><td>0</td><td>54</td><td>16</td><td>2. FEMALE</td><td>⋯</td><td>0</td><td>5. FAR ABOVE AVERAGE</td><td>12. $25,000 or more   </td><td>12</td><td>.i                </td><td>6. Strong republican                 </td><td>Republican </td><td>0</td><td>0</td><td>1</td></tr>\n",
              "\t<tr><th scope=row>3</th><td>3</td><td>1986</td><td>1</td><td>2. AGREE         </td><td>2</td><td>1. Working full time</td><td>1</td><td>44</td><td>16</td><td>2. FEMALE</td><td>⋯</td><td>0</td><td>4. ABOVE AVERAGE    </td><td>12. $25,000 or more   </td><td>12</td><td>6. $6000 TO 6999  </td><td>0. Strong democrat                   </td><td>Democrat   </td><td>1</td><td>0</td><td>0</td></tr>\n",
              "\t<tr><th scope=row>4</th><td>4</td><td>1986</td><td>0</td><td>3. DISAGREE      </td><td>3</td><td>5. Retired          </td><td>0</td><td>77</td><td>14</td><td>2. FEMALE</td><td>⋯</td><td>0</td><td>1. FAR BELOW AVERAGE</td><td>.r                    </td><td>NA</td><td>.i                </td><td>0. Strong democrat                   </td><td>Democrat   </td><td>1</td><td>0</td><td>0</td></tr>\n",
              "\t<tr><th scope=row>5</th><td>5</td><td>1986</td><td>1</td><td>2. AGREE         </td><td>2</td><td>2. Working part time</td><td>1</td><td>44</td><td>14</td><td>2. FEMALE</td><td>⋯</td><td>0</td><td>1. FAR BELOW AVERAGE</td><td>.d                    </td><td>NA</td><td>.r                </td><td>0. Strong democrat                   </td><td>Democrat   </td><td>1</td><td>0</td><td>0</td></tr>\n",
              "\t<tr><th scope=row>6</th><td>6</td><td>1986</td><td>1</td><td>1. STRONGLY AGREE</td><td>1</td><td>7. Keeping house    </td><td>0</td><td>47</td><td>10</td><td>1. MALE  </td><td>⋯</td><td>0</td><td>3. AVERAGE          </td><td>5. $5,000 to $5,999   </td><td> 5</td><td>.i                </td><td>1. Not very strong democrat          </td><td>Democrat   </td><td>1</td><td>0</td><td>0</td></tr>\n",
              "</tbody>\n",
              "</table>\n"
            ],
            "text/markdown": "\nA data.frame: 6 × 24\n\n| <!--/--> | id_ &lt;int&gt; | year &lt;int&gt; | getaid &lt;dbl&gt; | welfare1 &lt;chr&gt; | welfare1_num &lt;dbl&gt; | wrkstat &lt;chr&gt; | working &lt;dbl&gt; | age &lt;dbl&gt; | educ &lt;dbl&gt; | sex &lt;chr&gt; | ⋯ ⋯ | race_other &lt;dbl&gt; | incom16 &lt;chr&gt; | income &lt;chr&gt; | income_num &lt;dbl&gt; | rincome &lt;chr&gt; | partyid &lt;chr&gt; | party_short &lt;chr&gt; | party_dem &lt;dbl&gt; | party_ind &lt;dbl&gt; | party_rep &lt;dbl&gt; |\n|---|---|---|---|---|---|---|---|---|---|---|---|---|---|---|---|---|---|---|---|---|---|\n| 1 | 1 | 1986 | 0 | 3. DISAGREE       | 3 | 1. Working full time | 1 | 28 | 14 | 1. MALE   | ⋯ | 0 | 5. FAR ABOVE AVERAGE | 11. $20,000 to $24,999 | 11 | 11. $20000 - 24999 | 3. Independent (neither, no response) | Independent | 0 | 1 | 0 |\n| 2 | 2 | 1986 | 0 | 2. AGREE          | 2 | 7. Keeping house     | 0 | 54 | 16 | 2. FEMALE | ⋯ | 0 | 5. FAR ABOVE AVERAGE | 12. $25,000 or more    | 12 | .i                 | 6. Strong republican                  | Republican  | 0 | 0 | 1 |\n| 3 | 3 | 1986 | 1 | 2. AGREE          | 2 | 1. Working full time | 1 | 44 | 16 | 2. FEMALE | ⋯ | 0 | 4. ABOVE AVERAGE     | 12. $25,000 or more    | 12 | 6. $6000 TO 6999   | 0. Strong democrat                    | Democrat    | 1 | 0 | 0 |\n| 4 | 4 | 1986 | 0 | 3. DISAGREE       | 3 | 5. Retired           | 0 | 77 | 14 | 2. FEMALE | ⋯ | 0 | 1. FAR BELOW AVERAGE | .r                     | NA | .i                 | 0. Strong democrat                    | Democrat    | 1 | 0 | 0 |\n| 5 | 5 | 1986 | 1 | 2. AGREE          | 2 | 2. Working part time | 1 | 44 | 14 | 2. FEMALE | ⋯ | 0 | 1. FAR BELOW AVERAGE | .d                     | NA | .r                 | 0. Strong democrat                    | Democrat    | 1 | 0 | 0 |\n| 6 | 6 | 1986 | 1 | 1. STRONGLY AGREE | 1 | 7. Keeping house     | 0 | 47 | 10 | 1. MALE   | ⋯ | 0 | 3. AVERAGE           | 5. $5,000 to $5,999    |  5 | .i                 | 1. Not very strong democrat           | Democrat    | 1 | 0 | 0 |\n\n",
            "text/latex": "A data.frame: 6 × 24\n\\begin{tabular}{r|lllllllllllllllllllll}\n  & id\\_ & year & getaid & welfare1 & welfare1\\_num & wrkstat & working & age & educ & sex & ⋯ & race\\_other & incom16 & income & income\\_num & rincome & partyid & party\\_short & party\\_dem & party\\_ind & party\\_rep\\\\\n  & <int> & <int> & <dbl> & <chr> & <dbl> & <chr> & <dbl> & <dbl> & <dbl> & <chr> & ⋯ & <dbl> & <chr> & <chr> & <dbl> & <chr> & <chr> & <chr> & <dbl> & <dbl> & <dbl>\\\\\n\\hline\n\t1 & 1 & 1986 & 0 & 3. DISAGREE       & 3 & 1. Working full time & 1 & 28 & 14 & 1. MALE   & ⋯ & 0 & 5. FAR ABOVE AVERAGE & 11. \\$20,000 to \\$24,999 & 11 & 11. \\$20000 - 24999 & 3. Independent (neither, no response) & Independent & 0 & 1 & 0\\\\\n\t2 & 2 & 1986 & 0 & 2. AGREE          & 2 & 7. Keeping house     & 0 & 54 & 16 & 2. FEMALE & ⋯ & 0 & 5. FAR ABOVE AVERAGE & 12. \\$25,000 or more    & 12 & .i                 & 6. Strong republican                  & Republican  & 0 & 0 & 1\\\\\n\t3 & 3 & 1986 & 1 & 2. AGREE          & 2 & 1. Working full time & 1 & 44 & 16 & 2. FEMALE & ⋯ & 0 & 4. ABOVE AVERAGE     & 12. \\$25,000 or more    & 12 & 6. \\$6000 TO 6999   & 0. Strong democrat                    & Democrat    & 1 & 0 & 0\\\\\n\t4 & 4 & 1986 & 0 & 3. DISAGREE       & 3 & 5. Retired           & 0 & 77 & 14 & 2. FEMALE & ⋯ & 0 & 1. FAR BELOW AVERAGE & .r                     & NA & .i                 & 0. Strong democrat                    & Democrat    & 1 & 0 & 0\\\\\n\t5 & 5 & 1986 & 1 & 2. AGREE          & 2 & 2. Working part time & 1 & 44 & 14 & 2. FEMALE & ⋯ & 0 & 1. FAR BELOW AVERAGE & .d                     & NA & .r                 & 0. Strong democrat                    & Democrat    & 1 & 0 & 0\\\\\n\t6 & 6 & 1986 & 1 & 1. STRONGLY AGREE & 1 & 7. Keeping house     & 0 & 47 & 10 & 1. MALE   & ⋯ & 0 & 3. AVERAGE           & 5. \\$5,000 to \\$5,999    &  5 & .i                 & 1. Not very strong democrat           & Democrat    & 1 & 0 & 0\\\\\n\\end{tabular}\n",
            "text/plain": [
              "  id_ year getaid welfare1          welfare1_num wrkstat              working\n",
              "1 1   1986 0      3. DISAGREE       3            1. Working full time 1      \n",
              "2 2   1986 0      2. AGREE          2            7. Keeping house     0      \n",
              "3 3   1986 1      2. AGREE          2            1. Working full time 1      \n",
              "4 4   1986 0      3. DISAGREE       3            5. Retired           0      \n",
              "5 5   1986 1      2. AGREE          2            2. Working part time 1      \n",
              "6 6   1986 1      1. STRONGLY AGREE 1            7. Keeping house     0      \n",
              "  age educ sex       ⋯ race_other incom16              income                \n",
              "1 28  14   1. MALE   ⋯ 0          5. FAR ABOVE AVERAGE 11. $20,000 to $24,999\n",
              "2 54  16   2. FEMALE ⋯ 0          5. FAR ABOVE AVERAGE 12. $25,000 or more   \n",
              "3 44  16   2. FEMALE ⋯ 0          4. ABOVE AVERAGE     12. $25,000 or more   \n",
              "4 77  14   2. FEMALE ⋯ 0          1. FAR BELOW AVERAGE .r                    \n",
              "5 44  14   2. FEMALE ⋯ 0          1. FAR BELOW AVERAGE .d                    \n",
              "6 47  10   1. MALE   ⋯ 0          3. AVERAGE           5. $5,000 to $5,999   \n",
              "  income_num rincome            partyid                              \n",
              "1 11         11. $20000 - 24999 3. Independent (neither, no response)\n",
              "2 12         .i                 6. Strong republican                 \n",
              "3 12         6. $6000 TO 6999   0. Strong democrat                   \n",
              "4 NA         .i                 0. Strong democrat                   \n",
              "5 NA         .r                 0. Strong democrat                   \n",
              "6  5         .i                 1. Not very strong democrat          \n",
              "  party_short party_dem party_ind party_rep\n",
              "1 Independent 0         1         0        \n",
              "2 Republican  0         0         1        \n",
              "3 Democrat    1         0         0        \n",
              "4 Democrat    1         0         0        \n",
              "5 Democrat    1         0         0        \n",
              "6 Democrat    1         0         0        "
            ]
          },
          "metadata": {}
        }
      ]
    },
    {
      "cell_type": "markdown",
      "source": [
        "**1. Run a bivariate regression of receiving welfare on a dummy for agreeing with the statement, \"Welfare makes people work less.\" (Note: You should create a dummy variable first, grouping together people who \"agree\" or \"strongly agree\" into the \"agree\" group.) Interpret the slope coefficient and intercept.** "
      ],
      "metadata": {
        "id": "jAcGv6P6HSBE"
      }
    },
    {
      "cell_type": "code",
      "source": [
        "# Your code here \n",
        "\n",
        "# START \n",
        "\n",
        "# create dummy var \n",
        "gss_clean <- gss_clean %>% \n",
        "  mutate(welfare1_agree = ifelse(welfare1_num <= 2,1,0)) \n",
        "\n",
        "# run bivariate regression\n",
        "reg1 <- lm(getaid ~ welfare1_agree, data = gss_clean)\n",
        "summary(reg1)\n",
        "\n",
        "# END "
      ],
      "metadata": {
        "colab": {
          "base_uri": "https://localhost:8080/",
          "height": 347
        },
        "id": "iOR2ZtHOH-6Z",
        "outputId": "78d6d69f-3a7f-4dba-c4c8-9fbebb7e93e6"
      },
      "execution_count": null,
      "outputs": [
        {
          "output_type": "display_data",
          "data": {
            "text/plain": [
              "\n",
              "Call:\n",
              "lm(formula = getaid ~ welfare1_agree, data = gss_clean)\n",
              "\n",
              "Residuals:\n",
              "    Min      1Q  Median      3Q     Max \n",
              "-0.3594 -0.1607 -0.1607 -0.1607  0.8393 \n",
              "\n",
              "Coefficients:\n",
              "               Estimate Std. Error t value Pr(>|t|)    \n",
              "(Intercept)     0.35945    0.02624  13.698  < 2e-16 ***\n",
              "welfare1_agree -0.19876    0.02847  -6.982 4.43e-12 ***\n",
              "---\n",
              "Signif. codes:  0 ‘***’ 0.001 ‘**’ 0.01 ‘*’ 0.05 ‘.’ 0.1 ‘ ’ 1\n",
              "\n",
              "Residual standard error: 0.3865 on 1441 degrees of freedom\n",
              "  (27 observations deleted due to missingness)\n",
              "Multiple R-squared:  0.03272,\tAdjusted R-squared:  0.03205 \n",
              "F-statistic: 48.75 on 1 and 1441 DF,  p-value: 4.429e-12\n"
            ]
          },
          "metadata": {}
        }
      ]
    },
    {
      "cell_type": "markdown",
      "source": [
        "Your Answer Here \n",
        "\n",
        "#### START \n",
        "\n",
        "Among people who disagree with the statement \"welfare makes people work less\", 35.9 percent report receiving welfare. \n",
        "\n",
        "Agreeing with the statement \"Welfare makes people work less\" is associated with a 19.9 percentage point decrease in the likelihood of receiving welfare, on average, compared to people who disagree with the statement. \n",
        "\n",
        "#### END "
      ],
      "metadata": {
        "id": "TVEWxoNuIjLA"
      }
    },
    {
      "cell_type": "markdown",
      "source": [
        "**2. Beliefs about welfare programs are very political, so we should probably account for respondents' party. Control for political party by including the dummies for \"Republican\", \"Democrat\", and/or \"Indepedent\" in a multivariate regression. Which dummies did you include in the regression and why? Say what each of the coefficients is measuring. Interpret the coefficient on agreeing with the statement, and briefly note how the coefficient changed compared to the bivariate regression.**"
      ],
      "metadata": {
        "id": "AuITpPKgLPT8"
      }
    },
    {
      "cell_type": "code",
      "source": [
        "# Your code here \n",
        "\n",
        "# START \n",
        "\n",
        "# Dummies for political party were already created\n",
        "\n",
        "# reg where omitted group is independents \n",
        "reg2 <- lm(getaid ~ welfare1_agree + party_rep + party_dem, data = gss_clean)\n",
        "summary(reg2)\n",
        "\n",
        "# END "
      ],
      "metadata": {
        "colab": {
          "base_uri": "https://localhost:8080/",
          "height": 399
        },
        "id": "enL0QAoAL7NO",
        "outputId": "cd317adc-1182-47f9-ee41-e50fed8e5d54"
      },
      "execution_count": null,
      "outputs": [
        {
          "output_type": "display_data",
          "data": {
            "text/plain": [
              "\n",
              "Call:\n",
              "lm(formula = getaid ~ welfare1_agree + party_rep + party_dem, \n",
              "    data = gss_clean)\n",
              "\n",
              "Residuals:\n",
              "     Min       1Q   Median       3Q      Max \n",
              "-0.37873 -0.19560 -0.18750 -0.08308  0.91692 \n",
              "\n",
              "Coefficients:\n",
              "                Estimate Std. Error t value Pr(>|t|)    \n",
              "(Intercept)     0.370632   0.029199  12.693  < 2e-16 ***\n",
              "welfare1_agree -0.183131   0.028486  -6.429 1.75e-10 ***\n",
              "party_rep      -0.104417   0.026429  -3.951 8.17e-05 ***\n",
              "party_dem       0.008097   0.023633   0.343    0.732    \n",
              "---\n",
              "Signif. codes:  0 ‘***’ 0.001 ‘**’ 0.01 ‘*’ 0.05 ‘.’ 0.1 ‘ ’ 1\n",
              "\n",
              "Residual standard error: 0.3842 on 1436 degrees of freedom\n",
              "  (30 observations deleted due to missingness)\n",
              "Multiple R-squared:  0.04728,\tAdjusted R-squared:  0.04529 \n",
              "F-statistic: 23.75 on 3 and 1436 DF,  p-value: 5.262e-15\n"
            ]
          },
          "metadata": {}
        }
      ]
    },
    {
      "cell_type": "markdown",
      "source": [
        "Your Answer HERE \n",
        "\n",
        "#### START \n",
        "\n",
        "I included dummies for \"Republican\" and \"Democrat\", omitting the \"Independent\" group. I chose **Independents** as the reference group so they could serve as a \"neutral\" reference point to the other two groups. (You could have included any of the 2 groups, but not 3 to avoid multicollinearity issues.)\n",
        "\n",
        "Among **Independents** who **disagree** with the statement \"welfare makes people work less\", 37.1 percent report receiving welfare. \n",
        "\n",
        "Relative to **Independents** who **disagree** with the statement, **Republicans** who **disagree** with the statement are 10.4 percentage points less likely to report receiving welfare, on average. This coefficient is statistically significant. \n",
        "\n",
        "Relative to **Independents** who **disagree** with the statement, **Democrats** who **disagree** with the statement are 0.1 percentage points more likely to report receiving welfare, on average. This is basically a \"statistical zero\". \n",
        "\n",
        "Agreeing with the statement \"Welfare makes people work less\" is associated with a 18.3 percentage point decrease in the likelihood of receiving welfare, on average across people of **all political parties**, controlling for party. \n",
        "\n",
        "This coefficient is statistically significant and similar in magnitude to the estimate from the bivariate regression. This suggests that although people from different political parties have different \"baselines\" for their likelihood of taking up welfare programs (i.e. they have different intercepts), the belief that \"welfare makes people work less\" still explains variation in welfare program participation. Note that this regression specification implicitly *assumes* that the relationship between beliefs and welfare participation is the **same** across the three party groups. \n",
        "\n",
        "#### END "
      ],
      "metadata": {
        "id": "MrmMuO0wNCyG"
      }
    },
    {
      "cell_type": "markdown",
      "source": [
        "**Let's practice running the same regression, now using factors in R instead of using dummy variables.**\n",
        "\n",
        "Recall the following coding example from the lecture appendix:\n",
        "\n",
        "```\n",
        "NLS <- NLS %>% mutate(grad = as_factor(case_when(educ < 12 ~ \"Less than HS\",\n",
        "                                                  educ >= 12 & educ < 16 ~ \"HS\",\n",
        "                                                  educ >= 16 ~ \"College\")))\n",
        "```\n",
        "If we already had a variable called `educ_group` that took on (character) values `\"Less than HS\",\"HS\",\"College\"`, then we could create a factor variable using the following code:\n",
        "```\n",
        "NLS <- NLS %>% mutate(grad = as_factor(educ_group))\n",
        "```"
      ],
      "metadata": {
        "id": "eNfuk8uE5sGd"
      }
    },
    {
      "cell_type": "markdown",
      "source": [
        "**3. Turn the political party variable `party_short` into a factor variable, and run the same regression as before. Note which group that R automatically omitted.**"
      ],
      "metadata": {
        "id": "x3PjSdwh56_f"
      }
    },
    {
      "cell_type": "code",
      "source": [
        "# Your code here\n",
        "\n",
        "# START \n",
        "\n",
        "# generate factor variable for political party\n",
        "gss_clean <- gss_clean %>%\n",
        "  mutate(party_short_factor = as_factor(party_short))\n",
        "\n",
        "# run regression using this factor variable (instead of dummy vars)\n",
        "reg2B <- lm(getaid ~ welfare1_agree + party_short_factor, data = gss_clean)\n",
        "summary(reg2B)\n",
        "\n",
        "# END "
      ],
      "metadata": {
        "colab": {
          "base_uri": "https://localhost:8080/",
          "height": 381
        },
        "id": "3yqcddSY8DsK",
        "outputId": "b582ad81-1ee4-4f3e-f63d-35d8adb94649"
      },
      "execution_count": null,
      "outputs": [
        {
          "output_type": "display_data",
          "data": {
            "text/plain": [
              "\n",
              "Call:\n",
              "lm(formula = getaid ~ welfare1_agree + party_short_factor, data = gss_clean)\n",
              "\n",
              "Residuals:\n",
              "     Min       1Q   Median       3Q      Max \n",
              "-0.37873 -0.19560 -0.18750 -0.08308  0.91692 \n",
              "\n",
              "Coefficients:\n",
              "                              Estimate Std. Error t value Pr(>|t|)    \n",
              "(Intercept)                   0.370632   0.029199  12.693  < 2e-16 ***\n",
              "welfare1_agree               -0.183131   0.028486  -6.429 1.75e-10 ***\n",
              "party_short_factorRepublican -0.104417   0.026429  -3.951 8.17e-05 ***\n",
              "party_short_factorDemocrat    0.008097   0.023633   0.343    0.732    \n",
              "---\n",
              "Signif. codes:  0 ‘***’ 0.001 ‘**’ 0.01 ‘*’ 0.05 ‘.’ 0.1 ‘ ’ 1\n",
              "\n",
              "Residual standard error: 0.3842 on 1436 degrees of freedom\n",
              "  (30 observations deleted due to missingness)\n",
              "Multiple R-squared:  0.04728,\tAdjusted R-squared:  0.04529 \n",
              "F-statistic: 23.75 on 3 and 1436 DF,  p-value: 5.262e-15\n"
            ]
          },
          "metadata": {}
        }
      ]
    },
    {
      "cell_type": "markdown",
      "source": [
        "Your Answer Here\n",
        "\n",
        "#### START \n",
        "\n",
        "When using the factor variable R automatically omits the Independent group. So our regression results are exact the same as above. \n",
        "\n",
        "#### END "
      ],
      "metadata": {
        "id": "2BQ6s8Eb888k"
      }
    },
    {
      "cell_type": "markdown",
      "source": [
        "If we already created a factor variable called `grad`, we could set the reference group by listing in first using the `relevel` command:\n",
        "\n",
        "```\n",
        "NLS$grad <- relevel(NLS$grad, \"Less than HS\", \"HS\", \"College\")\n",
        "```\n",
        "So this code sets `\"Less than HS\"` as the reference group for the factor variable `grad`."
      ],
      "metadata": {
        "id": "X4426l4R9MQ4"
      }
    },
    {
      "cell_type": "markdown",
      "source": [
        "**4. Using a factor variable, set the reference group to Republicans and run the regression again. Briefly discuss how the interpretation of the regression changes.**"
      ],
      "metadata": {
        "id": "MxQPHA_O9qrl"
      }
    },
    {
      "cell_type": "code",
      "source": [
        "# Your code here \n",
        "\n",
        "# START \n",
        "\n",
        "# relevel factor variable to make Republican the reference group\n",
        "gss_clean$party_short_factor <- relevel(gss_clean$party_short_factor,\"Republican\",\"Independent\",\"Democrat\")\n",
        "\n",
        "# run regression again\n",
        "reg2C <- lm(getaid ~ welfare1_agree + party_short_factor, data = gss_clean)\n",
        "summary(reg2C)\n",
        "\n",
        "# END "
      ],
      "metadata": {
        "colab": {
          "base_uri": "https://localhost:8080/",
          "height": 381
        },
        "id": "G-G1moP897Ez",
        "outputId": "92d66864-cfa4-49e7-bc2e-1e7679f35684"
      },
      "execution_count": null,
      "outputs": [
        {
          "output_type": "display_data",
          "data": {
            "text/plain": [
              "\n",
              "Call:\n",
              "lm(formula = getaid ~ welfare1_agree + party_short_factor, data = gss_clean)\n",
              "\n",
              "Residuals:\n",
              "     Min       1Q   Median       3Q      Max \n",
              "-0.37873 -0.19560 -0.18750 -0.08308  0.91692 \n",
              "\n",
              "Coefficients:\n",
              "                              Estimate Std. Error t value Pr(>|t|)    \n",
              "(Intercept)                    0.26622    0.03279   8.119 9.98e-16 ***\n",
              "welfare1_agree                -0.18313    0.02849  -6.429 1.75e-10 ***\n",
              "party_short_factorIndependent  0.10442    0.02643   3.951 8.17e-05 ***\n",
              "party_short_factorDemocrat     0.11251    0.02563   4.389 1.22e-05 ***\n",
              "---\n",
              "Signif. codes:  0 ‘***’ 0.001 ‘**’ 0.01 ‘*’ 0.05 ‘.’ 0.1 ‘ ’ 1\n",
              "\n",
              "Residual standard error: 0.3842 on 1436 degrees of freedom\n",
              "  (30 observations deleted due to missingness)\n",
              "Multiple R-squared:  0.04728,\tAdjusted R-squared:  0.04529 \n",
              "F-statistic: 23.75 on 3 and 1436 DF,  p-value: 5.262e-15\n"
            ]
          },
          "metadata": {}
        }
      ]
    },
    {
      "cell_type": "markdown",
      "source": [
        "Your Answer Here \n",
        "\n",
        "#### START \n",
        "\n",
        "All of the following holds *among people who disagree*: \n",
        "Now, the intercept reflects the average for Republicans (who disagree), the coefficient on Democrat tells us the difference in means between Democrats and Republicans (who disagree, which is positive), and the coefficient on Independents tells us the difference in means between Independents and Republicans (who disagree, which is positive). \n",
        "\n",
        "Note that changing the reference group to Republicans allows us to test for the difference in means between Democrats and Republicans (which we couldn't do when Independents were the reference group), as well as the difference in means between Independents and Republicans. \n",
        "\n",
        "#### END "
      ],
      "metadata": {
        "id": "RElke5Ju-4kV"
      }
    },
    {
      "cell_type": "markdown",
      "source": [
        "**Suppose we want to test the null hypothesis that the relationship between agreeing with the statement and receiving welfare is the same across the three political groups.** "
      ],
      "metadata": {
        "id": "YP0LkYR0-rTR"
      }
    },
    {
      "cell_type": "markdown",
      "source": [
        "**5. To start, simply calculate the means of the welfare participation variable for 6 groups: Independents who disagree, Republicans who disagree, Democrats who disagree, Independents who agree, Republicans who agree, and Democrats who agree.**"
      ],
      "metadata": {
        "id": "zNoGxqoGQnW6"
      }
    },
    {
      "cell_type": "code",
      "source": [
        "# Your code here \n",
        "\n",
        "# START \n",
        "\n",
        "means_table <- gss_clean %>% \n",
        "  group_by(party_short,factor(welfare1_agree)) %>%\n",
        "    summarize(getaid_mean = mean(getaid,na.rm = TRUE),\n",
        "              n = n()) %>%\n",
        "    arrange(getaid_mean, descending = TRUE)\n",
        "means_table\n",
        "# END "
      ],
      "metadata": {
        "colab": {
          "base_uri": "https://localhost:8080/",
          "height": 446
        },
        "id": "7MT8q5d9XVhX",
        "outputId": "98b703e4-4866-4ebe-c804-575c2f3786f9"
      },
      "execution_count": null,
      "outputs": [
        {
          "output_type": "stream",
          "name": "stderr",
          "text": [
            "\u001b[1m\u001b[22m`summarise()` has grouped output by 'party_short'. You can override using the\n",
            "`.groups` argument.\n"
          ]
        },
        {
          "output_type": "display_data",
          "data": {
            "text/html": [
              "<table class=\"dataframe\">\n",
              "<caption>A grouped_df: 10 × 4</caption>\n",
              "<thead>\n",
              "\t<tr><th scope=col>party_short</th><th scope=col>factor(welfare1_agree)</th><th scope=col>getaid_mean</th><th scope=col>n</th></tr>\n",
              "\t<tr><th scope=col>&lt;chr&gt;</th><th scope=col>&lt;fct&gt;</th><th scope=col>&lt;dbl&gt;</th><th scope=col>&lt;int&gt;</th></tr>\n",
              "</thead>\n",
              "<tbody>\n",
              "\t<tr><td>NA         </td><td>1 </td><td>0.00000000</td><td>  3</td></tr>\n",
              "\t<tr><td>Republican </td><td>1 </td><td>0.08092486</td><td>349</td></tr>\n",
              "\t<tr><td>Independent</td><td>1 </td><td>0.18472906</td><td>408</td></tr>\n",
              "\t<tr><td>Democrat   </td><td>1 </td><td>0.19957537</td><td>474</td></tr>\n",
              "\t<tr><td>Independent</td><td>NA</td><td>0.25000000</td><td>  9</td></tr>\n",
              "\t<tr><td>Republican </td><td>0 </td><td>0.29032258</td><td> 31</td></tr>\n",
              "\t<tr><td>Democrat   </td><td>0 </td><td>0.36000000</td><td>100</td></tr>\n",
              "\t<tr><td>Independent</td><td>0 </td><td>0.38372093</td><td> 87</td></tr>\n",
              "\t<tr><td>Democrat   </td><td>NA</td><td>0.42857143</td><td>  7</td></tr>\n",
              "\t<tr><td>Republican </td><td>NA</td><td>0.50000000</td><td>  2</td></tr>\n",
              "</tbody>\n",
              "</table>\n"
            ],
            "text/markdown": "\nA grouped_df: 10 × 4\n\n| party_short &lt;chr&gt; | factor(welfare1_agree) &lt;fct&gt; | getaid_mean &lt;dbl&gt; | n &lt;int&gt; |\n|---|---|---|---|\n| NA          | 1  | 0.00000000 |   3 |\n| Republican  | 1  | 0.08092486 | 349 |\n| Independent | 1  | 0.18472906 | 408 |\n| Democrat    | 1  | 0.19957537 | 474 |\n| Independent | NA | 0.25000000 |   9 |\n| Republican  | 0  | 0.29032258 |  31 |\n| Democrat    | 0  | 0.36000000 | 100 |\n| Independent | 0  | 0.38372093 |  87 |\n| Democrat    | NA | 0.42857143 |   7 |\n| Republican  | NA | 0.50000000 |   2 |\n\n",
            "text/latex": "A grouped\\_df: 10 × 4\n\\begin{tabular}{llll}\n party\\_short & factor(welfare1\\_agree) & getaid\\_mean & n\\\\\n <chr> & <fct> & <dbl> & <int>\\\\\n\\hline\n\t NA          & 1  & 0.00000000 &   3\\\\\n\t Republican  & 1  & 0.08092486 & 349\\\\\n\t Independent & 1  & 0.18472906 & 408\\\\\n\t Democrat    & 1  & 0.19957537 & 474\\\\\n\t Independent & NA & 0.25000000 &   9\\\\\n\t Republican  & 0  & 0.29032258 &  31\\\\\n\t Democrat    & 0  & 0.36000000 & 100\\\\\n\t Independent & 0  & 0.38372093 &  87\\\\\n\t Democrat    & NA & 0.42857143 &   7\\\\\n\t Republican  & NA & 0.50000000 &   2\\\\\n\\end{tabular}\n",
            "text/plain": [
              "   party_short factor(welfare1_agree) getaid_mean n  \n",
              "1  NA          1                      0.00000000    3\n",
              "2  Republican  1                      0.08092486  349\n",
              "3  Independent 1                      0.18472906  408\n",
              "4  Democrat    1                      0.19957537  474\n",
              "5  Independent NA                     0.25000000    9\n",
              "6  Republican  0                      0.29032258   31\n",
              "7  Democrat    0                      0.36000000  100\n",
              "8  Independent 0                      0.38372093   87\n",
              "9  Democrat    NA                     0.42857143    7\n",
              "10 Republican  NA                     0.50000000    2"
            ]
          },
          "metadata": {}
        }
      ]
    },
    {
      "cell_type": "markdown",
      "source": [
        "Your Answer Here\n",
        "\n",
        "#### START \n",
        "Here is a summary of the means of the 6 groups: \n",
        "\n",
        "*    8.1 percent of **Republicans** who **agree** report receiving welfare\n",
        "*   18.5 percent of **Independents** who **agree** report receiving welfare\n",
        "*   20.0 percent of **Democrats** who **agree** report receiving welfare\n",
        "*   29.0 percent of **Republicans** who **disagree** report receiving welfare\n",
        "*   36.0 percent of **Democrats** who **disagree** report receiving welfare\n",
        "*   38.4 percent of **Independents** who **disagree** report receiving welfare\n",
        "\n",
        "#### END "
      ],
      "metadata": {
        "id": "YLNBRjLibk2Q"
      }
    },
    {
      "cell_type": "markdown",
      "source": [
        "**Suppose now we actually want to *test* the null hypothesis that the relationship between agreeing with the statement and receiving welfare is the same across the three political groups. Someone suggests running the following regression:**\n",
        "\n",
        "$$\n",
        "getaid_i = \\beta_0 + \\beta_1 Republican_i + \\beta_2 Democrat_i + \\beta_3  welfare1.agree_i  + \\beta_4 welfare1.agree * Republican_i + \\beta_5 welfare1.agree * Democrat_i + u_i\n",
        "$$\n"
      ],
      "metadata": {
        "id": "hUIrRGB_W3cJ"
      }
    },
    {
      "cell_type": "markdown",
      "source": [
        "**6. Fill in the following table to show how the coefficients in the regression relate to the 6 means that you just calculated. What is the omitted group in the regression? Which coefficient(s) are relevant for testing the null hypothesis? Can we test the null hypothesis that all the effect is the same for *all* three groups?**\n",
        "\n",
        "$$\n",
        "\\begin{array}{|l|l|l|}\n",
        "\\hline \\\\\n",
        "Party & Agree/Disagree & Coefficient(s) \\\\\n",
        "\\hline \\\\\n",
        "Independents & Disagree & \\\\\n",
        "\\hline \\\\\n",
        "Republicans & Disagree & \\\\\n",
        "\\hline \\\\\n",
        "Democrats & Disagree & \\\\\n",
        "\\hline \\\\\n",
        "Independents & Agree & \\\\\n",
        "\\hline \\\\\n",
        "Republicans & Agree & \\\\\n",
        "\\hline \\\\\n",
        "Democrats & Agree & \\\\\n",
        "\\hline \\\\\n",
        "\\end{array}\n",
        "$$\n"
      ],
      "metadata": {
        "id": "FDLwn3ijcu60"
      }
    },
    {
      "cell_type": "markdown",
      "source": [
        "Your Answer Here \n",
        "\n",
        "#### START \n",
        "\n",
        "Independents are the omitted reference group. The coefficients of interests are $\\beta_4$ and $\\beta_5$. To test the null hypothesis, we would like to see if they are different from zero. This test would tell us if the relationship between agreeing with the statement and receiving welfare (the \"slope\" coefficient) is the same between Independents and Republicans ($\\beta_4$) or is the same between Independents and Democrats ($\\beta_5$). Note that this regression does NOT allow us to test whether the relationship is the same between Republicans and Democrats. \n",
        "\n",
        "$$\n",
        "\\begin{array}{|l|l|l|}\n",
        "\\hline \\\\\n",
        "Party & Agree/Disagree & Coefficient(s) \\\\\n",
        "\\hline \\\\\n",
        "Independents & Disagree & \\beta_0 \\\\\n",
        "\\hline \\\\\n",
        "Republicans & Disagree & \\beta_0 + \\beta_1 \\\\\n",
        "\\hline \\\\\n",
        "Democrats & Disagree & \\beta_0 + \\beta_2 \\\\\n",
        "\\hline \\\\\n",
        "Independents & Agree & \\beta_0 + \\beta_3 \\\\\n",
        "\\hline \\\\\n",
        "Republicans & Agree & \\beta_0 + \\beta_1 + \\beta_3 + \\beta_4 \\\\\n",
        "\\hline \\\\\n",
        "Democrats & Agree & \\beta_0 + \\beta_1 + \\beta_3 + \\beta_5 \\\\\n",
        "\\hline \\\\\n",
        "\\end{array}\n",
        "$$\n",
        "\n",
        "\n",
        "#### END "
      ],
      "metadata": {
        "id": "1BSRoe6uRExq"
      }
    },
    {
      "cell_type": "markdown",
      "source": [
        "**7. Now create the interaction terms in the dataset and run this regression.**"
      ],
      "metadata": {
        "id": "tpuArDUwWWEu"
      }
    },
    {
      "cell_type": "code",
      "source": [
        "# Your code here\n",
        "\n",
        "# START\n",
        "\n",
        "# create interaction terms\n",
        "gss_clean <- gss_clean %>%\n",
        "  mutate(welfare1_agree_X_rep = welfare1_agree * party_rep) %>%\n",
        "  mutate(welfare1_agree_X_dem = welfare1_agree * party_dem)\n",
        "\n",
        "# regression with interaction terms\n",
        "reg3 <- lm(getaid ~ party_rep + party_dem + welfare1_agree + welfare1_agree_X_rep + welfare1_agree_X_dem, data = gss_clean)\n",
        "summary(reg3)\n",
        "\n",
        "# END "
      ],
      "metadata": {
        "colab": {
          "base_uri": "https://localhost:8080/",
          "height": 433
        },
        "id": "Uhs0yyxCVlRz",
        "outputId": "5cbc6ddd-4f08-4518-c5cc-ca7a98a9af54"
      },
      "execution_count": null,
      "outputs": [
        {
          "output_type": "display_data",
          "data": {
            "text/plain": [
              "\n",
              "Call:\n",
              "lm(formula = getaid ~ party_rep + party_dem + welfare1_agree + \n",
              "    welfare1_agree_X_rep + welfare1_agree_X_dem, data = gss_clean)\n",
              "\n",
              "Residuals:\n",
              "     Min       1Q   Median       3Q      Max \n",
              "-0.38372 -0.19958 -0.18473 -0.08092  0.91908 \n",
              "\n",
              "Coefficients:\n",
              "                     Estimate Std. Error t value Pr(>|t|)    \n",
              "(Intercept)           0.38372    0.04145   9.257  < 2e-16 ***\n",
              "party_rep            -0.09340    0.08053  -1.160    0.246    \n",
              "party_dem            -0.02372    0.05653  -0.420    0.675    \n",
              "welfare1_agree       -0.19899    0.04563  -4.361 1.39e-05 ***\n",
              "welfare1_agree_X_rep -0.01041    0.08530  -0.122    0.903    \n",
              "welfare1_agree_X_dem  0.03857    0.06224   0.620    0.536    \n",
              "---\n",
              "Signif. codes:  0 ‘***’ 0.001 ‘**’ 0.01 ‘*’ 0.05 ‘.’ 0.1 ‘ ’ 1\n",
              "\n",
              "Residual standard error: 0.3844 on 1434 degrees of freedom\n",
              "  (30 observations deleted due to missingness)\n",
              "Multiple R-squared:  0.04764,\tAdjusted R-squared:  0.04432 \n",
              "F-statistic: 14.35 on 5 and 1434 DF,  p-value: 9.915e-14\n"
            ]
          },
          "metadata": {}
        }
      ]
    },
    {
      "cell_type": "markdown",
      "source": [
        "**8. Confirm that you can recover the means for each of the 6 groups by adding together different coefficients as indicated in your table above. What does this tell you about what regression is doing when we are working with all dummy variables on the right hand side?**"
      ],
      "metadata": {
        "id": "1Y5cGbLjGiM3"
      }
    },
    {
      "cell_type": "code",
      "source": [
        "# Your code here (optional)\n",
        "\n",
        "# START\n",
        "\n",
        "# Note: you could do this by hand instead of using code \n",
        "\n",
        "# extracts coefficients from regression results, and stores them in a vector\n",
        "betas <- data.frame(summary(reg3)$coefficients[,1])\n",
        "\n",
        "# creates one object per coefficient \n",
        "beta_0 <- betas[1,]\n",
        "beta_1 <- betas[2,]\n",
        "beta_2 <- betas[3,]\n",
        "beta_3 <- betas[4,]\n",
        "beta_4 <- betas[5,]\n",
        "beta_5 <- betas[6,]\n",
        "\n",
        "# redo the math from the table above\n",
        "\"Indepedents, disagree\"\n",
        "beta_0 \n",
        "\"Republicans, disagree\"\n",
        "beta_0 + beta_1\n",
        "\"Democrats, disagree\"\n",
        "beta_0 + beta_2\n",
        "\"Indepedents, agree\"\n",
        "beta_0 + beta_3\n",
        "\"Republicans, agree\"\n",
        "beta_0 + beta_1 + beta_3 + beta_4\n",
        "\"Democrats, agree\"\n",
        "beta_0 + beta_2 + beta_3 + beta_5\n",
        "\n",
        "# compare to means table \n",
        "means_table\n",
        "\n",
        "# END "
      ],
      "metadata": {
        "colab": {
          "base_uri": "https://localhost:8080/",
          "height": 620
        },
        "id": "lOWuKFlnA6vi",
        "outputId": "66b3f5ef-144c-4b58-a216-0eab28f67f29"
      },
      "execution_count": null,
      "outputs": [
        {
          "output_type": "display_data",
          "data": {
            "text/html": [
              "'Indepedents, disagree'"
            ],
            "text/markdown": "'Indepedents, disagree'",
            "text/latex": "'Indepedents, disagree'",
            "text/plain": [
              "[1] \"Indepedents, disagree\""
            ]
          },
          "metadata": {}
        },
        {
          "output_type": "display_data",
          "data": {
            "text/html": [
              "0.383720930232559"
            ],
            "text/markdown": "0.383720930232559",
            "text/latex": "0.383720930232559",
            "text/plain": [
              "[1] 0.3837209"
            ]
          },
          "metadata": {}
        },
        {
          "output_type": "display_data",
          "data": {
            "text/html": [
              "'Republicans, disagree'"
            ],
            "text/markdown": "'Republicans, disagree'",
            "text/latex": "'Republicans, disagree'",
            "text/plain": [
              "[1] \"Republicans, disagree\""
            ]
          },
          "metadata": {}
        },
        {
          "output_type": "display_data",
          "data": {
            "text/html": [
              "0.290322580645162"
            ],
            "text/markdown": "0.290322580645162",
            "text/latex": "0.290322580645162",
            "text/plain": [
              "[1] 0.2903226"
            ]
          },
          "metadata": {}
        },
        {
          "output_type": "display_data",
          "data": {
            "text/html": [
              "'Democrats, disagree'"
            ],
            "text/markdown": "'Democrats, disagree'",
            "text/latex": "'Democrats, disagree'",
            "text/plain": [
              "[1] \"Democrats, disagree\""
            ]
          },
          "metadata": {}
        },
        {
          "output_type": "display_data",
          "data": {
            "text/html": [
              "0.36"
            ],
            "text/markdown": "0.36",
            "text/latex": "0.36",
            "text/plain": [
              "[1] 0.36"
            ]
          },
          "metadata": {}
        },
        {
          "output_type": "display_data",
          "data": {
            "text/html": [
              "'Indepedents, agree'"
            ],
            "text/markdown": "'Indepedents, agree'",
            "text/latex": "'Indepedents, agree'",
            "text/plain": [
              "[1] \"Indepedents, agree\""
            ]
          },
          "metadata": {}
        },
        {
          "output_type": "display_data",
          "data": {
            "text/html": [
              "0.184729064039409"
            ],
            "text/markdown": "0.184729064039409",
            "text/latex": "0.184729064039409",
            "text/plain": [
              "[1] 0.1847291"
            ]
          },
          "metadata": {}
        },
        {
          "output_type": "display_data",
          "data": {
            "text/html": [
              "'Republicans, agree'"
            ],
            "text/markdown": "'Republicans, agree'",
            "text/latex": "'Republicans, agree'",
            "text/plain": [
              "[1] \"Republicans, agree\""
            ]
          },
          "metadata": {}
        },
        {
          "output_type": "display_data",
          "data": {
            "text/html": [
              "0.0809248554913298"
            ],
            "text/markdown": "0.0809248554913298",
            "text/latex": "0.0809248554913298",
            "text/plain": [
              "[1] 0.08092486"
            ]
          },
          "metadata": {}
        },
        {
          "output_type": "display_data",
          "data": {
            "text/html": [
              "'Democrats, agree'"
            ],
            "text/markdown": "'Democrats, agree'",
            "text/latex": "'Democrats, agree'",
            "text/plain": [
              "[1] \"Democrats, agree\""
            ]
          },
          "metadata": {}
        },
        {
          "output_type": "display_data",
          "data": {
            "text/html": [
              "0.199575371549894"
            ],
            "text/markdown": "0.199575371549894",
            "text/latex": "0.199575371549894",
            "text/plain": [
              "[1] 0.1995754"
            ]
          },
          "metadata": {}
        },
        {
          "output_type": "display_data",
          "data": {
            "text/html": [
              "<table class=\"dataframe\">\n",
              "<caption>A grouped_df: 10 × 4</caption>\n",
              "<thead>\n",
              "\t<tr><th scope=col>party_short</th><th scope=col>factor(welfare1_agree)</th><th scope=col>getaid_mean</th><th scope=col>n</th></tr>\n",
              "\t<tr><th scope=col>&lt;chr&gt;</th><th scope=col>&lt;fct&gt;</th><th scope=col>&lt;dbl&gt;</th><th scope=col>&lt;int&gt;</th></tr>\n",
              "</thead>\n",
              "<tbody>\n",
              "\t<tr><td>NA         </td><td>1 </td><td>0.00000000</td><td>  3</td></tr>\n",
              "\t<tr><td>Republican </td><td>1 </td><td>0.08092486</td><td>349</td></tr>\n",
              "\t<tr><td>Independent</td><td>1 </td><td>0.18472906</td><td>408</td></tr>\n",
              "\t<tr><td>Democrat   </td><td>1 </td><td>0.19957537</td><td>474</td></tr>\n",
              "\t<tr><td>Independent</td><td>NA</td><td>0.25000000</td><td>  9</td></tr>\n",
              "\t<tr><td>Republican </td><td>0 </td><td>0.29032258</td><td> 31</td></tr>\n",
              "\t<tr><td>Democrat   </td><td>0 </td><td>0.36000000</td><td>100</td></tr>\n",
              "\t<tr><td>Independent</td><td>0 </td><td>0.38372093</td><td> 87</td></tr>\n",
              "\t<tr><td>Democrat   </td><td>NA</td><td>0.42857143</td><td>  7</td></tr>\n",
              "\t<tr><td>Republican </td><td>NA</td><td>0.50000000</td><td>  2</td></tr>\n",
              "</tbody>\n",
              "</table>\n"
            ],
            "text/markdown": "\nA grouped_df: 10 × 4\n\n| party_short &lt;chr&gt; | factor(welfare1_agree) &lt;fct&gt; | getaid_mean &lt;dbl&gt; | n &lt;int&gt; |\n|---|---|---|---|\n| NA          | 1  | 0.00000000 |   3 |\n| Republican  | 1  | 0.08092486 | 349 |\n| Independent | 1  | 0.18472906 | 408 |\n| Democrat    | 1  | 0.19957537 | 474 |\n| Independent | NA | 0.25000000 |   9 |\n| Republican  | 0  | 0.29032258 |  31 |\n| Democrat    | 0  | 0.36000000 | 100 |\n| Independent | 0  | 0.38372093 |  87 |\n| Democrat    | NA | 0.42857143 |   7 |\n| Republican  | NA | 0.50000000 |   2 |\n\n",
            "text/latex": "A grouped\\_df: 10 × 4\n\\begin{tabular}{llll}\n party\\_short & factor(welfare1\\_agree) & getaid\\_mean & n\\\\\n <chr> & <fct> & <dbl> & <int>\\\\\n\\hline\n\t NA          & 1  & 0.00000000 &   3\\\\\n\t Republican  & 1  & 0.08092486 & 349\\\\\n\t Independent & 1  & 0.18472906 & 408\\\\\n\t Democrat    & 1  & 0.19957537 & 474\\\\\n\t Independent & NA & 0.25000000 &   9\\\\\n\t Republican  & 0  & 0.29032258 &  31\\\\\n\t Democrat    & 0  & 0.36000000 & 100\\\\\n\t Independent & 0  & 0.38372093 &  87\\\\\n\t Democrat    & NA & 0.42857143 &   7\\\\\n\t Republican  & NA & 0.50000000 &   2\\\\\n\\end{tabular}\n",
            "text/plain": [
              "   party_short factor(welfare1_agree) getaid_mean n  \n",
              "1  NA          1                      0.00000000    3\n",
              "2  Republican  1                      0.08092486  349\n",
              "3  Independent 1                      0.18472906  408\n",
              "4  Democrat    1                      0.19957537  474\n",
              "5  Independent NA                     0.25000000    9\n",
              "6  Republican  0                      0.29032258   31\n",
              "7  Democrat    0                      0.36000000  100\n",
              "8  Independent 0                      0.38372093   87\n",
              "9  Democrat    NA                     0.42857143    7\n",
              "10 Republican  NA                     0.50000000    2"
            ]
          },
          "metadata": {}
        }
      ]
    },
    {
      "cell_type": "markdown",
      "source": [
        "Your Answer Here \n",
        "\n",
        "#### START\n",
        "\n",
        "Wow! By adding together coefficients from the regressions, we can *exactly* recover each of the group means that we calculated before. This shows that, when all the variables on the right hand side are dummy variables, regression is just a fancy average-making machine. \n",
        "\n",
        "Note: We refer to a regression that includes all possible combinations of dummy variable interactions as \"fully saturated.\"\n",
        "\n",
        "#### END "
      ],
      "metadata": {
        "id": "t726fkNxG2px"
      }
    },
    {
      "cell_type": "markdown",
      "source": [
        "**Bonus: Run a regression controlling for other factors that you think might affect welfare participation. How does this change the estimate on the \"agree\" coefficient?**"
      ],
      "metadata": {
        "id": "dQ8DRocSKOdp"
      }
    },
    {
      "cell_type": "code",
      "source": [
        "# generate age squared variable \n",
        "gss_clean <- gss_clean %>%\n",
        "  mutate(age_sq = age*age)\n",
        "\n",
        "reg4 <- lm(getaid ~ welfare1_agree + party_rep + party_dem + working + age + age_sq + educ + female + race_black + race_other + as.factor(income_num), data = gss_clean)\n",
        "summary(reg4)"
      ],
      "metadata": {
        "colab": {
          "base_uri": "https://localhost:8080/",
          "height": 728
        },
        "id": "KR7s2TpNMBkk",
        "outputId": "c18f21c1-0edf-4c25-8021-aa4e5f596451"
      },
      "execution_count": null,
      "outputs": [
        {
          "output_type": "display_data",
          "data": {
            "text/plain": [
              "\n",
              "Call:\n",
              "lm(formula = getaid ~ welfare1_agree + party_rep + party_dem + \n",
              "    working + age + age_sq + educ + female + race_black + race_other + \n",
              "    as.factor(income_num), data = gss_clean)\n",
              "\n",
              "Residuals:\n",
              "     Min       1Q   Median       3Q      Max \n",
              "-0.81378 -0.20739 -0.09273  0.05927  1.04967 \n",
              "\n",
              "Coefficients:\n",
              "                          Estimate Std. Error t value Pr(>|t|)    \n",
              "(Intercept)              4.626e-01  1.283e-01   3.604 0.000325 ***\n",
              "welfare1_agree          -1.029e-01  2.766e-02  -3.719 0.000209 ***\n",
              "party_rep               -3.947e-02  2.596e-02  -1.521 0.128557    \n",
              "party_dem               -9.556e-03  2.338e-02  -0.409 0.682818    \n",
              "working                 -1.139e-01  2.552e-02  -4.465 8.72e-06 ***\n",
              "age                      2.036e-02  3.634e-03   5.602 2.58e-08 ***\n",
              "age_sq                  -2.667e-04  3.729e-05  -7.152 1.42e-12 ***\n",
              "educ                    -1.373e-02  3.634e-03  -3.777 0.000166 ***\n",
              "female                   5.312e-02  2.050e-02   2.592 0.009663 ** \n",
              "race_black               1.074e-01  3.168e-02   3.390 0.000720 ***\n",
              "race_other               1.066e-02  6.618e-02   0.161 0.872110    \n",
              "as.factor(income_num)2   2.061e-03  1.232e-01   0.017 0.986649    \n",
              "as.factor(income_num)3   1.977e-03  1.074e-01   0.018 0.985318    \n",
              "as.factor(income_num)4   9.200e-02  1.075e-01   0.856 0.392241    \n",
              "as.factor(income_num)5  -1.238e-01  1.108e-01  -1.118 0.263894    \n",
              "as.factor(income_num)6  -1.216e-01  1.160e-01  -1.048 0.294843    \n",
              "as.factor(income_num)7  -1.106e-01  1.110e-01  -0.996 0.319390    \n",
              "as.factor(income_num)8  -1.572e-01  1.075e-01  -1.463 0.143656    \n",
              "as.factor(income_num)9  -2.061e-01  9.917e-02  -2.078 0.037866 *  \n",
              "as.factor(income_num)10 -2.654e-01  1.001e-01  -2.652 0.008103 ** \n",
              "as.factor(income_num)11 -3.150e-01  1.004e-01  -3.139 0.001734 ** \n",
              "as.factor(income_num)12 -3.655e-01  9.775e-02  -3.739 0.000193 ***\n",
              "---\n",
              "Signif. codes:  0 ‘***’ 0.001 ‘**’ 0.01 ‘*’ 0.05 ‘.’ 0.1 ‘ ’ 1\n",
              "\n",
              "Residual standard error: 0.3521 on 1296 degrees of freedom\n",
              "  (152 observations deleted due to missingness)\n",
              "Multiple R-squared:  0.237,\tAdjusted R-squared:  0.2246 \n",
              "F-statistic: 19.16 on 21 and 1296 DF,  p-value: < 2.2e-16\n"
            ]
          },
          "metadata": {}
        }
      ]
    },
    {
      "cell_type": "markdown",
      "source": [
        "Your Answer Here \n",
        "\n",
        "#### START \n",
        "\n",
        "Controlling for these other characteristics reduces the magnitude of the coefficient on the agree variable. (Especially noteworthy are the fact that working people are less likely to report receiving welfare, all else constant; richer people are less likely to report receiving welfare, all else constant; and black individuals are more likely to report receiving, all else constant.)\n",
        "\n",
        "However, it is still the case that the relationship between agreeing with the statement \"Welfare makes people work less\" and reported welfare receipt is negative, statistically significant, and quite large in magnitude. \n",
        "\n",
        "\n",
        "#### END "
      ],
      "metadata": {
        "id": "AyE1r981PtEg"
      }
    },
    {
      "cell_type": "markdown",
      "source": [
        "**Bonus. Create a table showing results from your regressions: the bivariate regression, the regression controling for political party, the regression with interaction terms, and perhaps the regression including other controls.** "
      ],
      "metadata": {
        "id": "4lm7PRbVIDUp"
      }
    },
    {
      "cell_type": "markdown",
      "source": [
        "First, run the script below installing the package modelsummary (this may take a minute or so to install)."
      ],
      "metadata": {
        "id": "nX5z6Ma9Jon5"
      }
    },
    {
      "cell_type": "code",
      "source": [
        "check_installed <- require(modelsummary)\n",
        "if(check_installed==F){\n",
        "  install.packages(\"modelsummary\")\n",
        "  require(modelsummary)\n",
        "}"
      ],
      "metadata": {
        "id": "1pNAh4P3JsDG"
      },
      "execution_count": null,
      "outputs": []
    },
    {
      "cell_type": "markdown",
      "source": [
        "In the code snippet below, `fit1`, `fit2`, and `fit3` is the regression outputs you saved in previous code, `Name of Outcome Variable` is what you would like to show up on the top of each column, and `var1` and `var2` are the name of two independent variables included in the regression (e.g. party_rep). Note that you can and should include all the variables that you used in the models you ran in the `coef_map` line.\n",
        "```\n",
        "  modelsummary(list(\"Name Outcome Variable\" = fit1,\"Name Outcome Variable\" = fit2, \"Name Outcome Variable\" = fit3),\n",
        "  stars=T,\n",
        "  coef_map = c(\"(Intercept)\" = \"Constant\",\"var1\" = \"Name of var1\", \"var2\" = \"Name of var2\"),\n",
        " title = \"Add Here the Title of the Table\",\n",
        "  gof_omit = 'IC|Log',\n",
        "  output=\"jupyter\")\n",
        "\n",
        "  ```"
      ],
      "metadata": {
        "id": "ilzDcXcoJ0N8"
      }
    },
    {
      "cell_type": "code",
      "source": [
        "# Your code here \n",
        "\n",
        "# START \n",
        " modelsummary(list(\"Received welfare\" = reg1,\"Received welfare\" = reg2, \"Received welfare\" = reg3,\"Received welfare\" = reg4),\n",
        "  stars=T,\n",
        "  coef_map = c(\"(Intercept)\" = \"Constant\",\n",
        "              \"party_rep\" = \"Republican\",\n",
        "              \"party_dem\" = \"Democrat\",\n",
        "              \"welfare1_agree\" = \"Agrees w/ 'welfare makes people work less'\",\n",
        "              \"welfare1_agree_X_rep\" = \"Agrees & Republican\",\n",
        "              \"welfare1_agree_X_dem\" = \"Agrees & Democrat\"),\n",
        " title = \"Beliefs about welfare and participation\",\n",
        "  gof_omit = 'IC|Log',\n",
        "  output=\"jupyter\")\n",
        "print(\"Note: this table is a little strange because the interpretation of the coefficient changes across regression specifications\")\n",
        "print(\"Note: The fourth column does not show coefficients for all demographics, to save space.\")\n",
        "  \n",
        "# END "
      ],
      "metadata": {
        "colab": {
          "base_uri": "https://localhost:8080/",
          "height": 450
        },
        "id": "VPYoYkJUIQdI",
        "outputId": "fc92016f-82fd-4ae7-d926-9f843716d4f6"
      },
      "execution_count": null,
      "outputs": [
        {
          "output_type": "display_data",
          "data": {
            "text/html": [
              "<table style=\"NAborder-bottom: 0; width: auto !important; margin-left: auto; margin-right: auto;\" class=\"table\">\n",
              "<caption>Beliefs about welfare and participation</caption>\n",
              " <thead>\n",
              "  <tr>\n",
              "   <th style=\"text-align:left;\">   </th>\n",
              "   <th style=\"text-align:center;\"> Received welfare </th>\n",
              "   <th style=\"text-align:center;\"> Received welfare  </th>\n",
              "   <th style=\"text-align:center;\"> Received welfare   </th>\n",
              "   <th style=\"text-align:center;\"> Received welfare    </th>\n",
              "  </tr>\n",
              " </thead>\n",
              "<tbody>\n",
              "  <tr>\n",
              "   <td style=\"text-align:left;\"> Constant </td>\n",
              "   <td style=\"text-align:center;\"> 0.359*** </td>\n",
              "   <td style=\"text-align:center;\"> 0.371*** </td>\n",
              "   <td style=\"text-align:center;\"> 0.384*** </td>\n",
              "   <td style=\"text-align:center;\"> 0.463*** </td>\n",
              "  </tr>\n",
              "  <tr>\n",
              "   <td style=\"text-align:left;\">  </td>\n",
              "   <td style=\"text-align:center;\"> (0.026) </td>\n",
              "   <td style=\"text-align:center;\"> (0.029) </td>\n",
              "   <td style=\"text-align:center;\"> (0.041) </td>\n",
              "   <td style=\"text-align:center;\"> (0.128) </td>\n",
              "  </tr>\n",
              "  <tr>\n",
              "   <td style=\"text-align:left;\"> Republican </td>\n",
              "   <td style=\"text-align:center;\">  </td>\n",
              "   <td style=\"text-align:center;\"> −0.104*** </td>\n",
              "   <td style=\"text-align:center;\"> −0.093 </td>\n",
              "   <td style=\"text-align:center;\"> −0.039 </td>\n",
              "  </tr>\n",
              "  <tr>\n",
              "   <td style=\"text-align:left;\">  </td>\n",
              "   <td style=\"text-align:center;\">  </td>\n",
              "   <td style=\"text-align:center;\"> (0.026) </td>\n",
              "   <td style=\"text-align:center;\"> (0.081) </td>\n",
              "   <td style=\"text-align:center;\"> (0.026) </td>\n",
              "  </tr>\n",
              "  <tr>\n",
              "   <td style=\"text-align:left;\"> Democrat </td>\n",
              "   <td style=\"text-align:center;\">  </td>\n",
              "   <td style=\"text-align:center;\"> 0.008 </td>\n",
              "   <td style=\"text-align:center;\"> −0.024 </td>\n",
              "   <td style=\"text-align:center;\"> −0.010 </td>\n",
              "  </tr>\n",
              "  <tr>\n",
              "   <td style=\"text-align:left;\">  </td>\n",
              "   <td style=\"text-align:center;\">  </td>\n",
              "   <td style=\"text-align:center;\"> (0.024) </td>\n",
              "   <td style=\"text-align:center;\"> (0.057) </td>\n",
              "   <td style=\"text-align:center;\"> (0.023) </td>\n",
              "  </tr>\n",
              "  <tr>\n",
              "   <td style=\"text-align:left;\"> Agrees w/ 'welfare makes people work less' </td>\n",
              "   <td style=\"text-align:center;\"> −0.199*** </td>\n",
              "   <td style=\"text-align:center;\"> −0.183*** </td>\n",
              "   <td style=\"text-align:center;\"> −0.199*** </td>\n",
              "   <td style=\"text-align:center;\"> −0.103*** </td>\n",
              "  </tr>\n",
              "  <tr>\n",
              "   <td style=\"text-align:left;\">  </td>\n",
              "   <td style=\"text-align:center;\"> (0.028) </td>\n",
              "   <td style=\"text-align:center;\"> (0.028) </td>\n",
              "   <td style=\"text-align:center;\"> (0.046) </td>\n",
              "   <td style=\"text-align:center;\"> (0.028) </td>\n",
              "  </tr>\n",
              "  <tr>\n",
              "   <td style=\"text-align:left;\"> Agrees &amp; Republican </td>\n",
              "   <td style=\"text-align:center;\">  </td>\n",
              "   <td style=\"text-align:center;\">  </td>\n",
              "   <td style=\"text-align:center;\"> −0.010 </td>\n",
              "   <td style=\"text-align:center;\">  </td>\n",
              "  </tr>\n",
              "  <tr>\n",
              "   <td style=\"text-align:left;\">  </td>\n",
              "   <td style=\"text-align:center;\">  </td>\n",
              "   <td style=\"text-align:center;\">  </td>\n",
              "   <td style=\"text-align:center;\"> (0.085) </td>\n",
              "   <td style=\"text-align:center;\">  </td>\n",
              "  </tr>\n",
              "  <tr>\n",
              "   <td style=\"text-align:left;\"> Agrees &amp; Democrat </td>\n",
              "   <td style=\"text-align:center;\">  </td>\n",
              "   <td style=\"text-align:center;\">  </td>\n",
              "   <td style=\"text-align:center;\"> 0.039 </td>\n",
              "   <td style=\"text-align:center;\">  </td>\n",
              "  </tr>\n",
              "  <tr>\n",
              "   <td style=\"text-align:left;box-shadow: 0px 1px\">  </td>\n",
              "   <td style=\"text-align:center;box-shadow: 0px 1px\">  </td>\n",
              "   <td style=\"text-align:center;box-shadow: 0px 1px\">  </td>\n",
              "   <td style=\"text-align:center;box-shadow: 0px 1px\"> (0.062) </td>\n",
              "   <td style=\"text-align:center;box-shadow: 0px 1px\">  </td>\n",
              "  </tr>\n",
              "  <tr>\n",
              "   <td style=\"text-align:left;\"> Num.Obs. </td>\n",
              "   <td style=\"text-align:center;\"> 1443 </td>\n",
              "   <td style=\"text-align:center;\"> 1440 </td>\n",
              "   <td style=\"text-align:center;\"> 1440 </td>\n",
              "   <td style=\"text-align:center;\"> 1318 </td>\n",
              "  </tr>\n",
              "  <tr>\n",
              "   <td style=\"text-align:left;\"> R2 </td>\n",
              "   <td style=\"text-align:center;\"> 0.033 </td>\n",
              "   <td style=\"text-align:center;\"> 0.047 </td>\n",
              "   <td style=\"text-align:center;\"> 0.048 </td>\n",
              "   <td style=\"text-align:center;\"> 0.237 </td>\n",
              "  </tr>\n",
              "  <tr>\n",
              "   <td style=\"text-align:left;\"> R2 Adj. </td>\n",
              "   <td style=\"text-align:center;\"> 0.032 </td>\n",
              "   <td style=\"text-align:center;\"> 0.045 </td>\n",
              "   <td style=\"text-align:center;\"> 0.044 </td>\n",
              "   <td style=\"text-align:center;\"> 0.225 </td>\n",
              "  </tr>\n",
              "  <tr>\n",
              "   <td style=\"text-align:left;\"> RMSE </td>\n",
              "   <td style=\"text-align:center;\"> 0.39 </td>\n",
              "   <td style=\"text-align:center;\"> 0.38 </td>\n",
              "   <td style=\"text-align:center;\"> 0.38 </td>\n",
              "   <td style=\"text-align:center;\"> 0.35 </td>\n",
              "  </tr>\n",
              "</tbody>\n",
              "<tfoot><tr><td style=\"padding: 0; \" colspan=\"100%\">\n",
              "<sup></sup> + p &lt; 0.1, * p &lt; 0.05, ** p &lt; 0.01, *** p &lt; 0.001</td></tr></tfoot>\n",
              "</table>"
            ]
          },
          "metadata": {}
        },
        {
          "output_type": "stream",
          "name": "stdout",
          "text": [
            "[1] \"Note: this table is a little strange because the interpretation of the coefficient changes across regression specifications\"\n",
            "[1] \"Note: The fourth column does not show coefficients for all demographics, to save space.\"\n"
          ]
        }
      ]
    },
    {
      "cell_type": "markdown",
      "source": [
        "**9. Finally, can you reject the null hypothesis that the relationship between  agreeing with the statement and receiving welfare is the same across the political groups?**"
      ],
      "metadata": {
        "id": "J0zxX7iQHyqg"
      }
    },
    {
      "cell_type": "markdown",
      "source": [
        "Your Answer Here \n",
        "\n",
        "#### START \n",
        "\n",
        "The coefficients on the interaction terms are not statistically significant. Therefore, we cannot reject the null hypothesis that the relationship between beliefs about welfare (i.e. agreeing with the statement) and welfare receipt is the same between Republicans and Independent or is the same between Democrats and Independents. (Remember, when Independents is the reference group, we can't perform a statistical test of where the the null hypothesis that the relationship between beliefs about welfare and welfare receipt is the same between Democrats and Republicans.)\n",
        "\n",
        "#### END "
      ],
      "metadata": {
        "id": "j35pfqg2H5bj"
      }
    },
    {
      "cell_type": "markdown",
      "source": [
        "**10. Come up with a variable in the dataset other than political party that you think may affect the relationship between beliefs about welfare and welfare participation. Create interaction term(s) and run a regression that allows you to test your hypothesis. Compare to a regression where you include that variable as a control, but without an interaction term. Interpret your results.**"
      ],
      "metadata": {
        "id": "IkYRdyp3Ai8B"
      }
    },
    {
      "cell_type": "code",
      "source": [
        "# Your code here \n",
        "\n",
        "# START \n",
        "\n",
        "# create interaction term: working X agreeing\n",
        "gss_clean <- gss_clean %>% \n",
        "  mutate(welfare1_agree_X_working = welfare1_agree * working)\n",
        "\n",
        "# run regression, with interaction\n",
        "reg5 <- lm(getaid ~ working + welfare1_agree + welfare1_agree_X_working, data = gss_clean)\n",
        "summary(reg5)\n",
        "\n",
        "# run regression, without interaction (This just controls for work status)\n",
        "reg6 <- lm(getaid ~ working + welfare1_agree, data = gss_clean)\n",
        "summary(reg6)\n",
        "\n",
        "# table summarizing results (optional)\n",
        " modelsummary(list(\"Received welfare\" = reg1,\"Received welfare\" = reg6, \"Received welfare\" = reg5),\n",
        "  stars=T,\n",
        "  coef_map = c(\"(Intercept)\" = \"Constant\",\n",
        "              \"working\" = \"Working\",\n",
        "              \"welfare1_agree\" = \"Agrees w/ 'welfare makes people work less'\",\n",
        "              \"welfare1_agree_X_working\" = \"Agrees & Working\"),\n",
        " title = \"Beliefs about welfare and participation\",\n",
        "  gof_omit = 'IC|Log',\n",
        "  output=\"jupyter\")\n",
        "# END "
      ],
      "metadata": {
        "colab": {
          "base_uri": "https://localhost:8080/",
          "height": 1000
        },
        "id": "zt_LUsENBCzr",
        "outputId": "e115f2ea-849a-471d-f7e2-b7db9b9e56ba"
      },
      "execution_count": null,
      "outputs": [
        {
          "output_type": "display_data",
          "data": {
            "text/plain": [
              "\n",
              "Call:\n",
              "lm(formula = getaid ~ working + welfare1_agree + welfare1_agree_X_working, \n",
              "    data = gss_clean)\n",
              "\n",
              "Residuals:\n",
              "    Min      1Q  Median      3Q     Max \n",
              "-0.4943 -0.2016 -0.1333 -0.1333  0.8667 \n",
              "\n",
              "Coefficients:\n",
              "                         Estimate Std. Error t value Pr(>|t|)    \n",
              "(Intercept)               0.49425    0.04108  12.031  < 2e-16 ***\n",
              "working                  -0.22502    0.05308  -4.239 2.38e-05 ***\n",
              "welfare1_agree           -0.29262    0.04457  -6.565 7.25e-11 ***\n",
              "welfare1_agree_X_working  0.15673    0.05759   2.722  0.00657 ** \n",
              "---\n",
              "Signif. codes:  0 ‘***’ 0.001 ‘**’ 0.01 ‘*’ 0.05 ‘.’ 0.1 ‘ ’ 1\n",
              "\n",
              "Residual standard error: 0.3832 on 1439 degrees of freedom\n",
              "  (27 observations deleted due to missingness)\n",
              "Multiple R-squared:  0.05075,\tAdjusted R-squared:  0.04877 \n",
              "F-statistic: 25.64 on 3 and 1439 DF,  p-value: 3.681e-16\n"
            ]
          },
          "metadata": {}
        },
        {
          "output_type": "display_data",
          "data": {
            "text/plain": [
              "\n",
              "Call:\n",
              "lm(formula = getaid ~ working + welfare1_agree, data = gss_clean)\n",
              "\n",
              "Residuals:\n",
              "    Min      1Q  Median      3Q     Max \n",
              "-0.4145 -0.2158 -0.1239 -0.1239  0.8761 \n",
              "\n",
              "Coefficients:\n",
              "               Estimate Std. Error t value Pr(>|t|)    \n",
              "(Intercept)     0.41449    0.02885  14.366  < 2e-16 ***\n",
              "working        -0.09187    0.02063  -4.453 9.13e-06 ***\n",
              "welfare1_agree -0.19872    0.02828  -7.026 3.27e-12 ***\n",
              "---\n",
              "Signif. codes:  0 ‘***’ 0.001 ‘**’ 0.01 ‘*’ 0.05 ‘.’ 0.1 ‘ ’ 1\n",
              "\n",
              "Residual standard error: 0.384 on 1440 degrees of freedom\n",
              "  (27 observations deleted due to missingness)\n",
              "Multiple R-squared:  0.04586,\tAdjusted R-squared:  0.04453 \n",
              "F-statistic: 34.61 on 2 and 1440 DF,  p-value: 2.092e-15\n"
            ]
          },
          "metadata": {}
        },
        {
          "output_type": "display_data",
          "data": {
            "text/html": [
              "<table style=\"NAborder-bottom: 0; width: auto !important; margin-left: auto; margin-right: auto;\" class=\"table\">\n",
              "<caption>Beliefs about welfare and participation</caption>\n",
              " <thead>\n",
              "  <tr>\n",
              "   <th style=\"text-align:left;\">   </th>\n",
              "   <th style=\"text-align:center;\"> Received welfare </th>\n",
              "   <th style=\"text-align:center;\"> Received welfare  </th>\n",
              "   <th style=\"text-align:center;\"> Received welfare   </th>\n",
              "  </tr>\n",
              " </thead>\n",
              "<tbody>\n",
              "  <tr>\n",
              "   <td style=\"text-align:left;\"> Constant </td>\n",
              "   <td style=\"text-align:center;\"> 0.359*** </td>\n",
              "   <td style=\"text-align:center;\"> 0.414*** </td>\n",
              "   <td style=\"text-align:center;\"> 0.494*** </td>\n",
              "  </tr>\n",
              "  <tr>\n",
              "   <td style=\"text-align:left;\">  </td>\n",
              "   <td style=\"text-align:center;\"> (0.026) </td>\n",
              "   <td style=\"text-align:center;\"> (0.029) </td>\n",
              "   <td style=\"text-align:center;\"> (0.041) </td>\n",
              "  </tr>\n",
              "  <tr>\n",
              "   <td style=\"text-align:left;\"> Working </td>\n",
              "   <td style=\"text-align:center;\">  </td>\n",
              "   <td style=\"text-align:center;\"> −0.092*** </td>\n",
              "   <td style=\"text-align:center;\"> −0.225*** </td>\n",
              "  </tr>\n",
              "  <tr>\n",
              "   <td style=\"text-align:left;\">  </td>\n",
              "   <td style=\"text-align:center;\">  </td>\n",
              "   <td style=\"text-align:center;\"> (0.021) </td>\n",
              "   <td style=\"text-align:center;\"> (0.053) </td>\n",
              "  </tr>\n",
              "  <tr>\n",
              "   <td style=\"text-align:left;\"> Agrees w/ 'welfare makes people work less' </td>\n",
              "   <td style=\"text-align:center;\"> −0.199*** </td>\n",
              "   <td style=\"text-align:center;\"> −0.199*** </td>\n",
              "   <td style=\"text-align:center;\"> −0.293*** </td>\n",
              "  </tr>\n",
              "  <tr>\n",
              "   <td style=\"text-align:left;\">  </td>\n",
              "   <td style=\"text-align:center;\"> (0.028) </td>\n",
              "   <td style=\"text-align:center;\"> (0.028) </td>\n",
              "   <td style=\"text-align:center;\"> (0.045) </td>\n",
              "  </tr>\n",
              "  <tr>\n",
              "   <td style=\"text-align:left;\"> Agrees &amp; Working </td>\n",
              "   <td style=\"text-align:center;\">  </td>\n",
              "   <td style=\"text-align:center;\">  </td>\n",
              "   <td style=\"text-align:center;\"> 0.157** </td>\n",
              "  </tr>\n",
              "  <tr>\n",
              "   <td style=\"text-align:left;box-shadow: 0px 1px\">  </td>\n",
              "   <td style=\"text-align:center;box-shadow: 0px 1px\">  </td>\n",
              "   <td style=\"text-align:center;box-shadow: 0px 1px\">  </td>\n",
              "   <td style=\"text-align:center;box-shadow: 0px 1px\"> (0.058) </td>\n",
              "  </tr>\n",
              "  <tr>\n",
              "   <td style=\"text-align:left;\"> Num.Obs. </td>\n",
              "   <td style=\"text-align:center;\"> 1443 </td>\n",
              "   <td style=\"text-align:center;\"> 1443 </td>\n",
              "   <td style=\"text-align:center;\"> 1443 </td>\n",
              "  </tr>\n",
              "  <tr>\n",
              "   <td style=\"text-align:left;\"> R2 </td>\n",
              "   <td style=\"text-align:center;\"> 0.033 </td>\n",
              "   <td style=\"text-align:center;\"> 0.046 </td>\n",
              "   <td style=\"text-align:center;\"> 0.051 </td>\n",
              "  </tr>\n",
              "  <tr>\n",
              "   <td style=\"text-align:left;\"> R2 Adj. </td>\n",
              "   <td style=\"text-align:center;\"> 0.032 </td>\n",
              "   <td style=\"text-align:center;\"> 0.045 </td>\n",
              "   <td style=\"text-align:center;\"> 0.049 </td>\n",
              "  </tr>\n",
              "  <tr>\n",
              "   <td style=\"text-align:left;\"> RMSE </td>\n",
              "   <td style=\"text-align:center;\"> 0.39 </td>\n",
              "   <td style=\"text-align:center;\"> 0.38 </td>\n",
              "   <td style=\"text-align:center;\"> 0.38 </td>\n",
              "  </tr>\n",
              "</tbody>\n",
              "<tfoot><tr><td style=\"padding: 0; \" colspan=\"100%\">\n",
              "<sup></sup> + p &lt; 0.1, * p &lt; 0.05, ** p &lt; 0.01, *** p &lt; 0.001</td></tr></tfoot>\n",
              "</table>"
            ]
          },
          "metadata": {}
        }
      ]
    },
    {
      "cell_type": "markdown",
      "source": [
        "Your Answer Here \n",
        "\n",
        "#### START \n",
        "\n",
        "Since the beliefs are about work, we may think that work status may affect this relationship. So I created an interaction between agreeing with the statement and a dummy variable for working (or not), which was already in the dataset. \n",
        "\n",
        "Intercept: \n",
        "* Among people who are **not working** and **disagree**, 49.4 percent report receiving welfare. \n",
        "\n",
        "$\\beta_1$:\n",
        "* Compared to people who are not working and disagree, people who are **working** and **disagree** are 22.5 percentage points *less* likely to report receiving welfare, on average. \n",
        "* In other words, among people who disagree, people who work are 22.5 percentage points *less* likely receive welfare compared to people who don't work, on average. \n",
        "\n",
        "$\\beta_2$:\n",
        "* Compared to people who are not working and disagree, people who are **not working** and **agree** are 29.2 percentage points *less* likely to report receiving welfare, on average. \n",
        "* In other words, among people who are not working, people who agree are 29.2 percentage points *less* likely receive welfare compared to people who disagree, on average. \n",
        "* In other words, among people who are not working, agreeing is associated with a 29.2 percentage point decrease in the likelihood of receiving welfare, on average. \n",
        "\n",
        "$\\beta_3$:\n",
        "* **Agreeing** is associated with a 15.7 percentage point *increase* in welfare participation among people who are **working**, compared to the relationship among people who are **not working**. \n",
        "* The fact that the coefficient on the interaction ($\\beta_3$) is statistically significant suggests that the relationship between beliefs about welfare and welfare participation *is different* between people who are working and not. \n",
        "* In this case, it means the relationship between agreeing and welfare participation is *less negative* among people working compared to those not working. (To help with this interpretation, see the visualization below.)\n",
        "\n",
        "#### END "
      ],
      "metadata": {
        "id": "wtlq3962BN6l"
      }
    },
    {
      "cell_type": "markdown",
      "source": [
        "#### START\n",
        "\n",
        "$$\n",
        "getaid_i = \\beta_0 + \\beta_1 Working_i + \\beta_2 welfare1.agree_i + \\beta_3 welfare1.agree * Working_i + u_i\n",
        "$$\n",
        "\n",
        "$$\n",
        "\\begin{array}{|l|l|l|}\n",
        "\\hline \\\\\n",
        "Working & Agree/Disagree & Coefficient(s) \\\\\n",
        "\\hline \\\\\n",
        "Not.working & Disagree & \\beta_0 \\\\\n",
        "\\hline \\\\\n",
        "Working & Disagree & \\beta_0 + \\beta_1 \\\\\n",
        "\\hline \\\\\n",
        "Not.working & Agree & \\beta_0 + \\beta_2 \\\\\n",
        "\\hline \\\\\n",
        "Working & Agree & \\beta_0 + \\beta_1 + \\beta_2 + \\beta_3 \\\\\n",
        "\\hline \\\\\n",
        "\\end{array}\n",
        "$$\n",
        "\n",
        "\n",
        "#### END "
      ],
      "metadata": {
        "id": "UNRV-tL5fU8y"
      }
    },
    {
      "cell_type": "code",
      "source": [
        "# START \n",
        "\n",
        "# visualization \n",
        "ggplot(data = gss_clean,aes(x = welfare1_agree,y = getaid,color = as.factor(working))) + \n",
        " geom_point(position = position_jitter(w = 0, h = 0.3)) +\n",
        "    geom_smooth(method = \"lm\", formula = y ~ x, se = TRUE) + \n",
        "      scale_color_discrete(name = \"Working dummy\")\n",
        "    \n",
        "# END "
      ],
      "metadata": {
        "colab": {
          "base_uri": "https://localhost:8080/",
          "height": 506
        },
        "id": "-a4y6mlwiIEP",
        "outputId": "0dc39ac1-9fdf-4ed2-9242-690af439f5e8"
      },
      "execution_count": null,
      "outputs": [
        {
          "output_type": "stream",
          "name": "stderr",
          "text": [
            "Warning message:\n",
            "“\u001b[1m\u001b[22mRemoved 27 rows containing non-finite values (`stat_smooth()`).”\n",
            "Warning message:\n",
            "“\u001b[1m\u001b[22mRemoved 27 rows containing missing values (`geom_point()`).”\n"
          ]
        },
        {
          "output_type": "display_data",
          "data": {
            "text/plain": [
              "plot without title"
            ],
            "image/png": "[encoded data removed]"
          },
          "metadata": {
            "image/png": {
              "width": 420,
              "height": 420
            }
          }
        }
      ]
    },
    {
      "cell_type": "markdown",
      "source": [
        "#### START \n",
        "Note that the slopes appear to be quite different from each other, which coincides with us rejecting the null hypothesis that $\\beta_3 = 0$.\n",
        "\n",
        "#### END "
      ],
      "metadata": {
        "id": "SwBL_duBlNaS"
      }
    },
    {
      "cell_type": "markdown",
      "source": [
        "**Bonus. Describe what this exercise overall tells us about the causal relationship between beliefs about welfare and participation in welfare programs.**"
      ],
      "metadata": {
        "id": "sacyKvtjoEsP"
      }
    },
    {
      "cell_type": "markdown",
      "source": [
        "Your answer here\n",
        "\n",
        "#### START\n",
        "\n",
        "Throughout this exercise, we found that agreeing with the statement, “welfare makes people work less” is significantly negatively associated with welfare receipt, even when controlling for demographic characteristics.\n",
        "\n",
        "This suggests that internal attitudes about the relationship between benefit receipt and work *could be* key to influencing an individual’s decision to participate in the social safety net. However, this analysis demonstrates a mere association. It could be possible that individuals who receive government assistance justify their decision to themselves *ex post*. In other words, it could be that individuals first participate in welfare programs, and then change their beliefs about the relationship between welfare and work (in particular, realizing that welfare did not make them work less). \n",
        "\n",
        "It remains to be tested whether altering individual narratives about welfare receipt and work (assuming we could do such a thing) would causally encourage safety net program participation. \n",
        "\n",
        "\n",
        "#### END "
      ],
      "metadata": {
        "id": "GZQ-_eU0om7H"
      }
    }
  ],
  "metadata": {
    "colab": {
      "provenance": [],
      "include_colab_link": true
    },
    "kernelspec": {
      "display_name": "R",
      "language": "R",
      "name": "ir"
    },
    "language_info": {
      "codemirror_mode": "r",
      "file_extension": ".r",
      "mimetype": "text/x-r-source",
      "name": "R",
      "pygments_lexer": "r",
      "version": "4.2.1"
    }
  },
  "nbformat": 4,
  "nbformat_minor": 0
}