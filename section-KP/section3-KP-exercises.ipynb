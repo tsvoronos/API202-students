{
  "cells": [
    {
      "cell_type": "markdown",
      "metadata": {
        "id": "view-in-github",
        "colab_type": "text"
      },
      "source": [
        "<a href=\"https://colab.research.google.com/github/tsvoronos/API202-students/blob/main/section-KP/section3-KP-exercises.ipynb\" target=\"_parent\"><img src=\"https://colab.research.google.com/assets/colab-badge.svg\" alt=\"Open In Colab\"/></a>"
      ]
    },
    {
      "cell_type": "markdown",
      "metadata": {
        "id": "llzlIZkjYwoE"
      },
      "source": [
        "## API-202M ABC SECTION #3\n",
        "###### TF: Kelsey Pukelis"
      ]
    },
    {
      "cell_type": "markdown",
      "source": [
        "**I - INSTRUCTIONS**  \n",
        "\n",
        "1. **Create a copy of this Jupyter notebook in your own drive by clicking `Copy to Drive` in the menubar (this is explained below in more detail below) - *if you do not do this your work will not be saved!***\n",
        "    1. Remember to save your work frequently by pressing `command-S` or clicking `File > Save` in the menubar.\n",
        "    1. We recommend completing this in Google Chrome."
      ],
      "metadata": {
        "id": "z68qpHeLP4VW"
      }
    },
    {
      "cell_type": "markdown",
      "metadata": {
        "id": "d5711e37-1060-49bc-99a6-d15b04756f16"
      },
      "source": [
        "## Load `R` libraries and data\n",
        "\n",
        "**Please refer to Sheet 1 in this [R Cheat Sheet](https://bit.ly/HKS-R) which includes the commands you learned last semester in addition to a number of additional ones.**\n",
        "\n",
        "The code cell below imports the R tidyverse. Make sure to run it before starting the problem set!\n",
        "\n",
        "*Note: Click the \"play\" button that appears when you hover over a cell to run it. The first time you do this you may receive an alert that this notebook was not authored by Google. If so, click \"Run anyway\" to proceed.*"
      ]
    },
    {
      "cell_type": "code",
      "execution_count": null,
      "metadata": {
        "id": "aa889d79-5ab9-42af-8590-30819c45124f",
        "tags": []
      },
      "outputs": [],
      "source": [
        "library(tidyverse)"
      ]
    },
    {
      "cell_type": "markdown",
      "source": [
        "# PART I: Preferences for Receiving Redistribution: Explaining Welfare Participation\n",
        "\n"
      ],
      "metadata": {
        "id": "r95kx7VgY3bF"
      }
    },
    {
      "cell_type": "markdown",
      "source": [
        "The purpose of this exercise is to understand:\n",
        "* how to interpret a linear probability model\n",
        "* the math regression is doing when we have all dummy variables on the right-hand side. \n",
        "\n",
        "In this exercise, we will replicate exploratory analysis I did for my own research using [General Social Survey (GSS)](https://gss.norc.org/About-The-GSS) data. \n",
        "\n",
        "The dataset `gss` includes the following variables: \n",
        "* `id_`: unique identifier for individuals in the dataset (You can ignore this.)\n",
        "* `year`: The year of the survey, which is 1986 for all observations. (You can ignore this.)\n",
        "* `getaid`: ever received welfare: \"Have you personally ever received income from Aid to Families with Dependent Children (AFDC), General Assistance, Supplemental Security Income, or Food Stamps?\"\n",
        "* `welfare1`: \"For each of the following statements, please tell me whether you strongly agree, agree, disagree, or strongly disagree with it. 'Welfare makes people work less than they would if there wasn't a welfare system.'\"\n",
        "* `wrkstat`: labor force status\n",
        "* `age`: age in years\n",
        "* `educ`: years of completed education\n",
        "* `sex`: male or female\n",
        "* `race`: White, Black, or Other race\n",
        "* `incom16`: \"Thinking about the time when you were 16 years old, compared with American families in general then, would you say your family income was--far below average, below average, average, above average, or far above average?\"\n",
        "* `income`: total family income\n",
        "* `rincome`: respondent's earned income\n",
        "* `partyid`: political party affiliation\n",
        "\n",
        "In the code below, I recode some of these variables to make them easier to use in regession analysis, and save the new data as `gss_clean`. "
      ],
      "metadata": {
        "id": "bF8bnSmsQnMl"
      }
    },
    {
      "cell_type": "code",
      "source": [
        "gss <- read.csv('https://raw.githubusercontent.com/tsvoronos/API202-students/main/data/gss_short.csv')\n",
        "head(gss)"
      ],
      "metadata": {
        "colab": {
          "base_uri": "https://localhost:8080/",
          "height": 390
        },
        "id": "Fyl98NDOHDU_",
        "outputId": "57befe7d-cf37-4f18-af14-045ff10ba44b"
      },
      "execution_count": null,
      "outputs": [
        {
          "output_type": "display_data",
          "data": {
            "text/html": [
              "<table class=\"dataframe\">\n",
              "<caption>A data.frame: 6 × 13</caption>\n",
              "<thead>\n",
              "\t<tr><th></th><th scope=col>id_</th><th scope=col>year</th><th scope=col>getaid</th><th scope=col>welfare1</th><th scope=col>wrkstat</th><th scope=col>age</th><th scope=col>educ</th><th scope=col>sex</th><th scope=col>race</th><th scope=col>incom16</th><th scope=col>income</th><th scope=col>rincome</th><th scope=col>partyid</th></tr>\n",
              "\t<tr><th></th><th scope=col>&lt;int&gt;</th><th scope=col>&lt;int&gt;</th><th scope=col>&lt;chr&gt;</th><th scope=col>&lt;chr&gt;</th><th scope=col>&lt;chr&gt;</th><th scope=col>&lt;chr&gt;</th><th scope=col>&lt;chr&gt;</th><th scope=col>&lt;chr&gt;</th><th scope=col>&lt;chr&gt;</th><th scope=col>&lt;chr&gt;</th><th scope=col>&lt;chr&gt;</th><th scope=col>&lt;chr&gt;</th><th scope=col>&lt;chr&gt;</th></tr>\n",
              "</thead>\n",
              "<tbody>\n",
              "\t<tr><th scope=row>1</th><td>1</td><td>1986</td><td>2. NO </td><td>3. DISAGREE      </td><td>1. Working full time</td><td>28</td><td>14</td><td>1. MALE  </td><td>1. White</td><td>5. FAR ABOVE AVERAGE</td><td>11. $20,000 to $24,999</td><td>11. $20000 - 24999</td><td>3. Independent (neither, no response)</td></tr>\n",
              "\t<tr><th scope=row>2</th><td>2</td><td>1986</td><td>2. NO </td><td>2. AGREE         </td><td>7. Keeping house    </td><td>54</td><td>16</td><td>2. FEMALE</td><td>1. White</td><td>5. FAR ABOVE AVERAGE</td><td>12. $25,000 or more   </td><td>.i                </td><td>6. Strong republican                 </td></tr>\n",
              "\t<tr><th scope=row>3</th><td>3</td><td>1986</td><td>1. YES</td><td>2. AGREE         </td><td>1. Working full time</td><td>44</td><td>16</td><td>2. FEMALE</td><td>1. White</td><td>4. ABOVE AVERAGE    </td><td>12. $25,000 or more   </td><td>6. $6000 TO 6999  </td><td>0. Strong democrat                   </td></tr>\n",
              "\t<tr><th scope=row>4</th><td>4</td><td>1986</td><td>2. NO </td><td>3. DISAGREE      </td><td>5. Retired          </td><td>77</td><td>14</td><td>2. FEMALE</td><td>2. Black</td><td>1. FAR BELOW AVERAGE</td><td>.r                    </td><td>.i                </td><td>0. Strong democrat                   </td></tr>\n",
              "\t<tr><th scope=row>5</th><td>5</td><td>1986</td><td>1. YES</td><td>2. AGREE         </td><td>2. Working part time</td><td>44</td><td>14</td><td>2. FEMALE</td><td>2. Black</td><td>1. FAR BELOW AVERAGE</td><td>.d                    </td><td>.r                </td><td>0. Strong democrat                   </td></tr>\n",
              "\t<tr><th scope=row>6</th><td>6</td><td>1986</td><td>1. YES</td><td>1. STRONGLY AGREE</td><td>7. Keeping house    </td><td>47</td><td>10</td><td>1. MALE  </td><td>2. Black</td><td>3. AVERAGE          </td><td>5. $5,000 to $5,999   </td><td>.i                </td><td>1. Not very strong democrat          </td></tr>\n",
              "</tbody>\n",
              "</table>\n"
            ],
            "text/markdown": "\nA data.frame: 6 × 13\n\n| <!--/--> | id_ &lt;int&gt; | year &lt;int&gt; | getaid &lt;chr&gt; | welfare1 &lt;chr&gt; | wrkstat &lt;chr&gt; | age &lt;chr&gt; | educ &lt;chr&gt; | sex &lt;chr&gt; | race &lt;chr&gt; | incom16 &lt;chr&gt; | income &lt;chr&gt; | rincome &lt;chr&gt; | partyid &lt;chr&gt; |\n|---|---|---|---|---|---|---|---|---|---|---|---|---|---|\n| 1 | 1 | 1986 | 2. NO  | 3. DISAGREE       | 1. Working full time | 28 | 14 | 1. MALE   | 1. White | 5. FAR ABOVE AVERAGE | 11. $20,000 to $24,999 | 11. $20000 - 24999 | 3. Independent (neither, no response) |\n| 2 | 2 | 1986 | 2. NO  | 2. AGREE          | 7. Keeping house     | 54 | 16 | 2. FEMALE | 1. White | 5. FAR ABOVE AVERAGE | 12. $25,000 or more    | .i                 | 6. Strong republican                  |\n| 3 | 3 | 1986 | 1. YES | 2. AGREE          | 1. Working full time | 44 | 16 | 2. FEMALE | 1. White | 4. ABOVE AVERAGE     | 12. $25,000 or more    | 6. $6000 TO 6999   | 0. Strong democrat                    |\n| 4 | 4 | 1986 | 2. NO  | 3. DISAGREE       | 5. Retired           | 77 | 14 | 2. FEMALE | 2. Black | 1. FAR BELOW AVERAGE | .r                     | .i                 | 0. Strong democrat                    |\n| 5 | 5 | 1986 | 1. YES | 2. AGREE          | 2. Working part time | 44 | 14 | 2. FEMALE | 2. Black | 1. FAR BELOW AVERAGE | .d                     | .r                 | 0. Strong democrat                    |\n| 6 | 6 | 1986 | 1. YES | 1. STRONGLY AGREE | 7. Keeping house     | 47 | 10 | 1. MALE   | 2. Black | 3. AVERAGE           | 5. $5,000 to $5,999    | .i                 | 1. Not very strong democrat           |\n\n",
            "text/latex": "A data.frame: 6 × 13\n\\begin{tabular}{r|lllllllllllll}\n  & id\\_ & year & getaid & welfare1 & wrkstat & age & educ & sex & race & incom16 & income & rincome & partyid\\\\\n  & <int> & <int> & <chr> & <chr> & <chr> & <chr> & <chr> & <chr> & <chr> & <chr> & <chr> & <chr> & <chr>\\\\\n\\hline\n\t1 & 1 & 1986 & 2. NO  & 3. DISAGREE       & 1. Working full time & 28 & 14 & 1. MALE   & 1. White & 5. FAR ABOVE AVERAGE & 11. \\$20,000 to \\$24,999 & 11. \\$20000 - 24999 & 3. Independent (neither, no response)\\\\\n\t2 & 2 & 1986 & 2. NO  & 2. AGREE          & 7. Keeping house     & 54 & 16 & 2. FEMALE & 1. White & 5. FAR ABOVE AVERAGE & 12. \\$25,000 or more    & .i                 & 6. Strong republican                 \\\\\n\t3 & 3 & 1986 & 1. YES & 2. AGREE          & 1. Working full time & 44 & 16 & 2. FEMALE & 1. White & 4. ABOVE AVERAGE     & 12. \\$25,000 or more    & 6. \\$6000 TO 6999   & 0. Strong democrat                   \\\\\n\t4 & 4 & 1986 & 2. NO  & 3. DISAGREE       & 5. Retired           & 77 & 14 & 2. FEMALE & 2. Black & 1. FAR BELOW AVERAGE & .r                     & .i                 & 0. Strong democrat                   \\\\\n\t5 & 5 & 1986 & 1. YES & 2. AGREE          & 2. Working part time & 44 & 14 & 2. FEMALE & 2. Black & 1. FAR BELOW AVERAGE & .d                     & .r                 & 0. Strong democrat                   \\\\\n\t6 & 6 & 1986 & 1. YES & 1. STRONGLY AGREE & 7. Keeping house     & 47 & 10 & 1. MALE   & 2. Black & 3. AVERAGE           & 5. \\$5,000 to \\$5,999    & .i                 & 1. Not very strong democrat          \\\\\n\\end{tabular}\n",
            "text/plain": [
              "  id_ year getaid welfare1          wrkstat              age educ sex      \n",
              "1 1   1986 2. NO  3. DISAGREE       1. Working full time 28  14   1. MALE  \n",
              "2 2   1986 2. NO  2. AGREE          7. Keeping house     54  16   2. FEMALE\n",
              "3 3   1986 1. YES 2. AGREE          1. Working full time 44  16   2. FEMALE\n",
              "4 4   1986 2. NO  3. DISAGREE       5. Retired           77  14   2. FEMALE\n",
              "5 5   1986 1. YES 2. AGREE          2. Working part time 44  14   2. FEMALE\n",
              "6 6   1986 1. YES 1. STRONGLY AGREE 7. Keeping house     47  10   1. MALE  \n",
              "  race     incom16              income                 rincome           \n",
              "1 1. White 5. FAR ABOVE AVERAGE 11. $20,000 to $24,999 11. $20000 - 24999\n",
              "2 1. White 5. FAR ABOVE AVERAGE 12. $25,000 or more    .i                \n",
              "3 1. White 4. ABOVE AVERAGE     12. $25,000 or more    6. $6000 TO 6999  \n",
              "4 2. Black 1. FAR BELOW AVERAGE .r                     .i                \n",
              "5 2. Black 1. FAR BELOW AVERAGE .d                     .r                \n",
              "6 2. Black 3. AVERAGE           5. $5,000 to $5,999    .i                \n",
              "  partyid                              \n",
              "1 3. Independent (neither, no response)\n",
              "2 6. Strong republican                 \n",
              "3 0. Strong democrat                   \n",
              "4 0. Strong democrat                   \n",
              "5 0. Strong democrat                   \n",
              "6 1. Not very strong democrat          "
            ]
          },
          "metadata": {}
        }
      ]
    },
    {
      "cell_type": "code",
      "source": [
        "# some pre-processing of the data \n",
        "gss_clean <- gss %>% \n",
        "  mutate(getaid = as.numeric(recode(getaid, \n",
        "        \"2. NO\" = \"0\", \n",
        "        \"1. YES\" = \"1\", \n",
        "        \".n\" = NA_character_))) %>%\n",
        "  mutate(welfare1_num = as.numeric(recode(welfare1,\n",
        "        \"4. STRONGLY DISAGREE\" = \"4\", \n",
        "        \"3. DISAGREE\" = \"3\",\n",
        "        \"2. AGREE\" = \"2\",\n",
        "        \"1. STRONGLY AGREE\" = \"1\",\n",
        "        \".n\" = NA_character_,\n",
        "        \".d\" = NA_character_))) %>%\n",
        "  relocate(welfare1_num, .after = welfare1) %>%\n",
        "  mutate(working = as.numeric(recode(wrkstat,\n",
        "        \"1. Working full time\" = \"1\",\n",
        "        \"2. Working part time\" = \"1\",\n",
        "        \"3. With a job, but not at work because of temporary illness, vacation, strike\" = \"1\",\n",
        "        \"4. Unemployed, laid off, looking for work\" = \"0\",\n",
        "        \"5. Retired\" = \"0\",\n",
        "        \"6. In school\" = \"0\",\n",
        "        \"7. Keeping house\" = \"0\",\n",
        "        \"8. Other\" = \"0\"))) %>%\n",
        "  relocate(working, .after = wrkstat) %>%\n",
        "  mutate(age = as.numeric(recode(age,\n",
        "        \"89. 89 or older\" = \"89\",\n",
        "        \".n\" = NA_character_))) %>%\n",
        "  mutate(educ = as.numeric(recode(educ,\n",
        "        \"0. No formal schooling\" = \"0\",\n",
        "        \".n\" = NA_character_))) %>%\n",
        "  mutate(female = as.numeric(recode(sex,\n",
        "        \"1. MALE\" = \"0\",\n",
        "        \"2. FEMALE\" = \"1\"))) %>%\n",
        "  relocate(female, .after = sex) %>%\n",
        "  mutate(race_white = ifelse(race == \"1. White\",1,0)) %>%\n",
        "  mutate(race_black = ifelse(race == \"2. Black\",1,0)) %>%\n",
        "  mutate(race_other = ifelse(race == \"3. Other\",1,0)) %>%\n",
        "  relocate(race_white, .after = race) %>%\n",
        "  relocate(race_black, .after = race_white) %>%\n",
        "  relocate(race_other, .after = race_black) %>%\n",
        "  mutate(income_num = as.numeric(recode(income,\n",
        "        '1. Under $1,000' = \"1\",\n",
        "        '2. $1,000 to $2,999' = \"2\",\n",
        "        '3. $3,000 to $3,999' = \"3\",\n",
        "        '4. $4,000 to $4,999' = \"4\",\n",
        "        '5. $5,000 to $5,999' = \"5\",\n",
        "        '6. $6,000 to $6,999' = \"6\",\n",
        "        '7. $7,000 to $7,999' = \"7\",\n",
        "        '8. $8,000 to $9,999' = \"8\",\n",
        "        '9. $10,000 to $14,999' = \"9\",\n",
        "        '10. $15,000 to $19,999' = \"10\",\n",
        "        '11. $20,000 to $24,999' = \"11\",\n",
        "        '12. $25,000 or more' = \"12\",\n",
        "        '.d' = NA_character_,\n",
        "        '.n' = NA_character_,\n",
        "        '.r' = NA_character_))) %>%\n",
        "  relocate(income_num, .after = income) %>%\n",
        "  mutate(party_short = recode(partyid,\n",
        "        '0. Strong democrat' = \"Democrat\",\n",
        "        '1. Not very strong democrat' = \"Democrat\",\n",
        "        '2. Independent, close to democrat' = \"Independent\",\n",
        "        '3. Independent (neither, no response)' = \"Independent\",\n",
        "        '4. Independent, close to republican' = \"Independent\",\n",
        "        '5. Not very strong republican' = \"Republican\",\n",
        "        '6. Strong republican' = \"Republican\",\n",
        "        '7. Other party' = \"Independent\",\n",
        "        \".n\" = NA_character_)) %>%\n",
        "  relocate(party_short, .after = partyid) %>%\n",
        "  mutate(party_dem = ifelse(party_short == \"Democrat\",1,0)) %>%\n",
        "  mutate(party_ind = ifelse(party_short == \"Independent\",1,0)) %>%\n",
        "  mutate(party_rep = ifelse(party_short == \"Republican\",1,0)) %>%\n",
        "  relocate(party_dem, .after = party_short) %>%\n",
        "  relocate(party_ind, .after = party_dem) %>%\n",
        "  relocate(party_rep, .after = party_ind)\n",
        "\n",
        "head(gss_clean)"
      ],
      "metadata": {
        "colab": {
          "base_uri": "https://localhost:8080/",
          "height": 584
        },
        "id": "AdGcZlp1HPZ7",
        "outputId": "37b7a1ef-c6e6-48ed-ffc0-9f69e9870a5d"
      },
      "execution_count": null,
      "outputs": [
        {
          "output_type": "display_data",
          "data": {
            "text/html": [
              "<table class=\"dataframe\">\n",
              "<caption>A data.frame: 6 × 24</caption>\n",
              "<thead>\n",
              "\t<tr><th></th><th scope=col>id_</th><th scope=col>year</th><th scope=col>getaid</th><th scope=col>welfare1</th><th scope=col>welfare1_num</th><th scope=col>wrkstat</th><th scope=col>working</th><th scope=col>age</th><th scope=col>educ</th><th scope=col>sex</th><th scope=col>⋯</th><th scope=col>race_other</th><th scope=col>incom16</th><th scope=col>income</th><th scope=col>income_num</th><th scope=col>rincome</th><th scope=col>partyid</th><th scope=col>party_short</th><th scope=col>party_dem</th><th scope=col>party_ind</th><th scope=col>party_rep</th></tr>\n",
              "\t<tr><th></th><th scope=col>&lt;int&gt;</th><th scope=col>&lt;int&gt;</th><th scope=col>&lt;dbl&gt;</th><th scope=col>&lt;chr&gt;</th><th scope=col>&lt;dbl&gt;</th><th scope=col>&lt;chr&gt;</th><th scope=col>&lt;dbl&gt;</th><th scope=col>&lt;dbl&gt;</th><th scope=col>&lt;dbl&gt;</th><th scope=col>&lt;chr&gt;</th><th scope=col>⋯</th><th scope=col>&lt;dbl&gt;</th><th scope=col>&lt;chr&gt;</th><th scope=col>&lt;chr&gt;</th><th scope=col>&lt;dbl&gt;</th><th scope=col>&lt;chr&gt;</th><th scope=col>&lt;chr&gt;</th><th scope=col>&lt;chr&gt;</th><th scope=col>&lt;dbl&gt;</th><th scope=col>&lt;dbl&gt;</th><th scope=col>&lt;dbl&gt;</th></tr>\n",
              "</thead>\n",
              "<tbody>\n",
              "\t<tr><th scope=row>1</th><td>1</td><td>1986</td><td>0</td><td>3. DISAGREE      </td><td>3</td><td>1. Working full time</td><td>1</td><td>28</td><td>14</td><td>1. MALE  </td><td>⋯</td><td>0</td><td>5. FAR ABOVE AVERAGE</td><td>11. $20,000 to $24,999</td><td>11</td><td>11. $20000 - 24999</td><td>3. Independent (neither, no response)</td><td>Independent</td><td>0</td><td>1</td><td>0</td></tr>\n",
              "\t<tr><th scope=row>2</th><td>2</td><td>1986</td><td>0</td><td>2. AGREE         </td><td>2</td><td>7. Keeping house    </td><td>0</td><td>54</td><td>16</td><td>2. FEMALE</td><td>⋯</td><td>0</td><td>5. FAR ABOVE AVERAGE</td><td>12. $25,000 or more   </td><td>12</td><td>.i                </td><td>6. Strong republican                 </td><td>Republican </td><td>0</td><td>0</td><td>1</td></tr>\n",
              "\t<tr><th scope=row>3</th><td>3</td><td>1986</td><td>1</td><td>2. AGREE         </td><td>2</td><td>1. Working full time</td><td>1</td><td>44</td><td>16</td><td>2. FEMALE</td><td>⋯</td><td>0</td><td>4. ABOVE AVERAGE    </td><td>12. $25,000 or more   </td><td>12</td><td>6. $6000 TO 6999  </td><td>0. Strong democrat                   </td><td>Democrat   </td><td>1</td><td>0</td><td>0</td></tr>\n",
              "\t<tr><th scope=row>4</th><td>4</td><td>1986</td><td>0</td><td>3. DISAGREE      </td><td>3</td><td>5. Retired          </td><td>0</td><td>77</td><td>14</td><td>2. FEMALE</td><td>⋯</td><td>0</td><td>1. FAR BELOW AVERAGE</td><td>.r                    </td><td>NA</td><td>.i                </td><td>0. Strong democrat                   </td><td>Democrat   </td><td>1</td><td>0</td><td>0</td></tr>\n",
              "\t<tr><th scope=row>5</th><td>5</td><td>1986</td><td>1</td><td>2. AGREE         </td><td>2</td><td>2. Working part time</td><td>1</td><td>44</td><td>14</td><td>2. FEMALE</td><td>⋯</td><td>0</td><td>1. FAR BELOW AVERAGE</td><td>.d                    </td><td>NA</td><td>.r                </td><td>0. Strong democrat                   </td><td>Democrat   </td><td>1</td><td>0</td><td>0</td></tr>\n",
              "\t<tr><th scope=row>6</th><td>6</td><td>1986</td><td>1</td><td>1. STRONGLY AGREE</td><td>1</td><td>7. Keeping house    </td><td>0</td><td>47</td><td>10</td><td>1. MALE  </td><td>⋯</td><td>0</td><td>3. AVERAGE          </td><td>5. $5,000 to $5,999   </td><td> 5</td><td>.i                </td><td>1. Not very strong democrat          </td><td>Democrat   </td><td>1</td><td>0</td><td>0</td></tr>\n",
              "</tbody>\n",
              "</table>\n"
            ],
            "text/markdown": "\nA data.frame: 6 × 24\n\n| <!--/--> | id_ &lt;int&gt; | year &lt;int&gt; | getaid &lt;dbl&gt; | welfare1 &lt;chr&gt; | welfare1_num &lt;dbl&gt; | wrkstat &lt;chr&gt; | working &lt;dbl&gt; | age &lt;dbl&gt; | educ &lt;dbl&gt; | sex &lt;chr&gt; | ⋯ ⋯ | race_other &lt;dbl&gt; | incom16 &lt;chr&gt; | income &lt;chr&gt; | income_num &lt;dbl&gt; | rincome &lt;chr&gt; | partyid &lt;chr&gt; | party_short &lt;chr&gt; | party_dem &lt;dbl&gt; | party_ind &lt;dbl&gt; | party_rep &lt;dbl&gt; |\n|---|---|---|---|---|---|---|---|---|---|---|---|---|---|---|---|---|---|---|---|---|---|\n| 1 | 1 | 1986 | 0 | 3. DISAGREE       | 3 | 1. Working full time | 1 | 28 | 14 | 1. MALE   | ⋯ | 0 | 5. FAR ABOVE AVERAGE | 11. $20,000 to $24,999 | 11 | 11. $20000 - 24999 | 3. Independent (neither, no response) | Independent | 0 | 1 | 0 |\n| 2 | 2 | 1986 | 0 | 2. AGREE          | 2 | 7. Keeping house     | 0 | 54 | 16 | 2. FEMALE | ⋯ | 0 | 5. FAR ABOVE AVERAGE | 12. $25,000 or more    | 12 | .i                 | 6. Strong republican                  | Republican  | 0 | 0 | 1 |\n| 3 | 3 | 1986 | 1 | 2. AGREE          | 2 | 1. Working full time | 1 | 44 | 16 | 2. FEMALE | ⋯ | 0 | 4. ABOVE AVERAGE     | 12. $25,000 or more    | 12 | 6. $6000 TO 6999   | 0. Strong democrat                    | Democrat    | 1 | 0 | 0 |\n| 4 | 4 | 1986 | 0 | 3. DISAGREE       | 3 | 5. Retired           | 0 | 77 | 14 | 2. FEMALE | ⋯ | 0 | 1. FAR BELOW AVERAGE | .r                     | NA | .i                 | 0. Strong democrat                    | Democrat    | 1 | 0 | 0 |\n| 5 | 5 | 1986 | 1 | 2. AGREE          | 2 | 2. Working part time | 1 | 44 | 14 | 2. FEMALE | ⋯ | 0 | 1. FAR BELOW AVERAGE | .d                     | NA | .r                 | 0. Strong democrat                    | Democrat    | 1 | 0 | 0 |\n| 6 | 6 | 1986 | 1 | 1. STRONGLY AGREE | 1 | 7. Keeping house     | 0 | 47 | 10 | 1. MALE   | ⋯ | 0 | 3. AVERAGE           | 5. $5,000 to $5,999    |  5 | .i                 | 1. Not very strong democrat           | Democrat    | 1 | 0 | 0 |\n\n",
            "text/latex": "A data.frame: 6 × 24\n\\begin{tabular}{r|lllllllllllllllllllll}\n  & id\\_ & year & getaid & welfare1 & welfare1\\_num & wrkstat & working & age & educ & sex & ⋯ & race\\_other & incom16 & income & income\\_num & rincome & partyid & party\\_short & party\\_dem & party\\_ind & party\\_rep\\\\\n  & <int> & <int> & <dbl> & <chr> & <dbl> & <chr> & <dbl> & <dbl> & <dbl> & <chr> & ⋯ & <dbl> & <chr> & <chr> & <dbl> & <chr> & <chr> & <chr> & <dbl> & <dbl> & <dbl>\\\\\n\\hline\n\t1 & 1 & 1986 & 0 & 3. DISAGREE       & 3 & 1. Working full time & 1 & 28 & 14 & 1. MALE   & ⋯ & 0 & 5. FAR ABOVE AVERAGE & 11. \\$20,000 to \\$24,999 & 11 & 11. \\$20000 - 24999 & 3. Independent (neither, no response) & Independent & 0 & 1 & 0\\\\\n\t2 & 2 & 1986 & 0 & 2. AGREE          & 2 & 7. Keeping house     & 0 & 54 & 16 & 2. FEMALE & ⋯ & 0 & 5. FAR ABOVE AVERAGE & 12. \\$25,000 or more    & 12 & .i                 & 6. Strong republican                  & Republican  & 0 & 0 & 1\\\\\n\t3 & 3 & 1986 & 1 & 2. AGREE          & 2 & 1. Working full time & 1 & 44 & 16 & 2. FEMALE & ⋯ & 0 & 4. ABOVE AVERAGE     & 12. \\$25,000 or more    & 12 & 6. \\$6000 TO 6999   & 0. Strong democrat                    & Democrat    & 1 & 0 & 0\\\\\n\t4 & 4 & 1986 & 0 & 3. DISAGREE       & 3 & 5. Retired           & 0 & 77 & 14 & 2. FEMALE & ⋯ & 0 & 1. FAR BELOW AVERAGE & .r                     & NA & .i                 & 0. Strong democrat                    & Democrat    & 1 & 0 & 0\\\\\n\t5 & 5 & 1986 & 1 & 2. AGREE          & 2 & 2. Working part time & 1 & 44 & 14 & 2. FEMALE & ⋯ & 0 & 1. FAR BELOW AVERAGE & .d                     & NA & .r                 & 0. Strong democrat                    & Democrat    & 1 & 0 & 0\\\\\n\t6 & 6 & 1986 & 1 & 1. STRONGLY AGREE & 1 & 7. Keeping house     & 0 & 47 & 10 & 1. MALE   & ⋯ & 0 & 3. AVERAGE           & 5. \\$5,000 to \\$5,999    &  5 & .i                 & 1. Not very strong democrat           & Democrat    & 1 & 0 & 0\\\\\n\\end{tabular}\n",
            "text/plain": [
              "  id_ year getaid welfare1          welfare1_num wrkstat              working\n",
              "1 1   1986 0      3. DISAGREE       3            1. Working full time 1      \n",
              "2 2   1986 0      2. AGREE          2            7. Keeping house     0      \n",
              "3 3   1986 1      2. AGREE          2            1. Working full time 1      \n",
              "4 4   1986 0      3. DISAGREE       3            5. Retired           0      \n",
              "5 5   1986 1      2. AGREE          2            2. Working part time 1      \n",
              "6 6   1986 1      1. STRONGLY AGREE 1            7. Keeping house     0      \n",
              "  age educ sex       ⋯ race_other incom16              income                \n",
              "1 28  14   1. MALE   ⋯ 0          5. FAR ABOVE AVERAGE 11. $20,000 to $24,999\n",
              "2 54  16   2. FEMALE ⋯ 0          5. FAR ABOVE AVERAGE 12. $25,000 or more   \n",
              "3 44  16   2. FEMALE ⋯ 0          4. ABOVE AVERAGE     12. $25,000 or more   \n",
              "4 77  14   2. FEMALE ⋯ 0          1. FAR BELOW AVERAGE .r                    \n",
              "5 44  14   2. FEMALE ⋯ 0          1. FAR BELOW AVERAGE .d                    \n",
              "6 47  10   1. MALE   ⋯ 0          3. AVERAGE           5. $5,000 to $5,999   \n",
              "  income_num rincome            partyid                              \n",
              "1 11         11. $20000 - 24999 3. Independent (neither, no response)\n",
              "2 12         .i                 6. Strong republican                 \n",
              "3 12         6. $6000 TO 6999   0. Strong democrat                   \n",
              "4 NA         .i                 0. Strong democrat                   \n",
              "5 NA         .r                 0. Strong democrat                   \n",
              "6  5         .i                 1. Not very strong democrat          \n",
              "  party_short party_dem party_ind party_rep\n",
              "1 Independent 0         1         0        \n",
              "2 Republican  0         0         1        \n",
              "3 Democrat    1         0         0        \n",
              "4 Democrat    1         0         0        \n",
              "5 Democrat    1         0         0        \n",
              "6 Democrat    1         0         0        "
            ]
          },
          "metadata": {}
        }
      ]
    },
    {
      "cell_type": "markdown",
      "source": [
        "**1. Run a bivariate regression of receiving welfare on a dummy for agreeing with the statement, \"Welfare makes people work less.\" (Note: You should create a dummy variable first, grouping together people who \"agree\" or \"strongly agree\" into the \"agree\" group.) Interpret the slope coefficient and intercept.** "
      ],
      "metadata": {
        "id": "jAcGv6P6HSBE"
      }
    },
    {
      "cell_type": "code",
      "source": [
        "# Your code here "
      ],
      "metadata": {
        "id": "iOR2ZtHOH-6Z"
      },
      "execution_count": 1,
      "outputs": []
    },
    {
      "cell_type": "markdown",
      "source": [
        "Your Answer Here "
      ],
      "metadata": {
        "id": "TVEWxoNuIjLA"
      }
    },
    {
      "cell_type": "markdown",
      "source": [
        "**2. Beliefs about welfare programs are very political, so we should probably account for respondents' party. Control for political party by including the dummies for \"Republican\", \"Democrat\", and/or \"Indepedent\" in a multivariate regression. Which dummies did you include in the regression and why? Say what each of the coefficients is measuring. Interpret the coefficient on agreeing with the statement, and briefly note how the coefficient changed compared to the bivariate regression.**"
      ],
      "metadata": {
        "id": "AuITpPKgLPT8"
      }
    },
    {
      "cell_type": "code",
      "source": [
        "# Your code here "
      ],
      "metadata": {
        "id": "enL0QAoAL7NO"
      },
      "execution_count": 2,
      "outputs": []
    },
    {
      "cell_type": "markdown",
      "source": [
        "Your Answer Here"
      ],
      "metadata": {
        "id": "MrmMuO0wNCyG"
      }
    },
    {
      "cell_type": "markdown",
      "source": [
        "**Let's practice running the same regression, now using factors in R instead of using dummy variables.**\n",
        "\n",
        "Recall the following coding example from the lecture appendix:\n",
        "\n",
        "```\n",
        "NLS <- NLS %>% mutate(grad = as_factor(case_when(educ < 12 ~ \"Less than HS\",\n",
        "                                                  educ >= 12 & educ < 16 ~ \"HS\",\n",
        "                                                  educ >= 16 ~ \"College\")))\n",
        "```\n",
        "If we already had a variable called `educ_group` that took on (character) values `\"Less than HS\",\"HS\",\"College\"`, then we could create a factor variable using the following code:\n",
        "```\n",
        "NLS <- NLS %>% mutate(grad = as_factor(educ_group))\n",
        "```"
      ],
      "metadata": {
        "id": "eNfuk8uE5sGd"
      }
    },
    {
      "cell_type": "markdown",
      "source": [
        "**3. Turn the political party variable `party_short` into a factor variable, and run the same regression as before. Note which group that R automatically omitted.**"
      ],
      "metadata": {
        "id": "x3PjSdwh56_f"
      }
    },
    {
      "cell_type": "code",
      "source": [
        "# Your code here"
      ],
      "metadata": {
        "id": "3yqcddSY8DsK"
      },
      "execution_count": 3,
      "outputs": []
    },
    {
      "cell_type": "markdown",
      "source": [
        "Your Answer Here\n",
        "\n",
        "#### START \n",
        "\n",
        "When using the factor variable R automatically omits the Independent group. So our regression results are exact the same as above. \n",
        "\n",
        "#### END "
      ],
      "metadata": {
        "id": "2BQ6s8Eb888k"
      }
    },
    {
      "cell_type": "markdown",
      "source": [
        "If we already created a factor variable called `grad`, we could set the reference group by listing in first using the `relevel` command:\n",
        "\n",
        "```\n",
        "NLS$grad <- relevel(NLS$grad, \"Less than HS\", \"HS\", \"College\")\n",
        "```\n",
        "So this code sets `\"Less than HS\"` as the reference group for the factor variable `grad`."
      ],
      "metadata": {
        "id": "X4426l4R9MQ4"
      }
    },
    {
      "cell_type": "markdown",
      "source": [
        "**4. Using a factor variable, set the reference group to Republicans and run the regression again. Briefly discuss how the interpretation of the regression changes.**"
      ],
      "metadata": {
        "id": "MxQPHA_O9qrl"
      }
    },
    {
      "cell_type": "code",
      "source": [
        "# Your code here "
      ],
      "metadata": {
        "id": "G-G1moP897Ez"
      },
      "execution_count": 4,
      "outputs": []
    },
    {
      "cell_type": "markdown",
      "source": [
        "Your Answer Here \n"
      ],
      "metadata": {
        "id": "RElke5Ju-4kV"
      }
    },
    {
      "cell_type": "markdown",
      "source": [
        "**Suppose we want to test the null hypothesis that the relationship between agreeing with the statement and receiving welfare is the same across the three political groups.** "
      ],
      "metadata": {
        "id": "YP0LkYR0-rTR"
      }
    },
    {
      "cell_type": "markdown",
      "source": [
        "**5. To start, simply calculate the means of the welfare participation variable for 6 groups: Independents who disagree, Republicans who disagree, Democrats who disagree, Independents who agree, Republicans who agree, and Democrats who agree.**"
      ],
      "metadata": {
        "id": "zNoGxqoGQnW6"
      }
    },
    {
      "cell_type": "code",
      "source": [
        "# Your code here "
      ],
      "metadata": {
        "id": "7MT8q5d9XVhX"
      },
      "execution_count": 5,
      "outputs": []
    },
    {
      "cell_type": "markdown",
      "source": [
        "Your Answer Here\n"
      ],
      "metadata": {
        "id": "YLNBRjLibk2Q"
      }
    },
    {
      "cell_type": "markdown",
      "source": [
        "**Suppose now we actually want to *test* the null hypothesis that the relationship between agreeing with the statement and receiving welfare is the same across the three political groups. Someone suggests running the following regression:**\n",
        "\n",
        "$$\n",
        "getaid_i = \\beta_0 + \\beta_1 Republican_i + \\beta_2 Democrat_i + \\beta_3  welfare1.agree_i  + \\beta_4 welfare1.agree * Republican_i + \\beta_5 welfare1.agree * Democrat_i + u_i\n",
        "$$\n"
      ],
      "metadata": {
        "id": "hUIrRGB_W3cJ"
      }
    },
    {
      "cell_type": "markdown",
      "source": [
        "**6. Fill in the following table to show how the coefficients in the regression relate to the 6 means that you just calculated. What is the omitted group in the regression? Which coefficient(s) are relevant for testing the null hypothesis? Can we test the null hypothesis that all the effect is the same for *all* three groups?**\n",
        "\n",
        "$$\n",
        "\\begin{array}{|l|l|l|}\n",
        "\\hline \\\\\n",
        "Party & Agree/Disagree & Coefficient(s) \\\\\n",
        "\\hline \\\\\n",
        "Independents & Disagree & \\\\\n",
        "\\hline \\\\\n",
        "Republicans & Disagree & \\\\\n",
        "\\hline \\\\\n",
        "Democrats & Disagree & \\\\\n",
        "\\hline \\\\\n",
        "Independents & Agree & \\\\\n",
        "\\hline \\\\\n",
        "Republicans & Agree & \\\\\n",
        "\\hline \\\\\n",
        "Democrats & Agree & \\\\\n",
        "\\hline \\\\\n",
        "\\end{array}\n",
        "$$\n"
      ],
      "metadata": {
        "id": "FDLwn3ijcu60"
      }
    },
    {
      "cell_type": "markdown",
      "source": [
        "Your Answer Here "
      ],
      "metadata": {
        "id": "1BSRoe6uRExq"
      }
    },
    {
      "cell_type": "markdown",
      "source": [
        "**7. Now create the interaction terms in the dataset and run this regression.**"
      ],
      "metadata": {
        "id": "tpuArDUwWWEu"
      }
    },
    {
      "cell_type": "code",
      "source": [
        "# Your code here"
      ],
      "metadata": {
        "id": "Uhs0yyxCVlRz"
      },
      "execution_count": 6,
      "outputs": []
    },
    {
      "cell_type": "markdown",
      "source": [
        "**8. Confirm that you can recover the means for each of the 6 groups by adding together different coefficients as indicated in your table above. What does this tell you about what regression is doing when we are working with all dummy variables on the right hand side?**"
      ],
      "metadata": {
        "id": "1Y5cGbLjGiM3"
      }
    },
    {
      "cell_type": "code",
      "source": [
        "# Your code here (optional)"
      ],
      "metadata": {
        "id": "lOWuKFlnA6vi"
      },
      "execution_count": 7,
      "outputs": []
    },
    {
      "cell_type": "markdown",
      "source": [
        "Your Answer Here \n",
        "\n",
        "#### START\n",
        "\n",
        "Wow! By adding together coefficients from the regressions, we can *exactly* recover each of the group means that we calculated before. This shows that, when all the variables on the right hand side are dummy variables, regression is just a fancy average-making machine. \n",
        "\n",
        "Note: We refer to a regression that includes all possible combinations of dummy variable interactions as \"fully saturated.\"\n",
        "\n",
        "#### END "
      ],
      "metadata": {
        "id": "t726fkNxG2px"
      }
    },
    {
      "cell_type": "markdown",
      "source": [
        "**Bonus: Run a regression controlling for other factors that you think might affect welfare participation. How does this change the estimate on the \"agree\" coefficient?**"
      ],
      "metadata": {
        "id": "dQ8DRocSKOdp"
      }
    },
    {
      "cell_type": "code",
      "source": [
        "# Your code here"
      ],
      "metadata": {
        "id": "KR7s2TpNMBkk"
      },
      "execution_count": 8,
      "outputs": []
    },
    {
      "cell_type": "markdown",
      "source": [
        "Your Answer Here \n",
        "\n",
        "#### START \n",
        "\n",
        "Controlling for these other characteristics reduces the magnitude of the coefficient on the agree variable. (Especially noteworthy are the fact that working people are less likely to report receiving welfare, all else constant; richer people are less likely to report receiving welfare, all else constant; and black individuals are more likely to report receiving, all else constant.)\n",
        "\n",
        "However, it is still the case that the relationship between agreeing with the statement \"Welfare makes people work less\" and reported welfare receipt is negative, statistically significant, and quite large in magnitude. \n",
        "\n",
        "\n",
        "#### END "
      ],
      "metadata": {
        "id": "AyE1r981PtEg"
      }
    },
    {
      "cell_type": "markdown",
      "source": [
        "**Bonus. Create a table showing results from your regressions: the bivariate regression, the regression controling for political party, the regression with interaction terms, and perhaps the regression including other controls.** "
      ],
      "metadata": {
        "id": "4lm7PRbVIDUp"
      }
    },
    {
      "cell_type": "markdown",
      "source": [
        "First, run the script below installing the package modelsummary (this may take a minute or so to install)."
      ],
      "metadata": {
        "id": "nX5z6Ma9Jon5"
      }
    },
    {
      "cell_type": "code",
      "source": [
        "check_installed <- require(modelsummary)\n",
        "if(check_installed==F){\n",
        "  install.packages(\"modelsummary\")\n",
        "  require(modelsummary)\n",
        "}"
      ],
      "metadata": {
        "id": "1pNAh4P3JsDG"
      },
      "execution_count": null,
      "outputs": []
    },
    {
      "cell_type": "markdown",
      "source": [
        "In the code snippet below, `fit1`, `fit2`, and `fit3` is the regression outputs you saved in previous code, `Name of Outcome Variable` is what you would like to show up on the top of each column, and `var1` and `var2` are the name of two independent variables included in the regression (e.g. party_rep). Note that you can and should include all the variables that you used in the models you ran in the `coef_map` line.\n",
        "```\n",
        "  modelsummary(list(\"Name Outcome Variable\" = fit1,\"Name Outcome Variable\" = fit2, \"Name Outcome Variable\" = fit3),\n",
        "  stars=T,\n",
        "  coef_map = c(\"(Intercept)\" = \"Constant\",\"var1\" = \"Name of var1\", \"var2\" = \"Name of var2\"),\n",
        " title = \"Add Here the Title of the Table\",\n",
        "  gof_omit = 'IC|Log',\n",
        "  output=\"jupyter\")\n",
        "\n",
        "  ```"
      ],
      "metadata": {
        "id": "ilzDcXcoJ0N8"
      }
    },
    {
      "cell_type": "code",
      "source": [
        "# Your code here "
      ],
      "metadata": {
        "id": "VPYoYkJUIQdI"
      },
      "execution_count": 9,
      "outputs": []
    },
    {
      "cell_type": "markdown",
      "source": [
        "**9. Finally, can you reject the null hypothesis that the relationship between  agreeing with the statement and receiving welfare is the same across the political groups?**"
      ],
      "metadata": {
        "id": "J0zxX7iQHyqg"
      }
    },
    {
      "cell_type": "markdown",
      "source": [
        "Your Answer Here "
      ],
      "metadata": {
        "id": "j35pfqg2H5bj"
      }
    },
    {
      "cell_type": "markdown",
      "source": [
        "**10. Come up with a variable in the dataset other than political party that you think may affect the relationship between beliefs about welfare and welfare participation. Create interaction term(s) and run a regression that allows you to test your hypothesis. Compare to a regression where you include that variable as a control, but without an interaction term. Interpret your results.**"
      ],
      "metadata": {
        "id": "IkYRdyp3Ai8B"
      }
    },
    {
      "cell_type": "code",
      "source": [
        "# Your code here "
      ],
      "metadata": {
        "id": "zt_LUsENBCzr"
      },
      "execution_count": 10,
      "outputs": []
    },
    {
      "cell_type": "markdown",
      "source": [
        "Your Answer Here "
      ],
      "metadata": {
        "id": "wtlq3962BN6l"
      }
    },
    {
      "cell_type": "markdown",
      "source": [
        "**Bonus. Describe what this exercise overall tells us about the causal relationship between beliefs about welfare and participation in welfare programs.**"
      ],
      "metadata": {
        "id": "sacyKvtjoEsP"
      }
    },
    {
      "cell_type": "markdown",
      "source": [
        "Your answer here"
      ],
      "metadata": {
        "id": "GZQ-_eU0om7H"
      }
    }
  ],
  "metadata": {
    "colab": {
      "provenance": [],
      "include_colab_link": true
    },
    "kernelspec": {
      "display_name": "R",
      "language": "R",
      "name": "ir"
    },
    "language_info": {
      "codemirror_mode": "r",
      "file_extension": ".r",
      "mimetype": "text/x-r-source",
      "name": "R",
      "pygments_lexer": "r",
      "version": "4.2.1"
    }
  },
  "nbformat": 4,
  "nbformat_minor": 0
}