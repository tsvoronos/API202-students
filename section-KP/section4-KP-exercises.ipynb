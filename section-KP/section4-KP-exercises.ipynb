{
  "nbformat": 4,
  "nbformat_minor": 0,
  "metadata": {
    "colab": {
      "provenance": [],
      "include_colab_link": true
    },
    "kernelspec": {
      "name": "ir",
      "display_name": "R"
    },
    "language_info": {
      "name": "R"
    }
  },
  "cells": [
    {
      "cell_type": "markdown",
      "metadata": {
        "id": "view-in-github",
        "colab_type": "text"
      },
      "source": [
        "<a href=\"https://colab.research.google.com/github/tsvoronos/API202-students/blob/main/section-KP/section4-KP-exercises.ipynb\" target=\"_parent\"><img src=\"https://colab.research.google.com/assets/colab-badge.svg\" alt=\"Open In Colab\"/></a>"
      ]
    },
    {
      "cell_type": "markdown",
      "source": [
        "# API-202M ABC SECTION #4\n",
        "###### TF: Kelsey Pukelis"
      ],
      "metadata": {
        "id": "jX3Jfe-X8rv6"
      }
    },
    {
      "cell_type": "markdown",
      "source": [
        "**I - INSTRUCTIONS**  \n",
        "\n",
        "1. **Create a copy of this Jupyter notebook in your own drive by clicking `Copy to Drive` in the menubar (this is explained below in more detail below) - *if you do not do this your work will not be saved!***\n",
        "    1. Remember to save your work frequently by pressing `command-S` or clicking `File > Save` in the menubar.\n",
        "    1. We recommend completing this in Google Chrome."
      ],
      "metadata": {
        "id": "ZTrAsOpk81_L"
      }
    },
    {
      "cell_type": "markdown",
      "source": [
        "## Part I: Data exercise for non-linear relationships"
      ],
      "metadata": {
        "id": "JKHdHpTP3LsD"
      }
    },
    {
      "cell_type": "markdown",
      "source": [
        "For this problem, we will be looking at data you may have seen before on income mobility in the U.S. (Same data as section 1!)"
      ],
      "metadata": {
        "id": "KwQVm6vUvEcD"
      }
    },
    {
      "cell_type": "markdown",
      "source": [
        "For more information, see the paper [\"The Opportunity Atlas: Mapping the Childhood Roots of Social Mobility\"](https://opportunityinsights.org/paper/the-opportunity-atlas/) by Raj Chetty, Nathaniel Hendren, John Friedman, Maggie R. Jones, and Sonya R. Porter. (Looking at this resource is not necessary for completing the problem, but you may find it interesting or helpful for articulating interpretations.)"
      ],
      "metadata": {
        "id": "nUFG_4NMuLXs"
      }
    },
    {
      "cell_type": "markdown",
      "source": [
        "## Load `R` libraries and data\n",
        "\n",
        "**Please refer to Sheet 1 in this [R Cheat Sheet](https://bit.ly/HKS-R) which includes the commands you learned last semester in addition to a number of additional ones.**\n",
        "\n",
        "The code cell below imports the R tidyverse and creates a dataframe that we will be using for the next exercise. Make sure to run it before starting the problem!\n",
        "\n",
        "*Note: Click the \"play\" button that appears when you hover over a cell to run it. The first time you do this you may receive an alert that this notebook was not authored by Google. If so, click \"Run anyway\" to proceed.*"
      ],
      "metadata": {
        "id": "SWj0YRUh9558"
      }
    },
    {
      "cell_type": "code",
      "execution_count": null,
      "metadata": {
        "id": "Bmm4lWyNta7U",
        "outputId": "5ce801a9-e09d-4136-bf94-affa71c8c337",
        "colab": {
          "base_uri": "https://localhost:8080/"
        }
      },
      "outputs": [
        {
          "output_type": "stream",
          "name": "stderr",
          "text": [
            "── \u001b[1mAttaching packages\u001b[22m ─────────────────────────────────────── tidyverse 1.3.1 ──\n",
            "\n",
            "\u001b[32m✔\u001b[39m \u001b[34mggplot2\u001b[39m 3.4.1     \u001b[32m✔\u001b[39m \u001b[34mpurrr  \u001b[39m 1.0.1\n",
            "\u001b[32m✔\u001b[39m \u001b[34mtibble \u001b[39m 3.1.8     \u001b[32m✔\u001b[39m \u001b[34mdplyr  \u001b[39m 1.1.0\n",
            "\u001b[32m✔\u001b[39m \u001b[34mtidyr  \u001b[39m 1.3.0     \u001b[32m✔\u001b[39m \u001b[34mstringr\u001b[39m 1.4.1\n",
            "\u001b[32m✔\u001b[39m \u001b[34mreadr  \u001b[39m 2.1.4     \u001b[32m✔\u001b[39m \u001b[34mforcats\u001b[39m 1.0.0\n",
            "\n",
            "── \u001b[1mConflicts\u001b[22m ────────────────────────────────────────── tidyverse_conflicts() ──\n",
            "\u001b[31m✖\u001b[39m \u001b[34mdplyr\u001b[39m::\u001b[32mfilter()\u001b[39m masks \u001b[34mstats\u001b[39m::filter()\n",
            "\u001b[31m✖\u001b[39m \u001b[34mdplyr\u001b[39m::\u001b[32mlag()\u001b[39m    masks \u001b[34mstats\u001b[39m::lag()\n",
            "\n"
          ]
        }
      ],
      "source": [
        "#suppress warnings\n",
        "options(warn = -1,dplyr.summarise.inform=FALSE)\n",
        "\n",
        "#load packages\n",
        "library(tidyverse)\n",
        "library(broom)\n",
        "library(ggplot2)\n",
        "\n",
        "# load data\n",
        "mobility_all <- read.csv('https://opportunityinsights.org/wp-content/uploads/2018/10/national_percentile_outcomes.csv')"
      ]
    },
    {
      "cell_type": "code",
      "source": [
        "# run this to select only the variables in the data we will be working with\n",
        "mobility <- mobility_all %>% \n",
        "  select(par_pctile,(starts_with(\"jail\") & ends_with(\"_pooled\")))"
      ],
      "metadata": {
        "id": "jQ9y3_i3wW1i"
      },
      "execution_count": null,
      "outputs": []
    },
    {
      "cell_type": "markdown",
      "source": [
        "Here is a description of each variable in our shortened dataset:\n",
        "\n",
        "*   ``par_pctile``: Parent Income Rank in National Income Distribution. \n",
        "*   ``jail_pooled_pooled``: Fraction incarcerated on April 1st, 2010 (where incarceration is defined as residing in a federal detention center, federal prison, state prison, local jail, residential correctional facility, military jail, or juvenile correctional facility). The first \"pooled\" label means the data represents all races. The second \"pooled\" label means because the data represents all genders.\n",
        "*   ``jail_[race]_pooled``: Fraction incarcerated on April 1st, 2010 for that race/ethnicity group. (Like above, the last \"pooled\" means these data represents all genders.)"
      ],
      "metadata": {
        "id": "Pq6UybAjz65U"
      }
    },
    {
      "cell_type": "markdown",
      "source": [
        "(Here is the  [codebook](https://opportunityinsights.org/wp-content/uploads/2019/07/Codebook-for-Table-7.pdf) for the full data, if you're curious.)"
      ],
      "metadata": {
        "id": "md-MaiBXy9O9"
      }
    },
    {
      "cell_type": "code",
      "source": [
        "# take a look at the first few observations of the data\n",
        "head(mobility)"
      ],
      "metadata": {
        "colab": {
          "base_uri": "https://localhost:8080/",
          "height": 286
        },
        "id": "fCxpmJEaMCcL",
        "outputId": "f8930b49-68b8-4b73-ba75-f0c743efd1c5"
      },
      "execution_count": null,
      "outputs": [
        {
          "output_type": "display_data",
          "data": {
            "text/html": [
              "<table class=\"dataframe\">\n",
              "<caption>A data.frame: 6 × 8</caption>\n",
              "<thead>\n",
              "\t<tr><th></th><th scope=col>par_pctile</th><th scope=col>jail_pooled_pooled</th><th scope=col>jail_asian_pooled</th><th scope=col>jail_black_pooled</th><th scope=col>jail_hisp_pooled</th><th scope=col>jail_natam_pooled</th><th scope=col>jail_other_pooled</th><th scope=col>jail_white_pooled</th></tr>\n",
              "\t<tr><th></th><th scope=col>&lt;int&gt;</th><th scope=col>&lt;dbl&gt;</th><th scope=col>&lt;dbl&gt;</th><th scope=col>&lt;dbl&gt;</th><th scope=col>&lt;dbl&gt;</th><th scope=col>&lt;dbl&gt;</th><th scope=col>&lt;dbl&gt;</th><th scope=col>&lt;dbl&gt;</th></tr>\n",
              "</thead>\n",
              "<tbody>\n",
              "\t<tr><th scope=row>1</th><td>1</td><td>0.05587</td><td>0.004098</td><td>0.10430</td><td>0.03499</td><td>0.07073</td><td>0.02007</td><td>0.03733</td></tr>\n",
              "\t<tr><th scope=row>2</th><td>2</td><td>0.05033</td><td>0.003936</td><td>0.09618</td><td>0.03290</td><td>0.05996</td><td>0.01597</td><td>0.03464</td></tr>\n",
              "\t<tr><th scope=row>3</th><td>3</td><td>0.04627</td><td>0.004104</td><td>0.08644</td><td>0.02931</td><td>0.06418</td><td>0.01906</td><td>0.03460</td></tr>\n",
              "\t<tr><th scope=row>4</th><td>4</td><td>0.04445</td><td>0.004954</td><td>0.08586</td><td>0.02776</td><td>0.05662</td><td>0.01667</td><td>0.03246</td></tr>\n",
              "\t<tr><th scope=row>5</th><td>5</td><td>0.04172</td><td>0.004271</td><td>0.08046</td><td>0.02634</td><td>0.04995</td><td>0.01573</td><td>0.03146</td></tr>\n",
              "\t<tr><th scope=row>6</th><td>6</td><td>0.04048</td><td>0.003178</td><td>0.08032</td><td>0.02490</td><td>0.05258</td><td>0.01598</td><td>0.02974</td></tr>\n",
              "</tbody>\n",
              "</table>\n"
            ],
            "text/markdown": "\nA data.frame: 6 × 8\n\n| <!--/--> | par_pctile &lt;int&gt; | jail_pooled_pooled &lt;dbl&gt; | jail_asian_pooled &lt;dbl&gt; | jail_black_pooled &lt;dbl&gt; | jail_hisp_pooled &lt;dbl&gt; | jail_natam_pooled &lt;dbl&gt; | jail_other_pooled &lt;dbl&gt; | jail_white_pooled &lt;dbl&gt; |\n|---|---|---|---|---|---|---|---|---|\n| 1 | 1 | 0.05587 | 0.004098 | 0.10430 | 0.03499 | 0.07073 | 0.02007 | 0.03733 |\n| 2 | 2 | 0.05033 | 0.003936 | 0.09618 | 0.03290 | 0.05996 | 0.01597 | 0.03464 |\n| 3 | 3 | 0.04627 | 0.004104 | 0.08644 | 0.02931 | 0.06418 | 0.01906 | 0.03460 |\n| 4 | 4 | 0.04445 | 0.004954 | 0.08586 | 0.02776 | 0.05662 | 0.01667 | 0.03246 |\n| 5 | 5 | 0.04172 | 0.004271 | 0.08046 | 0.02634 | 0.04995 | 0.01573 | 0.03146 |\n| 6 | 6 | 0.04048 | 0.003178 | 0.08032 | 0.02490 | 0.05258 | 0.01598 | 0.02974 |\n\n",
            "text/latex": "A data.frame: 6 × 8\n\\begin{tabular}{r|llllllll}\n  & par\\_pctile & jail\\_pooled\\_pooled & jail\\_asian\\_pooled & jail\\_black\\_pooled & jail\\_hisp\\_pooled & jail\\_natam\\_pooled & jail\\_other\\_pooled & jail\\_white\\_pooled\\\\\n  & <int> & <dbl> & <dbl> & <dbl> & <dbl> & <dbl> & <dbl> & <dbl>\\\\\n\\hline\n\t1 & 1 & 0.05587 & 0.004098 & 0.10430 & 0.03499 & 0.07073 & 0.02007 & 0.03733\\\\\n\t2 & 2 & 0.05033 & 0.003936 & 0.09618 & 0.03290 & 0.05996 & 0.01597 & 0.03464\\\\\n\t3 & 3 & 0.04627 & 0.004104 & 0.08644 & 0.02931 & 0.06418 & 0.01906 & 0.03460\\\\\n\t4 & 4 & 0.04445 & 0.004954 & 0.08586 & 0.02776 & 0.05662 & 0.01667 & 0.03246\\\\\n\t5 & 5 & 0.04172 & 0.004271 & 0.08046 & 0.02634 & 0.04995 & 0.01573 & 0.03146\\\\\n\t6 & 6 & 0.04048 & 0.003178 & 0.08032 & 0.02490 & 0.05258 & 0.01598 & 0.02974\\\\\n\\end{tabular}\n",
            "text/plain": [
              "  par_pctile jail_pooled_pooled jail_asian_pooled jail_black_pooled\n",
              "1 1          0.05587            0.004098          0.10430          \n",
              "2 2          0.05033            0.003936          0.09618          \n",
              "3 3          0.04627            0.004104          0.08644          \n",
              "4 4          0.04445            0.004954          0.08586          \n",
              "5 5          0.04172            0.004271          0.08046          \n",
              "6 6          0.04048            0.003178          0.08032          \n",
              "  jail_hisp_pooled jail_natam_pooled jail_other_pooled jail_white_pooled\n",
              "1 0.03499          0.07073           0.02007           0.03733          \n",
              "2 0.03290          0.05996           0.01597           0.03464          \n",
              "3 0.02931          0.06418           0.01906           0.03460          \n",
              "4 0.02776          0.05662           0.01667           0.03246          \n",
              "5 0.02634          0.04995           0.01573           0.03146          \n",
              "6 0.02490          0.05258           0.01598           0.02974          "
            ]
          },
          "metadata": {}
        }
      ]
    },
    {
      "cell_type": "markdown",
      "source": [
        "\n",
        "**Let's start out with familiarizing ourselves with the interpretation of the variable for Parent Income Rank** (``par_pctile``)."
      ],
      "metadata": {
        "id": "cjmZdl3t0f9y"
      }
    },
    {
      "cell_type": "markdown",
      "source": [
        "A. A rank of 1 mean means that a parent was **very poor**. In particular, they were in the lowest percentile of the national income distribution.\n",
        "\n",
        "B. A rank of 99 mean means that a parent was **very rich**. In particular, they were in the highest percentile of the national income distribution.\n",
        "\n",
        "C. A rank of 50 mean means that a parent was **in the middle** of the national income distribution. In particular, they were at the median."
      ],
      "metadata": {
        "id": "eqXrLqRj2T3D"
      }
    },
    {
      "cell_type": "markdown",
      "source": [
        "**Convert the ``jail_`` variables from fractions to percents, to ease interpretations.**"
      ],
      "metadata": {
        "id": "qjtO84BO-sc6"
      }
    },
    {
      "cell_type": "code",
      "source": [
        "mobility_pct <- mobility %>% \n",
        "  mutate(jail_pooled_pooled = jail_pooled_pooled*100) %>% \n",
        "  mutate(jail_asian_pooled = jail_asian_pooled*100) %>% \n",
        "  mutate(jail_black_pooled = jail_black_pooled*100) %>% \n",
        "  mutate(jail_hisp_pooled = jail_hisp_pooled*100) %>% \n",
        "  mutate(jail_natam_pooled = jail_natam_pooled*100) %>% \n",
        "  mutate(jail_other_pooled = jail_other_pooled*100) %>% \n",
        "  mutate(jail_white_pooled = jail_white_pooled*100)\n",
        "head(mobility_pct)"
      ],
      "metadata": {
        "colab": {
          "base_uri": "https://localhost:8080/",
          "height": 306
        },
        "id": "9jEjfpHf_H-L",
        "outputId": "74856cc7-a579-4a5e-b597-fed6377f9569"
      },
      "execution_count": null,
      "outputs": [
        {
          "output_type": "display_data",
          "data": {
            "text/html": [
              "<table class=\"dataframe\">\n",
              "<caption>A data.frame: 6 × 8</caption>\n",
              "<thead>\n",
              "\t<tr><th></th><th scope=col>par_pctile</th><th scope=col>jail_pooled_pooled</th><th scope=col>jail_asian_pooled</th><th scope=col>jail_black_pooled</th><th scope=col>jail_hisp_pooled</th><th scope=col>jail_natam_pooled</th><th scope=col>jail_other_pooled</th><th scope=col>jail_white_pooled</th></tr>\n",
              "\t<tr><th></th><th scope=col>&lt;int&gt;</th><th scope=col>&lt;dbl&gt;</th><th scope=col>&lt;dbl&gt;</th><th scope=col>&lt;dbl&gt;</th><th scope=col>&lt;dbl&gt;</th><th scope=col>&lt;dbl&gt;</th><th scope=col>&lt;dbl&gt;</th><th scope=col>&lt;dbl&gt;</th></tr>\n",
              "</thead>\n",
              "<tbody>\n",
              "\t<tr><th scope=row>1</th><td>1</td><td>5.587</td><td>0.4098</td><td>10.430</td><td>3.499</td><td>7.073</td><td>2.007</td><td>3.733</td></tr>\n",
              "\t<tr><th scope=row>2</th><td>2</td><td>5.033</td><td>0.3936</td><td> 9.618</td><td>3.290</td><td>5.996</td><td>1.597</td><td>3.464</td></tr>\n",
              "\t<tr><th scope=row>3</th><td>3</td><td>4.627</td><td>0.4104</td><td> 8.644</td><td>2.931</td><td>6.418</td><td>1.906</td><td>3.460</td></tr>\n",
              "\t<tr><th scope=row>4</th><td>4</td><td>4.445</td><td>0.4954</td><td> 8.586</td><td>2.776</td><td>5.662</td><td>1.667</td><td>3.246</td></tr>\n",
              "\t<tr><th scope=row>5</th><td>5</td><td>4.172</td><td>0.4271</td><td> 8.046</td><td>2.634</td><td>4.995</td><td>1.573</td><td>3.146</td></tr>\n",
              "\t<tr><th scope=row>6</th><td>6</td><td>4.048</td><td>0.3178</td><td> 8.032</td><td>2.490</td><td>5.258</td><td>1.598</td><td>2.974</td></tr>\n",
              "</tbody>\n",
              "</table>\n"
            ],
            "text/markdown": "\nA data.frame: 6 × 8\n\n| <!--/--> | par_pctile &lt;int&gt; | jail_pooled_pooled &lt;dbl&gt; | jail_asian_pooled &lt;dbl&gt; | jail_black_pooled &lt;dbl&gt; | jail_hisp_pooled &lt;dbl&gt; | jail_natam_pooled &lt;dbl&gt; | jail_other_pooled &lt;dbl&gt; | jail_white_pooled &lt;dbl&gt; |\n|---|---|---|---|---|---|---|---|---|\n| 1 | 1 | 5.587 | 0.4098 | 10.430 | 3.499 | 7.073 | 2.007 | 3.733 |\n| 2 | 2 | 5.033 | 0.3936 |  9.618 | 3.290 | 5.996 | 1.597 | 3.464 |\n| 3 | 3 | 4.627 | 0.4104 |  8.644 | 2.931 | 6.418 | 1.906 | 3.460 |\n| 4 | 4 | 4.445 | 0.4954 |  8.586 | 2.776 | 5.662 | 1.667 | 3.246 |\n| 5 | 5 | 4.172 | 0.4271 |  8.046 | 2.634 | 4.995 | 1.573 | 3.146 |\n| 6 | 6 | 4.048 | 0.3178 |  8.032 | 2.490 | 5.258 | 1.598 | 2.974 |\n\n",
            "text/latex": "A data.frame: 6 × 8\n\\begin{tabular}{r|llllllll}\n  & par\\_pctile & jail\\_pooled\\_pooled & jail\\_asian\\_pooled & jail\\_black\\_pooled & jail\\_hisp\\_pooled & jail\\_natam\\_pooled & jail\\_other\\_pooled & jail\\_white\\_pooled\\\\\n  & <int> & <dbl> & <dbl> & <dbl> & <dbl> & <dbl> & <dbl> & <dbl>\\\\\n\\hline\n\t1 & 1 & 5.587 & 0.4098 & 10.430 & 3.499 & 7.073 & 2.007 & 3.733\\\\\n\t2 & 2 & 5.033 & 0.3936 &  9.618 & 3.290 & 5.996 & 1.597 & 3.464\\\\\n\t3 & 3 & 4.627 & 0.4104 &  8.644 & 2.931 & 6.418 & 1.906 & 3.460\\\\\n\t4 & 4 & 4.445 & 0.4954 &  8.586 & 2.776 & 5.662 & 1.667 & 3.246\\\\\n\t5 & 5 & 4.172 & 0.4271 &  8.046 & 2.634 & 4.995 & 1.573 & 3.146\\\\\n\t6 & 6 & 4.048 & 0.3178 &  8.032 & 2.490 & 5.258 & 1.598 & 2.974\\\\\n\\end{tabular}\n",
            "text/plain": [
              "  par_pctile jail_pooled_pooled jail_asian_pooled jail_black_pooled\n",
              "1 1          5.587              0.4098            10.430           \n",
              "2 2          5.033              0.3936             9.618           \n",
              "3 3          4.627              0.4104             8.644           \n",
              "4 4          4.445              0.4954             8.586           \n",
              "5 5          4.172              0.4271             8.046           \n",
              "6 6          4.048              0.3178             8.032           \n",
              "  jail_hisp_pooled jail_natam_pooled jail_other_pooled jail_white_pooled\n",
              "1 3.499            7.073             2.007             3.733            \n",
              "2 3.290            5.996             1.597             3.464            \n",
              "3 2.931            6.418             1.906             3.460            \n",
              "4 2.776            5.662             1.667             3.246            \n",
              "5 2.634            4.995             1.573             3.146            \n",
              "6 2.490            5.258             1.598             2.974            "
            ]
          },
          "metadata": {}
        }
      ]
    },
    {
      "cell_type": "markdown",
      "source": [
        "## All races"
      ],
      "metadata": {
        "id": "k4jIRDD6FHmk"
      }
    },
    {
      "cell_type": "markdown",
      "source": [
        "**(From section 1) 0a. Create a scatter plot showing the relationship between incarceration rates and parent income rank for the whole sample (all races and genders).**"
      ],
      "metadata": {
        "id": "shmCeVjn4cBq"
      }
    },
    {
      "cell_type": "code",
      "source": [
        "# Your Answer Here\n",
        "\n",
        "# START\n",
        "\n",
        "# scatter plot\n",
        "# the next two lines of code are essential for creating the bare-bones plot\n",
        "base_plot <- mobility_pct %>% \n",
        "  ggplot(aes(x = par_pctile,y = jail_pooled_pooled)) + geom_point() +\n",
        "  # the rest of this is just labeling and formatting to make things look nice\n",
        "  ggtitle(\"Relationship between Incarceration and Parent Income Rank.\") +\n",
        "  xlab(\"Parent Income Rank\") +\n",
        "  ylab(\"Percent incarcerated\") +\n",
        "  theme_bw()\n",
        "base_plot\n",
        "# END"
      ],
      "metadata": {
        "colab": {
          "base_uri": "https://localhost:8080/",
          "height": 437
        },
        "id": "0Dr-iwGQ4X4p",
        "outputId": "9e9e991a-e815-4d4e-d6c3-94d8982d1bb1"
      },
      "execution_count": null,
      "outputs": [
        {
          "output_type": "display_data",
          "data": {
            "text/plain": [
              "plot without title"
            ],
            "image/png": "[encoded data removed]"
          },
          "metadata": {
            "image/png": {
              "width": 420,
              "height": 420
            }
          }
        }
      ]
    },
    {
      "cell_type": "markdown",
      "source": [
        "**0b. Comment on this \"scatter\" plot. For example, you might consider whether the relationship appears linear, whether this looks like a \"scatter\" plot, and on the correlation of these variables. What is your takeaway about the relationship between parental income and incarceration rates?**"
      ],
      "metadata": {
        "id": "SjFezyI3FE4y"
      }
    },
    {
      "cell_type": "markdown",
      "source": [
        "#### START\n",
        "\n",
        "The relationship between these two variables is negative: children from poor families are incarcerated at higher rates as adults compared to children from rich families. The \"scatter\" plot is quite streamlined and not very \"scattered.\" In fact, the relationship looks very quadratic or logarithmic. \n",
        "\n",
        "Aside: The reason for this striking, clear relationship is because the data is very rich (it is a summary of all families who file taxes in the U.S.) AND the relationship between these variables is very strong/robust. \n",
        "\n",
        "#### END"
      ],
      "metadata": {
        "id": "qpzs74YOF-p7"
      }
    },
    {
      "cell_type": "markdown",
      "source": [
        "**0c. Overlay a linear regression line to your plot. Comment on the fit of this regression line to the data.**\n"
      ],
      "metadata": {
        "id": "Xf4cl8rSH62f"
      }
    },
    {
      "cell_type": "code",
      "source": [
        "# Your Answer Here\n",
        "\n",
        "# START \n",
        "base_plot + \n",
        "  geom_smooth(method = \"lm\", se = F, formula = y ~ x,color = \"blue\") \n",
        "# END"
      ],
      "metadata": {
        "colab": {
          "base_uri": "https://localhost:8080/",
          "height": 437
        },
        "id": "TiS5yLwhIlg7",
        "outputId": "63890876-e42c-480e-b9dd-6f21c9802e9c"
      },
      "execution_count": null,
      "outputs": [
        {
          "output_type": "display_data",
          "data": {
            "text/plain": [
              "plot without title"
            ],
            "image/png": "[encoded data removed]"
          },
          "metadata": {
            "image/png": {
              "width": 420,
              "height": 420
            }
          }
        }
      ]
    },
    {
      "cell_type": "markdown",
      "source": [
        "#### START\n",
        "\n",
        "The linear regression line fits the data decently well. It is quite clear that the real relationship is between the variables is non-linear, but the linear model does a decent job at describing the negative relationship between the two variables. \n",
        "\n",
        "*Note: You could have said either \"well\" or \"not well\", so long as you justify your response. *\n",
        "\n",
        "One way to tell that the true relationship between the variables is non-linear is that there is a **systematic** change in the sign of the residuals: for low values of X, the residuals are positive; for middle values of X, the residuals are negative, and for high vlues of X, the residuals are positive again. In constrast, if the linear fit was good, the data points would look \"randomly\" scattered around the regression line, correponding to \"random\" error. \n",
        "\n",
        "#### END"
      ],
      "metadata": {
        "id": "IS7Kg4SkJw8a"
      }
    },
    {
      "cell_type": "markdown",
      "source": [
        "**0d. Run a linear regression of incarceration rate on parental income rank. Interpret the coefficients and comment on their statistical significance.**"
      ],
      "metadata": {
        "id": "G8hG6m5mUmnt"
      }
    },
    {
      "cell_type": "code",
      "source": [
        "# Your Answer Here\n",
        "\n",
        "# START \n",
        "\n",
        "lm_linear <- lm(jail_pooled_pooled ~ par_pctile,data = mobility_pct)\n",
        "summary(lm_linear)\n",
        "# END"
      ],
      "metadata": {
        "colab": {
          "base_uri": "https://localhost:8080/",
          "height": 338
        },
        "id": "aRLq0NwyUk6L",
        "outputId": "65d92297-bb32-45e2-a299-19b60c9c6c4e"
      },
      "execution_count": null,
      "outputs": [
        {
          "output_type": "display_data",
          "data": {
            "text/plain": [
              "\n",
              "Call:\n",
              "lm(formula = jail_pooled_pooled ~ par_pctile, data = mobility_pct)\n",
              "\n",
              "Residuals:\n",
              "    Min      1Q  Median      3Q     Max \n",
              "-0.4944 -0.3486 -0.1082  0.2401  1.9691 \n",
              "\n",
              "Coefficients:\n",
              "             Estimate Std. Error t value Pr(>|t|)    \n",
              "(Intercept)  3.659181   0.088678   41.26   <2e-16 ***\n",
              "par_pctile  -0.041263   0.001525  -27.07   <2e-16 ***\n",
              "---\n",
              "Signif. codes:  0 ‘***’ 0.001 ‘**’ 0.01 ‘*’ 0.05 ‘.’ 0.1 ‘ ’ 1\n",
              "\n",
              "Residual standard error: 0.4401 on 98 degrees of freedom\n",
              "Multiple R-squared:  0.882,\tAdjusted R-squared:  0.8808 \n",
              "F-statistic: 732.6 on 1 and 98 DF,  p-value: < 2.2e-16\n"
            ]
          },
          "metadata": {}
        }
      ]
    },
    {
      "cell_type": "markdown",
      "source": [
        "#### START \n",
        "\n",
        "Intercept: The regression estimates that 3.66 percent of children with the very poorest parents end up incarcerated as adults. \n",
        "\n",
        "Slope: Increasing the parental income rank by 1 is associated with a 0.04 percentage point decrease in the likelihood that a child ends up incarcerated as an adult. \n",
        "\n",
        "Alternatively, increasing the parental income rank by 10 is associated with a 0.4 percentage point decrease in the likelihood that a child ends up incarcerated as an adult.\n",
        "\n",
        "Both coefficients are highly statistically significant. We can tell this because the p-values for both coefficients are very small (p < 2e-16 = 2 * 10^-16 = 0.0000000000000002). We should have expected this because there is a clear, negative relationship between these two variables as shown in the plot.\n",
        "\n",
        "#### END"
      ],
      "metadata": {
        "id": "bLF2gEXceUF9"
      }
    },
    {
      "cell_type": "markdown",
      "source": [
        "Recall the code for overlaying a linear regression line on a plot:\n",
        "```\n",
        "base_plot + geom_smooth(method = \"lm\", se = F, formula = y ~ x) \n",
        "```"
      ],
      "metadata": {
        "id": "_UwIKPnvrTeC"
      }
    },
    {
      "cell_type": "markdown",
      "source": [
        "To accomodate a nonlinear relationship, we simply indicate a formula. The `I()` wrapper helps tell R how to treat this variable.\n",
        "\n",
        "```\n",
        "# quadratic\n",
        "base_plot + geom_smooth(method = \"lm\", se = F, formula = y ~ x + I(x^2)) \n",
        "\n",
        "# logarithmic\n",
        "base_plot + geom_smooth(method = \"lm\", se = F, formula = y ~ I(log(x))) \n",
        "\n",
        "```"
      ],
      "metadata": {
        "id": "FtHLRqFbrtja"
      }
    },
    {
      "cell_type": "markdown",
      "source": [
        "**1. Plot the scatter plot, now overlaying a quadratic AND logarithmic fit to the line in addition to a linear fit. Comment on which looks like it fits the data better. What does this mean about the relationship between parent income rank and incarceration?** "
      ],
      "metadata": {
        "id": "ZmGUts-JrGi0"
      }
    },
    {
      "cell_type": "code",
      "source": [
        "# Your code here "
      ],
      "metadata": {
        "id": "5GJe67ulsJTu"
      },
      "execution_count": 1,
      "outputs": []
    },
    {
      "cell_type": "markdown",
      "source": [
        "Your Answer Here"
      ],
      "metadata": {
        "id": "SWgpKnsomvB0"
      }
    },
    {
      "cell_type": "markdown",
      "source": [
        "**2. Run a regression of the incarceration rate on parent income rank assuming a quadratic relationship. Are the signs of the coefficients what you expected? Connect this to the table in the lecture notes about the signs on quadratic specifications.**"
      ],
      "metadata": {
        "id": "Qs6pqJ4ynbWW"
      }
    },
    {
      "cell_type": "code",
      "source": [
        "# Your code here "
      ],
      "metadata": {
        "id": "jG50PCnnnm59"
      },
      "execution_count": 2,
      "outputs": []
    },
    {
      "cell_type": "markdown",
      "source": [
        "Your answer here "
      ],
      "metadata": {
        "id": "qHYw0dI-oSW9"
      }
    },
    {
      "cell_type": "markdown",
      "source": [
        "**3. Now run a regression of incarceration rate on the log of parental income rank. Interpret the coefficient.**\n"
      ],
      "metadata": {
        "id": "PVu9QzSyo2gP"
      }
    },
    {
      "cell_type": "code",
      "source": [
        "# Your code here "
      ],
      "metadata": {
        "id": "D65p0Iu6pGeb"
      },
      "execution_count": 3,
      "outputs": []
    },
    {
      "cell_type": "markdown",
      "source": [
        "Your answer here"
      ],
      "metadata": {
        "id": "vNbwvB6Spcke"
      }
    },
    {
      "cell_type": "markdown",
      "source": [
        "**4. Using the logarithmic model, predict the incarceration rate for a person at each of the the following income ranks: 10, 20, 80 and 90. Compare to the actual data points.**"
      ],
      "metadata": {
        "id": "frz4XiStsiKo"
      }
    },
    {
      "cell_type": "code",
      "source": [
        "# Your code here (optional)"
      ],
      "metadata": {
        "id": "gwRJK-X3ssEc"
      },
      "execution_count": 4,
      "outputs": []
    },
    {
      "cell_type": "markdown",
      "source": [
        "**Bonus: Create a scatter plot of incarceration rate and *log of* parental income rank. What do you notice?**"
      ],
      "metadata": {
        "id": "mqxk0_LZpiLr"
      }
    },
    {
      "cell_type": "code",
      "source": [
        "# Your code here "
      ],
      "metadata": {
        "id": "tpaC5y1tptCB"
      },
      "execution_count": 5,
      "outputs": []
    },
    {
      "cell_type": "markdown",
      "source": [
        "Your answer here"
      ],
      "metadata": {
        "id": "EHwenjVEqNHn"
      }
    },
    {
      "cell_type": "markdown",
      "source": [
        "**Bonus. Create a table summarizing the three regressions you ran in this section.**"
      ],
      "metadata": {
        "id": "lZM-JlKX3A5R"
      }
    },
    {
      "cell_type": "code",
      "source": [
        "check_installed <- require(modelsummary)\n",
        "if(check_installed==F){\n",
        "  install.packages(\"modelsummary\")\n",
        "  require(modelsummary)\n",
        "}\n"
      ],
      "metadata": {
        "colab": {
          "base_uri": "https://localhost:8080/"
        },
        "id": "qZtJZBJE3O45",
        "outputId": "16e5be83-d546-4a3f-aa77-18532a43ee07"
      },
      "execution_count": null,
      "outputs": [
        {
          "output_type": "stream",
          "name": "stderr",
          "text": [
            "Loading required package: modelsummary\n",
            "\n",
            "Installing package into ‘/usr/local/lib/R/site-library’\n",
            "(as ‘lib’ is unspecified)\n",
            "\n",
            "also installing the dependencies ‘webshot’, ‘bayestestR’, ‘datawizard’, ‘checkmate’, ‘insight’, ‘kableExtra’, ‘parameters’, ‘performance’, ‘tables’\n",
            "\n",
            "\n",
            "Loading required package: modelsummary\n",
            "\n"
          ]
        }
      ]
    },
    {
      "cell_type": "code",
      "source": [
        "# Your code here"
      ],
      "metadata": {
        "id": "ORBSuI1c3GvX"
      },
      "execution_count": 6,
      "outputs": []
    }
  ]
}