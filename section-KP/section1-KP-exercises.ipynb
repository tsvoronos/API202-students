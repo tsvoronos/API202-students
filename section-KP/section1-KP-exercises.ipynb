{
  "nbformat": 4,
  "nbformat_minor": 0,
  "metadata": {
    "colab": {
      "provenance": [],
      "include_colab_link": true
    },
    "kernelspec": {
      "name": "ir",
      "display_name": "R"
    },
    "language_info": {
      "name": "R"
    }
  },
  "cells": [
    {
      "cell_type": "markdown",
      "metadata": {
        "id": "view-in-github",
        "colab_type": "text"
      },
      "source": [
        "<a href=\"https://colab.research.google.com/github/tsvoronos/API202-students/blob/main/section-KP/section1-KP-exercises.ipynb\" target=\"_parent\"><img src=\"https://colab.research.google.com/assets/colab-badge.svg\" alt=\"Open In Colab\"/></a>"
      ]
    },
    {
      "cell_type": "markdown",
      "source": [
        "# API-202M ABC SECTION #1\n",
        "###### TF: Kelsey Pukelis"
      ],
      "metadata": {
        "id": "jX3Jfe-X8rv6"
      }
    },
    {
      "cell_type": "markdown",
      "source": [
        "**I - INSTRUCTIONS**  \n",
        "\n",
        "1. **Create a copy of this Jupyter notebook in your own drive by clicking `Copy to Drive` in the menubar (this is explained below in more detail below) - *if you do not do this your work will not be saved!***\n",
        "    1. Remember to save your work frequently by pressing `command-S` or clicking `File > Save` in the menubar.\n",
        "    1. We recommend completing this in Google Chrome."
      ],
      "metadata": {
        "id": "ZTrAsOpk81_L"
      }
    },
    {
      "cell_type": "markdown",
      "source": [
        "## Part I: regression by hand (and in reverse)"
      ],
      "metadata": {
        "id": "sFsITNE-VRue"
      }
    },
    {
      "cell_type": "markdown",
      "source": [
        "Hint: Note that the following formulas apply:\n",
        "\n",
        "$\\hat \\beta_1 = \\frac{\\Delta Y }{\\Delta X}$ (Change in Y divided by Change in X)\n",
        "\n",
        "$\\hat u_i = Y_i - \\hat Y_i $ (The residual for each observation)\n",
        "\n",
        "*Note: You may use R to do the calculations as long as you do not use the built-in regression function. Alternatively, you can calculate them by hand or using Excel.*"
      ],
      "metadata": {
        "id": "0O9G7VDkWFbI"
      }
    },
    {
      "cell_type": "markdown",
      "source": [
        "**0a. Write the Sample Regression Function for generic variables $X$ and $Y$ (the version without a residual).**"
      ],
      "metadata": {
        "id": "zif9aWoDW9eU"
      }
    },
    {
      "cell_type": "markdown",
      "source": [
        "Your Answer Here"
      ],
      "metadata": {
        "id": "5jXt-XBpXHI9"
      }
    },
    {
      "cell_type": "markdown",
      "source": [
        "**0b. Rearrange the equation above to have an equation: $\\hat{\\beta}_0 = $ ...**"
      ],
      "metadata": {
        "id": "OZ9gm-xCBDHO"
      }
    },
    {
      "cell_type": "markdown",
      "source": [
        "Your Answer Here \n",
        "\n"
      ],
      "metadata": {
        "id": "qHiJQ9czBV-O"
      }
    },
    {
      "cell_type": "markdown",
      "source": [
        "*Note: You may find it especially helpful for the rest of this exercise to hand-draw a picture.*"
      ],
      "metadata": {
        "id": "S2AUulMMDhDT"
      }
    },
    {
      "cell_type": "markdown",
      "source": [
        "Suppose you were given two points on a regression line:\n",
        "\n",
        "$$\n",
        "(X_A,\\hat{Y}_A) = (2,2)\n",
        "$$\n",
        "\n",
        "$$\n",
        "(X_B,\\hat{Y}_B) = (4,3)\n",
        "$$\n",
        "\n"
      ],
      "metadata": {
        "id": "zgSb8O9hVcgi"
      }
    },
    {
      "cell_type": "markdown",
      "source": [
        "**1. Calculate $\\hat{\\beta}_1$.**"
      ],
      "metadata": {
        "id": "U5enQzhTD5KP"
      }
    },
    {
      "cell_type": "code",
      "source": [
        "# Code block for calulations\n"
      ],
      "metadata": {
        "id": "_VSZ-6xODxPI"
      },
      "execution_count": 5,
      "outputs": []
    },
    {
      "cell_type": "markdown",
      "source": [
        "**2. Calculate $\\hat{\\beta_0}$.**"
      ],
      "metadata": {
        "id": "2wCilwU1WT_R"
      }
    },
    {
      "cell_type": "code",
      "source": [
        "# Code block for calculations\n"
      ],
      "metadata": {
        "id": "biYwy4SQEM-c"
      },
      "execution_count": 6,
      "outputs": []
    },
    {
      "cell_type": "markdown",
      "source": [
        "Suppose someone tells you that there is a third observation, where $X_C = 7$ "
      ],
      "metadata": {
        "id": "pio23zwXX11X"
      }
    },
    {
      "cell_type": "markdown",
      "source": [
        "**3. Calculate $\\hat{Y}_C$.**"
      ],
      "metadata": {
        "id": "FKuoWv8GWz6v"
      }
    },
    {
      "cell_type": "code",
      "source": [
        "# Code block for calculations\n"
      ],
      "metadata": {
        "id": "LFXkUeHuGG5b"
      },
      "execution_count": 7,
      "outputs": []
    },
    {
      "cell_type": "markdown",
      "source": [
        "Now suppose someone gives you 3 points from the actual, observed data: \n",
        "\n",
        "$$\n",
        "(X_A,Y_A) = (2,1)\n",
        "$$\n",
        "$$\n",
        "(X_B,Y_B) = (4,5)\n",
        "$$\n",
        "$$\n",
        "(X_C,Y_C) = (7,3.5)\n",
        "$$\n"
      ],
      "metadata": {
        "id": "GowgGkOPWczS"
      }
    },
    {
      "cell_type": "markdown",
      "source": [
        "**4. Calculate $\\hat{u}_A$, $\\hat{u}_B$, and $\\hat{u}_C$.**"
      ],
      "metadata": {
        "id": "RgRoUKEvWZKy"
      }
    },
    {
      "cell_type": "code",
      "source": [
        "# Code block for calculations\n"
      ],
      "metadata": {
        "id": "sRDgW3x9Gh6f"
      },
      "execution_count": 8,
      "outputs": []
    },
    {
      "cell_type": "markdown",
      "source": [
        "## Part II: Data exercise"
      ],
      "metadata": {
        "id": "JKHdHpTP3LsD"
      }
    },
    {
      "cell_type": "markdown",
      "source": [
        "For this problem, we will be looking at data you may have seen before on income mobility in the U.S. "
      ],
      "metadata": {
        "id": "KwQVm6vUvEcD"
      }
    },
    {
      "cell_type": "markdown",
      "source": [
        "For more information, see the paper [\"The Opportunity Atlas: Mapping the Childhood Roots of Social Mobility\"](https://opportunityinsights.org/paper/the-opportunity-atlas/) by Raj Chetty, Nathaniel Hendren, John Friedman, Maggie R. Jones, and Sonya R. Porter. (Looking at this resource is not necessary for completing the problem, but you may find it interesting or helpful for articulating interpretations.)"
      ],
      "metadata": {
        "id": "nUFG_4NMuLXs"
      }
    },
    {
      "cell_type": "markdown",
      "source": [
        "In particular, we will be working to replicate Figure I, Panel B in this [academic paper](https://opportunityinsights.org/wp-content/uploads/2018/10/atlas_paper.pdf). (The numbers will be slightly different because we are plotting for all genders, not just men.)"
      ],
      "metadata": {
        "id": "yisgokuUu5G2"
      }
    },
    {
      "cell_type": "markdown",
      "source": [
        "## Load `R` libraries and data\n",
        "\n",
        "**Please refer to Sheet 1 in this [R Cheat Sheet](https://bit.ly/HKS-R) which includes the commands you learned last semester in addition to a number of additional ones.**\n",
        "\n",
        "The code cell below imports the R tidyverse and creates a dataframe that we will be using for the next exercise. Make sure to run it before starting the problem!\n",
        "\n",
        "*Note: Click the \"play\" button that appears when you hover over a cell to run it. The first time you do this you may receive an alert that this notebook was not authored by Google. If so, click \"Run anyway\" to proceed.*"
      ],
      "metadata": {
        "id": "SWj0YRUh9558"
      }
    },
    {
      "cell_type": "code",
      "execution_count": 9,
      "metadata": {
        "id": "Bmm4lWyNta7U",
        "outputId": "a61f6ae4-aa03-4675-932a-820fe5f4d733",
        "colab": {
          "base_uri": "https://localhost:8080/"
        }
      },
      "outputs": [
        {
          "output_type": "stream",
          "name": "stderr",
          "text": [
            "── \u001b[1mAttaching packages\u001b[22m ─────────────────────────────────────── tidyverse 1.3.1 ──\n",
            "\n",
            "\u001b[32m✔\u001b[39m \u001b[34mggplot2\u001b[39m 3.4.0      \u001b[32m✔\u001b[39m \u001b[34mpurrr  \u001b[39m 1.0.1 \n",
            "\u001b[32m✔\u001b[39m \u001b[34mtibble \u001b[39m 3.1.8      \u001b[32m✔\u001b[39m \u001b[34mdplyr  \u001b[39m 1.0.10\n",
            "\u001b[32m✔\u001b[39m \u001b[34mtidyr  \u001b[39m 1.2.1      \u001b[32m✔\u001b[39m \u001b[34mstringr\u001b[39m 1.4.1 \n",
            "\u001b[32m✔\u001b[39m \u001b[34mreadr  \u001b[39m 2.1.3      \u001b[32m✔\u001b[39m \u001b[34mforcats\u001b[39m 0.5.2 \n",
            "\n",
            "── \u001b[1mConflicts\u001b[22m ────────────────────────────────────────── tidyverse_conflicts() ──\n",
            "\u001b[31m✖\u001b[39m \u001b[34mdplyr\u001b[39m::\u001b[32mfilter()\u001b[39m masks \u001b[34mstats\u001b[39m::filter()\n",
            "\u001b[31m✖\u001b[39m \u001b[34mdplyr\u001b[39m::\u001b[32mlag()\u001b[39m    masks \u001b[34mstats\u001b[39m::lag()\n",
            "\n"
          ]
        }
      ],
      "source": [
        "#suppress warnings\n",
        "options(warn = -1,dplyr.summarise.inform=FALSE)\n",
        "\n",
        "#load packages\n",
        "library(tidyverse)\n",
        "library(broom)\n",
        "library(ggplot2)\n",
        "\n",
        "# load data\n",
        "mobility_all <- read.csv('https://opportunityinsights.org/wp-content/uploads/2018/10/national_percentile_outcomes.csv')"
      ]
    },
    {
      "cell_type": "code",
      "source": [
        "# run this to select only the variables in the data we will be working with\n",
        "mobility <- mobility_all %>% \n",
        "  select(par_pctile,(starts_with(\"jail\") & ends_with(\"_pooled\")))"
      ],
      "metadata": {
        "id": "jQ9y3_i3wW1i"
      },
      "execution_count": 10,
      "outputs": []
    },
    {
      "cell_type": "markdown",
      "source": [
        "Here is a description of each variable in our shortened dataset:\n",
        "\n",
        "*   ``par_pctile``: Parent Income Rank in National Income Distribution. \n",
        "*   ``jail_pooled_pooled``: Fraction incarcerated on April 1st, 2010 (where incarceration is defined as residing in a federal detention center, federal prison, state prison, local jail, residential correctional facility, military jail, or juvenile correctional facility). The first \"pooled\" label means the data represents all races. The second \"pooled\" label means because the data represents all genders.\n",
        "*   ``jail_[race]_pooled``: Fraction incarcerated on April 1st, 2010 for that race/ethnicity group. (Like above, the last \"pooled\" means these data represents all genders.)"
      ],
      "metadata": {
        "id": "Pq6UybAjz65U"
      }
    },
    {
      "cell_type": "markdown",
      "source": [
        "(Here is the  [codebook](https://opportunityinsights.org/wp-content/uploads/2019/07/Codebook-for-Table-7.pdf) for the full data, if you're curious.)"
      ],
      "metadata": {
        "id": "md-MaiBXy9O9"
      }
    },
    {
      "cell_type": "code",
      "source": [
        "# take a look at the first few observations of the data\n",
        "head(mobility)"
      ],
      "metadata": {
        "colab": {
          "base_uri": "https://localhost:8080/",
          "height": 286
        },
        "id": "fCxpmJEaMCcL",
        "outputId": "c7604671-473a-4a88-ae38-96f652a6ee77"
      },
      "execution_count": 11,
      "outputs": [
        {
          "output_type": "display_data",
          "data": {
            "text/html": [
              "<table class=\"dataframe\">\n",
              "<caption>A data.frame: 6 × 8</caption>\n",
              "<thead>\n",
              "\t<tr><th></th><th scope=col>par_pctile</th><th scope=col>jail_pooled_pooled</th><th scope=col>jail_asian_pooled</th><th scope=col>jail_black_pooled</th><th scope=col>jail_hisp_pooled</th><th scope=col>jail_natam_pooled</th><th scope=col>jail_other_pooled</th><th scope=col>jail_white_pooled</th></tr>\n",
              "\t<tr><th></th><th scope=col>&lt;int&gt;</th><th scope=col>&lt;dbl&gt;</th><th scope=col>&lt;dbl&gt;</th><th scope=col>&lt;dbl&gt;</th><th scope=col>&lt;dbl&gt;</th><th scope=col>&lt;dbl&gt;</th><th scope=col>&lt;dbl&gt;</th><th scope=col>&lt;dbl&gt;</th></tr>\n",
              "</thead>\n",
              "<tbody>\n",
              "\t<tr><th scope=row>1</th><td>1</td><td>0.05587</td><td>0.004098</td><td>0.10430</td><td>0.03499</td><td>0.07073</td><td>0.02007</td><td>0.03733</td></tr>\n",
              "\t<tr><th scope=row>2</th><td>2</td><td>0.05033</td><td>0.003936</td><td>0.09618</td><td>0.03290</td><td>0.05996</td><td>0.01597</td><td>0.03464</td></tr>\n",
              "\t<tr><th scope=row>3</th><td>3</td><td>0.04627</td><td>0.004104</td><td>0.08644</td><td>0.02931</td><td>0.06418</td><td>0.01906</td><td>0.03460</td></tr>\n",
              "\t<tr><th scope=row>4</th><td>4</td><td>0.04445</td><td>0.004954</td><td>0.08586</td><td>0.02776</td><td>0.05662</td><td>0.01667</td><td>0.03246</td></tr>\n",
              "\t<tr><th scope=row>5</th><td>5</td><td>0.04172</td><td>0.004271</td><td>0.08046</td><td>0.02634</td><td>0.04995</td><td>0.01573</td><td>0.03146</td></tr>\n",
              "\t<tr><th scope=row>6</th><td>6</td><td>0.04048</td><td>0.003178</td><td>0.08032</td><td>0.02490</td><td>0.05258</td><td>0.01598</td><td>0.02974</td></tr>\n",
              "</tbody>\n",
              "</table>\n"
            ],
            "text/markdown": "\nA data.frame: 6 × 8\n\n| <!--/--> | par_pctile &lt;int&gt; | jail_pooled_pooled &lt;dbl&gt; | jail_asian_pooled &lt;dbl&gt; | jail_black_pooled &lt;dbl&gt; | jail_hisp_pooled &lt;dbl&gt; | jail_natam_pooled &lt;dbl&gt; | jail_other_pooled &lt;dbl&gt; | jail_white_pooled &lt;dbl&gt; |\n|---|---|---|---|---|---|---|---|---|\n| 1 | 1 | 0.05587 | 0.004098 | 0.10430 | 0.03499 | 0.07073 | 0.02007 | 0.03733 |\n| 2 | 2 | 0.05033 | 0.003936 | 0.09618 | 0.03290 | 0.05996 | 0.01597 | 0.03464 |\n| 3 | 3 | 0.04627 | 0.004104 | 0.08644 | 0.02931 | 0.06418 | 0.01906 | 0.03460 |\n| 4 | 4 | 0.04445 | 0.004954 | 0.08586 | 0.02776 | 0.05662 | 0.01667 | 0.03246 |\n| 5 | 5 | 0.04172 | 0.004271 | 0.08046 | 0.02634 | 0.04995 | 0.01573 | 0.03146 |\n| 6 | 6 | 0.04048 | 0.003178 | 0.08032 | 0.02490 | 0.05258 | 0.01598 | 0.02974 |\n\n",
            "text/latex": "A data.frame: 6 × 8\n\\begin{tabular}{r|llllllll}\n  & par\\_pctile & jail\\_pooled\\_pooled & jail\\_asian\\_pooled & jail\\_black\\_pooled & jail\\_hisp\\_pooled & jail\\_natam\\_pooled & jail\\_other\\_pooled & jail\\_white\\_pooled\\\\\n  & <int> & <dbl> & <dbl> & <dbl> & <dbl> & <dbl> & <dbl> & <dbl>\\\\\n\\hline\n\t1 & 1 & 0.05587 & 0.004098 & 0.10430 & 0.03499 & 0.07073 & 0.02007 & 0.03733\\\\\n\t2 & 2 & 0.05033 & 0.003936 & 0.09618 & 0.03290 & 0.05996 & 0.01597 & 0.03464\\\\\n\t3 & 3 & 0.04627 & 0.004104 & 0.08644 & 0.02931 & 0.06418 & 0.01906 & 0.03460\\\\\n\t4 & 4 & 0.04445 & 0.004954 & 0.08586 & 0.02776 & 0.05662 & 0.01667 & 0.03246\\\\\n\t5 & 5 & 0.04172 & 0.004271 & 0.08046 & 0.02634 & 0.04995 & 0.01573 & 0.03146\\\\\n\t6 & 6 & 0.04048 & 0.003178 & 0.08032 & 0.02490 & 0.05258 & 0.01598 & 0.02974\\\\\n\\end{tabular}\n",
            "text/plain": [
              "  par_pctile jail_pooled_pooled jail_asian_pooled jail_black_pooled\n",
              "1 1          0.05587            0.004098          0.10430          \n",
              "2 2          0.05033            0.003936          0.09618          \n",
              "3 3          0.04627            0.004104          0.08644          \n",
              "4 4          0.04445            0.004954          0.08586          \n",
              "5 5          0.04172            0.004271          0.08046          \n",
              "6 6          0.04048            0.003178          0.08032          \n",
              "  jail_hisp_pooled jail_natam_pooled jail_other_pooled jail_white_pooled\n",
              "1 0.03499          0.07073           0.02007           0.03733          \n",
              "2 0.03290          0.05996           0.01597           0.03464          \n",
              "3 0.02931          0.06418           0.01906           0.03460          \n",
              "4 0.02776          0.05662           0.01667           0.03246          \n",
              "5 0.02634          0.04995           0.01573           0.03146          \n",
              "6 0.02490          0.05258           0.01598           0.02974          "
            ]
          },
          "metadata": {}
        }
      ]
    },
    {
      "cell_type": "markdown",
      "source": [
        "\n",
        "**Let's start out with familiarizing ourselves with the interpretation of the variable for Parent Income Rank** (``par_pctile``)."
      ],
      "metadata": {
        "id": "cjmZdl3t0f9y"
      }
    },
    {
      "cell_type": "markdown",
      "source": [
        "A. A rank of 1 mean means that a parent was **very poor**. In particular, they were in the lowest percentile of the national income distribution.\n",
        "\n",
        "B. A rank of 99 mean means that a parent was **very rich**. In particular, they were in the highest percentile of the national income distribution.\n",
        "\n",
        "C. A rank of 50 mean means that a parent was **in the middle** of the national income distribution. In particular, they were at the median."
      ],
      "metadata": {
        "id": "eqXrLqRj2T3D"
      }
    },
    {
      "cell_type": "markdown",
      "source": [
        "**Convert the ``jail_`` variables from fractions to percents, to ease interpretations.**"
      ],
      "metadata": {
        "id": "qjtO84BO-sc6"
      }
    },
    {
      "cell_type": "code",
      "source": [
        "mobility_pct <- mobility %>% \n",
        "  mutate(jail_pooled_pooled = jail_pooled_pooled*100) %>% \n",
        "  mutate(jail_asian_pooled = jail_asian_pooled*100) %>% \n",
        "  mutate(jail_black_pooled = jail_black_pooled*100) %>% \n",
        "  mutate(jail_hisp_pooled = jail_hisp_pooled*100) %>% \n",
        "  mutate(jail_natam_pooled = jail_natam_pooled*100) %>% \n",
        "  mutate(jail_other_pooled = jail_other_pooled*100) %>% \n",
        "  mutate(jail_white_pooled = jail_white_pooled*100)\n",
        "head(mobility_pct)"
      ],
      "metadata": {
        "colab": {
          "base_uri": "https://localhost:8080/",
          "height": 286
        },
        "id": "9jEjfpHf_H-L",
        "outputId": "e0fd77c4-3c05-4c05-a6be-95aa09901ca3"
      },
      "execution_count": 12,
      "outputs": [
        {
          "output_type": "display_data",
          "data": {
            "text/html": [
              "<table class=\"dataframe\">\n",
              "<caption>A data.frame: 6 × 8</caption>\n",
              "<thead>\n",
              "\t<tr><th></th><th scope=col>par_pctile</th><th scope=col>jail_pooled_pooled</th><th scope=col>jail_asian_pooled</th><th scope=col>jail_black_pooled</th><th scope=col>jail_hisp_pooled</th><th scope=col>jail_natam_pooled</th><th scope=col>jail_other_pooled</th><th scope=col>jail_white_pooled</th></tr>\n",
              "\t<tr><th></th><th scope=col>&lt;int&gt;</th><th scope=col>&lt;dbl&gt;</th><th scope=col>&lt;dbl&gt;</th><th scope=col>&lt;dbl&gt;</th><th scope=col>&lt;dbl&gt;</th><th scope=col>&lt;dbl&gt;</th><th scope=col>&lt;dbl&gt;</th><th scope=col>&lt;dbl&gt;</th></tr>\n",
              "</thead>\n",
              "<tbody>\n",
              "\t<tr><th scope=row>1</th><td>1</td><td>5.587</td><td>0.4098</td><td>10.430</td><td>3.499</td><td>7.073</td><td>2.007</td><td>3.733</td></tr>\n",
              "\t<tr><th scope=row>2</th><td>2</td><td>5.033</td><td>0.3936</td><td> 9.618</td><td>3.290</td><td>5.996</td><td>1.597</td><td>3.464</td></tr>\n",
              "\t<tr><th scope=row>3</th><td>3</td><td>4.627</td><td>0.4104</td><td> 8.644</td><td>2.931</td><td>6.418</td><td>1.906</td><td>3.460</td></tr>\n",
              "\t<tr><th scope=row>4</th><td>4</td><td>4.445</td><td>0.4954</td><td> 8.586</td><td>2.776</td><td>5.662</td><td>1.667</td><td>3.246</td></tr>\n",
              "\t<tr><th scope=row>5</th><td>5</td><td>4.172</td><td>0.4271</td><td> 8.046</td><td>2.634</td><td>4.995</td><td>1.573</td><td>3.146</td></tr>\n",
              "\t<tr><th scope=row>6</th><td>6</td><td>4.048</td><td>0.3178</td><td> 8.032</td><td>2.490</td><td>5.258</td><td>1.598</td><td>2.974</td></tr>\n",
              "</tbody>\n",
              "</table>\n"
            ],
            "text/markdown": "\nA data.frame: 6 × 8\n\n| <!--/--> | par_pctile &lt;int&gt; | jail_pooled_pooled &lt;dbl&gt; | jail_asian_pooled &lt;dbl&gt; | jail_black_pooled &lt;dbl&gt; | jail_hisp_pooled &lt;dbl&gt; | jail_natam_pooled &lt;dbl&gt; | jail_other_pooled &lt;dbl&gt; | jail_white_pooled &lt;dbl&gt; |\n|---|---|---|---|---|---|---|---|---|\n| 1 | 1 | 5.587 | 0.4098 | 10.430 | 3.499 | 7.073 | 2.007 | 3.733 |\n| 2 | 2 | 5.033 | 0.3936 |  9.618 | 3.290 | 5.996 | 1.597 | 3.464 |\n| 3 | 3 | 4.627 | 0.4104 |  8.644 | 2.931 | 6.418 | 1.906 | 3.460 |\n| 4 | 4 | 4.445 | 0.4954 |  8.586 | 2.776 | 5.662 | 1.667 | 3.246 |\n| 5 | 5 | 4.172 | 0.4271 |  8.046 | 2.634 | 4.995 | 1.573 | 3.146 |\n| 6 | 6 | 4.048 | 0.3178 |  8.032 | 2.490 | 5.258 | 1.598 | 2.974 |\n\n",
            "text/latex": "A data.frame: 6 × 8\n\\begin{tabular}{r|llllllll}\n  & par\\_pctile & jail\\_pooled\\_pooled & jail\\_asian\\_pooled & jail\\_black\\_pooled & jail\\_hisp\\_pooled & jail\\_natam\\_pooled & jail\\_other\\_pooled & jail\\_white\\_pooled\\\\\n  & <int> & <dbl> & <dbl> & <dbl> & <dbl> & <dbl> & <dbl> & <dbl>\\\\\n\\hline\n\t1 & 1 & 5.587 & 0.4098 & 10.430 & 3.499 & 7.073 & 2.007 & 3.733\\\\\n\t2 & 2 & 5.033 & 0.3936 &  9.618 & 3.290 & 5.996 & 1.597 & 3.464\\\\\n\t3 & 3 & 4.627 & 0.4104 &  8.644 & 2.931 & 6.418 & 1.906 & 3.460\\\\\n\t4 & 4 & 4.445 & 0.4954 &  8.586 & 2.776 & 5.662 & 1.667 & 3.246\\\\\n\t5 & 5 & 4.172 & 0.4271 &  8.046 & 2.634 & 4.995 & 1.573 & 3.146\\\\\n\t6 & 6 & 4.048 & 0.3178 &  8.032 & 2.490 & 5.258 & 1.598 & 2.974\\\\\n\\end{tabular}\n",
            "text/plain": [
              "  par_pctile jail_pooled_pooled jail_asian_pooled jail_black_pooled\n",
              "1 1          5.587              0.4098            10.430           \n",
              "2 2          5.033              0.3936             9.618           \n",
              "3 3          4.627              0.4104             8.644           \n",
              "4 4          4.445              0.4954             8.586           \n",
              "5 5          4.172              0.4271             8.046           \n",
              "6 6          4.048              0.3178             8.032           \n",
              "  jail_hisp_pooled jail_natam_pooled jail_other_pooled jail_white_pooled\n",
              "1 3.499            7.073             2.007             3.733            \n",
              "2 3.290            5.996             1.597             3.464            \n",
              "3 2.931            6.418             1.906             3.460            \n",
              "4 2.776            5.662             1.667             3.246            \n",
              "5 2.634            4.995             1.573             3.146            \n",
              "6 2.490            5.258             1.598             2.974            "
            ]
          },
          "metadata": {}
        }
      ]
    },
    {
      "cell_type": "markdown",
      "source": [
        "## All races"
      ],
      "metadata": {
        "id": "k4jIRDD6FHmk"
      }
    },
    {
      "cell_type": "markdown",
      "source": [
        "**1. Create a scatter plot showing the relationship between incarceration rates and parent income rank for the whole sample (all races and genders).**"
      ],
      "metadata": {
        "id": "shmCeVjn4cBq"
      }
    },
    {
      "cell_type": "code",
      "source": [
        "# Your Answer Here\n"
      ],
      "metadata": {
        "id": "0Dr-iwGQ4X4p"
      },
      "execution_count": 13,
      "outputs": []
    },
    {
      "cell_type": "markdown",
      "source": [
        "**2. Comment on this \"scatter\" plot. For example, you might consider whether the relationship appears linear, whether this looks like a \"scatter\" plot, and on the correlation of these variables. What is your takeaway about the relationship between parental income and incarceration rates?**"
      ],
      "metadata": {
        "id": "SjFezyI3FE4y"
      }
    },
    {
      "cell_type": "markdown",
      "source": [
        "Your Answer Here"
      ],
      "metadata": {
        "id": "qpzs74YOF-p7"
      }
    },
    {
      "cell_type": "markdown",
      "source": [
        "**3. Overlay a linear regression line to your plot. Comment on the fit of this regression line to the data.**\n"
      ],
      "metadata": {
        "id": "Xf4cl8rSH62f"
      }
    },
    {
      "cell_type": "code",
      "source": [
        "# Your Answer Here\n"
      ],
      "metadata": {
        "id": "TiS5yLwhIlg7"
      },
      "execution_count": 14,
      "outputs": []
    },
    {
      "cell_type": "markdown",
      "source": [
        "Your Answer Here"
      ],
      "metadata": {
        "id": "IS7Kg4SkJw8a"
      }
    },
    {
      "cell_type": "markdown",
      "source": [
        "**4. Run a linear regression of incarceration rate on parental income rank. Interpret the coefficients and comment on their statistical significance.**"
      ],
      "metadata": {
        "id": "G8hG6m5mUmnt"
      }
    },
    {
      "cell_type": "code",
      "source": [
        "# Your Answer Here\n"
      ],
      "metadata": {
        "id": "aRLq0NwyUk6L"
      },
      "execution_count": 15,
      "outputs": []
    },
    {
      "cell_type": "markdown",
      "source": [
        "Your Answer Here"
      ],
      "metadata": {
        "id": "bLF2gEXceUF9"
      }
    },
    {
      "cell_type": "markdown",
      "source": [
        "**5. Divide the sample into \"rich\" and \"poor\" families by defining your own cutoff point. (Note: solutions will use the median, where the \"rich\" group includes the median.) Estimate two regressions of incarceration rates on parental income rank separately: one regression for \"poor\" and one regression for \"rich\" children. How do the coefficients differ between the two groups?**"
      ],
      "metadata": {
        "id": "tqvX9XI1RsPm"
      }
    },
    {
      "cell_type": "code",
      "source": [
        "# Your Answer Here\n"
      ],
      "metadata": {
        "id": "2SLHvkaTgoOy"
      },
      "execution_count": 16,
      "outputs": []
    },
    {
      "cell_type": "markdown",
      "source": [
        "Your Answer Here"
      ],
      "metadata": {
        "id": "aS3_OCYhi_gp"
      }
    },
    {
      "cell_type": "markdown",
      "source": [
        "**Bonus: plot the points and two regression lines separately by the variable indicating \"poor\" or \"rich\" families that you just created.**"
      ],
      "metadata": {
        "id": "5cmBmhmagooa"
      }
    },
    {
      "cell_type": "code",
      "source": [
        "# Your Answer Here\n"
      ],
      "metadata": {
        "id": "UDGitnrlSy5w"
      },
      "execution_count": 17,
      "outputs": []
    },
    {
      "cell_type": "markdown",
      "source": [
        "## By race"
      ],
      "metadata": {
        "id": "GY4MqT-gHot6"
      }
    },
    {
      "cell_type": "markdown",
      "source": [
        "**6. Now plot the relationship between incarceration rates and parental income rank for at least two race/ethnicity groups of your choosing. (Note: The solutions will include all race/ethnicity groups.)**"
      ],
      "metadata": {
        "id": "cCv6cjdOHVlN"
      }
    },
    {
      "cell_type": "code",
      "source": [
        "# Your Answer Here\n"
      ],
      "metadata": {
        "id": "mZAeku94H2Qq"
      },
      "execution_count": 18,
      "outputs": []
    },
    {
      "cell_type": "markdown",
      "source": [
        "**7. Comment on the results of this graph.**"
      ],
      "metadata": {
        "id": "CMJAFrMsmV_T"
      }
    },
    {
      "cell_type": "markdown",
      "source": [
        "Your Answer Here"
      ],
      "metadata": {
        "id": "fZFS3Ge8mw5f"
      }
    }
  ]
}