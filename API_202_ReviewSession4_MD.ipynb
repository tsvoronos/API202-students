{
  "cells": [
    {
      "cell_type": "markdown",
      "metadata": {
        "id": "view-in-github",
        "colab_type": "text"
      },
      "source": [
        "<a href=\"https://colab.research.google.com/github/tsvoronos/API202-students/blob/main/API_202_ReviewSession4_MD.ipynb\" target=\"_parent\"><img src=\"https://colab.research.google.com/assets/colab-badge.svg\" alt=\"Open In Colab\"/></a>"
      ]
    },
    {
      "cell_type": "markdown",
      "id": "4839cd02-22e6-4e06-9617-eccba2b91eb8",
      "metadata": {
        "id": "4839cd02-22e6-4e06-9617-eccba2b91eb8"
      },
      "source": [
        "# API-202 Review Session #4\n",
        "**Friday, February 17**\n",
        "\n",
        "TF: Matthew Dodier"
      ]
    },
    {
      "cell_type": "markdown",
      "id": "-6f4j5MrJr6P",
      "metadata": {
        "id": "-6f4j5MrJr6P"
      },
      "source": [
        "# Table of Contents\n",
        "1. [Lecture Recap](#Lecture-Recap)\n",
        "2. [Exercises](#Exercises)"
      ]
    },
    {
      "cell_type": "markdown",
      "source": [
        "# Lecture Recap"
      ],
      "metadata": {
        "id": "mljmgQImRCV-"
      },
      "id": "mljmgQImRCV-"
    },
    {
      "cell_type": "markdown",
      "source": [
        "Our toolkit\n",
        "* Thus far we have encountered a variety of tools to model relationships in the world through multiple regression.\n",
        "\n",
        "\n",
        "| We are interested in… \t| Example \t| Tool \t|\n",
        "|---\t|---\t|---\t|\n",
        "| ...the association between an outcome  and a binary explanatory variable \t| Do those residing in rural areas have  better/worse nutritional outcomes than  those residing in urban areas? \t| Dummy variables \t|\n",
        "| ...the association between a binary outcome  variable and some explanatory variable \t| How does age relate to the likelihood that a person votes? \t| Linear probability model \t|\n",
        "| ...how a relationship between two variables  is affected by a third variable \t| Is the relationship between health spending and health outcomes different for countries with nationalized health systems? \t| Interactions \t|\n",
        "| ...whether a relationships is linear  or has \"curvature\" \t| Does income tend to increase with age in a constant way, or does it diminish over time \t| Quadratics, Logs \t|\n",
        "\n",
        "* Today we will discuss investigating whether a relationship is linear or has curvature using quadratics and logs."
      ],
      "metadata": {
        "id": "3vj-gklUWRSS"
      },
      "id": "3vj-gklUWRSS"
    },
    {
      "cell_type": "markdown",
      "source": [
        "## Quadratic Transformations"
      ],
      "metadata": {
        "id": "l_GLStEwSfwV"
      },
      "id": "l_GLStEwSfwV"
    },
    {
      "cell_type": "markdown",
      "source": [
        "Introduction to Quadratics\n",
        "\n",
        "* Think back to our California class size, income and test score example. Consider the multivariate regression we ran:\n",
        "$$\n",
        "\\text { testscr }=\\beta_0+\\beta_1 \\text { str }+\\beta_2 \\text { income }+\\varepsilon\n",
        "$$\n",
        "* Interpretation: an additional $\\$ 1,000$ in income is associated with $\\beta_2$ change in test scores...\n",
        "  * Regardless of whether that family is poor or rich.\n",
        "* Non-linear regression functions such as quadratics allow the predicted change in $Y$ associated with a change in $X$ to vary with $X$.\n",
        "\n",
        "Often, linearity assumption doesn’t make sense\n",
        "* So far, we have assumed a linear relationship between $X$ and $Y$\n",
        "  * Non-linearities in regression\n",
        "    * We can use non-linear transformations to allow the effect of $X$ on $Y$ to vary with $X$ \n",
        "    * e.g. $X^2$ when $X=$ years of education and $Y=$ earnings allows for increasing returns\n",
        "\n"
      ],
      "metadata": {
        "id": "i_uAfNaIWhN_"
      },
      "id": "i_uAfNaIWhN_"
    },
    {
      "cell_type": "markdown",
      "source": [
        "Quadratics: Example\n",
        "\n",
        "* Let's go back to our California school districts. Consider the relationship between average test scores and the average income (in thousands of dollars) across districts:\n",
        "\n",
        "* A linear regression model says a one-unit change in income has the same marginal relationship at every level of income. Does that seem right - in the data and else?\n",
        "\n",
        "* For example, consider: is a $\\$1,000$ increase in income associated with the same increase in test scores if the average district income is $\\$10,000$ and  $\\$40,000$?\n",
        "\n",
        "* Since the relationship between scores and income does not appear to be linear, we can model a non-linear relationship by adding a quadratic term:\n",
        "\n",
        "$$\n",
        "\\text { TestScore }=\\beta_0+\\beta_1 \\text { income }+\\beta_2 \\text { income }^2+\\varepsilon\n",
        "$$\n",
        "\n",
        "Assume we estimate the following coefficients:\n",
        "$$\n",
        "\\text { TestScore }=607.3+3.9 \\text { income }-0.04 \\text { income }{ }^2\n",
        "$$\n",
        "\n",
        "* We can't directly interpret the coefficient on income directly, since the slope is different depending on the income level you pick.\n",
        "\n",
        "* To see how predicted test scores change with a one-unit $(\\$ 1,000)$ change in income, we can no longer use the coefficient on the linear income term alone\n",
        "We need to specify a particular level of income because now the relationship between $X$ and $Y$ depends on the level of $X$.\n",
        "\n",
        "* We must calculate the change in $Y$ associated with a change in $X$ at each level of $X$ which we have an interest. Fill out the following table:  \n",
        "\n",
        "| Income \t| $$ \\text { testscore }=607.3+3.9 \\text { income }-0.04 \\text { income }{ }^2 $$ \t| Change in testscore \t|\n",
        "|--------\t|---------------------------------------------------------------------------------\t|---------------------\t|\n",
        "| 10     \t| $607.3+3.9(10)-0.04(10)^2=642.3$                                                \t| 3.06                \t|\n",
        "| 11     \t| $607.3+3.9(11)-0.04(11)^2=645.36$                                               \t| 3.06                \t|\n",
        "| 20     \t| $607.3+3.9(20)-0.04(20)^2=669.3$                                                \t| 2.26                \t|\n",
        "| 21     \t| $607.3+3.9(21)-0.04(21)^2=671.56$                                               \t| 2.26                \t|\n",
        "| 40     \t| $607.3+3.9(40)-0.04(40)^2=699.3$                                                \t| 0.66                \t|\n",
        "| 41     \t| $607.3+3.9(41)-0.04(41)^2=699.96$                                               \t| 0.66                \t|"
      ],
      "metadata": {
        "id": "csPy7CA3IlMW"
      },
      "id": "csPy7CA3IlMW"
    },
    {
      "cell_type": "markdown",
      "source": [
        "$$\n",
        "\\text { TestScore }=607.3+3.9 \\text { income }-0.04 \\text { income }{ }^2\n",
        "$$\n",
        "\n",
        "Is the marginal association of income with scores increasing or decreasing? How can you tell from the SRF?\n",
        "\n",
        "| $\\hat{\\beta}_1$ \t| $\\hat{\\beta}_2$ \t| Returns                                                                   \t|\n",
        "|-----------------\t|-----------------\t|---------------------------------------------------------------------------\t|\n",
        "| $+$             \t| $+$             \t| $Y$ **increases**/decreases with $X$ at an **increasing**/decreasing rate \t|\n",
        "| $+$             \t| $-$             \t| $Y$ **increases**/decreases with $X$ at an increasing/**decreasing** rate \t|\n",
        "| $-$             \t| $-$             \t| $Y$ increases/**decreases** with $X$ at an **increasing**/decreasing rate \t|\n",
        "| $-$             \t| $+$             \t| $Y$ increases/**decreases** with $X$ at an increasing/**decreasing** rate \t|"
      ],
      "metadata": {
        "id": "Oe4nNYHoLQQh"
      },
      "id": "Oe4nNYHoLQQh"
    },
    {
      "cell_type": "markdown",
      "source": [
        "## Logarithms"
      ],
      "metadata": {
        "id": "X_JQ5AmfTuoz"
      },
      "id": "X_JQ5AmfTuoz"
    },
    {
      "cell_type": "markdown",
      "source": [
        "Introduction to Logs\n",
        "\n",
        "* There can be various types of non-linearities in modeling the relationship between $Y$ and $\\mathrm{X}$ - and different types of variables may require special such modeling.\n",
        "* Think about the relationship between education and income. A small number of very wealthy individuals can make this relationship flatten out to the right.\n",
        "  * A log-transformation of income can, in a certain sense, linearize it for us\n",
        "\n",
        "* Key advantages to using logs\n",
        "  * Coefficients have appealing interpretations (in percent terms), and we can therefore ignore the unit of measurements of our variables\n",
        "  * Taking logs narrows the range of a variable, which usually makes estimates less sensitive to outliers\n",
        "* Key limitations of logs:\n",
        "  * By and large, cannot use them when the variable takes non-positive values\n",
        "    * Logs are only defined for positive values (so 0's present a challenge)\n",
        "\n",
        "\n"
      ],
      "metadata": {
        "id": "-Oze7N82Wtt5"
      },
      "id": "-Oze7N82Wtt5"
    },
    {
      "cell_type": "markdown",
      "source": [
        "Interpreting Logs\n",
        "\n",
        "| Model       \t| Regression Equation (PRF)                       \t| Interpretation of $\\beta_1$ (Math)                        \t| Interpretation of $\\beta_1$ (Words)                                              \t|\n",
        "|-------------\t|-------------------------------------------------\t|-----------------------------------------------------------\t|----------------------------------------------------------------------------------\t|\n",
        "| Level-Level \t| $Y=\\beta_0+\\beta_1\\left(X_1\\right)+u$           \t| $\\Delta Y=\\left(\\beta_1\\right) \\Delta X_1$                \t| A $1$ unit increase in $X_1$ is associated with a $\\beta_1$ change in $Y$        \t|\n",
        "| Level-Log   \t| $Y=\\beta_0+\\beta_1\\left(\\ln X_1\\right)+u$       \t| $\\Delta Y=\\left(\\frac{\\beta_1}{100}\\right) \\% \\Delta X_1$ \t| A $1 \\%$ increase in $X_1$ is associated with a $0.01 \\beta_1$ change in $Y$     \t|\n",
        "| Log-Level   \t| $\\ln (Y)=\\beta_0+\\beta_1\\left(X_1\\right)+u$     \t| $\\% \\Delta Y=\\left(100 \\beta_1\\right) \\Delta X_1$         \t| A $1$ unit increase in $X_1$ is associated with a $100 \\beta_1 \\%$ change in $Y$ \t|\n",
        "| Log-Log     \t| $\\ln (Y)=\\beta_0+\\beta_1\\left(\\ln X_1\\right)+u$ \t| $\\% \\Delta Y=\\left(\\beta_1\\right) \\% \\Delta X_1$          \t| A $1 \\%$ increase in $X_1$ is associated with a $\\beta_1 \\%$ change in $Y$       \t|"
      ],
      "metadata": {
        "id": "HHdW7rjyXHHX"
      },
      "id": "HHdW7rjyXHHX"
    },
    {
      "cell_type": "markdown",
      "source": [
        "**Case 1: Level-Log** ($X$ is in logs, $Y$ is not)\n",
        "$$\n",
        "Y=\\beta_0+\\beta_1 \\ln (X)+u\n",
        "$$\n",
        "\n",
        "Interpretation:\n",
        "A one-percent increase in $\\mathrm{X}$ is associated with a $0.01 * \\beta_1$ change in $\\mathrm{Y}$\n",
        "* The key assumption in the Level-Log model is that a $1 \\%$ increase in $\\mathrm{X}$ is associated with an increase in $\\mathrm{Y}$ by a constant amount, $0.01^* \\beta_1$, regardless of the level of $X$\n",
        "* Whether that is a reasonable assumption will of course depend on the empirical context\n",
        "\n",
        "Let's use an example relating $\\mathrm{CO}_2$ emissions to GDP. The PRF is:\n",
        "$$\n",
        "\\text { carbonemissions }_i=\\beta_0+\\beta_1 \\ln \\left(G D P_i\\right)+u_i\n",
        "$$\n",
        "\n",
        "$$\n",
        "\\text { carbonemissions }_i=-70.72526+40.14255 \\ln \\left(G D P_i\\right)+u_i\n",
        "$$\n",
        "\n",
        "Units in linear model:\n",
        "* CO2 emissions, million tons\n",
        "* GDP, billion USD"
      ],
      "metadata": {
        "id": "4b86TB2oMxPP"
      },
      "id": "4b86TB2oMxPP"
    },
    {
      "cell_type": "markdown",
      "source": [
        "Question: How would you interpret the estimated coefficient on the variable $\\ln \\left(G D P_i\\right)$?"
      ],
      "metadata": {
        "id": "MruPhsSRV50g"
      },
      "id": "MruPhsSRV50g"
    },
    {
      "cell_type": "markdown",
      "source": [
        "Your answer: "
      ],
      "metadata": {
        "id": "i0mksoT8WHAM"
      },
      "id": "i0mksoT8WHAM"
    },
    {
      "cell_type": "markdown",
      "source": [
        "Question: Going from GDP $=1000$ to $G D P=1001$, what is the predicted change in emissions?"
      ],
      "metadata": {
        "id": "4PyiM-OlV_m9"
      },
      "id": "4PyiM-OlV_m9"
    },
    {
      "cell_type": "markdown",
      "source": [
        "Your answer:"
      ],
      "metadata": {
        "id": "5tCfv0_RWTCH"
      },
      "id": "5tCfv0_RWTCH"
    },
    {
      "cell_type": "markdown",
      "source": [
        "**Case 2: Log-Level** ( $Y$ is in logs, $X$ is not)\n",
        "$$\n",
        "\\ln (\\mathrm{Y})=\\beta_0+\\beta_1 X+u\n",
        "$$\n",
        "Interpretation:\n",
        "A one-unit increase in $\\mathrm{X}$ is associated with a $100 * \\beta_1$ percent change in $\\mathrm{Y}$\n",
        "\n",
        "* The key assumption in the Log-Level model is that a one-unit increase in $\\mathrm{X}$ is associated with an increase in $\\mathrm{Y}$ by a constant percent amount, $100 * \\beta_1$, regardless of the level of $X$\n",
        "\n",
        "* Aside: when $\\beta_1$ suggests a large percent change (i.e. if $\\beta_1>$ $0.25)$, this approximation is not very accurate. In those cases, use the exact formula: $\\% \\Delta \\widehat{Y}=100\\left[e^{\\widehat{\\beta_j}}-1\\right]$\n",
        "\n",
        "Let's return to the previous example relating $\\mathrm{CO}_2$ emissions to GDP. The PRF is:\n",
        "$$\n",
        "\\ln \\left(\\text {carbonemissions}_i\\right)=\\beta_0+\\beta_1 G D P_i+u_i\n",
        "$$\n",
        "\n",
        "$$\n",
        "\\ln \\left(\\text {carbonemissions}_i\\right)=1.533405 + .0043085 G D P_i+u_i\n",
        "$$"
      ],
      "metadata": {
        "id": "32QFc7X7Nylf"
      },
      "id": "32QFc7X7Nylf"
    },
    {
      "cell_type": "markdown",
      "source": [
        "Question: How would you interpret the estimated coefficient on the variable $g d p$ ?\n",
        "\n",
        "a) A one percent increase in GDP is associated with $0.004$ percent more $\\mathrm{CO} 2$\n",
        "\n",
        "b) A one percent increase in GDP is associated with $0.4$ percent more $\\mathrm{CO} 2$\n",
        "\n",
        "c) A billion USD increase in GDP is associated with $0.004$ percent more $\\mathrm{CO} 2$\n",
        "\n",
        "d) A billion USD increase in GDP is associated with $0.4$ percent more $\\mathrm{CO} 2$"
      ],
      "metadata": {
        "id": "FVXSDFxNXIeq"
      },
      "id": "FVXSDFxNXIeq"
    },
    {
      "cell_type": "markdown",
      "source": [
        "Your answer:"
      ],
      "metadata": {
        "id": "y4iptA4qXPWK"
      },
      "id": "y4iptA4qXPWK"
    },
    {
      "cell_type": "markdown",
      "source": [
        "**Case 3: Log-Log** (Both $X$ and $Y$ are in logs)\n",
        "$$\n",
        "\\ln (Y)=\\beta_0+\\beta_1 \\ln (X)+u\n",
        "$$\n",
        "\n",
        "Interpretation:\n",
        "A one percent increase in $\\mathrm{X}$ is associated with a $\\beta_1$ percent change in $\\mathrm{Y}$\n",
        "\n",
        "In our data example:\n",
        "$$\n",
        "\\ln \\left(\\text {carbonemissions}_i\\right)=\\beta_0+\\beta_1 \\ln \\left(G D P_i\\right)+u_i\n",
        "$$\n",
        "\n",
        "$$\n",
        "\\ln \\left(\\text {carbonemissions}_i\\right)=-1.367377+1.065202 \\ln \\left(G D P_i\\right)+u_i\n",
        "$$"
      ],
      "metadata": {
        "id": "8mwLqoC2Pbbo"
      },
      "id": "8mwLqoC2Pbbo"
    },
    {
      "cell_type": "markdown",
      "source": [
        "Question: How would you interpret the estimated coefficient on the variable $\\ln \\left(G D P_i\\right)$?"
      ],
      "metadata": {
        "id": "n5bAlCTiXp_U"
      },
      "id": "n5bAlCTiXp_U"
    },
    {
      "cell_type": "markdown",
      "source": [
        "Your answer:"
      ],
      "metadata": {
        "id": "Ul-z_Gu6Xs9e"
      },
      "id": "Ul-z_Gu6Xs9e"
    },
    {
      "cell_type": "markdown",
      "source": [
        "Key Takeaways: Quadratics and Logs\n",
        "* Non-linear regression functions allow us to model relationships that do not follow a traditional linear structure.\n",
        "  * With quadratics and logs, linear regression can model curvature\n",
        "  * Transformations allow you to model non-linear relationships using \"linear\" regression\n",
        "* Using non-linear functions introduces important changes in the interpretation of our coefficients\n",
        "* We can always understand how our dependent variable changes with a change in an independent variable by predicting values for with a given, then doing the same for, then taking the difference\n",
        "* To determine when to use non-linear functions, consider the fit of your data, prior literature/practice on how to model particular variables, and theories as to what kind of relationships might exist"
      ],
      "metadata": {
        "id": "Pi4RnLvJZwYo"
      },
      "id": "Pi4RnLvJZwYo"
    },
    {
      "cell_type": "markdown",
      "source": [
        "## Randomized Controlled Trials (RCTs)"
      ],
      "metadata": {
        "id": "pZfhTVvlNyUb"
      },
      "id": "pZfhTVvlNyUb"
    },
    {
      "cell_type": "markdown",
      "source": [
        "RCTs: Rationale\n",
        "\n",
        "* We will explore the strengths of RCTs and why they are considered the \"gold standard\" of study design.  RCTs allow us to **causally attribute** changes in outcome to an intervention by ensuring that **the relationship between the intervention** (the randomized treatment) **and any other determinant** of the outcome **equals zero**:\n",
        "\n",
        "Remember $ \\text {bias} = \\gamma_1 \\times \\beta_2$\n",
        "\n",
        "Under randomized treatment, $\\gamma_1 = 0$ thus the bias equals 0"
      ],
      "metadata": {
        "id": "euixNtmLO7xC"
      },
      "id": "euixNtmLO7xC"
    },
    {
      "cell_type": "markdown",
      "source": [
        "In its simplest form, an RCT works in the following way:\n",
        "\n",
        "* Participants volunteer for the experiment. This constitutes the sample.\n",
        "* The sample is ***randomly divided*** into “treatment” and “control” groups\n",
        "  * Coin flip\n",
        "  * Random number generator\n",
        "  * Lottery\n",
        "* “Treatment” group is offered the “treatment”\n",
        "* “Control” group does not get the “treatment,” and may get a placebo."
      ],
      "metadata": {
        "id": "kXKr4RnhmBqr"
      },
      "id": "kXKr4RnhmBqr"
    },
    {
      "cell_type": "markdown",
      "source": [
        "Randomized Trials control for known + unknown\n",
        "\n",
        "* Observational studies can suffer from bias, because people who take treatment differ from those who don't\n",
        "* Some of these differences are observed but some are unobserved (e.g. motivation)\n",
        "* By randomly assigning treatment, we control for observed + unobserved variation to get rigorous causal effects"
      ],
      "metadata": {
        "id": "VgWenqCzQq_D"
      },
      "id": "VgWenqCzQq_D"
    },
    {
      "cell_type": "markdown",
      "source": [
        "Issue for causal inference\n",
        "* There are 2 potential outcomes for every individual\n",
        "  * 2 theoretical outcomes: *person with treatment* and *person without treatment*\n",
        "  * we don’t get to observe both outcomes:\n",
        "    * For an individual, we don't see both outcomes so we can't actually compare them\n",
        "\n",
        "Selection bias\n",
        "* The central problem of causal inference is figuring out how to **approximate the counterfactual of a treated group in the real world as well as possible.**\n",
        "* For this to happen, we need our treatment and comparison group to be identical except for the fact that the treatment group received the intervention (e.g., college).\n",
        "*How do RCTs help us approximate the treatment group's counterfactual?\n",
        "\n",
        "RCTs & Selection bias\n",
        "* Because members of the groups (treatment and control) do not differ systematically at the outset of the experiment, **any difference that subsequently arises between them can be attributed to the treatment** rather than to other factors (Michalopoulos, 2003).\n",
        "* The distribution of the two groups on **all baseline characteristics** (observable and unobservable) will be identical up to a known degree of sampling error. One exception: participation in the program\n",
        "* In the case of a properly conducted randomized trial, we can theoretically run a bivariate regression on a dummy variable for whether someone received the randomized treatment and recover the **true causal effect of the treatment:**\n",
        "$$\n",
        "Y=\\beta_0+\\beta_1 \\text { Treat }+u\n",
        "$$"
      ],
      "metadata": {
        "id": "7bE5-7hxQ5E8"
      },
      "id": "7bE5-7hxQ5E8"
    },
    {
      "cell_type": "markdown",
      "source": [
        "To recap: RCTs help us estimate the counterfactual (with near identical treatment +\n",
        "control groups)\n",
        "\n",
        "* A well-designed RCT should produce two groups that look almost identical\n",
        "* Same average potential outcome with treatment\n",
        "* Same average potential outcome without treatment"
      ],
      "metadata": {
        "id": "6Z7-basESKiG"
      },
      "id": "6Z7-basESKiG"
    },
    {
      "cell_type": "markdown",
      "source": [
        "In RCTs, avg treatment effect = difference in means\n",
        "\n",
        "* The treatment and control groups have the same average potential outcomes for both scenarios\n",
        "* So, the control group provides a valid counterfactual to the treatment group and vice versa\n",
        "* Therefore, assuming perfect compliance:\n",
        "\n",
        "Average Treatment Effect = Average Treated Outcome - Average Control Outcome"
      ],
      "metadata": {
        "id": "efa1D6DjRldf"
      },
      "id": "efa1D6DjRldf"
    },
    {
      "cell_type": "markdown",
      "source": [
        "Estimate treatment effects with regression\n",
        "\n",
        "* Recall that regression measures the average relationship between $X$ and $Y$\n",
        "* So, for an RCT, we can alternatively measure ATE with regression: $\\hat{Y}_i=\\hat{\\beta}_0+\\hat{\\beta}_1 \\text{Treat}_i + \\hat{u}_i$\n",
        "* $\\beta_0$ is the average outcome for the control group\n",
        "* $\\beta_0+\\beta_1$ is avg outcome for treated group\n",
        "* $\\beta_1$ is the ATE"
      ],
      "metadata": {
        "id": "Iw-VL3UrS7Iy"
      },
      "id": "Iw-VL3UrS7Iy"
    },
    {
      "cell_type": "markdown",
      "source": [
        "### Possible issues in RCTs\n",
        "\n",
        "*Threat #1: Unbalanced Groups*\n",
        "* If the treatment and controls group on average are different to begin with, then the groups are unbalanced\n",
        "  * Some error in the implementation of the experiment?\n",
        "  * Chance?\n",
        "* Regardless, if the groups are unbalanced, the estimated treatment effect is likely to be biased\n",
        "\n",
        "*Threat #2: Imperfect Compliance*\n",
        "* In RCTs, we can randomly assign people to treatment / control\n",
        "* However, it's often not possible to enforce whether or not treatment group individuals actually take treatment\n",
        "* Also, often can't enforce that control individuals don't take treatment\n",
        "* Imperfect compliance is when treatment group members don't get treatment or control group members do get it\n",
        "\n",
        "*Threat #3: Attrition*\n",
        "* Attrition (or non-response) means that some individuals disappear from the final sample (i.e. have no measured outcome)\n",
        "* Whether this is a threat to internal validity depends on whether and how attrition is correlated with treatment\n",
        "  * There is attrition bias if those who left the treatment group systematically differ from those who left the control group\n",
        "\n",
        "*Threat #4: Spillover Effects*\n",
        "\n",
        "* There are spillover effects if treating members of the treatment group affects the outcomes of the control group members\n",
        "  * If there are positive spillover effects, such that the control group is positively affected, we will underestimate the true treatment effect\n",
        "  * There could also be negative spillover effects, leading to overestimation, although this is typically less common"
      ],
      "metadata": {
        "id": "LZEH8r6BRdGr"
      },
      "id": "LZEH8r6BRdGr"
    },
    {
      "cell_type": "markdown",
      "source": [
        "Key Takeaways: RCTs\n",
        "\n",
        "* The counterfactual is at the core of causal inference. It is **what would have happened** to those receiving a treatment if they had not received that treatment.\n",
        "* However, we cannot know the true counterfactual in the real world. Our primary challenge in trying to make causal claims lies in **approximating the counterfactual** of the treatment group with a well-selected control group.\n",
        "* Randomized controlled trials allow us to approximate the counterfactual by ensuring that, on average, the control group and treatment group are **similar on all possible baseline variables** other than being offered the treatment.\n",
        "* RCTs are considered to have high internal validity, though ensuring high external validity can be challenging."
      ],
      "metadata": {
        "id": "KmEwWhFFSip9"
      },
      "id": "KmEwWhFFSip9"
    },
    {
      "cell_type": "markdown",
      "id": "d5711e37-1060-49bc-99a6-d15b04756f16",
      "metadata": {
        "id": "d5711e37-1060-49bc-99a6-d15b04756f16"
      },
      "source": [
        "# Exercises"
      ]
    },
    {
      "cell_type": "markdown",
      "source": [
        "In this part, you will explore how nonlinear varibles using data from the National Longitudinal Survey of Youth 2000 sample. The variables of interest in this exercise are: \n",
        "\n",
        "*   `income`: weekly earnings\n",
        "*   `male`: a binary variable for whether the individual identifies as male\n",
        "*   `yrs_educ`: years of education\n",
        "*   `married`: a binary variable for whether the individual is married\n",
        "*  `urban`: a binary variable for whether the individual is living in an urban (as opposed to rural) area\n",
        "* `black`: a binary variable for whether the individual identifies as Black\n",
        "* `hispanic`: a binary variable for whether the individual identifies as Hispanic\n",
        "* `single`: a binary variable for whether the individual is single \n",
        "*   `age`: age in years."
      ],
      "metadata": {
        "id": "x3QubBvH68js"
      },
      "id": "x3QubBvH68js"
    },
    {
      "cell_type": "code",
      "source": [
        "#suppress warnings\n",
        "options(warn =-1,dplyr.summarise.inform=FALSE)\n",
        "\n",
        "library(tidyverse)\n",
        "NLSY <- read.csv(\"https://github.com/tsvoronos/API202-students/blob/9b0d9d54fff8677151f5ae86df096fb55e6b39d7/data/nlsy2000_2012.csv?raw=1\")\n",
        "\n",
        "head(NLSY)\n"
      ],
      "metadata": {
        "id": "wk3XNTHp5qXY"
      },
      "id": "wk3XNTHp5qXY",
      "execution_count": null,
      "outputs": []
    },
    {
      "cell_type": "markdown",
      "source": [
        "**1. Transform income into the log of income.**\n",
        "\n"
      ],
      "metadata": {
        "id": "8JT0gIZFYOnY"
      },
      "id": "8JT0gIZFYOnY"
    },
    {
      "cell_type": "code",
      "source": [
        "# Your code here\n"
      ],
      "metadata": {
        "id": "wx7uGfjhYLGP"
      },
      "id": "wx7uGfjhYLGP",
      "execution_count": 2,
      "outputs": []
    },
    {
      "cell_type": "markdown",
      "source": [
        "Your answer here:"
      ],
      "metadata": {
        "id": "CYbXbbEWmhgd"
      },
      "id": "CYbXbbEWmhgd"
    },
    {
      "cell_type": "markdown",
      "source": [
        "**2.  Run a regression income on urban, years of education, and the interaction between urban and years of education. Interpret each of the three coefficients on married, hispanic, and age, and discuss whether each is statistically significant at the 5% level.**"
      ],
      "metadata": {
        "id": "rPuLIOl8YUWN"
      },
      "id": "rPuLIOl8YUWN"
    },
    {
      "cell_type": "code",
      "source": [
        "# Your code here\n"
      ],
      "metadata": {
        "id": "lWXx9EpGYVam"
      },
      "id": "lWXx9EpGYVam",
      "execution_count": null,
      "outputs": []
    },
    {
      "cell_type": "markdown",
      "source": [
        "Your answer here:\n"
      ],
      "metadata": {
        "id": "o1sr-vIzKUCa"
      },
      "id": "o1sr-vIzKUCa"
    },
    {
      "cell_type": "markdown",
      "source": [
        "**3. Add a quadratic term for age to the regression in question 2.**"
      ],
      "metadata": {
        "id": "_Ht22FNdrR1k"
      },
      "id": "_Ht22FNdrR1k"
    },
    {
      "cell_type": "code",
      "source": [],
      "metadata": {
        "id": "ncScpfcPrQ9k"
      },
      "id": "ncScpfcPrQ9k",
      "execution_count": null,
      "outputs": []
    },
    {
      "cell_type": "markdown",
      "source": [
        "**4. What’s the predicted difference in income between people with 17 and 18 years of age, according to the regression in question 3?**"
      ],
      "metadata": {
        "id": "DXPoHAgWKxF1"
      },
      "id": "DXPoHAgWKxF1"
    },
    {
      "cell_type": "markdown",
      "source": [
        "Your answer here:\n"
      ],
      "metadata": {
        "id": "O-JOVqa1KzmC"
      },
      "id": "O-JOVqa1KzmC"
    },
    {
      "cell_type": "markdown",
      "source": [
        "**5. What is the predicted difference in income between people with 20 and 21 years of age, according to the regression in question 3?**"
      ],
      "metadata": {
        "id": "JS6BMFVIKddI"
      },
      "id": "JS6BMFVIKddI"
    },
    {
      "cell_type": "markdown",
      "source": [
        "Your answer here:"
      ],
      "metadata": {
        "id": "1YtyXalqKivp"
      },
      "id": "1YtyXalqKivp"
    }
  ],
  "metadata": {
    "colab": {
      "provenance": [],
      "include_colab_link": true
    },
    "kernelspec": {
      "display_name": "R",
      "language": "R",
      "name": "ir"
    },
    "language_info": {
      "codemirror_mode": "r",
      "file_extension": ".r",
      "mimetype": "text/x-r-source",
      "name": "R",
      "pygments_lexer": "r",
      "version": "4.2.1"
    }
  },
  "nbformat": 4,
  "nbformat_minor": 5
}