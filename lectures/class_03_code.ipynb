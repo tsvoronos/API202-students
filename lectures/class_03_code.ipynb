{
 "cells": [
  {
   "cell_type": "markdown",
   "id": "d0efe1ac-5195-431e-97e7-83292ec351c6",
   "metadata": {
    "id": "MCxBgEIYnIO_"
   },
   "source": [
    "# Class 2: Bivarate regression"
   ]
  },
  {
   "cell_type": "code",
   "execution_count": 15,
   "id": "4ffbc094-f56b-4028-b3a6-b55e618b263d",
   "metadata": {},
   "outputs": [
    {
     "data": {
      "text/plain": [
       "Response [https://raw.githubusercontent.com/tsvoronos/API202-students/main/data/caschool.xlsx]\n",
       "  Date: 2023-01-09 15:40\n",
       "  Status: 200\n",
       "  Content-Type: application/octet-stream\n",
       "  Size: 91.4 kB\n",
       "<ON DISK>  /var/folders/23/wnrvfh7x5mjf3_zz99xxypxc0000gn/T//RtmpekIPf4/file13ba043b7fce3.xlsxNULL"
      ]
     },
     "metadata": {},
     "output_type": "display_data"
    }
   ],
   "source": [
    "library(tidyverse)\n",
    "library(lfe)\n",
    "library(readxl)\n",
    "library(httr)\n",
    "\n",
    "# Download Excel dataset\n",
    "url = 'https://github.com/tsvoronos/API202-students/raw/main/data/caschool.xlsx?raw=TRUE'\n",
    "GET(url, write_disk(tf <- tempfile(fileext = \".xlsx\")))\n",
    "\n",
    "# Read in each sheet of the Excel file\n",
    "caschool <- read_excel(tf, sheet = 1)"
   ]
  },
  {
   "cell_type": "code",
   "execution_count": 28,
   "id": "f21534ed-4bc5-4e4a-ac69-9f55b9dbdc35",
   "metadata": {},
   "outputs": [
    {
     "data": {
      "text/plain": [
       "\n",
       "Call:\n",
       "   felm(formula = testscr ~ str, data = caschool) \n",
       "\n",
       "Residuals:\n",
       "    Min      1Q  Median      3Q     Max \n",
       "-47.727 -14.251   0.483  12.822  48.540 \n",
       "\n",
       "Coefficients:\n",
       "            Estimate Std. Error t value Pr(>|t|)    \n",
       "(Intercept) 698.9330     9.4675  73.825  < 2e-16 ***\n",
       "str          -2.2798     0.4798  -4.751 2.78e-06 ***\n",
       "---\n",
       "Signif. codes:  0 ‘***’ 0.001 ‘**’ 0.01 ‘*’ 0.05 ‘.’ 0.1 ‘ ’ 1\n",
       "\n",
       "Residual standard error: 18.58 on 418 degrees of freedom\n",
       "Multiple R-squared(full model): 0.05124   Adjusted R-squared: 0.04897 \n",
       "Multiple R-squared(proj model): 0.05124   Adjusted R-squared: 0.04897 \n",
       "F-statistic(full model):22.58 on 1 and 418 DF, p-value: 2.783e-06 \n",
       "F-statistic(proj model): 22.58 on 1 and 418 DF, p-value: 2.783e-06 \n",
       "\n"
      ]
     },
     "metadata": {},
     "output_type": "display_data"
    }
   ],
   "source": [
    "model1 <- felm(testscr ~ str, data=caschool)\n",
    "summary(model1)"
   ]
  },
  {
   "cell_type": "code",
   "execution_count": 29,
   "id": "308ea1f6-869d-4bc6-b633-b56dc16ef5ef",
   "metadata": {},
   "outputs": [
    {
     "data": {
      "text/plain": [
       "\n",
       "Call:\n",
       "   felm(formula = testscr ~ str + avginc, data = caschool) \n",
       "\n",
       "Residuals:\n",
       "    Min      1Q  Median      3Q     Max \n",
       "-39.608  -9.052   0.707   9.259  31.898 \n",
       "\n",
       "Coefficients:\n",
       "             Estimate Std. Error t value Pr(>|t|)    \n",
       "(Intercept) 638.72915    7.44908  85.746   <2e-16 ***\n",
       "str          -0.64874    0.35440  -1.831   0.0679 .  \n",
       "avginc        1.83911    0.09279  19.821   <2e-16 ***\n",
       "---\n",
       "Signif. codes:  0 ‘***’ 0.001 ‘**’ 0.01 ‘*’ 0.05 ‘.’ 0.1 ‘ ’ 1\n",
       "\n",
       "Residual standard error: 13.35 on 417 degrees of freedom\n",
       "Multiple R-squared(full model): 0.5115   Adjusted R-squared: 0.5091 \n",
       "Multiple R-squared(proj model): 0.5115   Adjusted R-squared: 0.5091 \n",
       "F-statistic(full model):218.3 on 2 and 417 DF, p-value: < 2.2e-16 \n",
       "F-statistic(proj model): 218.3 on 2 and 417 DF, p-value: < 2.2e-16 \n",
       "\n"
      ]
     },
     "metadata": {},
     "output_type": "display_data"
    }
   ],
   "source": [
    "model2 <- felm(testscr ~ str + avginc, data=caschool)\n",
    "summary(model2)"
   ]
  },
  {
   "cell_type": "code",
   "execution_count": 31,
   "id": "1fb461b1-3e66-460a-ae7e-064a49bea9ab",
   "metadata": {},
   "outputs": [
    {
     "data": {
      "text/plain": [
       "\n",
       "Call:\n",
       "   felm(formula = testscr ~ str + avginc + comp_stu + el_pct, data = caschool_bin) \n",
       "\n",
       "Residuals:\n",
       "    Min      1Q  Median      3Q     Max \n",
       "-43.676  -6.630   0.433   6.292  29.649 \n",
       "\n",
       "Coefficients:\n",
       "             Estimate Std. Error t value Pr(>|t|)    \n",
       "(Intercept) 636.07830    6.30846 100.829   <2e-16 ***\n",
       "str           0.05213    0.28587   0.182   0.8554    \n",
       "avginc        1.48448    0.07493  19.813   <2e-16 ***\n",
       "comp_stu     13.81790    8.36847   1.651   0.0995 .  \n",
       "el_pct       -0.47951    0.02970 -16.145   <2e-16 ***\n",
       "---\n",
       "Signif. codes:  0 ‘***’ 0.001 ‘**’ 0.01 ‘*’ 0.05 ‘.’ 0.1 ‘ ’ 1\n",
       "\n",
       "Residual standard error: 10.33 on 415 degrees of freedom\n",
       "Multiple R-squared(full model): 0.7091   Adjusted R-squared: 0.7063 \n",
       "Multiple R-squared(proj model): 0.7091   Adjusted R-squared: 0.7063 \n",
       "F-statistic(full model):252.9 on 4 and 415 DF, p-value: < 2.2e-16 \n",
       "F-statistic(proj model): 252.9 on 4 and 415 DF, p-value: < 2.2e-16 \n",
       "\n"
      ]
     },
     "metadata": {},
     "output_type": "display_data"
    }
   ],
   "source": [
    "model3 <- felm(testscr ~ str + avginc + comp_stu + el_pct, data=caschool_bin)\n",
    "summary(model3)"
   ]
  }
 ],
 "metadata": {
  "kernelspec": {
   "display_name": "R",
   "language": "R",
   "name": "ir"
  },
  "language_info": {
   "codemirror_mode": "r",
   "file_extension": ".r",
   "mimetype": "text/x-r-source",
   "name": "R",
   "pygments_lexer": "r",
   "version": "4.2.2"
  }
 },
 "nbformat": 4,
 "nbformat_minor": 5
}
