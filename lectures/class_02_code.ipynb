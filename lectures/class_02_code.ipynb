{
 "cells": [
  {
   "cell_type": "markdown",
   "metadata": {
    "id": "MCxBgEIYnIO_"
   },
   "source": [
    "# Class 2: Bivarate regression"
   ]
  },
  {
   "cell_type": "code",
   "execution_count": 23,
   "metadata": {
    "colab": {
     "base_uri": "https://localhost:8080/",
     "height": 124
    },
    "id": "SGIZZDoTmw1C",
    "outputId": "a887530d-aa75-45a2-dda0-b78595721c6b"
   },
   "outputs": [
    {
     "data": {
      "text/plain": [
       "Response [https://raw.githubusercontent.com/tsvoronos/API202-students/main/data/caschool.xlsx]\n",
       "  Date: 2023-01-09 15:45\n",
       "  Status: 200\n",
       "  Content-Type: application/octet-stream\n",
       "  Size: 91.4 kB\n",
       "<ON DISK>  /var/folders/23/wnrvfh7x5mjf3_zz99xxypxc0000gn/T//RtmpekIPf4/file13ba0643bbdd0.xlsxNULL"
      ]
     },
     "metadata": {},
     "output_type": "display_data"
    }
   ],
   "source": [
    "library(tidyverse)\n",
    "library(lfe)\n",
    "library(readxl)\n",
    "library(httr)\n",
    "\n",
    "# Download Excel dataset\n",
    "url = 'https://github.com/tsvoronos/API202-students/raw/main/data/caschool.xlsx?raw=TRUE'\n",
    "GET(url, write_disk(tf <- tempfile(fileext = \".xlsx\")))\n",
    "\n",
    "# Read in each sheet of the Excel file\n",
    "caschool <- read_excel(tf, sheet = 1)"
   ]
  },
  {
   "cell_type": "code",
   "execution_count": 9,
   "metadata": {
    "id": "yRXSw7-nobDL"
   },
   "outputs": [],
   "source": [
    "main <- ggplot(caschool, aes(x = str, y = testscr)) + \n",
    "  geom_point() +\n",
    "  scale_y_continuous('Test scores') + \n",
    "  scale_x_continuous('Student-teacher ratio') +\n",
    "  theme(text = element_text(size = 20))     "
   ]
  },
  {
   "cell_type": "code",
   "execution_count": 10,
   "metadata": {
    "colab": {
     "base_uri": "https://localhost:8080/",
     "height": 178
    },
    "id": "_ISTtNO6og0I",
    "outputId": "6106e5ec-ee25-49b1-f2f0-cd9db4b0df07"
   },
   "outputs": [
    {
     "data": {
      "text/html": [
       "<table class=\"dataframe\">\n",
       "<caption>A tibble: 2 × 4</caption>\n",
       "<thead>\n",
       "\t<tr><th scope=col>smallclass</th><th scope=col>mean_test</th><th scope=col>sd_test</th><th scope=col>n</th></tr>\n",
       "\t<tr><th scope=col>&lt;lgl&gt;</th><th scope=col>&lt;dbl&gt;</th><th scope=col>&lt;dbl&gt;</th><th scope=col>&lt;int&gt;</th></tr>\n",
       "</thead>\n",
       "<tbody>\n",
       "\t<tr><td>FALSE</td><td>649.9788</td><td>17.85336</td><td>182</td></tr>\n",
       "\t<tr><td> TRUE</td><td>657.3513</td><td>19.35801</td><td>238</td></tr>\n",
       "</tbody>\n",
       "</table>\n"
      ],
      "text/latex": [
       "A tibble: 2 × 4\n",
       "\\begin{tabular}{llll}\n",
       " smallclass & mean\\_test & sd\\_test & n\\\\\n",
       " <lgl> & <dbl> & <dbl> & <int>\\\\\n",
       "\\hline\n",
       "\t FALSE & 649.9788 & 17.85336 & 182\\\\\n",
       "\t  TRUE & 657.3513 & 19.35801 & 238\\\\\n",
       "\\end{tabular}\n"
      ],
      "text/markdown": [
       "\n",
       "A tibble: 2 × 4\n",
       "\n",
       "| smallclass &lt;lgl&gt; | mean_test &lt;dbl&gt; | sd_test &lt;dbl&gt; | n &lt;int&gt; |\n",
       "|---|---|---|---|\n",
       "| FALSE | 649.9788 | 17.85336 | 182 |\n",
       "|  TRUE | 657.3513 | 19.35801 | 238 |\n",
       "\n"
      ],
      "text/plain": [
       "  smallclass mean_test sd_test  n  \n",
       "1 FALSE      649.9788  17.85336 182\n",
       "2  TRUE      657.3513  19.35801 238"
      ]
     },
     "metadata": {},
     "output_type": "display_data"
    }
   ],
   "source": [
    "caschool %>%\n",
    "  mutate(smallclass = str<20) %>%\n",
    "  group_by(smallclass) %>%\n",
    "  summarize(mean_test = mean(testscr), sd_test = sd(testscr), n = n())"
   ]
  },
  {
   "cell_type": "code",
   "execution_count": 11,
   "metadata": {
    "colab": {
     "base_uri": "https://localhost:8080/",
     "height": 178
    },
    "id": "_ISTtNO6og0I",
    "outputId": "6106e5ec-ee25-49b1-f2f0-cd9db4b0df07"
   },
   "outputs": [
    {
     "data": {
      "text/html": [
       "<table class=\"dataframe\">\n",
       "<caption>A tibble: 2 × 4</caption>\n",
       "<thead>\n",
       "\t<tr><th scope=col>smallclass</th><th scope=col>mean_test</th><th scope=col>sd_test</th><th scope=col>n</th></tr>\n",
       "\t<tr><th scope=col>&lt;lgl&gt;</th><th scope=col>&lt;dbl&gt;</th><th scope=col>&lt;dbl&gt;</th><th scope=col>&lt;int&gt;</th></tr>\n",
       "</thead>\n",
       "<tbody>\n",
       "\t<tr><td>FALSE</td><td>649.9788</td><td>17.85336</td><td>182</td></tr>\n",
       "\t<tr><td> TRUE</td><td>657.3513</td><td>19.35801</td><td>238</td></tr>\n",
       "</tbody>\n",
       "</table>\n"
      ],
      "text/latex": [
       "A tibble: 2 × 4\n",
       "\\begin{tabular}{llll}\n",
       " smallclass & mean\\_test & sd\\_test & n\\\\\n",
       " <lgl> & <dbl> & <dbl> & <int>\\\\\n",
       "\\hline\n",
       "\t FALSE & 649.9788 & 17.85336 & 182\\\\\n",
       "\t  TRUE & 657.3513 & 19.35801 & 238\\\\\n",
       "\\end{tabular}\n"
      ],
      "text/markdown": [
       "\n",
       "A tibble: 2 × 4\n",
       "\n",
       "| smallclass &lt;lgl&gt; | mean_test &lt;dbl&gt; | sd_test &lt;dbl&gt; | n &lt;int&gt; |\n",
       "|---|---|---|---|\n",
       "| FALSE | 649.9788 | 17.85336 | 182 |\n",
       "|  TRUE | 657.3513 | 19.35801 | 238 |\n",
       "\n"
      ],
      "text/plain": [
       "  smallclass mean_test sd_test  n  \n",
       "1 FALSE      649.9788  17.85336 182\n",
       "2  TRUE      657.3513  19.35801 238"
      ]
     },
     "metadata": {},
     "output_type": "display_data"
    },
    {
     "data": {
      "text/html": [
       "1.82368822262917"
      ],
      "text/latex": [
       "1.82368822262917"
      ],
      "text/markdown": [
       "1.82368822262917"
      ],
      "text/plain": [
       "[1] 1.823688"
      ]
     },
     "metadata": {},
     "output_type": "display_data"
    },
    {
     "data": {
      "text/html": [
       "4.04263179885611"
      ],
      "text/latex": [
       "4.04263179885611"
      ],
      "text/markdown": [
       "4.04263179885611"
      ],
      "text/plain": [
       "[1] 4.042632"
      ]
     },
     "metadata": {},
     "output_type": "display_data"
    }
   ],
   "source": [
    "caschool_bin <- caschool %>%\n",
    "  mutate(smallclass = str<20)\n",
    " \n",
    "caschool_stats <- caschool_bin %>%\n",
    "  group_by(smallclass) %>%\n",
    "  summarize(mean_test = mean(testscr), sd_test = sd(testscr), n = n())\n",
    "caschool_stats\n",
    "\n",
    "mean_large <- 649.9788\n",
    "mean_small <- 657.3513\n",
    "sd_large <- 17.85336\n",
    "sd_small <- 19.35801\n",
    "n_large <- 182\n",
    "n_small <- 238\n",
    "\n",
    "se <- sqrt(sd_small^2/n_small + sd_large^2/n_large)\n",
    "se\n",
    "z <- (mean_small - mean_large)/se\n",
    "z"
   ]
  },
  {
   "cell_type": "code",
   "execution_count": 12,
   "metadata": {
    "id": "g2cZDaEBnXOV"
   },
   "outputs": [],
   "source": [
    "mainfit <- ggplot(caschool, aes(x = str, y = testscr)) + \n",
    "  geom_point() +\n",
    "  geom_smooth(method ='lm', formula = y~x, se = FALSE) +\n",
    "  scale_y_continuous('Test scores', limits = c(610,710)) + \n",
    "  scale_x_continuous('Student-teacher ratio', limits = c(12,27)) +\n",
    "  theme(text = element_text(size = 20))"
   ]
  },
  {
   "cell_type": "code",
   "execution_count": null,
   "metadata": {
    "colab": {
     "base_uri": "https://localhost:8080/",
     "height": 437
    },
    "id": "iWs_RYz_yy04",
    "outputId": "00d569c3-02a6-4525-885c-6290dd63ebcf"
   },
   "outputs": [],
   "source": []
  },
  {
   "cell_type": "code",
   "execution_count": 25,
   "metadata": {
    "colab": {
     "base_uri": "https://localhost:8080/",
     "height": 142
    },
    "id": "VMtqUbnRsA09",
    "outputId": "f16edebf-3405-4210-a428-4c502e16bb32"
   },
   "outputs": [
    {
     "data": {
      "text/plain": [
       "\n",
       "Call:\n",
       "   felm(formula = testscr ~ str, data = caschool) \n",
       "\n",
       "Residuals:\n",
       "    Min      1Q  Median      3Q     Max \n",
       "-47.727 -14.251   0.483  12.822  48.540 \n",
       "\n",
       "Coefficients:\n",
       "            Estimate Std. Error t value Pr(>|t|)    \n",
       "(Intercept) 698.9330     9.4675  73.825  < 2e-16 ***\n",
       "str          -2.2798     0.4798  -4.751 2.78e-06 ***\n",
       "---\n",
       "Signif. codes:  0 ‘***’ 0.001 ‘**’ 0.01 ‘*’ 0.05 ‘.’ 0.1 ‘ ’ 1\n",
       "\n",
       "Residual standard error: 18.58 on 418 degrees of freedom\n",
       "Multiple R-squared(full model): 0.05124   Adjusted R-squared: 0.04897 \n",
       "Multiple R-squared(proj model): 0.05124   Adjusted R-squared: 0.04897 \n",
       "F-statistic(full model):22.58 on 1 and 418 DF, p-value: 2.783e-06 \n",
       "F-statistic(proj model): 22.58 on 1 and 418 DF, p-value: 2.783e-06 \n",
       "\n"
      ]
     },
     "metadata": {},
     "output_type": "display_data"
    }
   ],
   "source": [
    "bivariate <- felm(testscr ~ str, data=caschool)\n",
    "summary(bivariate)"
   ]
  },
  {
   "cell_type": "code",
   "execution_count": 18,
   "metadata": {
    "id": "JZfJZHr8woh5"
   },
   "outputs": [],
   "source": [
    "sample1 <- sample_n(caschool, 50)\n",
    "sample2 <- sample_n(caschool, 50)\n",
    "sample3 <- sample_n(caschool, 50)\n",
    "sample4 <- sample_n(caschool, 50)\n",
    "sample5 <- sample_n(caschool, 50)"
   ]
  },
  {
   "cell_type": "code",
   "execution_count": 19,
   "metadata": {
    "id": "JZfJZHr8woh5"
   },
   "outputs": [
    {
     "data": {
      "text/plain": [
       "\n",
       "Call:\n",
       "lm(formula = testscr ~ str, data = caschool)\n",
       "\n",
       "Coefficients:\n",
       "(Intercept)          str  \n",
       "     698.93        -2.28  \n"
      ]
     },
     "metadata": {},
     "output_type": "display_data"
    },
    {
     "data": {
      "text/plain": [
       "\n",
       "Call:\n",
       "lm(formula = testscr ~ str, data = sample1)\n",
       "\n",
       "Coefficients:\n",
       "(Intercept)          str  \n",
       "    676.404       -1.168  \n"
      ]
     },
     "metadata": {},
     "output_type": "display_data"
    },
    {
     "data": {
      "text/plain": [
       "\n",
       "Call:\n",
       "lm(formula = testscr ~ str, data = sample2)\n",
       "\n",
       "Coefficients:\n",
       "(Intercept)          str  \n",
       "    719.116       -3.169  \n"
      ]
     },
     "metadata": {},
     "output_type": "display_data"
    },
    {
     "data": {
      "text/plain": [
       "\n",
       "Call:\n",
       "lm(formula = testscr ~ str, data = sample3)\n",
       "\n",
       "Coefficients:\n",
       "(Intercept)          str  \n",
       "  651.14309      0.04477  \n"
      ]
     },
     "metadata": {},
     "output_type": "display_data"
    },
    {
     "data": {
      "text/plain": [
       "\n",
       "Call:\n",
       "lm(formula = testscr ~ str, data = sample4)\n",
       "\n",
       "Coefficients:\n",
       "(Intercept)          str  \n",
       "    672.817       -0.906  \n"
      ]
     },
     "metadata": {},
     "output_type": "display_data"
    },
    {
     "data": {
      "text/plain": [
       "\n",
       "Call:\n",
       "lm(formula = testscr ~ str, data = sample5)\n",
       "\n",
       "Coefficients:\n",
       "(Intercept)          str  \n",
       "     733.71        -3.89  \n"
      ]
     },
     "metadata": {},
     "output_type": "display_data"
    }
   ],
   "source": [
    "lm(testscr ~ str, data=caschool)\n",
    "lm(testscr ~ str, data=sample1)\n",
    "lm(testscr ~ str, data=sample2)\n",
    "lm(testscr ~ str, data=sample3)\n",
    "lm(testscr ~ str, data=sample4)\n",
    "lm(testscr ~ str, data=sample5)"
   ]
  },
  {
   "cell_type": "code",
   "execution_count": 20,
   "metadata": {
    "id": "3w9ByNGFwxkQ"
   },
   "outputs": [],
   "source": [
    "plot1 <- ggplot(sample1, aes(x = str, y = testscr)) + \n",
    "  geom_point() +\n",
    "  geom_smooth(method ='lm', formula = y~x, se = FALSE) +\n",
    "  scale_y_continuous('Test scores', limits = c(610,710)) + \n",
    "  scale_x_continuous('Student-teacher ratio', limits = c(12,27)) +\n",
    "  theme(text = element_text(size = 20))"
   ]
  },
  {
   "cell_type": "code",
   "execution_count": 21,
   "metadata": {
    "colab": {
     "base_uri": "https://localhost:8080/",
     "height": 437
    },
    "id": "J-UJsIYmw0lA",
    "outputId": "a0c3f035-4033-4725-e049-67c0c86e4470"
   },
   "outputs": [],
   "source": [
    "plot2 <- ggplot(sample2, aes(x = str, y = testscr)) + \n",
    "  geom_point() +\n",
    "  geom_smooth(method ='lm', formula = y~x, se = FALSE) +\n",
    "  scale_y_continuous('Test scores', limits = c(610,710)) + \n",
    "  scale_x_continuous('Student-teacher ratio', limits = c(12,27)) +\n",
    "  theme(text = element_text(size = 20))"
   ]
  },
  {
   "cell_type": "code",
   "execution_count": 22,
   "metadata": {
    "colab": {
     "base_uri": "https://localhost:8080/",
     "height": 437
    },
    "id": "7l1f4Cjnw1ek",
    "outputId": "10f89146-5b7a-4bf7-f012-7c82aea7251e"
   },
   "outputs": [],
   "source": [
    "plot3 <- ggplot(sample3, aes(x = str, y = testscr)) + \n",
    "  geom_point() +\n",
    "  geom_smooth(method ='lm', formula = y~x, se = FALSE) +\n",
    "  scale_y_continuous('Test scores', limits = c(610,710)) + \n",
    "  scale_x_continuous('Student-teacher ratio', limits = c(12,27)) +\n",
    "  theme(text = element_text(size = 20))"
   ]
  },
  {
   "cell_type": "code",
   "execution_count": 23,
   "metadata": {
    "colab": {
     "base_uri": "https://localhost:8080/",
     "height": 437
    },
    "id": "BU_inlukw2Z0",
    "outputId": "49d99c65-b93e-4115-c1cd-66227c36ca26"
   },
   "outputs": [],
   "source": [
    "plot4 <- ggplot(sample4, aes(x = str, y = testscr)) + \n",
    "  geom_point() +\n",
    "  geom_smooth(method ='lm', formula = y~x, se = FALSE) +\n",
    "  scale_y_continuous('Test scores', limits = c(610,710)) + \n",
    "  scale_x_continuous('Student-teacher ratio', limits = c(12,27)) +\n",
    "  theme(text = element_text(size = 20))"
   ]
  },
  {
   "cell_type": "code",
   "execution_count": 24,
   "metadata": {
    "colab": {
     "base_uri": "https://localhost:8080/",
     "height": 437
    },
    "id": "4mI0iylIw3Vk",
    "outputId": "ad393e73-b762-4de0-9902-bb170590ba4c"
   },
   "outputs": [],
   "source": [
    "plot5 <- ggplot(sample5, aes(x = str, y = testscr)) + \n",
    "  geom_point() +\n",
    "  geom_smooth(method ='lm', formula = y~x, se = FALSE) +\n",
    "  scale_y_continuous('Test scores', limits = c(610,710)) + \n",
    "  scale_x_continuous('Student-teacher ratio', limits = c(12,27)) +\n",
    "  theme(text = element_text(size = 20),\n",
    ")"
   ]
  },
  {
   "cell_type": "code",
   "execution_count": 25,
   "metadata": {},
   "outputs": [],
   "source": [
    "plotbackground <- ggplot() + \n",
    "  geom_point() +\n",
    "  geom_smooth(method ='lm', formula = y~x, se = FALSE) +\n",
    "  scale_y_continuous('Test scores', limits = c(610,710)) + \n",
    "  scale_x_continuous('Student-teacher ratio', limits = c(12,27)) +\n",
    "  theme(text = element_text(size = 20))\n",
    "\n",
    "plot1clear <- plot1 +theme(panel.background = element_rect(fill='transparent'), #transparent panel bg\n",
    "    plot.background = element_rect(fill='transparent', color=NA), #transparent plot bg\n",
    "    panel.grid.major = element_blank(), #remove major gridlines\n",
    "    panel.grid.minor = element_blank(), #remove minor gridlines\n",
    "    legend.background = element_rect(fill='transparent'), #transparent legend bg\n",
    "    legend.box.background = element_rect(fill='transparent') #transparent legend panel\n",
    "                           )\n",
    "\n",
    "plot2clear <- plot2 +theme(panel.background = element_rect(fill='transparent'), #transparent panel bg\n",
    "    plot.background = element_rect(fill='transparent', color=NA), #transparent plot bg\n",
    "    panel.grid.major = element_blank(), #remove major gridlines\n",
    "    panel.grid.minor = element_blank(), #remove minor gridlines\n",
    "    legend.background = element_rect(fill='transparent'), #transparent legend bg\n",
    "    legend.box.background = element_rect(fill='transparent') #transparent legend panel\n",
    "                           )\n",
    "\n",
    "plot3clear <- plot3 +theme(panel.background = element_rect(fill='transparent'), #transparent panel bg\n",
    "    plot.background = element_rect(fill='transparent', color=NA), #transparent plot bg\n",
    "    panel.grid.major = element_blank(), #remove major gridlines\n",
    "    panel.grid.minor = element_blank(), #remove minor gridlines\n",
    "    legend.background = element_rect(fill='transparent'), #transparent legend bg\n",
    "    legend.box.background = element_rect(fill='transparent') #transparent legend panel\n",
    "                           )\n",
    "plot4clear <- plot4 +theme(panel.background = element_rect(fill='transparent'), #transparent panel bg\n",
    "    plot.background = element_rect(fill='transparent', color=NA), #transparent plot bg\n",
    "    panel.grid.major = element_blank(), #remove major gridlines\n",
    "    panel.grid.minor = element_blank(), #remove minor gridlines\n",
    "    legend.background = element_rect(fill='transparent'), #transparent legend bg\n",
    "    legend.box.background = element_rect(fill='transparent') #transparent legend panel\n",
    "                           )\n",
    "plot5clear <- plot5 +theme(panel.background = element_rect(fill='transparent'), #transparent panel bg\n",
    "    plot.background = element_rect(fill='transparent', color=NA), #transparent plot bg\n",
    "    panel.grid.major = element_blank(), #remove major gridlines\n",
    "    panel.grid.minor = element_blank(), #remove minor gridlines\n",
    "    legend.background = element_rect(fill='transparent'), #transparent legend bg\n",
    "    legend.box.background = element_rect(fill='transparent') #transparent legend panel\n",
    "                           )\n",
    "\n"
   ]
  },
  {
   "cell_type": "code",
   "execution_count": 26,
   "metadata": {},
   "outputs": [
    {
     "name": "stderr",
     "output_type": "stream",
     "text": [
      "\u001b[1m\u001b[22mSaving 7 x 7 in image\n",
      "\u001b[1m\u001b[22mSaving 7 x 7 in image\n",
      "Warning message:\n",
      "“\u001b[1m\u001b[22mRemoved 3 rows containing non-finite values (`stat_smooth()`).”\n",
      "Warning message:\n",
      "“\u001b[1m\u001b[22mRemoved 3 rows containing missing values (`geom_point()`).”\n",
      "\u001b[1m\u001b[22mSaving 7 x 7 in image\n",
      "\u001b[1m\u001b[22mSaving 7 x 7 in image\n",
      "\u001b[1m\u001b[22mSaving 7 x 7 in image\n",
      "\u001b[1m\u001b[22mSaving 7 x 7 in image\n",
      "Warning message:\n",
      "“\u001b[1m\u001b[22mRemoved 1 rows containing non-finite values (`stat_smooth()`).”\n",
      "Warning message:\n",
      "“\u001b[1m\u001b[22mRemoved 1 rows containing missing values (`geom_point()`).”\n",
      "\u001b[1m\u001b[22mSaving 7 x 7 in image\n",
      "\u001b[1m\u001b[22mSaving 7 x 7 in image\n"
     ]
    }
   ],
   "source": [
    "ggsave(\n",
    "  plot = main,\n",
    "  filename = \"main.png\",\n",
    "  bg = \"transparent\"\n",
    ")\n",
    "\n",
    "ggsave(\n",
    "  plot = mainfit,\n",
    "  filename = \"mainfit.png\",\n",
    "  bg = \"transparent\"\n",
    ")\n",
    "\n",
    "\n",
    "ggsave(\n",
    "  plot = plotbackground,\n",
    "  filename = \"plotbackground.png\",\n",
    "  bg = \"transparent\"\n",
    ")\n",
    "\n",
    "ggsave(\n",
    "  plot = plot1clear,\n",
    "  filename = \"plot1.png\",\n",
    "  bg = \"transparent\"\n",
    ")\n",
    "\n",
    "ggsave(\n",
    "  plot = plot2clear,\n",
    "  filename = \"plot2.png\",\n",
    "  bg = \"transparent\"\n",
    ")\n",
    "\n",
    "ggsave(\n",
    "  plot = plot3clear,\n",
    "  filename = \"plot3.png\",\n",
    "  bg = \"transparent\"\n",
    ")\n",
    "\n",
    "ggsave(\n",
    "  plot = plot4clear,\n",
    "  filename = \"plot4.png\",\n",
    "  bg = \"transparent\"\n",
    ")\n",
    "\n",
    "ggsave(\n",
    "  plot = plot5clear,\n",
    "  filename = \"plot5.png\",\n",
    "  bg = \"transparent\"\n",
    ")"
   ]
  }
 ],
 "metadata": {
  "colab": {
   "provenance": []
  },
  "kernelspec": {
   "display_name": "R",
   "language": "R",
   "name": "ir"
  },
  "language_info": {
   "codemirror_mode": "r",
   "file_extension": ".r",
   "mimetype": "text/x-r-source",
   "name": "R",
   "pygments_lexer": "r",
   "version": "4.2.2"
  }
 },
 "nbformat": 4,
 "nbformat_minor": 4
}
