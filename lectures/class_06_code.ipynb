{
  "nbformat": 4,
  "nbformat_minor": 0,
  "metadata": {
    "colab": {
      "provenance": [],
      "authorship_tag": "ABX9TyOLwABy0jZsnoqhFezRnJz+",
      "include_colab_link": true
    },
    "kernelspec": {
      "name": "ir",
      "display_name": "R"
    },
    "language_info": {
      "name": "R"
    }
  },
  "cells": [
    {
      "cell_type": "markdown",
      "metadata": {
        "id": "view-in-github",
        "colab_type": "text"
      },
      "source": [
        "<a href=\"https://colab.research.google.com/github/tsvoronos/API202-students/blob/main/lectures/class_06_code.ipynb\" target=\"_parent\"><img src=\"https://colab.research.google.com/assets/colab-badge.svg\" alt=\"Open In Colab\"/></a>"
      ]
    },
    {
      "cell_type": "code",
      "execution_count": 1,
      "metadata": {
        "colab": {
          "base_uri": "https://localhost:8080/"
        },
        "id": "UFlQxdGHs_Da",
        "outputId": "1b7a00d9-5d82-42ef-dc01-1845af095275"
      },
      "outputs": [
        {
          "output_type": "stream",
          "name": "stderr",
          "text": [
            "Warning message in system(\"timedatectl\", intern = TRUE):\n",
            "“running command 'timedatectl' had status 1”\n",
            "── \u001b[1mAttaching packages\u001b[22m ─────────────────────────────────────── tidyverse 1.3.1 ──\n",
            "\n",
            "\u001b[32m✔\u001b[39m \u001b[34mggplot2\u001b[39m 3.4.0      \u001b[32m✔\u001b[39m \u001b[34mpurrr  \u001b[39m 1.0.1 \n",
            "\u001b[32m✔\u001b[39m \u001b[34mtibble \u001b[39m 3.1.8      \u001b[32m✔\u001b[39m \u001b[34mdplyr  \u001b[39m 1.0.10\n",
            "\u001b[32m✔\u001b[39m \u001b[34mtidyr  \u001b[39m 1.3.0      \u001b[32m✔\u001b[39m \u001b[34mstringr\u001b[39m 1.4.1 \n",
            "\u001b[32m✔\u001b[39m \u001b[34mreadr  \u001b[39m 2.1.3      \u001b[32m✔\u001b[39m \u001b[34mforcats\u001b[39m 0.5.2 \n",
            "\n",
            "── \u001b[1mConflicts\u001b[22m ────────────────────────────────────────── tidyverse_conflicts() ──\n",
            "\u001b[31m✖\u001b[39m \u001b[34mdplyr\u001b[39m::\u001b[32mfilter()\u001b[39m masks \u001b[34mstats\u001b[39m::filter()\n",
            "\u001b[31m✖\u001b[39m \u001b[34mdplyr\u001b[39m::\u001b[32mlag()\u001b[39m    masks \u001b[34mstats\u001b[39m::lag()\n",
            "\n"
          ]
        }
      ],
      "source": [
        "library(tidyverse)\n",
        "datawage <- read.csv(\"https://github.com/tsvoronos/API202-students/blob/f3f34cd64a4f98b4fe6507805e9579f5323f1b9a/data/gap2023.csv?raw=1\")\n"
      ]
    },
    {
      "cell_type": "code",
      "source": [
        "head(datawage)"
      ],
      "metadata": {
        "colab": {
          "base_uri": "https://localhost:8080/",
          "height": 286
        },
        "id": "HbMwdD9UtAnZ",
        "outputId": "eed5bf39-945a-4ba7-8632-c6d49216a498"
      },
      "execution_count": 2,
      "outputs": [
        {
          "output_type": "display_data",
          "data": {
            "text/html": [
              "<table class=\"dataframe\">\n",
              "<caption>A data.frame: 6 × 7</caption>\n",
              "<thead>\n",
              "\t<tr><th></th><th scope=col>age</th><th scope=col>salary</th><th scope=col>hours</th><th scope=col>weeks</th><th scope=col>educ</th><th scope=col>immigrant</th><th scope=col>test_score</th></tr>\n",
              "\t<tr><th></th><th scope=col>&lt;int&gt;</th><th scope=col>&lt;int&gt;</th><th scope=col>&lt;int&gt;</th><th scope=col>&lt;int&gt;</th><th scope=col>&lt;int&gt;</th><th scope=col>&lt;int&gt;</th><th scope=col>&lt;dbl&gt;</th></tr>\n",
              "</thead>\n",
              "<tbody>\n",
              "\t<tr><th scope=row>1</th><td>15</td><td> 200</td><td>15</td><td> 6</td><td> 7</td><td>0</td><td>-1.0868942</td></tr>\n",
              "\t<tr><th scope=row>2</th><td>15</td><td> 100</td><td> 5</td><td> 6</td><td> 7</td><td>0</td><td>-1.2553779</td></tr>\n",
              "\t<tr><th scope=row>3</th><td>16</td><td> 200</td><td>15</td><td> 4</td><td>12</td><td>0</td><td>-1.6225437</td></tr>\n",
              "\t<tr><th scope=row>4</th><td>16</td><td>2500</td><td>25</td><td>10</td><td> 8</td><td>0</td><td>-1.5513771</td></tr>\n",
              "\t<tr><th scope=row>5</th><td>16</td><td>2000</td><td>30</td><td> 8</td><td> 9</td><td>1</td><td> 0.8647647</td></tr>\n",
              "\t<tr><th scope=row>6</th><td>16</td><td> 100</td><td> 2</td><td> 6</td><td> 8</td><td>0</td><td>-0.7367393</td></tr>\n",
              "</tbody>\n",
              "</table>\n"
            ],
            "text/markdown": "\nA data.frame: 6 × 7\n\n| <!--/--> | age &lt;int&gt; | salary &lt;int&gt; | hours &lt;int&gt; | weeks &lt;int&gt; | educ &lt;int&gt; | immigrant &lt;int&gt; | test_score &lt;dbl&gt; |\n|---|---|---|---|---|---|---|---|\n| 1 | 15 |  200 | 15 |  6 |  7 | 0 | -1.0868942 |\n| 2 | 15 |  100 |  5 |  6 |  7 | 0 | -1.2553779 |\n| 3 | 16 |  200 | 15 |  4 | 12 | 0 | -1.6225437 |\n| 4 | 16 | 2500 | 25 | 10 |  8 | 0 | -1.5513771 |\n| 5 | 16 | 2000 | 30 |  8 |  9 | 1 |  0.8647647 |\n| 6 | 16 |  100 |  2 |  6 |  8 | 0 | -0.7367393 |\n\n",
            "text/latex": "A data.frame: 6 × 7\n\\begin{tabular}{r|lllllll}\n  & age & salary & hours & weeks & educ & immigrant & test\\_score\\\\\n  & <int> & <int> & <int> & <int> & <int> & <int> & <dbl>\\\\\n\\hline\n\t1 & 15 &  200 & 15 &  6 &  7 & 0 & -1.0868942\\\\\n\t2 & 15 &  100 &  5 &  6 &  7 & 0 & -1.2553779\\\\\n\t3 & 16 &  200 & 15 &  4 & 12 & 0 & -1.6225437\\\\\n\t4 & 16 & 2500 & 25 & 10 &  8 & 0 & -1.5513771\\\\\n\t5 & 16 & 2000 & 30 &  8 &  9 & 1 &  0.8647647\\\\\n\t6 & 16 &  100 &  2 &  6 &  8 & 0 & -0.7367393\\\\\n\\end{tabular}\n",
            "text/plain": [
              "  age salary hours weeks educ immigrant test_score\n",
              "1 15   200   15     6     7   0         -1.0868942\n",
              "2 15   100    5     6     7   0         -1.2553779\n",
              "3 16   200   15     4    12   0         -1.6225437\n",
              "4 16  2500   25    10     8   0         -1.5513771\n",
              "5 16  2000   30     8     9   1          0.8647647\n",
              "6 16   100    2     6     8   0         -0.7367393"
            ]
          },
          "metadata": {}
        }
      ]
    },
    {
      "cell_type": "code",
      "source": [
        "datawage <- datawage %>% mutate(imm_educ = immigrant*educ)\n",
        "datawage <- datawage %>% mutate(datawage, wage = salary/weeks/hours)"
      ],
      "metadata": {
        "id": "hl7uauit6LjD"
      },
      "execution_count": 12,
      "outputs": []
    },
    {
      "cell_type": "code",
      "source": [
        "summary(lm(wage ~ educ, data = datawage))"
      ],
      "metadata": {
        "colab": {
          "base_uri": "https://localhost:8080/",
          "height": 338
        },
        "id": "guz-c7-juEcT",
        "outputId": "f10b7035-c444-425c-d857-cf3ce52d61fd"
      },
      "execution_count": 13,
      "outputs": [
        {
          "output_type": "display_data",
          "data": {
            "text/plain": [
              "\n",
              "Call:\n",
              "lm(formula = wage ~ educ, data = datawage)\n",
              "\n",
              "Residuals:\n",
              "    Min      1Q  Median      3Q     Max \n",
              "-16.811  -5.195  -1.496   3.221  64.150 \n",
              "\n",
              "Coefficients:\n",
              "            Estimate Std. Error t value Pr(>|t|)    \n",
              "(Intercept) -4.91523    1.30692  -3.761  0.00018 ***\n",
              "educ         1.32329    0.09774  13.538  < 2e-16 ***\n",
              "---\n",
              "Signif. codes:  0 ‘***’ 0.001 ‘**’ 0.01 ‘*’ 0.05 ‘.’ 0.1 ‘ ’ 1\n",
              "\n",
              "Residual standard error: 8.157 on 948 degrees of freedom\n",
              "Multiple R-squared:  0.162,\tAdjusted R-squared:  0.1611 \n",
              "F-statistic: 183.3 on 1 and 948 DF,  p-value: < 2.2e-16\n"
            ]
          },
          "metadata": {}
        }
      ]
    },
    {
      "cell_type": "code",
      "source": [
        "summary(lm(wage ~ educ + immigrant, data = datawage))"
      ],
      "metadata": {
        "colab": {
          "base_uri": "https://localhost:8080/",
          "height": 356
        },
        "id": "IKjs-zgF6IOD",
        "outputId": "09fad3d2-3391-4061-fdf2-ff0d3f488046"
      },
      "execution_count": 14,
      "outputs": [
        {
          "output_type": "display_data",
          "data": {
            "text/plain": [
              "\n",
              "Call:\n",
              "lm(formula = wage ~ educ + immigrant, data = datawage)\n",
              "\n",
              "Residuals:\n",
              "    Min      1Q  Median      3Q     Max \n",
              "-18.970  -4.930  -1.291   3.210  61.991 \n",
              "\n",
              "Coefficients:\n",
              "            Estimate Std. Error t value Pr(>|t|)    \n",
              "(Intercept) -3.82038    1.27732  -2.991  0.00285 ** \n",
              "educ         1.38586    0.09528  14.545  < 2e-16 ***\n",
              "immigrant   -3.93596    0.51616  -7.626  5.9e-14 ***\n",
              "---\n",
              "Signif. codes:  0 ‘***’ 0.001 ‘**’ 0.01 ‘*’ 0.05 ‘.’ 0.1 ‘ ’ 1\n",
              "\n",
              "Residual standard error: 7.922 on 947 degrees of freedom\n",
              "Multiple R-squared:  0.2105,\tAdjusted R-squared:  0.2088 \n",
              "F-statistic: 126.2 on 2 and 947 DF,  p-value: < 2.2e-16\n"
            ]
          },
          "metadata": {}
        }
      ]
    },
    {
      "cell_type": "code",
      "source": [
        "summary(lm(wage ~ educ + immigrant +imm_educ, data = datawage))"
      ],
      "metadata": {
        "colab": {
          "base_uri": "https://localhost:8080/",
          "height": 374
        },
        "id": "PztFLa0e6ZLv",
        "outputId": "f2c81fdc-136a-4fd5-eb47-fedcb9352f78"
      },
      "execution_count": 15,
      "outputs": [
        {
          "output_type": "display_data",
          "data": {
            "text/plain": [
              "\n",
              "Call:\n",
              "lm(formula = wage ~ educ + immigrant + imm_educ, data = datawage)\n",
              "\n",
              "Residuals:\n",
              "    Min      1Q  Median      3Q     Max \n",
              "-19.557  -4.991  -1.446   3.234  61.404 \n",
              "\n",
              "Coefficients:\n",
              "            Estimate Std. Error t value Pr(>|t|)    \n",
              "(Intercept)  -5.6468     1.6313  -3.462 0.000561 ***\n",
              "educ          1.5278     0.1237  12.352  < 2e-16 ***\n",
              "immigrant     0.6364     2.5967   0.245 0.806440    \n",
              "imm_educ     -0.3479     0.1936  -1.797 0.072716 .  \n",
              "---\n",
              "Signif. codes:  0 ‘***’ 0.001 ‘**’ 0.01 ‘*’ 0.05 ‘.’ 0.1 ‘ ’ 1\n",
              "\n",
              "Residual standard error: 7.913 on 946 degrees of freedom\n",
              "Multiple R-squared:  0.2132,\tAdjusted R-squared:  0.2107 \n",
              "F-statistic: 85.43 on 3 and 946 DF,  p-value: < 2.2e-16\n"
            ]
          },
          "metadata": {}
        }
      ]
    },
    {
      "cell_type": "markdown",
      "source": [],
      "metadata": {
        "id": "JQ0LvkPA6KHi"
      }
    },
    {
      "cell_type": "code",
      "source": [
        "ggplot(datawage, aes(x = educ, y = wage)) + geom_smooth(method = \"lm\", se = F, formula=y~x)"
      ],
      "metadata": {
        "colab": {
          "base_uri": "https://localhost:8080/",
          "height": 437
        },
        "id": "v9ryQxAE77vW",
        "outputId": "4c8e32a1-8329-440f-bc46-3ace39f02109"
      },
      "execution_count": 22,
      "outputs": [
        {
          "output_type": "display_data",
          "data": {
            "text/plain": [
              "plot without title"
            ],
            "image/png": "[encoded data removed]"
          },
          "metadata": {
            "image/png": {
              "width": 420,
              "height": 420
            }
          }
        }
      ]
    }
  ]
}