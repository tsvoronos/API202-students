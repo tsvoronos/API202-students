{
  "cells": [
    {
      "cell_type": "markdown",
      "metadata": {
        "id": "view-in-github",
        "colab_type": "text"
      },
      "source": [
        "<a href=\"https://colab.research.google.com/github/tsvoronos/API202-students/blob/main/API_202_ReviewSession1_MD.ipynb\" target=\"_parent\"><img src=\"https://colab.research.google.com/assets/colab-badge.svg\" alt=\"Open In Colab\"/></a>"
      ]
    },
    {
      "cell_type": "markdown",
      "id": "4839cd02-22e6-4e06-9617-eccba2b91eb8",
      "metadata": {
        "id": "4839cd02-22e6-4e06-9617-eccba2b91eb8"
      },
      "source": [
        "# API-202 Review Session #1\n",
        "**Friday, January 27**\n",
        "\n",
        "TF: Matthew Dodier"
      ]
    },
    {
      "cell_type": "markdown",
      "id": "-6f4j5MrJr6P",
      "metadata": {
        "id": "-6f4j5MrJr6P"
      },
      "source": [
        "# Table of Contents\n",
        "1. [Lecture Recap](#Lecture-Recap)\n",
        "2. [Exercises](#Exercises)\n",
        "2. [Appendix](#Appendix)"
      ]
    },
    {
      "cell_type": "markdown",
      "source": [
        "# Lecture Recap"
      ],
      "metadata": {
        "id": "mljmgQImRCV-"
      },
      "id": "mljmgQImRCV-"
    },
    {
      "cell_type": "markdown",
      "source": [
        "* Bivariate regression: a simple analytical tool to quantify the relation between any two numeric variables. We' ll be able to describe:\n",
        "  1. The **direction** of the relation;\n",
        "  2. The **magnitude** of the relation;\n",
        "  3. Our **confidence in the statistical significance** of the relation."
      ],
      "metadata": {
        "id": "beer120lb0Yh"
      },
      "id": "beer120lb0Yh"
    },
    {
      "cell_type": "markdown",
      "source": [
        "## Bivariate Regression\n",
        "\n",
        "* Suppose we want to know the relationship (association) between class size and test scores (at the school district level)?\n",
        "* Assume we have data for each school district, thus we have:\n",
        "  * A mean test score that will be our outcome Y \n",
        "  * A class size measure (student-teacher ratio) that will be our treatment X\n",
        "____________________  \n",
        "\n",
        "## What Questions Might We Answer?\n",
        "Some questions these data might answer:\n",
        "  * *On average, what is the association between test scores and student-teacher ratio?*\n",
        "  * *What is the predicted change in test score associated with an increase in the student-teacher ratio?*\n",
        "____________________\n",
        "\n",
        "## How Do We Answer These Questions? \n",
        "* Ordinary Least Squares (OLS) regression analysis will identify the **line** that **best fits** the data.\n",
        "  * OLS chooses the line that *minimizes* the sum of squared residuals\n",
        "\n",
        "$$\n",
        "\\hat{Y}_i=\\hat{\\beta}_0+\\hat{\\beta}_1 * X_i\n",
        "$$\n",
        "\n",
        "by \n",
        "\n",
        "$$\n",
        "\\min \\sum_i \\hat{u}_i^2=\\min \\sum_i\\left(Y_i-\\hat{Y}_i\\right)^2\n",
        "$$\n",
        "\n",
        "* Two interpretation notes:\n",
        "  1. Our line of best fit tells us the expected or predicted value of outcome Y given a value of X.\t\n",
        "  2. The best fit line is an average value, not an actual value for an individual.\n"
      ],
      "metadata": {
        "id": "JZzcnOSfcZVD"
      },
      "id": "JZzcnOSfcZVD"
    },
    {
      "cell_type": "markdown",
      "source": [
        "## Step Back: Theorize for Population…\n",
        "\n",
        "\n",
        "* Bivariate regression assumes a linear relationship between two variables. The **population regression function** (PRF) is written:\n",
        "\n",
        "  $$\n",
        "  Y_i=\\beta_0+\\beta_1 * X_i+\\mu_i\n",
        "  $$\n",
        "\n",
        "  * $Y_i$ : Dependent variable, LHS variable\n",
        "  * $\\beta_0$ : Constant, intercept (*value of $Y$ when $X$ is 0*)\n",
        "  * $\\beta_1$ : Slope, coefficient of interest (*change in $Y$ associated with a one-unit increase in $X$*)\n",
        "  * $X_i$ : Independent variable, RHS variable, explanatory variable, covariate regressor\n",
        "  * $\\mu_i$ : Residual, error term (*all the variation in $Y$ not explained by $X$*)\n",
        "\n",
        "* This simple theoretical model is what we expect to hold in our population of reference. How we think the world works\n",
        "\n",
        "\n",
        "## …and Estimate in a Sample\n",
        "* When we actually estimate the coefficients on a sample, the sample regression function (SRF) is written: \n",
        "\n",
        "$$Y_i=\\hat{\\beta}_0+\\hat{\\beta}_1 * X_i+\\hat{\\mu_i}$$\n",
        "\n",
        "* The OLS line of best fit chooses values of the slope ($\\beta_1$) and intercept ($\\beta_0$) that minimize the sum of the squared residuals in the sample at hand.\n",
        "\n",
        "$$\n",
        "\\hat{Y}_i=\\hat{\\beta}_0+\\hat{\\beta}_1 X_i\n",
        "$$\n",
        "\n",
        "* The difference between the line of best fit and a person's actual $Y$ is reflected in his or her residual $\\left(\\hat{\\mu_i}=Y_i-\\hat{Y_i}\\right)$.\n",
        "\n",
        "\n",
        "## Estimate Interpretation\n",
        "\n",
        "* What is the meaning of $\\beta_1$? How does it relate $Y$ to $X$?\n",
        "\n",
        "The slope coefficient $\\beta_1$ tells us the average change in $Y$ associated with a one-unit change in $X$. \n",
        "\n",
        "\n",
        "* Note: $\\beta_1$ has the *same sign* as the *correlation* between $X$ and $Y$.\n",
        "\n",
        "The constant (or Y-intercept) $\\beta_0$ tells us the predicted value of $Y$ for individuals with $X=0$."
      ],
      "metadata": {
        "id": "SFk9LhbLdPJQ"
      },
      "id": "SFk9LhbLdPJQ"
    },
    {
      "cell_type": "markdown",
      "source": [
        "## Making Inferences i.e., Hypothesis Testing\n",
        "* With data samples, we can construct our best guess for the line of best fit for the population. We try to get at the theory put forth.\n",
        "* We denote the true population coefficients as $\\beta$ and our estimated coefficients from the sample as $\\hat{\\beta}$.\n",
        "* Statistical inference quantifies the effect of sampling fluctuation, meaning we want to know how likely it is that $\\hat{\\beta}$ is close to $\\beta$.\n",
        "* When we reject the null hypothesis $H_0: \\beta_1=0$ at the $5 \\%$ level, we say that $\\beta_1$ is statistically significant. This phrase implies that we have strong evidence of a significant relationship between $X$ and $Y$. \n",
        "  * This does not, however, necessarily imply that $X$ causes $Y$!"
      ],
      "metadata": {
        "id": "UAfOWlbld5dK"
      },
      "id": "UAfOWlbld5dK"
    },
    {
      "cell_type": "markdown",
      "source": [
        "## Takeaways\n",
        "* Bivariate regression helps us establish the direction and measure the magnitude of the relationship between two variables.\n",
        "* Hypothesis testing and confidence intervals help us measure how certain we are about the magnitude in the population.\n",
        "* If we reject the null hypothesis $H_0$: $\\beta_1 = 0$ at the $5 \\%$ level, we say:\n",
        "  * \"$X$ is statistically significantly associated with $Y$.\"\n",
        "* For reasons we will explore more in future lectures, this is not the same as:\n",
        "  * \"$X$ causes $Y$.\""
      ],
      "metadata": {
        "id": "xNxrX_LSeBV6"
      },
      "id": "xNxrX_LSeBV6"
    },
    {
      "cell_type": "markdown",
      "id": "d5711e37-1060-49bc-99a6-d15b04756f16",
      "metadata": {
        "id": "d5711e37-1060-49bc-99a6-d15b04756f16"
      },
      "source": [
        "# Exercises"
      ]
    },
    {
      "cell_type": "markdown",
      "source": [
        "The purpose of these exercises is to help you learn the basic mechanics of ordinary least squares (OLS) regression in R including reading summaries of regression results and hypothesis testing. We will also do data visualization using the ggplot2 package."
      ],
      "metadata": {
        "id": "x3QubBvH68js"
      },
      "id": "x3QubBvH68js"
    },
    {
      "cell_type": "code",
      "source": [
        "#suppress warnings\n",
        "options(warn =-1,dplyr.summarise.inform=FALSE)\n",
        "\n",
        "#load packages\n",
        "library(tidyverse)\n",
        "library(broom)\n",
        "\n",
        "#load data\n",
        "data(mtcars)"
      ],
      "metadata": {
        "id": "wk3XNTHp5qXY",
        "colab": {
          "base_uri": "https://localhost:8080/"
        },
        "outputId": "c07f303c-998f-4ee7-a8a5-d3fdeac7abd9"
      },
      "id": "wk3XNTHp5qXY",
      "execution_count": 1,
      "outputs": [
        {
          "output_type": "stream",
          "name": "stderr",
          "text": [
            "── \u001b[1mAttaching packages\u001b[22m ─────────────────────────────────────── tidyverse 1.3.1 ──\n",
            "\n",
            "\u001b[32m✔\u001b[39m \u001b[34mggplot2\u001b[39m 3.4.0      \u001b[32m✔\u001b[39m \u001b[34mpurrr  \u001b[39m 1.0.1 \n",
            "\u001b[32m✔\u001b[39m \u001b[34mtibble \u001b[39m 3.1.8      \u001b[32m✔\u001b[39m \u001b[34mdplyr  \u001b[39m 1.0.10\n",
            "\u001b[32m✔\u001b[39m \u001b[34mtidyr  \u001b[39m 1.2.1      \u001b[32m✔\u001b[39m \u001b[34mstringr\u001b[39m 1.4.1 \n",
            "\u001b[32m✔\u001b[39m \u001b[34mreadr  \u001b[39m 2.1.3      \u001b[32m✔\u001b[39m \u001b[34mforcats\u001b[39m 0.5.2 \n",
            "\n",
            "── \u001b[1mConflicts\u001b[22m ────────────────────────────────────────── tidyverse_conflicts() ──\n",
            "\u001b[31m✖\u001b[39m \u001b[34mdplyr\u001b[39m::\u001b[32mfilter()\u001b[39m masks \u001b[34mstats\u001b[39m::filter()\n",
            "\u001b[31m✖\u001b[39m \u001b[34mdplyr\u001b[39m::\u001b[32mlag()\u001b[39m    masks \u001b[34mstats\u001b[39m::lag()\n",
            "\n"
          ]
        }
      ]
    },
    {
      "cell_type": "markdown",
      "source": [
        "This dataset includes cars in the 1974 issue of Motor Trend magazine. We want to look at the relationship between weight and miles per gallon per gallon."
      ],
      "metadata": {
        "id": "UyDU74wfFiL4"
      },
      "id": "UyDU74wfFiL4"
    },
    {
      "cell_type": "markdown",
      "id": "c3eaf4b4-2cbe-4890-aca3-ed8c983b0cd8",
      "metadata": {
        "id": "c3eaf4b4-2cbe-4890-aca3-ed8c983b0cd8"
      },
      "source": [
        "**a. Let's start by visualizing the data with a scatterplot. Put miles per gallon on the y-axis and weight on the x-axis.**"
      ]
    },
    {
      "cell_type": "markdown",
      "source": [
        "* ggplot2 is a package within tidyverse for creating graphics.\n",
        "  * Must supply a data and aesthetics.\n",
        "  * Always start with something like ggplot(data, aes(x = var1, y = var2, color = var3, ...))\n",
        "  * Aesthetics map variables in your data to x/y positions, colors, line types, groups, and more.\n",
        "* Add geometries like geom_histogram(), geom_point(), geom_line(), geom_abline() , and more with +.\n",
        "* Label axes with labs()."
      ],
      "metadata": {
        "id": "8KX7xBSSGKpb"
      },
      "id": "8KX7xBSSGKpb"
    },
    {
      "cell_type": "code",
      "source": [
        "# Your answer here!\n",
        "\n",
        "# Start\n",
        "\n",
        "\n",
        "# End\n"
      ],
      "metadata": {
        "id": "E504Gd-CGnN5"
      },
      "id": "E504Gd-CGnN5",
      "execution_count": 2,
      "outputs": []
    },
    {
      "cell_type": "markdown",
      "id": "cb2e157e-751b-4604-a881-8c841971a282",
      "metadata": {
        "id": "cb2e157e-751b-4604-a881-8c841971a282"
      },
      "source": [
        "**b. Run a linear regression of miles per gallon (mpg) on weight (wt). From the summary R output, what do $\\hat{\\beta_0}$ and $\\hat{\\beta_1}$ equal?**"
      ]
    },
    {
      "cell_type": "code",
      "execution_count": 3,
      "id": "c8b39d1c-1ef9-4032-99fd-adeba57f81ac",
      "metadata": {
        "id": "c8b39d1c-1ef9-4032-99fd-adeba57f81ac"
      },
      "outputs": [],
      "source": [
        "# Your code here\n",
        "\n",
        "# Start\n",
        "\n",
        "# End"
      ]
    },
    {
      "cell_type": "markdown",
      "source": [
        "#### Your answer here\n",
        "\n",
        "#### Start\n",
        "\n",
        "#### End"
      ],
      "metadata": {
        "id": "HbpNHW_UHoX2"
      },
      "id": "HbpNHW_UHoX2"
    },
    {
      "cell_type": "markdown",
      "id": "bd12bd7a-218f-4be3-9ab2-a455870e96e6",
      "metadata": {
        "id": "bd12bd7a-218f-4be3-9ab2-a455870e96e6"
      },
      "source": [
        "**c. Interpret the coefficient on weight.  Also, consider the hypothesis $H_0: \\beta_1 = 0$ in the context of the above regression.  Would you reject this hypothesis at the $5 \\%$ significance level?  Explain.**"
      ]
    },
    {
      "cell_type": "markdown",
      "source": [
        "#### Your answer here\n",
        "\n",
        "#### Start\n",
        "\n",
        "#### End\n"
      ],
      "metadata": {
        "id": "krZBw8-6IEhN"
      },
      "id": "krZBw8-6IEhN"
    },
    {
      "cell_type": "markdown",
      "id": "9df61136-2d4d-4ffe-b0fe-437d3a1a9e3e",
      "metadata": {
        "id": "9df61136-2d4d-4ffe-b0fe-437d3a1a9e3e"
      },
      "source": [
        "**d. Now that we have some evidence about the relationship between miles per gallon and weight, let's go back to our scatterplot and add a line that captures this relationship. Again, put miles per gallon on the y-axis and weight on the x-axis.**"
      ]
    },
    {
      "cell_type": "code",
      "source": [
        "# Your answer here!\n",
        "\n",
        "# Start\n",
        "\n",
        "# End\n"
      ],
      "metadata": {
        "id": "ObUjOXYbJZRm"
      },
      "execution_count": 4,
      "outputs": [],
      "id": "ObUjOXYbJZRm"
    },
    {
      "cell_type": "markdown",
      "source": [
        "**e. This dataset contains information on whether a car model has a manual or automatic transmission. How could we adjust our scatterplot to differentiate between data points of automatic and manual transmission cars?**\n",
        "\n",
        "Hint: Within the aes() function of your gpplot command, you can add\n",
        "group=am to separate out the scatter plot into the different groups represented by transmission type."
      ],
      "metadata": {
        "id": "rOAaiDU_JnMz"
      },
      "id": "rOAaiDU_JnMz"
    },
    {
      "cell_type": "code",
      "source": [
        "# Your answer here!\n",
        "\n",
        "# Start\n",
        "\n",
        "# End\n"
      ],
      "metadata": {
        "id": "8n6MgOutJ1CU"
      },
      "execution_count": 5,
      "outputs": [],
      "id": "8n6MgOutJ1CU"
    },
    {
      "cell_type": "markdown",
      "source": [
        "# Appendix"
      ],
      "metadata": {
        "id": "ByRtNwn1tuJp"
      },
      "id": "ByRtNwn1tuJp"
    },
    {
      "cell_type": "markdown",
      "source": [
        "## Hypothesis Testing: Technical Recap\n",
        "1. State null hypothesis, $H_0 \\quad \\left(H_0: \\beta_1=a\\right)($ Usually, $a=0)$\n",
        "2. Set a significance level, $\\alpha \\quad(\\alpha=0.05)$\n",
        "3. Calculate sample coefficient (estimate), $\\hat{\\beta}_1$\n",
        "4. Calculate standard error, $S E\\left(\\hat{\\beta}_1\\right)$\n",
        "5. Calculate t-statistic, $t=\\frac{\\widehat{\\beta}_1-a}{S E\\left(\\widehat{\\beta}_1\\right)}$\n",
        "  * In large samples, t-stat follows standard normal distribution. We compare $|t|$ to 1.96.\n",
        "6. Calculate p-value (If $H_0$ were true, what is probability of a sample giving $\\hat{\\beta_1}$ at least as far away from $a$ as the one observed?)\n",
        "  * p-value is the probability of observing a sample estimate ($\\widehat{\\beta_1}$) (or further away) if the null hypothesis is true in the population.\n",
        "  * Alternatively: probability our estimate ($\\widehat{\\beta_1}$) is due to chance. We compare p-value to 0.05.\n",
        "7.  We can construct a 95% *confidence interval* as:\n",
        "$$\n",
        "\\left[\\widehat{\\beta_1}-1.96 * \\text { Standard Error, } \\widehat{\\beta_1}+1.96 * \\text { Standard Error }\\right]\n",
        "$$\n",
        "  * Statistical interpretation: 95% of intervals constructed in this way from different samples will contain the true slope value.\n",
        "8. Perform the test: Reject $H_0$ if p-value $< \\alpha$; else fail to reject\n",
        "(With $\\alpha = 0.05$, reject $H_0$ if $|t| > 1.96$, if p-value $< 0.05$, or if the 95% confidence interval does not contain $a$)\n"
      ],
      "metadata": {
        "id": "eSflESMaqCLs"
      },
      "id": "eSflESMaqCLs"
    }
  ],
  "metadata": {
    "colab": {
      "provenance": [],
      "include_colab_link": true
    },
    "kernelspec": {
      "display_name": "R",
      "language": "R",
      "name": "ir"
    },
    "language_info": {
      "codemirror_mode": "r",
      "file_extension": ".r",
      "mimetype": "text/x-r-source",
      "name": "R",
      "pygments_lexer": "r",
      "version": "4.2.1"
    }
  },
  "nbformat": 4,
  "nbformat_minor": 5
}