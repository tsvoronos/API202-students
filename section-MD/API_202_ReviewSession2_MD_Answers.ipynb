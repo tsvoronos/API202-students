{
  "cells": [
    {
      "cell_type": "markdown",
      "metadata": {
        "id": "view-in-github",
        "colab_type": "text"
      },
      "source": [
        "<a href=\"https://colab.research.google.com/github/tsvoronos/API202-students/blob/main/API_202_ReviewSession2_MD_Answers.ipynb\" target=\"_parent\"><img src=\"https://colab.research.google.com/assets/colab-badge.svg\" alt=\"Open In Colab\"/></a>"
      ]
    },
    {
      "cell_type": "markdown",
      "id": "4839cd02-22e6-4e06-9617-eccba2b91eb8",
      "metadata": {
        "id": "4839cd02-22e6-4e06-9617-eccba2b91eb8"
      },
      "source": [
        "# API-202 Review Session #2\n",
        "**Friday, February 3**\n",
        "\n",
        "TF: Matthew Dodier"
      ]
    },
    {
      "cell_type": "markdown",
      "id": "-6f4j5MrJr6P",
      "metadata": {
        "id": "-6f4j5MrJr6P"
      },
      "source": [
        "# Table of Contents\n",
        "1. [Lecture Recap](#Lecture-Recap)\n",
        "2. [Exercises](#Exercises)"
      ]
    },
    {
      "cell_type": "markdown",
      "source": [
        "# Lecture Recap"
      ],
      "metadata": {
        "id": "mljmgQImRCV-"
      },
      "id": "mljmgQImRCV-"
    },
    {
      "cell_type": "markdown",
      "source": [
        "## Multiple Regression Analysis"
      ],
      "metadata": {
        "id": "-XygALmFTG6s"
      },
      "id": "-XygALmFTG6s"
    },
    {
      "cell_type": "markdown",
      "source": [
        "* Multiple regression analysis brings us closer to making __causal claims__ because it allows us to explicitly \"hold constant\" many other factors which affect the dependent variable.\n",
        "* Multiple regression analysis also allows us to make __better predictions__ for $Y$. It does this by leveraging explanatory power from several independent variables to explain variation in $Y$, not just one. \n",
        "* The key strength of multiple regression lies in the ability to say how much $Y$ varies when $X$ varies, __ceteris paribus__ (i.e. holding constant other variables that affect $Y$ )."
      ],
      "metadata": {
        "id": "xurJqtIxDnuT"
      },
      "id": "xurJqtIxDnuT"
    },
    {
      "cell_type": "markdown",
      "source": [
        "## Adding Explanatory Variables: Multivariate OLS\n",
        "\n",
        "A population regression function (PRF) with one explanatory variables $X_1$:\n",
        "\n",
        "$$\n",
        "Y=\\beta_0+\\beta_1 X_1+\\varepsilon\n",
        "$$\n",
        "\n",
        "We can write a PRF with two explanatory variables, $X_1$ and $X_2$:\n",
        "\n",
        "$$\n",
        "Y=\\beta_0+\\beta_1 X_1+\\beta_2 X_2+\\varepsilon\n",
        "$$\n",
        "\n",
        "Or 100 control variables...\n",
        "$$\n",
        "Y=\\beta_0+\\sum_{n=1}^{100} \\beta_n X_n+\\varepsilon\n",
        "$$\n",
        "____________________  \n",
        "\n",
        "## Reinterpreting $\\beta_1$: \"ceteris paribus\" logic\n",
        "\n",
        "* With a bivariate regression:\n",
        "  * The slope coefficient $\\beta_1$ tells us the average change in $\\mathrm{Y}$ associated with a one-unit change in $X_1$\n",
        "* With a multivariate regression with two controls:\n",
        "  * The slope coefficient $\\beta_1$ tells us the average change in $Y$ associated with a one-unit change in $X_1$, holding $X_2$ constant\n",
        "  * The intercept $\\beta_0$ tells us the predicted value of $Y$ for individuals with $X_1=0$ and $X_2=0$\n",
        "* With a multivariate regression with 100 controls:\n",
        "  * The slope coefficient $\\beta_1$ tells us the average change in $Y$ associated with a one-unit change in $X_1$, holding constant all 99 remaining control variables\n"
      ],
      "metadata": {
        "id": "JZzcnOSfcZVD"
      },
      "id": "JZzcnOSfcZVD"
    },
    {
      "cell_type": "markdown",
      "source": [
        "## A caveat: perfect collinearity\n",
        "\n",
        "* While you can include almost any variable you want on the right hand side of a regression equation, you cannot add a variable that is perfectly correlated with another variable in the equation - we call this __perfect collinearity__. Some common examples of violating this rule:\n",
        "\n",
        "  * Including in the regression one variable that is a constant multiple of another (e.g., same variable measured in different units).\n",
        "\n",
        "  * One independent variable can be expressed as an exact linear combination of two or more independent variables.\n",
        "  \n",
        "* If you include variables that are perfectly collinear, $\\mathrm{R}$ will drop one of the variables from the equation before estimating it."
      ],
      "metadata": {
        "id": "-y-AirvUE3By"
      },
      "id": "-y-AirvUE3By"
    },
    {
      "cell_type": "markdown",
      "source": [
        "## R-squared $\\left(R^2\\right)$\n",
        "\n",
        "* $R^2$ provides a measure of how well our regression equation fits the data.\n",
        "* Specifically, it tell us how much the variation in $Y$ can be explained by our regression line.\n",
        "  * \"Explained variation\" = the extent to which values for $Y$ land on our regression line\n",
        "  * \"Unexplained variation\" = the extent to which values for $Y$ differ from what the regression line would predict"
      ],
      "metadata": {
        "id": "t6wDFLHzFVbL"
      },
      "id": "t6wDFLHzFVbL"
    },
    {
      "cell_type": "markdown",
      "source": [
        "## Multiple Regression Key Takeaways\n",
        "\n",
        "* Multiple regression helps us measure the magnitude of the relationship between two variables, while holding other variables constant.\n",
        "\n",
        "* Holding other variables constant usually gets us closer to true causal estimates. Multiple regression is thus usually more convincing than bivariate regression.\n",
        "\n",
        "* The key question is whether the researcher has controlled for all relevant variables that substantially affect the story being told."
      ],
      "metadata": {
        "id": "cK9H2ImHFp9s"
      },
      "id": "cK9H2ImHFp9s"
    },
    {
      "cell_type": "markdown",
      "source": [
        "## Omitted Variable Bias"
      ],
      "metadata": {
        "id": "OvZtIOGmSoZX"
      },
      "id": "OvZtIOGmSoZX"
    },
    {
      "cell_type": "markdown",
      "source": [
        "* __Omitted variable, a factor we don't observe but might explain some of the association between the $X$ and $Y$ of interest.__\n",
        "  * Such omitted variables can make OLS estimates __biased__, so that they do not accurately measure causal impacts.\n",
        "  * We will learn how to assess both the __magnitude__ and __sign__ of the bias.\n",
        "\n",
        "_______________\n",
        "\n",
        "  * In general, why don't we correct this problem by adding the relevant variables to the model?\n",
        "  * Three key reasons\n",
        "  1. We are looking at someone else's analysis and considering what might be wrong with it\n",
        "  2. We simply don't have the necessary data\n",
        "  3. We don't know what to control for\n",
        "  * Therefore, it is important to understand how omitted variable bias affects our estimates  "
      ],
      "metadata": {
        "id": "RFlIlzG1GC9G"
      },
      "id": "RFlIlzG1GC9G"
    },
    {
      "cell_type": "markdown",
      "source": [
        "## Quantifying Omitted Variable Bias\n",
        "\n",
        "* We will study OVB in the context of a multiple regression model with two explanatory variables.\n",
        "\n",
        "1. Long PRF (true):\n",
        "$$\n",
        "Y=\\beta_0+\\beta_1 X_{1}+\\beta_2 X_{2}+\\varepsilon\n",
        "$$\n",
        "2. Short PRF (estimated):\n",
        "$$\n",
        "Y=\\alpha_0+\\alpha_1 X_{1}+v\n",
        "$$\n",
        "3. Auxiliary PRF\n",
        "$$\n",
        "X_{2}=\\gamma_0+\\gamma_1 X_{1}+u\n",
        "$$\n",
        "\n",
        "\n",
        "Bias:\n",
        "$$\n",
        "\\alpha_1-\\beta_1 \\quad=\\quad \\beta_2 \\cdot \\gamma_1\n",
        "$$\n",
        "\n",
        "* $\\alpha_1-\\beta_1=$ Difference between Short and Long coefficient on $X_1$ \n",
        "* $\\beta_2 \\cdot \\gamma_1=$  Product of Long coefficient on $X_2$ and Auxiliary coefficient on $X_1$\n",
        "\n",
        "\n",
        "\n",
        "______________\n",
        "\n",
        "## Conditions for OVB via the Formula\n",
        "\n",
        "$$\n",
        "\\text { Bias }=\\alpha_1-\\beta_1=\\beta_2 \\gamma_1\n",
        "$$\n",
        "\n",
        "* The magnitude of the bias thus depends on the magnitudes of $\\beta_2$ and $\\gamma_1$. \n",
        "\n",
        "* This yields two necessary conditions for OVB. Our estimate for the short regression's $\\alpha_1$ will be a biased estimate for the true causal impact $\\beta_1$ only if:\n",
        "\n",
        "  1. $X_2$ is correlated with outcome $Y\\left(\\beta_2 \\neq 0\\right)$\n",
        "  and\n",
        "  2. $X_2$ is correlated with the predictor of interest $X_1\\left(\\gamma_1 \\neq 0\\right)$\n",
        "\n",
        "* Thus, if both conditions hold, the estimated slope coefficient for the short regression will be a biased estimator of $\\beta_1$.\n",
        "\n",
        "____________\n",
        "\n",
        "* You may encounter discussions of bias in which the estimated effect is described as __understated__ or __overstated__, relative to the true causal effect.\n",
        "  * Overstated (overestimated) -- \"too steep\"\n",
        "    * Omitting variable makes the magnitude of the estimate __larger__ than the true effect in absolute terms (farther from zero)\n",
        "  * Understated (underestimated) -- \"too flat\"\n",
        "    * Omitting variable makes the magnitude of the estimate __smaller__ than the truth in absolute terms (closer to zero)\n"
      ],
      "metadata": {
        "id": "VIoBk_eYIJhS"
      },
      "id": "VIoBk_eYIJhS"
    },
    {
      "cell_type": "markdown",
      "source": [
        "* __Question:__ Suppose you have a sample and run a regression where the estimated coefficient is $\\beta_1^{\\text {Estimate }}=1.2$, but because you omitted one variable, the true coefficient in reality is $\\beta_1^{\\text {True }}=0.8$. Is the estimated effect overstating or understating the true causal effect?"
      ],
      "metadata": {
        "id": "quFGH5wKRDKn"
      },
      "id": "quFGH5wKRDKn"
    },
    {
      "cell_type": "markdown",
      "source": [
        "Your answer here:\n",
        "\n",
        "* $0<\\beta_1^{\\text {True }}<\\beta_1^{\\text {Estimate }}$\n",
        "\n",
        "* Overstating the true causal effect (too step)"
      ],
      "metadata": {
        "id": "jj5z3ojrRJcu"
      },
      "id": "jj5z3ojrRJcu"
    },
    {
      "cell_type": "markdown",
      "source": [
        "* __Question:__ Suppose you have a sample and run a regression where the estimated coefficient is $\\beta_1^{\\text {Estimate }}=-15$, but because you omitted one variable, the true coefficient in reality is $\\beta_1^{\\text {True }}=-60$. Is the estimated effect overstating or understating the true causal effect?"
      ],
      "metadata": {
        "id": "iFiGHhdBRHnE"
      },
      "id": "iFiGHhdBRHnE"
    },
    {
      "cell_type": "markdown",
      "source": [
        "Your answer here:\n",
        "\n",
        "* $\\beta_1^{\\text {True }}<\\beta_1^{\\text {Estimate }}<0$\n",
        "\n",
        "* Understate the true causal effect (too flat)\n"
      ],
      "metadata": {
        "id": "LFpuerfRRa8K"
      },
      "id": "LFpuerfRRa8K"
    },
    {
      "cell_type": "markdown",
      "source": [
        "## OVB Key Takeaways\n",
        "\n",
        "* OVB is the single most widespread problem in studies attempting to measure the impacts of public policies or other interventions.\n",
        "* Our goal is to make you a critical consumer of such claims.\n",
        "* Ask yourself: Does another story (omitted variable) explain some of the association that the researchers have found?\n",
        "  * Practice developing an intuition for the sign (and maybe magnitude) of this bias.\n",
        "  * Practice assessing how reported policy impacts relate to true impacts."
      ],
      "metadata": {
        "id": "5_28N3mHGeoy"
      },
      "id": "5_28N3mHGeoy"
    },
    {
      "cell_type": "markdown",
      "id": "d5711e37-1060-49bc-99a6-d15b04756f16",
      "metadata": {
        "id": "d5711e37-1060-49bc-99a6-d15b04756f16"
      },
      "source": [
        "# Exercises"
      ]
    },
    {
      "cell_type": "markdown",
      "source": [
        "The purpose of this exercise is to help you understand multiple regression.\n",
        "\n",
        "The dataset for this exercise comes from J.E. Biddle and D.S. Hamermesh (1990), “Sleep and the Allocation of Time,” Journal of Political Economy 98, 922-943.. A few of the variables in this dataset include:\n",
        "\n",
        "*   `age`: age in years \n",
        "*   `lhrwage`: log hourly wage\n",
        "*   `educ`: years of schooling\n",
        "*   `marr`: 1 if married\n",
        "*   `gdhlth1`: 1 oif in good or excel. health\n",
        "*   `yngkid`: =1 if children younger than 3 years old are present\n",
        "*   `sleep`: minutes sleep at night, per week"
      ],
      "metadata": {
        "id": "x3QubBvH68js"
      },
      "id": "x3QubBvH68js"
    },
    {
      "cell_type": "code",
      "source": [
        "#suppress warnings\n",
        "options(warn =-1,dplyr.summarise.inform=FALSE)\n",
        "\n",
        "library(tidyverse)\n",
        "\n",
        "sleep <- read.csv('https://raw.githubusercontent.com/tsvoronos/API202-students/main/data/sleep75.csv')\n",
        "head(sleep)\n"
      ],
      "metadata": {
        "id": "wk3XNTHp5qXY",
        "colab": {
          "base_uri": "https://localhost:8080/",
          "height": 286
        },
        "outputId": "1d42287c-eef0-4c54-c3d9-c3de656bb469"
      },
      "id": "wk3XNTHp5qXY",
      "execution_count": null,
      "outputs": [
        {
          "output_type": "display_data",
          "data": {
            "text/html": [
              "<table class=\"dataframe\">\n",
              "<caption>A data.frame: 6 × 35</caption>\n",
              "<thead>\n",
              "\t<tr><th></th><th scope=col>X</th><th scope=col>age</th><th scope=col>black</th><th scope=col>case</th><th scope=col>clerical</th><th scope=col>construc</th><th scope=col>educ</th><th scope=col>earns74</th><th scope=col>gdhlth</th><th scope=col>inlf</th><th scope=col>⋯</th><th scope=col>spwrk75</th><th scope=col>totwrk</th><th scope=col>union</th><th scope=col>worknrm</th><th scope=col>workscnd</th><th scope=col>exper</th><th scope=col>yngkid</th><th scope=col>yrsmarr</th><th scope=col>hrwage</th><th scope=col>agesq</th></tr>\n",
              "\t<tr><th></th><th scope=col>&lt;int&gt;</th><th scope=col>&lt;int&gt;</th><th scope=col>&lt;int&gt;</th><th scope=col>&lt;int&gt;</th><th scope=col>&lt;dbl&gt;</th><th scope=col>&lt;dbl&gt;</th><th scope=col>&lt;int&gt;</th><th scope=col>&lt;int&gt;</th><th scope=col>&lt;int&gt;</th><th scope=col>&lt;int&gt;</th><th scope=col>⋯</th><th scope=col>&lt;int&gt;</th><th scope=col>&lt;int&gt;</th><th scope=col>&lt;int&gt;</th><th scope=col>&lt;int&gt;</th><th scope=col>&lt;int&gt;</th><th scope=col>&lt;int&gt;</th><th scope=col>&lt;int&gt;</th><th scope=col>&lt;int&gt;</th><th scope=col>&lt;dbl&gt;</th><th scope=col>&lt;int&gt;</th></tr>\n",
              "</thead>\n",
              "<tbody>\n",
              "\t<tr><th scope=row>1</th><td>1</td><td>32</td><td>0</td><td>1</td><td>0</td><td>0</td><td>12</td><td>    0</td><td>0</td><td>1</td><td>⋯</td><td>0</td><td>3438</td><td>0</td><td>3438</td><td>   0</td><td>14</td><td>0</td><td>13</td><td> 7.070004</td><td>1024</td></tr>\n",
              "\t<tr><th scope=row>2</th><td>2</td><td>31</td><td>0</td><td>2</td><td>0</td><td>0</td><td>14</td><td> 9500</td><td>1</td><td>1</td><td>⋯</td><td>0</td><td>5020</td><td>0</td><td>5020</td><td>   0</td><td>11</td><td>0</td><td> 0</td><td> 1.429999</td><td> 961</td></tr>\n",
              "\t<tr><th scope=row>3</th><td>3</td><td>44</td><td>0</td><td>3</td><td>0</td><td>0</td><td>17</td><td>42500</td><td>1</td><td>1</td><td>⋯</td><td>1</td><td>2815</td><td>0</td><td>2815</td><td>   0</td><td>21</td><td>0</td><td> 0</td><td>20.529997</td><td>1936</td></tr>\n",
              "\t<tr><th scope=row>4</th><td>4</td><td>30</td><td>0</td><td>4</td><td>0</td><td>0</td><td>12</td><td>42500</td><td>1</td><td>1</td><td>⋯</td><td>1</td><td>3786</td><td>0</td><td>3786</td><td>   0</td><td>12</td><td>0</td><td>12</td><td> 9.619998</td><td> 900</td></tr>\n",
              "\t<tr><th scope=row>5</th><td>5</td><td>64</td><td>0</td><td>5</td><td>0</td><td>0</td><td>14</td><td> 2500</td><td>1</td><td>1</td><td>⋯</td><td>1</td><td>2580</td><td>0</td><td>2580</td><td>   0</td><td>44</td><td>0</td><td>33</td><td> 2.750000</td><td>4096</td></tr>\n",
              "\t<tr><th scope=row>6</th><td>6</td><td>41</td><td>0</td><td>6</td><td>0</td><td>0</td><td>12</td><td>    0</td><td>1</td><td>1</td><td>⋯</td><td>0</td><td>1205</td><td>0</td><td>   0</td><td>1205</td><td>23</td><td>0</td><td>23</td><td>19.249998</td><td>1681</td></tr>\n",
              "</tbody>\n",
              "</table>\n"
            ],
            "text/markdown": "\nA data.frame: 6 × 35\n\n| <!--/--> | X &lt;int&gt; | age &lt;int&gt; | black &lt;int&gt; | case &lt;int&gt; | clerical &lt;dbl&gt; | construc &lt;dbl&gt; | educ &lt;int&gt; | earns74 &lt;int&gt; | gdhlth &lt;int&gt; | inlf &lt;int&gt; | ⋯ ⋯ | spwrk75 &lt;int&gt; | totwrk &lt;int&gt; | union &lt;int&gt; | worknrm &lt;int&gt; | workscnd &lt;int&gt; | exper &lt;int&gt; | yngkid &lt;int&gt; | yrsmarr &lt;int&gt; | hrwage &lt;dbl&gt; | agesq &lt;int&gt; |\n|---|---|---|---|---|---|---|---|---|---|---|---|---|---|---|---|---|---|---|---|---|---|\n| 1 | 1 | 32 | 0 | 1 | 0 | 0 | 12 |     0 | 0 | 1 | ⋯ | 0 | 3438 | 0 | 3438 |    0 | 14 | 0 | 13 |  7.070004 | 1024 |\n| 2 | 2 | 31 | 0 | 2 | 0 | 0 | 14 |  9500 | 1 | 1 | ⋯ | 0 | 5020 | 0 | 5020 |    0 | 11 | 0 |  0 |  1.429999 |  961 |\n| 3 | 3 | 44 | 0 | 3 | 0 | 0 | 17 | 42500 | 1 | 1 | ⋯ | 1 | 2815 | 0 | 2815 |    0 | 21 | 0 |  0 | 20.529997 | 1936 |\n| 4 | 4 | 30 | 0 | 4 | 0 | 0 | 12 | 42500 | 1 | 1 | ⋯ | 1 | 3786 | 0 | 3786 |    0 | 12 | 0 | 12 |  9.619998 |  900 |\n| 5 | 5 | 64 | 0 | 5 | 0 | 0 | 14 |  2500 | 1 | 1 | ⋯ | 1 | 2580 | 0 | 2580 |    0 | 44 | 0 | 33 |  2.750000 | 4096 |\n| 6 | 6 | 41 | 0 | 6 | 0 | 0 | 12 |     0 | 1 | 1 | ⋯ | 0 | 1205 | 0 |    0 | 1205 | 23 | 0 | 23 | 19.249998 | 1681 |\n\n",
            "text/latex": "A data.frame: 6 × 35\n\\begin{tabular}{r|lllllllllllllllllllll}\n  & X & age & black & case & clerical & construc & educ & earns74 & gdhlth & inlf & ⋯ & spwrk75 & totwrk & union & worknrm & workscnd & exper & yngkid & yrsmarr & hrwage & agesq\\\\\n  & <int> & <int> & <int> & <int> & <dbl> & <dbl> & <int> & <int> & <int> & <int> & ⋯ & <int> & <int> & <int> & <int> & <int> & <int> & <int> & <int> & <dbl> & <int>\\\\\n\\hline\n\t1 & 1 & 32 & 0 & 1 & 0 & 0 & 12 &     0 & 0 & 1 & ⋯ & 0 & 3438 & 0 & 3438 &    0 & 14 & 0 & 13 &  7.070004 & 1024\\\\\n\t2 & 2 & 31 & 0 & 2 & 0 & 0 & 14 &  9500 & 1 & 1 & ⋯ & 0 & 5020 & 0 & 5020 &    0 & 11 & 0 &  0 &  1.429999 &  961\\\\\n\t3 & 3 & 44 & 0 & 3 & 0 & 0 & 17 & 42500 & 1 & 1 & ⋯ & 1 & 2815 & 0 & 2815 &    0 & 21 & 0 &  0 & 20.529997 & 1936\\\\\n\t4 & 4 & 30 & 0 & 4 & 0 & 0 & 12 & 42500 & 1 & 1 & ⋯ & 1 & 3786 & 0 & 3786 &    0 & 12 & 0 & 12 &  9.619998 &  900\\\\\n\t5 & 5 & 64 & 0 & 5 & 0 & 0 & 14 &  2500 & 1 & 1 & ⋯ & 1 & 2580 & 0 & 2580 &    0 & 44 & 0 & 33 &  2.750000 & 4096\\\\\n\t6 & 6 & 41 & 0 & 6 & 0 & 0 & 12 &     0 & 1 & 1 & ⋯ & 0 & 1205 & 0 &    0 & 1205 & 23 & 0 & 23 & 19.249998 & 1681\\\\\n\\end{tabular}\n",
            "text/plain": [
              "  X age black case clerical construc educ earns74 gdhlth inlf ⋯ spwrk75 totwrk\n",
              "1 1 32  0     1    0        0        12       0   0      1    ⋯ 0       3438  \n",
              "2 2 31  0     2    0        0        14    9500   1      1    ⋯ 0       5020  \n",
              "3 3 44  0     3    0        0        17   42500   1      1    ⋯ 1       2815  \n",
              "4 4 30  0     4    0        0        12   42500   1      1    ⋯ 1       3786  \n",
              "5 5 64  0     5    0        0        14    2500   1      1    ⋯ 1       2580  \n",
              "6 6 41  0     6    0        0        12       0   1      1    ⋯ 0       1205  \n",
              "  union worknrm workscnd exper yngkid yrsmarr hrwage    agesq\n",
              "1 0     3438       0     14    0      13       7.070004 1024 \n",
              "2 0     5020       0     11    0       0       1.429999  961 \n",
              "3 0     2815       0     21    0       0      20.529997 1936 \n",
              "4 0     3786       0     12    0      12       9.619998  900 \n",
              "5 0     2580       0     44    0      33       2.750000 4096 \n",
              "6 0        0    1205     23    0      23      19.249998 1681 "
            ]
          },
          "metadata": {}
        }
      ]
    },
    {
      "cell_type": "markdown",
      "source": [
        "**1. Use a histogram to plot the variable age.**\n",
        "\n",
        "HINT: the code for a histogram is `ggplot(dataset, aes(x = var)) +\n",
        "geom_histogram()`\n",
        "Where dataset is the name of the dataset and var is thevariable of interest."
      ],
      "metadata": {
        "id": "8JT0gIZFYOnY"
      },
      "id": "8JT0gIZFYOnY"
    },
    {
      "cell_type": "code",
      "source": [
        "# Your code here\n",
        "\n",
        "ggplot(sleep, aes(x = age)) +\n",
        "geom_histogram(binwidth = 2) +\n",
        "labs(x = \"Age\", y = \"Count\")"
      ],
      "metadata": {
        "colab": {
          "base_uri": "https://localhost:8080/",
          "height": 437
        },
        "id": "wx7uGfjhYLGP",
        "outputId": "514cec38-d58c-4337-a3c4-b0cd6f428b6e"
      },
      "id": "wx7uGfjhYLGP",
      "execution_count": null,
      "outputs": [
        {
          "output_type": "display_data",
          "data": {
            "text/plain": [
              "plot without title"
            ],
            "image/png": "[encoded data removed]"
          },
          "metadata": {
            "image/png": {
              "width": 420,
              "height": 420
            }
          }
        }
      ]
    },
    {
      "cell_type": "markdown",
      "source": [
        "**2. What is the median of the sleep variable and the mean age?**\n",
        "\n",
        "HINT: you can use the summary command (e.g., `summary(data$var`)) to get summary\n",
        "statistics for a variable called var in a dataset called data). Or, using the tidyverse, you can use the `select(var1,var2)` command and pipe that into `summary()`."
      ],
      "metadata": {
        "id": "rPuLIOl8YUWN"
      },
      "id": "rPuLIOl8YUWN"
    },
    {
      "cell_type": "code",
      "source": [
        "# Your code here\n",
        "\n",
        "sleep %>% select(sleep,age) %>% summary()"
      ],
      "metadata": {
        "colab": {
          "base_uri": "https://localhost:8080/",
          "height": 139
        },
        "id": "lWXx9EpGYVam",
        "outputId": "528f623e-30ba-45e6-c3a2-499d83dacb0e"
      },
      "id": "lWXx9EpGYVam",
      "execution_count": null,
      "outputs": [
        {
          "output_type": "display_data",
          "data": {
            "text/plain": [
              "     sleep           age       \n",
              " Min.   : 755   Min.   :23.00  \n",
              " 1st Qu.:3015   1st Qu.:29.00  \n",
              " Median :3270   Median :36.00  \n",
              " Mean   :3266   Mean   :38.82  \n",
              " 3rd Qu.:3532   3rd Qu.:48.00  \n",
              " Max.   :4695   Max.   :65.00  "
            ]
          },
          "metadata": {}
        }
      ]
    },
    {
      "cell_type": "markdown",
      "source": [
        "Your answer here:\n",
        "\n",
        "The median value for sleep is 3,266 minutes of sleep per week. The mean for age is 38.82 years of age.\n"
      ],
      "metadata": {
        "id": "NMzhLIRLYa2v"
      },
      "id": "NMzhLIRLYa2v"
    },
    {
      "cell_type": "markdown",
      "source": [
        "**3. Run a regression of sleep on age. Discuss the statistical significance of the estimate and also interpret the intercept of the regression that you run.**"
      ],
      "metadata": {
        "id": "cI4YcZvzYjH2"
      },
      "id": "cI4YcZvzYjH2"
    },
    {
      "cell_type": "code",
      "source": [
        "# Your code here\n",
        "\n",
        "reg1 <- lm(sleep ~ age, data=sleep)\n",
        "summary(reg1)"
      ],
      "metadata": {
        "colab": {
          "base_uri": "https://localhost:8080/",
          "height": 329
        },
        "id": "F_EEkFI6Ynwv",
        "outputId": "014efbdb-c396-4b74-f14a-9fbf7c6a6618"
      },
      "id": "F_EEkFI6Ynwv",
      "execution_count": null,
      "outputs": [
        {
          "output_type": "display_data",
          "data": {
            "text/plain": [
              "\n",
              "Call:\n",
              "lm(formula = sleep ~ age, data = sleep)\n",
              "\n",
              "Residuals:\n",
              "     Min       1Q   Median       3Q      Max \n",
              "-2455.35  -254.39     9.55   270.77  1381.96 \n",
              "\n",
              "Coefficients:\n",
              "            Estimate Std. Error t value Pr(>|t|)    \n",
              "(Intercept) 3128.913     59.468  52.615   <2e-16 ***\n",
              "age            3.541      1.471   2.408   0.0163 *  \n",
              "---\n",
              "Signif. codes:  0 ‘***’ 0.001 ‘**’ 0.01 ‘*’ 0.05 ‘.’ 0.1 ‘ ’ 1\n",
              "\n",
              "Residual standard error: 442.9 on 704 degrees of freedom\n",
              "Multiple R-squared:  0.008167,\tAdjusted R-squared:  0.006758 \n",
              "F-statistic: 5.797 on 1 and 704 DF,  p-value: 0.01631\n"
            ]
          },
          "metadata": {}
        }
      ]
    },
    {
      "cell_type": "markdown",
      "source": [
        "Your answer here:\n",
        "\n",
        "The coefficient on age is statistcally significant at the 5 percent level because the p-value is less than 0.05.  Additionally, the intercept indicates that the average value of sleep per week is 3,128.913 minutes per week regardless of age."
      ],
      "metadata": {
        "id": "NTOgFaQUgqBE"
      },
      "id": "NTOgFaQUgqBE"
    },
    {
      "cell_type": "markdown",
      "source": [
        "**4. Next let's run a regression of the age and log hourly wage variables on  sleep. Discuss the statistical significance and magnitude of each coefficient in the regression.**"
      ],
      "metadata": {
        "id": "doY6zjCkYtMk"
      },
      "id": "doY6zjCkYtMk"
    },
    {
      "cell_type": "code",
      "source": [
        "# Your code here\n",
        "\n",
        "reg2 <- lm(sleep ~ age + lhrwage, data=sleep)\n",
        "summary(reg2)\n"
      ],
      "metadata": {
        "colab": {
          "base_uri": "https://localhost:8080/",
          "height": 364
        },
        "id": "FVU8I1YQhm-z",
        "outputId": "cfe8b47d-981a-4bb1-cf30-41fe4204be4b"
      },
      "id": "FVU8I1YQhm-z",
      "execution_count": null,
      "outputs": [
        {
          "output_type": "display_data",
          "data": {
            "text/plain": [
              "\n",
              "Call:\n",
              "lm(formula = sleep ~ age + lhrwage, data = sleep)\n",
              "\n",
              "Residuals:\n",
              "     Min       1Q   Median       3Q      Max \n",
              "-1736.51  -250.24     2.46   254.47  1392.20 \n",
              "\n",
              "Coefficients:\n",
              "            Estimate Std. Error t value Pr(>|t|)    \n",
              "(Intercept) 3244.295     76.999  42.134   <2e-16 ***\n",
              "age            2.185      1.664   1.313    0.190    \n",
              "lhrwage      -47.908     29.618  -1.618    0.106    \n",
              "---\n",
              "Signif. codes:  0 ‘***’ 0.001 ‘**’ 0.01 ‘*’ 0.05 ‘.’ 0.1 ‘ ’ 1\n",
              "\n",
              "Residual standard error: 430.1 on 529 degrees of freedom\n",
              "  (174 observations deleted due to missingness)\n",
              "Multiple R-squared:  0.00775,\tAdjusted R-squared:  0.003999 \n",
              "F-statistic: 2.066 on 2 and 529 DF,  p-value: 0.1277\n"
            ]
          },
          "metadata": {}
        }
      ]
    },
    {
      "cell_type": "markdown",
      "source": [
        "Your answer here:\n",
        "\n",
        "Both the age and log hourly wage variables are not statistically significant because the p-values are both greater than 0.1.  The coefficient on the age variable decreases when we add log hourly wage to the regression.  Further, the coefficient for log hourly wage is negative."
      ],
      "metadata": {
        "id": "9fUnK1fYhmRE"
      },
      "id": "9fUnK1fYhmRE"
    },
    {
      "cell_type": "markdown",
      "source": [
        "**5. Now, let's include the years of education among the independent variables in the regression described in Question 4. Similarly, discuss the statistical significance and magnitude of each coefficient in the regression.**"
      ],
      "metadata": {
        "id": "VmQkD7IWUY4U"
      },
      "id": "VmQkD7IWUY4U"
    },
    {
      "cell_type": "code",
      "source": [
        "# Your code here\n",
        "\n",
        "reg3 <- lm(sleep ~ age + lhrwage + educ, data=sleep)\n",
        "summary(reg3)"
      ],
      "metadata": {
        "colab": {
          "base_uri": "https://localhost:8080/",
          "height": 382
        },
        "outputId": "c2ba8752-dc6c-4e32-af41-94a4d6a482cf",
        "id": "eTg4u3eYjstp"
      },
      "execution_count": null,
      "outputs": [
        {
          "output_type": "display_data",
          "data": {
            "text/plain": [
              "\n",
              "Call:\n",
              "lm(formula = sleep ~ age + lhrwage + educ, data = sleep)\n",
              "\n",
              "Residuals:\n",
              "     Min       1Q   Median       3Q      Max \n",
              "-1746.75  -259.60    -2.19   249.49  1394.98 \n",
              "\n",
              "Coefficients:\n",
              "            Estimate Std. Error t value Pr(>|t|)    \n",
              "(Intercept) 3321.344    126.629  26.229   <2e-16 ***\n",
              "age            1.820      1.731   1.051    0.294    \n",
              "lhrwage      -40.835     31.033  -1.316    0.189    \n",
              "educ          -5.748      7.498  -0.767    0.444    \n",
              "---\n",
              "Signif. codes:  0 ‘***’ 0.001 ‘**’ 0.01 ‘*’ 0.05 ‘.’ 0.1 ‘ ’ 1\n",
              "\n",
              "Residual standard error: 430.3 on 528 degrees of freedom\n",
              "  (174 observations deleted due to missingness)\n",
              "Multiple R-squared:  0.008853,\tAdjusted R-squared:  0.003222 \n",
              "F-statistic: 1.572 on 3 and 528 DF,  p-value: 0.1951\n"
            ]
          },
          "metadata": {}
        }
      ],
      "id": "eTg4u3eYjstp"
    },
    {
      "cell_type": "markdown",
      "source": [
        "Your answer here:\n",
        "\n",
        "All 3 coefficients (age, log hourly wage, and years of education) are not statistically significant because the p-values are both greater than 0.1.  The coefficient on the age variable decreases when we add years of education to the regression from question 4.  The coefficients for log hourly wage and years of education are both negative, although the coefficient for log hourly wage is less negative relative to the regression ran in question 4. "
      ],
      "metadata": {
        "id": "PS3oQwn5Ucq7"
      },
      "id": "PS3oQwn5Ucq7"
    },
    {
      "cell_type": "markdown",
      "source": [
        "**6. The outputs from the regressions are usually presented as well-formatted tables. In this question, you will learn how to nicely format a table with the results from multiple regressions.**\n",
        "\n",
        "**First, run the script below installing the package modelsummary (this may take a minute or so to install).**"
      ],
      "metadata": {
        "id": "8keEL-ahZwVo"
      },
      "id": "8keEL-ahZwVo"
    },
    {
      "cell_type": "code",
      "source": [
        "check_installed <- require(modelsummary)\n",
        "if(check_installed==F){\n",
        "  install.packages(\"modelsummary\")\n",
        "  require(modelsummary)\n",
        "}"
      ],
      "metadata": {
        "colab": {
          "base_uri": "https://localhost:8080/"
        },
        "id": "pWwYWf7lZ0PM",
        "outputId": "31a97c16-c750-41b0-d1b8-9cad3a2bb9d9"
      },
      "id": "pWwYWf7lZ0PM",
      "execution_count": null,
      "outputs": [
        {
          "output_type": "stream",
          "name": "stderr",
          "text": [
            "Loading required package: modelsummary\n",
            "\n",
            "Installing package into ‘/usr/local/lib/R/site-library’\n",
            "(as ‘lib’ is unspecified)\n",
            "\n",
            "also installing the dependencies ‘webshot’, ‘bayestestR’, ‘datawizard’, ‘checkmate’, ‘insight’, ‘kableExtra’, ‘parameters’, ‘performance’, ‘tables’\n",
            "\n",
            "\n",
            "Loading required package: modelsummary\n",
            "\n"
          ]
        }
      ]
    },
    {
      "cell_type": "markdown",
      "source": [
        "**Next, include the results of the regressions you run in this exercise in a nicely formatted table using the existing code below to get started**\n",
        "\n",
        "In the code snippet below, `fit1`, `fit2`, and `fit3` is the regression outputs you saved in Questions 3, 4, and 5, `Name of Outcome Variable` is what you would like to show up on the top of each column, and `var1` and `var2` are the name of two independent variables included in the regression (e.g., educ). Note that you can and should include all the variables that you used in the models you ran in the `coef_map` line.\n",
        "```\n",
        "  modelsummary(list(\"Name Outcome Variable\" = fit1,\"Name Outcome Variable\" = fit2, \"Name Outcome Variable\" = fit3),\n",
        "  stars=T,\n",
        "  coef_map = c(\"(Intercept)\" = \"Constant\",\"var1\" = \"Name of var1\", \"var2\" = \"Name of var2\", \"var3\" = \"Name of var3\"),\n",
        " title = \"Add Here the Title of the Table\",\n",
        "  gof_omit = 'IC|Log',\n",
        "  output=\"jupyter\")\n",
        "\n",
        "  ```"
      ],
      "metadata": {
        "id": "He-4mQEvZ_Jk"
      },
      "id": "He-4mQEvZ_Jk"
    },
    {
      "cell_type": "code",
      "source": [
        "# Your code here\n",
        "\n",
        "  modelsummary(list(\"Sleep\" = reg1,\"Sleep\" = reg2, \"Sleep\" = reg3),\n",
        "  stars=T,\n",
        "  coef_map = c(\"(Intercept)\" = \"Constant\",\"age\" = \"Age\", \"lhrwage\" = \"Log Hourly Wage\", \"educ\" = \"Years of Education\"),\n",
        " title = \"Relationship between Sleep and Individual Characteristics\",\n",
        "  gof_omit = 'IC|Log',\n",
        "  output=\"jupyter\")"
      ],
      "metadata": {
        "colab": {
          "base_uri": "https://localhost:8080/",
          "height": 354
        },
        "id": "yhkQIuqNiAbN",
        "outputId": "dfe7d9cd-a57e-4032-ba0d-b657511b3382"
      },
      "id": "yhkQIuqNiAbN",
      "execution_count": null,
      "outputs": [
        {
          "output_type": "display_data",
          "data": {
            "text/html": [
              "<table style=\"NAborder-bottom: 0; width: auto !important; margin-left: auto; margin-right: auto;\" class=\"table\">\n",
              "<caption>Relationship between Sleep and Individual Characteristics</caption>\n",
              " <thead>\n",
              "  <tr>\n",
              "   <th style=\"text-align:left;\">   </th>\n",
              "   <th style=\"text-align:center;\"> Sleep </th>\n",
              "   <th style=\"text-align:center;\"> Sleep  </th>\n",
              "   <th style=\"text-align:center;\"> Sleep   </th>\n",
              "  </tr>\n",
              " </thead>\n",
              "<tbody>\n",
              "  <tr>\n",
              "   <td style=\"text-align:left;\"> Constant </td>\n",
              "   <td style=\"text-align:center;\"> 3128.913*** </td>\n",
              "   <td style=\"text-align:center;\"> 3244.295*** </td>\n",
              "   <td style=\"text-align:center;\"> 3321.344*** </td>\n",
              "  </tr>\n",
              "  <tr>\n",
              "   <td style=\"text-align:left;\">  </td>\n",
              "   <td style=\"text-align:center;\"> (59.468) </td>\n",
              "   <td style=\"text-align:center;\"> (76.999) </td>\n",
              "   <td style=\"text-align:center;\"> (126.629) </td>\n",
              "  </tr>\n",
              "  <tr>\n",
              "   <td style=\"text-align:left;\"> Age </td>\n",
              "   <td style=\"text-align:center;\"> 3.541* </td>\n",
              "   <td style=\"text-align:center;\"> 2.185 </td>\n",
              "   <td style=\"text-align:center;\"> 1.820 </td>\n",
              "  </tr>\n",
              "  <tr>\n",
              "   <td style=\"text-align:left;\">  </td>\n",
              "   <td style=\"text-align:center;\"> (1.471) </td>\n",
              "   <td style=\"text-align:center;\"> (1.664) </td>\n",
              "   <td style=\"text-align:center;\"> (1.731) </td>\n",
              "  </tr>\n",
              "  <tr>\n",
              "   <td style=\"text-align:left;\"> Log Hourly Wage </td>\n",
              "   <td style=\"text-align:center;\">  </td>\n",
              "   <td style=\"text-align:center;\"> −47.908 </td>\n",
              "   <td style=\"text-align:center;\"> −40.835 </td>\n",
              "  </tr>\n",
              "  <tr>\n",
              "   <td style=\"text-align:left;\">  </td>\n",
              "   <td style=\"text-align:center;\">  </td>\n",
              "   <td style=\"text-align:center;\"> (29.618) </td>\n",
              "   <td style=\"text-align:center;\"> (31.033) </td>\n",
              "  </tr>\n",
              "  <tr>\n",
              "   <td style=\"text-align:left;\"> Years of Education </td>\n",
              "   <td style=\"text-align:center;\">  </td>\n",
              "   <td style=\"text-align:center;\">  </td>\n",
              "   <td style=\"text-align:center;\"> −5.748 </td>\n",
              "  </tr>\n",
              "  <tr>\n",
              "   <td style=\"text-align:left;box-shadow: 0px 1px\">  </td>\n",
              "   <td style=\"text-align:center;box-shadow: 0px 1px\">  </td>\n",
              "   <td style=\"text-align:center;box-shadow: 0px 1px\">  </td>\n",
              "   <td style=\"text-align:center;box-shadow: 0px 1px\"> (7.498) </td>\n",
              "  </tr>\n",
              "  <tr>\n",
              "   <td style=\"text-align:left;\"> Num.Obs. </td>\n",
              "   <td style=\"text-align:center;\"> 706 </td>\n",
              "   <td style=\"text-align:center;\"> 532 </td>\n",
              "   <td style=\"text-align:center;\"> 532 </td>\n",
              "  </tr>\n",
              "  <tr>\n",
              "   <td style=\"text-align:left;\"> R2 </td>\n",
              "   <td style=\"text-align:center;\"> 0.008 </td>\n",
              "   <td style=\"text-align:center;\"> 0.008 </td>\n",
              "   <td style=\"text-align:center;\"> 0.009 </td>\n",
              "  </tr>\n",
              "  <tr>\n",
              "   <td style=\"text-align:left;\"> R2 Adj. </td>\n",
              "   <td style=\"text-align:center;\"> 0.007 </td>\n",
              "   <td style=\"text-align:center;\"> 0.004 </td>\n",
              "   <td style=\"text-align:center;\"> 0.003 </td>\n",
              "  </tr>\n",
              "  <tr>\n",
              "   <td style=\"text-align:left;\"> RMSE </td>\n",
              "   <td style=\"text-align:center;\"> 442.28 </td>\n",
              "   <td style=\"text-align:center;\"> 428.90 </td>\n",
              "   <td style=\"text-align:center;\"> 428.66 </td>\n",
              "  </tr>\n",
              "</tbody>\n",
              "<tfoot><tr><td style=\"padding: 0; \" colspan=\"100%\">\n",
              "<sup></sup> + p &lt; 0.1, * p &lt; 0.05, ** p &lt; 0.01, *** p &lt; 0.001</td></tr></tfoot>\n",
              "</table>"
            ]
          },
          "metadata": {}
        }
      ]
    }
  ],
  "metadata": {
    "colab": {
      "provenance": [],
      "include_colab_link": true
    },
    "kernelspec": {
      "display_name": "R",
      "language": "R",
      "name": "ir"
    },
    "language_info": {
      "codemirror_mode": "r",
      "file_extension": ".r",
      "mimetype": "text/x-r-source",
      "name": "R",
      "pygments_lexer": "r",
      "version": "4.2.1"
    }
  },
  "nbformat": 4,
  "nbformat_minor": 5
}
