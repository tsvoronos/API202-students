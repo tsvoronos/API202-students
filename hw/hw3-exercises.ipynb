{
 "cells": [
  {
   "cell_type": "markdown",
   "metadata": {
    "colab_type": "text",
    "id": "view-in-github"
   },
   "source": [
    "<a href=\"https://colab.research.google.com/github/tsvoronos/API202-staff/blob/main/hw/hw3/hw3-exercises.ipynb\" target=\"_parent\"><img src=\"https://colab.research.google.com/assets/colab-badge.svg\" alt=\"Open In Colab\"/></a>"
   ]
  },
  {
   "cell_type": "markdown",
   "metadata": {
    "id": "llzlIZkjYwoE"
   },
   "source": [
    "# API-202M ABC PROBLEM SET #3\n",
    "\n",
    "---\n",
    "\n",
    "\n",
    "**Due on Wednesday, February 15, at 11:59 p.m.**"
   ]
  },
  {
   "cell_type": "markdown",
   "metadata": {
    "id": "XDBPOFCGY65Y"
   },
   "source": [
    "**I - INSTRUCTIONS**  \n",
    "To successfully complete this problem set, please follow these steps:\n",
    "\n",
    "1. **Create a copy of this Jupyter notebook in your own drive by clicking `Copy to Drive` in the menubar (this is explained below in more detail below) - *if you do not do this your work will not be saved!***\n",
    "    1. Remember to save your work frequently by pressing `command-S` or clicking `File > Save` in the menubar.\n",
    "    1. We recommend completing this problem set in Google Chrome.\n",
    "2. **Insert all your answers into your copy of the document.** \n",
    "    1. Please include every portion of your submission in this document unless a separate electronic file is explicitly requested. \n",
    "    3. All numerical calculations should be done in the notebook itself, using R code. If you have to do calculations by hand, include a picture of your handwritten work.\n",
    "    2. To add an image of handwritten work, screenshots, or anything else, add a new text cell and click the small image icon in the menubar above the cell. After inserting an image, press the `esc` key to show the image. If you have trouble with this method, upload your image to [Freeimage.host](https://freeimage.host), copy a Markdown link, and paste it in a text cell.\n",
    "3. **Once your document is complete, please save and submit the notebook on Canvas as a PDF.** \n",
    "    1. Click `View > Expand sections` in the menubar to make sure all work is visible (if it is greyed out then it is already visible).\n",
    "    1. Click `Runtime > Run all` in the menubar to make sure all of your code is executed.\n",
    "    1. Click `File > Print` in the menubar and choose the `Save as PDF` option in Chrome to export your notebook as a PDF. \n",
    "    1. Check to make sure answers do not get cut off - when you go to print the PDF we recommend clicking on `More settings` and setting `Margins` to `None`.\n",
    "    1. Alternatively, use [this Google Chrome extension](https://chrome.google.com/webstore/detail/gofullpage-full-page-scre/fdpohaocaechififmbbbbbknoalclacl) to create a single PDF without having to worry about margins.\n",
    "    1. Submit your file on Canvas.\n"
   ]
  },
  {
   "cell_type": "markdown",
   "metadata": {
    "id": "SQcwWI_VY9bx"
   },
   "source": [
    "**II - IDENTIFICATION**\n",
    "1. **Your Full Name:** `     `  \n",
    "\n",
    "2. **Group Members (classmates with whom you worked on this problem set):**  \n",
    "    1. `     `\n",
    "    2. `     `\n",
    "    3. `     `\n",
    "    4. `     `\n",
    "    \n",
    "3. **Compliance with HKS Academic Code**  \n",
    "We abide by the Harvard Kennedy School Academic code for all aspects of the course. In terms of problem sets, unless explicitly written otherwise, the norms are the following: You are free (and encouraged) to discuss problem sets with your classmates. However, you must hand in your own unique written work and code in all cases. Any copy/paste of another’s work is plagiarism. In other words, you may work with your classmate(s), sitting side-by-side (physically or remotely!) and going through the problem set question by question, but you must each type your own answers and your own code. For more details, please see syllabus.\n",
    "\n",
    "    **I certify that my work in this problem set complies with the HKS Academic Code**\n",
    "    - [ ] Yes\n",
    "    - [ ] No\n",
    "\n",
    "---"
   ]
  },
  {
   "cell_type": "markdown",
   "metadata": {
    "id": "d5711e37-1060-49bc-99a6-d15b04756f16"
   },
   "source": [
    "## Load `R` libraries and data\n",
    "\n",
    "**Please refer to Sheet 1 in this [R Cheat Sheet](https://bit.ly/HKS-R) which includes the commands you learned last semester in addition to a number of additional ones.**\n",
    "\n",
    "The code cell below imports the R tidyverse. Make sure to run it before starting the problem set!\n",
    "\n",
    "*Note: Click the \"play\" button that appears when you hover over a cell to run it. The first time you do this you may receive an alert that this notebook was not authored by Google. If so, click \"Run anyway\" to proceed.*"
   ]
  },
  {
   "cell_type": "code",
   "execution_count": null,
   "metadata": {
    "id": "aa889d79-5ab9-42af-8590-30819c45124f",
    "tags": []
   },
   "outputs": [],
   "source": [
    "\n",
    "library(tidyverse)\n",
    "nlsy <- read.csv(\"https://github.com/tsvoronos/API202-students/blob/9b0d9d54fff8677151f5ae86df096fb55e6b39d7/data/nlsy2000_2012.csv?raw=1\")\n"
   ]
  },
  {
   "cell_type": "markdown",
   "metadata": {
    "id": "tIl3nGigdeIl"
   },
   "source": [
    "# PART 1: EXPLAINING INCOME PATTERNS\n",
    "\n",
    "In this part, you will explore how gender, education, and age affects income patterns using data from the National Longitudinal Survey of Youth 2000 sample. The code snippet at the start of this problem set loads a subset of data in an object called `nlsy`.  This data set began with roughly 12,000 American teenagers in 1979 and has been following them for many years. The object `nlsy` contains a random sub-sample of 1000 respondents and has already been cleaned for use on this problem set (so you don’t have to worry about missing data or incorrectly classified responses). The variables of interest in this problem are: \n",
    "\n",
    "\n",
    "*   `income`: weekly earnings\n",
    "*   `male`: a binary variable for whether the individual identifies as male\n",
    "*   `yrs_educ`: years of education\n",
    "*   `married`: a binary variable for whether the individual is married\n",
    "*  `urban`: a binary variable for whether the individual is living in an urban (as opposed to rural) area\n",
    "* `black`: a binary variable for whether the individual identifies as Black\n",
    "* `hispanic`: a binary variable for whether the individual identifies as Hispanic\n",
    "* `single`: a binary variable for whether the individual is single \n",
    "*   `age`: age in years.\n",
    "\n",
    "---\n",
    "\n",
    "**Note**: Similar to the data that was presented in class, the coding of this dataset (and most other large-scale survey datasets that social scientists rely on) conflates sex and gender. Unfortunately, this is a persistent issue compounded by the fact that these large surveys are rarely changed in order to preserve comparability across time periods. We highly recommend these two readings to learn more about this issue:\n",
    "\n",
    "* *Westbrook, L and Saperstein, A. “[New Categories Are Not Enough: Rethinking the Measurement of Sex and Gender in Social Surveys](https://www-jstor-org.ezp-prod1.hul.harvard.edu/stable/43669994)” (2015) Gender and Society Vol. 29, No. 4*\n",
    "* *Meredith Broussard, “[When Binary Code Won’t Accommodate Nonbinary People](https://slate.com/technology/2019/10/gender-binary-nonbinary-code-databases-values.html) (slate.com)” (2019)*"
   ]
  },
  {
   "cell_type": "markdown",
   "metadata": {
    "id": "8JMs5bTJUMwL"
   },
   "source": [
    "**1. Run the following two regressions:** \n",
    "\n",
    "*Note: Make sure you use the `summary` command to actually show the output.*"
   ]
  },
  {
   "cell_type": "markdown",
   "metadata": {
    "id": "o5JQNUkahyrH"
   },
   "source": [
    "**(a) Regression A: Income on age and male**"
   ]
  },
  {
   "cell_type": "code",
   "execution_count": null,
   "metadata": {
    "colab": {
     "base_uri": "https://localhost:8080/",
     "height": 356
    },
    "id": "1rV0y7rshxy3",
    "outputId": "4dbf56c0-283b-4dd6-fe8e-0427f9cff1db"
   },
   "outputs": [],
   "source": [
    "# Your code here\n",
    "\n"
   ]
  },
  {
   "cell_type": "markdown",
   "metadata": {
    "id": "IXnMfOkjh18h"
   },
   "source": [
    "**(b) Regression B: Income on age, male, and years of education**"
   ]
  },
  {
   "cell_type": "code",
   "execution_count": null,
   "metadata": {
    "colab": {
     "base_uri": "https://localhost:8080/",
     "height": 374
    },
    "id": "IIpSO48vVWeO",
    "outputId": "8d12f73e-afe1-4816-fefd-7f2177b8d828"
   },
   "outputs": [],
   "source": [
    "# Your code here\n",
    "\n"
   ]
  },
  {
   "cell_type": "markdown",
   "metadata": {
    "id": "0UBGOqvRh9o7"
   },
   "source": [
    "**(c) Interpret the coefficient on male in both regressions. What does the comparison between the male coefficient in the two regressions suggest in terms of omitted variable bias?** "
   ]
  },
  {
   "cell_type": "markdown",
   "metadata": {
    "id": "fD-kFGtvVlTs"
   },
   "source": [
    "Your answer here\n",
    "\n"
   ]
  },
  {
   "cell_type": "markdown",
   "metadata": {
    "id": "bTnR2PSPZqSb"
   },
   "source": [
    "**2.What is the predicted association between age and income for men (using Regression B)? What is the predicted association between age and income for women?**\n"
   ]
  },
  {
   "cell_type": "markdown",
   "metadata": {
    "id": "yNjpv2J3aUAY"
   },
   "source": [
    "Your answer here\n",
    "\n"
   ]
  },
  {
   "cell_type": "markdown",
   "metadata": {
    "id": "DBUNp_JqdoWt"
   },
   "source": [
    "**3. Generate a new variable equal to the interaction of male and age. Run the following regression:**"
   ]
  },
  {
   "cell_type": "markdown",
   "metadata": {
    "id": "xrNvMWklipM8"
   },
   "source": [
    "**(a) Regression C: Income on age, male, years of education, and the interaction of age and male** "
   ]
  },
  {
   "cell_type": "code",
   "execution_count": null,
   "metadata": {
    "colab": {
     "base_uri": "https://localhost:8080/",
     "height": 392
    },
    "id": "DTixbTuYMPhb",
    "outputId": "a1e74557-cce9-4a96-c065-e4eea91edb2e"
   },
   "outputs": [],
   "source": [
    "# Your code here\n"
   ]
  },
  {
   "cell_type": "markdown",
   "metadata": {
    "id": "_9Dat_Cpitgt"
   },
   "source": [
    "**(b) Then, present the results of regressions A, B, and C in a well-formatted table. Your formatted regression table should include all coefficient estimates, their standard errors, and an indication of which coefficients are statistically significant. A good table should also make comparisons between estimates of the same coefficients across models visually easy and not include any information you don’t understand.**\n",
    "\n",
    "*HINT: remember that you learned how to create well-formatted tables in problem set 2. We started you off with the code that makes sure the `modelsummary` package is installed. Remember that this may take a minute or two to load.*"
   ]
  },
  {
   "cell_type": "code",
   "execution_count": null,
   "metadata": {
    "colab": {
     "base_uri": "https://localhost:8080/",
     "height": 630
    },
    "id": "CMM-_9L0i2_N",
    "outputId": "5a6963d9-e7c9-494a-abdb-d29900a4b967"
   },
   "outputs": [],
   "source": [
    "# Your code here\n",
    "check_installed <- require(modelsummary)\n",
    "if(check_installed==F){\n",
    "  install.packages(\"modelsummary\")\n",
    "  require(modelsummary)\n",
    "}\n",
    "\n",
    "\n"
   ]
  },
  {
   "cell_type": "markdown",
   "metadata": {
    "id": "h5RPstHNevJh"
   },
   "source": [
    "**4. Next, compare the results of regressions B and C using the table you created in the previous question. In one or two short paragraphs interpret the coefficient on the interaction term and explain the value of the additional insight gained from model C relative to model B.**"
   ]
  },
  {
   "cell_type": "markdown",
   "metadata": {
    "id": "1UfyqOF2e4tm"
   },
   "source": [
    "\n"
   ]
  },
  {
   "cell_type": "markdown",
   "metadata": {
    "id": "UfoWVyJeGhSN"
   },
   "source": [
    "**5. Run Regression C, but this time use `married` as the outcome variable, rather than `income` (you do not need to include `income` as an independent variable). Carefully interpret the coefficient on education in this regression.**"
   ]
  },
  {
   "cell_type": "code",
   "execution_count": null,
   "metadata": {
    "colab": {
     "base_uri": "https://localhost:8080/",
     "height": 392
    },
    "id": "D2xaQus-G4i_",
    "outputId": "e9202f08-c6bf-4f9a-8abc-16b90ab6b6cf"
   },
   "outputs": [],
   "source": [
    "# Your code here\n"
   ]
  },
  {
   "cell_type": "markdown",
   "metadata": {
    "id": "EOCRKkfceBw1"
   },
   "source": [
    "Your answer here\n",
    "\n"
   ]
  },
  {
   "cell_type": "markdown",
   "metadata": {
    "id": "ZsxXAN5n4DOI"
   },
   "source": [
    "**6. Generate a regression that would allow you to determine the average income for the following groups:**\n",
    "* Married men\n",
    "* Married women\n",
    "* Unmarried men\n",
    "* Unmarried women\n",
    "\n",
    "**Specify your regression in a way so that you can test to see if there is a statistical difference in average income between married women and unmarried women.**"
   ]
  },
  {
   "cell_type": "markdown",
   "metadata": {
    "id": "r7r7O9WDjSN8"
   },
   "source": [
    "**(a) Write out the SRF that you have in mind.**"
   ]
  },
  {
   "cell_type": "markdown",
   "metadata": {
    "id": "qyPnQjkgjfEC"
   },
   "source": [
    "Your answer here\n"
   ]
  },
  {
   "cell_type": "markdown",
   "metadata": {
    "id": "8YBF2TbbjUlv"
   },
   "source": [
    "**(b) Run this regression in R.**"
   ]
  },
  {
   "cell_type": "code",
   "execution_count": null,
   "metadata": {
    "colab": {
     "base_uri": "https://localhost:8080/",
     "height": 374
    },
    "id": "pXFyYU8ubw0X",
    "outputId": "546d0ed1-d969-40b7-8ce7-e1946d139a2e"
   },
   "outputs": [],
   "source": [
    "# Your code here\n"
   ]
  },
  {
   "cell_type": "markdown",
   "metadata": {
    "id": "K9J6s9xujWoN"
   },
   "source": [
    "**(c) Determine whether there is a statistical difference in average income between married women and unmarried women.**"
   ]
  },
  {
   "cell_type": "markdown",
   "metadata": {
    "id": "1Xz1ODOb4Qs4"
   },
   "source": [
    "Your answer here\n"
   ]
  },
  {
   "cell_type": "markdown",
   "metadata": {
    "id": "o6cY_Ob15etf"
   },
   "source": [
    "**7. Additional variables in this dataset that we have not yet explored are dummy variables for identifying as Black, Hispanic, single, and living in an urban (as opposed to rural) area. Using these variables and the tools of regression that you have learned so far, propose a hypothesis to test that utilizes an interaction term and then run a regression to test it.**"
   ]
  },
  {
   "cell_type": "markdown",
   "metadata": {
    "id": "g-l2jY3Fjvve"
   },
   "source": [
    "**(a) State the hypothesis you want to explore and your rationale for wanting to conduct it.**"
   ]
  },
  {
   "cell_type": "markdown",
   "metadata": {
    "id": "FaMAwZadj-wq"
   },
   "source": [
    "Your answer here\n"
   ]
  },
  {
   "cell_type": "markdown",
   "metadata": {
    "id": "Rc7DE9h9jyVn"
   },
   "source": [
    "**(b) Write out your PRF.**"
   ]
  },
  {
   "cell_type": "markdown",
   "metadata": {
    "id": "KMZ6cu65kIpN"
   },
   "source": [
    "Your answer here\n"
   ]
  },
  {
   "cell_type": "markdown",
   "metadata": {
    "id": "aqE9rn7Fj4VO"
   },
   "source": [
    "**(c) Run the regression using R.**"
   ]
  },
  {
   "cell_type": "code",
   "execution_count": null,
   "metadata": {
    "colab": {
     "base_uri": "https://localhost:8080/",
     "height": 410
    },
    "id": "SwCM4jC375Tm",
    "outputId": "c486d525-d23e-474e-fb9b-7927449f2f80"
   },
   "outputs": [],
   "source": [
    "# Your code here\n"
   ]
  },
  {
   "cell_type": "markdown",
   "metadata": {
    "id": "IsVegdQYj6tS"
   },
   "source": [
    "**(d) State your null hypothesis, the p-value of your hypothesis test, and the conclusion you draw from the results.**"
   ]
  },
  {
   "cell_type": "markdown",
   "metadata": {
    "id": "G89ur9L4kMuq"
   },
   "source": [
    "Your answer here\n"
   ]
  },
  {
   "cell_type": "markdown",
   "metadata": {
    "id": "G2ek6cxk1yrL"
   },
   "source": [
    "**8. Based on your findings in the prior question, propose a potential subsequent analysis that you could do to deepen your understanding of the hypothesis you are interested in. This could involve variables that you do not have access to – I simply want you to think through next steps of an analysis on this topic.**"
   ]
  },
  {
   "cell_type": "markdown",
   "metadata": {
    "id": "6y9rGVrv2h3R"
   },
   "source": [
    "\n",
    "\n",
    "Your explanation here\n",
    "\n",
    "\n"
   ]
  },
  {
   "cell_type": "markdown",
   "metadata": {
    "id": "r95kx7VgY3bF"
   },
   "source": [
    "# PART II: HIV AND WEALTH\n",
    "\n"
   ]
  },
  {
   "cell_type": "markdown",
   "metadata": {
    "id": "1trK1VvJZHEK"
   },
   "source": [
    "The dataset burkinafaso.csv contains demographic and health data on 699 individuals in Burkina Faso from the DHS (Demographic and Health Surveys). The data include information about HIV status for a quasi-representative sample of the adult population in Burkina Faso, and can be used to analyze the socioeconomic correlates of HIV infection and associated sexual behaviors. \n",
    "\n",
    "The dataset contains the following variables:\n",
    "* `hivpositive`: a binary variable for whether the individual is tested as HIV positive (note: if you do not get tested, the variable `hivpositive` assumes value 0)\n",
    "* `wealth_index`: reports an individual’s quintile ranking relative to the population. For the purposes of this problem, you can consider it a rough proxy for income\n",
    "* `catholic`: a binary variable for whether the individual identifies as catholic\n",
    "* `secondary_educ`: a binary variable for whether the individual completed secondary education\n",
    "* `age_at_first_sex`: age at first sex\n",
    "* `rural`: a binary variable for whether the individual lives in a rural area"
   ]
  },
  {
   "cell_type": "code",
   "execution_count": null,
   "metadata": {
    "id": "SdHLludz1NfM"
   },
   "outputs": [],
   "source": [
    "library(tidyverse)\n",
    "burkinafaso <- read.csv(\"https://github.com/tsvoronos/API202-students/blob/b379834866948a0a6ca6afc56f3ac93470904a18/data/burkinafaso.csv?raw=1\")\n"
   ]
  },
  {
   "cell_type": "markdown",
   "metadata": {
    "id": "gnOfdB-BZU_r"
   },
   "source": [
    "**1. Run a regression that represents a linear probability model of the variable `hivpositive` on the variables `wealth_index`, `catholic`, `secondary_educ`, `age_at_first_sex`, and `rural`.**"
   ]
  },
  {
   "cell_type": "markdown",
   "metadata": {
    "id": "yYO4VvEjkodq"
   },
   "source": [
    "**(a) Run the regression below.**"
   ]
  },
  {
   "cell_type": "code",
   "execution_count": null,
   "metadata": {
    "colab": {
     "base_uri": "https://localhost:8080/",
     "height": 428
    },
    "id": "Rl2UlBpelDY1",
    "outputId": "b340e90f-228e-4f1e-ea4f-f3cfa3be8fbd"
   },
   "outputs": [],
   "source": [
    "# Your code here\n"
   ]
  },
  {
   "cell_type": "markdown",
   "metadata": {
    "id": "Xje78nPJk1j7"
   },
   "source": [
    "**(b) What does the coefficient on the dummy variable `catholic` tell you?**"
   ]
  },
  {
   "cell_type": "markdown",
   "metadata": {
    "id": "2_s1T2nqlOX7"
   },
   "source": [
    "Your explanation here\n",
    "\n"
   ]
  },
  {
   "cell_type": "markdown",
   "metadata": {
    "id": "KH_FxvR5k3xm"
   },
   "source": [
    "**(c) What does the coefficient on the dummy variable `secondary_educ` tell you?**"
   ]
  },
  {
   "cell_type": "markdown",
   "metadata": {
    "id": "dqOR928elSeL"
   },
   "source": [
    "Your explanation here\n",
    "\n"
   ]
  },
  {
   "cell_type": "markdown",
   "metadata": {
    "id": "_Q3kA_gCk7LT"
   },
   "source": [
    "**(d) Test the null hypothesis that living in a rural area has no effect on being tested as HIV positive.**"
   ]
  },
  {
   "cell_type": "markdown",
   "metadata": {
    "id": "0F3sAQxrlYM1"
   },
   "source": [
    "\n",
    "Your explanation here\n",
    "\n"
   ]
  },
  {
   "cell_type": "markdown",
   "metadata": {
    "id": "sZqxUxzpk8yc"
   },
   "source": [
    "**(e) Calculate the predicted probability of being tested as HIV positive for a Catholic with a wealth index of 2 and whose first sexual experience was at age 18, with all other characteristics at the sample averages.**\n",
    "\n",
    "It is common to plug in sample averages when you do not have in mind a specific value for the sample average."
   ]
  },
  {
   "cell_type": "markdown",
   "metadata": {
    "id": "WBxMiJfLlykD"
   },
   "source": [
    "Your answer here\n",
    "\n"
   ]
  },
  {
   "cell_type": "code",
   "execution_count": null,
   "metadata": {
    "colab": {
     "base_uri": "https://localhost:8080/",
     "height": 254
    },
    "id": "m2SyOqKw1idJ",
    "outputId": "8421d12b-d075-4f9f-f648-45590112bc8e"
   },
   "outputs": [],
   "source": [
    "# Your code for calculations here\n"
   ]
  },
  {
   "cell_type": "markdown",
   "metadata": {
    "id": "8LxEdHb4ZTNE"
   },
   "source": [
    "**2. Now, we analyze in more depth the correlation between wealth and testing HIV positive. To do so, we will exclude some of the variables from the previous regression.**"
   ]
  },
  {
   "cell_type": "markdown",
   "metadata": {
    "id": "EupkgKSqmAQn"
   },
   "source": [
    "**(a) Run a regression of `hivpositive` on the `wealth_index`, controlling for `age_at_first_sex`. Interpret the coefficent on the wealth index from the regression and say whether it is statistically significant.**"
   ]
  },
  {
   "cell_type": "code",
   "execution_count": null,
   "metadata": {
    "colab": {
     "base_uri": "https://localhost:8080/",
     "height": 356
    },
    "id": "j_tPsPswmTmo",
    "outputId": "b515b3b5-a110-4482-e4cd-f230516f97cc"
   },
   "outputs": [],
   "source": [
    "# Your code here\n"
   ]
  },
  {
   "cell_type": "markdown",
   "metadata": {
    "id": "Z9PNy6unmWSP"
   },
   "source": [
    "\n",
    "Your explanation here\n",
    "\n"
   ]
  },
  {
   "cell_type": "markdown",
   "metadata": {
    "id": "l1Oo1MdPmFR-"
   },
   "source": [
    "**(b) Create a dummy variable which assumes value 1 if the individual is in the bottom three quintiles of the wealth distribution and call this variable `lowincome`. Run a regression that represents a linear probability model of the variable `hivpositive` on the variables `lowincome` and `age_at_first_sex`. Interpret the coefficent on the `lowincome` variable from the regression and say whether it is statistically significant at the 5% level.**"
   ]
  },
  {
   "cell_type": "code",
   "execution_count": null,
   "metadata": {
    "colab": {
     "base_uri": "https://localhost:8080/",
     "height": 356
    },
    "id": "pt-BzgBkmaBC",
    "outputId": "375287da-99e6-4004-88a4-66f33b93e424"
   },
   "outputs": [],
   "source": [
    "# Your code here\n"
   ]
  },
  {
   "cell_type": "markdown",
   "metadata": {
    "id": "NLtjCdZNm1gN"
   },
   "source": [
    "\n",
    "Your explanation here\n",
    "\n"
   ]
  },
  {
   "cell_type": "markdown",
   "metadata": {
    "id": "e778yaRrmIf9"
   },
   "source": [
    "**(c) Now create a factor variable considering the 5 wealth index categories, i.e. a variable that R knows is not a continuous variable. Run a regression that represents a linear probability model of the variable `hivpositive` on the factor variable for wealth index and `age_at_first_sex`. Consider the lowest level of income (quintile of the wealth index=1) as the excluded category. Interpret one of the coefficents related to wealth index from the regression and say whether it is statistically significant at the 5% level.**\n",
    "\n",
    "HINT: look at the Handout appendix to see how to construct this variable."
   ]
  },
  {
   "cell_type": "code",
   "execution_count": null,
   "metadata": {
    "colab": {
     "base_uri": "https://localhost:8080/",
     "height": 410
    },
    "id": "_mRbiZ-Nmc6d",
    "outputId": "55c99da7-49dd-4ed2-85e7-f6b421f2bf61"
   },
   "outputs": [],
   "source": [
    "# Your code here\n"
   ]
  },
  {
   "cell_type": "markdown",
   "metadata": {
    "id": "DHBPXDUkm5Ig"
   },
   "source": [
    "\n",
    "Your explanation here\n",
    "\n"
   ]
  },
  {
   "cell_type": "markdown",
   "metadata": {
    "id": "-GfKwpfUmLq0"
   },
   "source": [
    "**(d) What does the previous regression tell you about the causal impact of wealth on being HIV positive? Which factors could be a key omitted variable in explaining this result?**"
   ]
  },
  {
   "cell_type": "markdown",
   "metadata": {
    "id": "OP8xFB0lm9GK"
   },
   "source": [
    "\n",
    "Your explanation here\n",
    "\n"
   ]
  },
  {
   "cell_type": "code",
   "execution_count": null,
   "metadata": {
    "id": "GNta0Pt4A7V5"
   },
   "outputs": [],
   "source": []
  },
  {
   "cell_type": "markdown",
   "metadata": {
    "id": "3MSA9ajUmOoJ"
   },
   "source": [
    "**(e) Now, add the variable `lowincome` to the regression in point 2.c of this exercise. What do you notice?**"
   ]
  },
  {
   "cell_type": "code",
   "execution_count": null,
   "metadata": {
    "colab": {
     "base_uri": "https://localhost:8080/",
     "height": 446
    },
    "id": "de7hecv_-U98",
    "outputId": "8a3dd9a3-12fd-4a9d-cabb-f530ceef1a16"
   },
   "outputs": [],
   "source": [
    "# Your code here\n"
   ]
  },
  {
   "cell_type": "markdown",
   "metadata": {
    "id": "ct99PatWEYh5"
   },
   "source": [
    "\n",
    "Your explanation here\n",
    "\n"
   ]
  },
  {
   "cell_type": "markdown",
   "metadata": {
    "id": "nbhw8nPX0qUa"
   },
   "source": [
    "# PART III: PCE ON EXPERIMENTS\n",
    "\n",
    "The goal of this problem set question is to help prepare you for the class on Distributions that will be held on Thursday (the day after this problem set is due), so we can use our time in the classroom most productively. We estimate that the time to engage with this online module is about 30-45 minutes.\n",
    "\n",
    "**This PCE is just a Canvas \"quiz,\" with no accompanying videos!**\n",
    "\n",
    "Remember that you get full credit for completing the required parts of the PCE - your responses will be registered in the system but will not count towards your grade in any way.\n",
    "\n",
    "__The module is available at the following sites:__\n",
    "\n",
    "* [Section A (Prof. Carlana)](https://canvas.harvard.edu/courses/118065/modules/255111)\n",
    "* [Section B (Prof. Svoronos)](https://canvas.harvard.edu/courses/118066/modules/255112)\n",
    "* [Section C (Prof. Schneer)](https://canvas.harvard.edu/courses/118067/modules/255113)"
   ]
  }
 ],
 "metadata": {
  "colab": {
   "include_colab_link": true,
   "name": "hw/hw3/hw3-exercises.ipynb",
   "provenance": [],
   "toc_visible": true
  },
  "kernelspec": {
   "display_name": "R",
   "language": "R",
   "name": "ir"
  },
  "language_info": {
   "codemirror_mode": "r",
   "file_extension": ".r",
   "mimetype": "text/x-r-source",
   "name": "R",
   "pygments_lexer": "r",
   "version": "4.2.1"
  }
 },
 "nbformat": 4,
 "nbformat_minor": 4
}
