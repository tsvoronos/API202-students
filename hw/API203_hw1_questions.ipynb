{
  "cells": [
    {
      "cell_type": "markdown",
      "metadata": {
        "id": "view-in-github",
        "colab_type": "text"
      },
      "source": [
        "<a href=\"https://colab.research.google.com/github/tsvoronos/API202-students/blob/main/hw/API203_hw1_questions.ipynb\" target=\"_parent\"><img src=\"https://colab.research.google.com/assets/colab-badge.svg\" alt=\"Open In Colab\"/></a>"
      ]
    },
    {
      "cell_type": "markdown",
      "metadata": {
        "id": "llzlIZkjYwoE"
      },
      "source": [
        "# API-203M A PROBLEM SET #1\n",
        "\n",
        "---\n",
        "\n",
        "\n",
        "**Due on Wednesday, March 8, at 11:59 p.m.**"
      ]
    },
    {
      "cell_type": "markdown",
      "metadata": {
        "id": "XDBPOFCGY65Y"
      },
      "source": [
        "**I - INSTRUCTIONS**  \n",
        "To successfully complete this problem set, please follow these steps:\n",
        "\n",
        "1. **Create a copy of this Jupyter notebook in your own drive by clicking `Copy to Drive` in the menubar (this is explained below in more detail below) - *if you do not do this your work will not be saved!***\n",
        "    1. Remember to save your work frequently by pressing `command-S` or clicking `File > Save` in the menubar.\n",
        "    1. We recommend completing this problem set in Google Chrome.\n",
        "2. **Insert all your answers into your copy of the document.** \n",
        "    1. Please include every portion of your submission in this document unless a separate electronic file is explicitly requested. \n",
        "    3. All numerical calculations should be done in the notebook itself, using R code. If you have to do calculations by hand, include a picture of your handwritten work.\n",
        "    2. To add an image of handwritten work, screenshots, or anything else, add a new text cell and click the small image icon in the menubar above the cell. After inserting an image, press the `esc` key to show the image. If you have trouble with this method, upload your image to [Freeimage.host](https://freeimage.host), copy a Markdown link, and paste it in a text cell.\n",
        "3. **Once your document is complete, please save and submit the notebook on Canvas as a PDF.** \n",
        "    1. Click `View > Expand sections` in the menubar to make sure all work is visible (if it is greyed out then it is already visible).\n",
        "    1. Click `Runtime > Run all` in the menubar to make sure all of your code is executed.\n",
        "    1. Click `File > Print` in the menubar and choose the `Save as PDF` option in Chrome to export your notebook as a PDF. \n",
        "    1. Check to make sure answers do not get cut off - when you go to print the PDF we recommend clicking on `More settings` and setting `Margins` to `None`.\n",
        "    1. Alternatively, use [this Google Chrome extension](https://chrome.google.com/webstore/detail/gofullpage-full-page-scre/fdpohaocaechififmbbbbbknoalclacl) to create a single PDF without having to worry about margins.\n",
        "    1. Submit your file on Canvas.\n"
      ]
    },
    {
      "cell_type": "markdown",
      "metadata": {
        "id": "SQcwWI_VY9bx"
      },
      "source": [
        "**II - IDENTIFICATION**\n",
        "1. **Your Full Name:** `     `  \n",
        "\n",
        "2. **Group Members (classmates with whom you worked on this problem set):**  \n",
        "    1. `     `\n",
        "    2. `     `\n",
        "    3. `     `\n",
        "    4. `     `\n",
        "    \n",
        "3. **Compliance with HKS Academic Code**  \n",
        "We abide by the Harvard Kennedy School Academic code for all aspects of the course. In terms of problem sets, unless explicitly written otherwise, the norms are the following: You are free (and encouraged) to discuss problem sets with your classmates. However, you must hand in your own unique written work and code in all cases. Any copy/paste of another’s work is plagiarism. In other words, you may work with your classmate(s), sitting side-by-side (physically or remotely!) and going through the problem set question by question, but you must each type your own answers and your own code. For more details, please see syllabus.\n",
        "\n",
        "    **I certify that my work in this problem set complies with the HKS Academic Code**\n",
        "    - [ ] Yes\n",
        "    - [ ] No\n",
        "\n",
        "---"
      ]
    },
    {
      "cell_type": "markdown",
      "metadata": {
        "id": "d5711e37-1060-49bc-99a6-d15b04756f16"
      },
      "source": [
        "## Load `R` libraries and data\n",
        "\n",
        "**Please refer to Sheet 1 in this [R Cheat Sheet](https://bit.ly/HKS-R) which includes the commands you learned last semester in addition to a number of additional ones.**\n",
        "\n",
        "The code cell below imports the R tidyverse. Make sure to run it before starting the problem set!\n",
        "\n",
        "*Note: Click the \"play\" button that appears when you hover over a cell to run it. The first time you do this you may receive an alert that this notebook was not authored by Google. If so, click \"Run anyway\" to proceed.*"
      ]
    },
    {
      "cell_type": "code",
      "execution_count": 1,
      "metadata": {
        "id": "aa889d79-5ab9-42af-8590-30819c45124f",
        "tags": [],
        "colab": {
          "base_uri": "https://localhost:8080/",
          "height": 453
        },
        "outputId": "549764ea-6e4b-479f-d816-238d2f3f7c38"
      },
      "outputs": [
        {
          "output_type": "stream",
          "name": "stderr",
          "text": [
            "Loading required package: fixest\n",
            "\n",
            "\u001b[1mRows: \u001b[22m\u001b[34m765\u001b[39m \u001b[1mColumns: \u001b[22m\u001b[34m14\u001b[39m\n",
            "\u001b[36m──\u001b[39m \u001b[1mColumn specification\u001b[22m \u001b[36m────────────────────────────────────────────────────────\u001b[39m\n",
            "\u001b[1mDelimiter:\u001b[22m \",\"\n",
            "\u001b[31mchr\u001b[39m  (1): state\n",
            "\u001b[32mdbl\u001b[39m (13): year, fips, vmt, fatalityrate, sb_useage, speed65, speed70, drinka...\n",
            "\n",
            "\u001b[36mℹ\u001b[39m Use `spec()` to retrieve the full column specification for this data.\n",
            "\u001b[36mℹ\u001b[39m Specify the column types or set `show_col_types = FALSE` to quiet this message.\n"
          ]
        },
        {
          "output_type": "display_data",
          "data": {
            "text/html": [
              "<table class=\"dataframe\">\n",
              "<caption>A tibble: 6 × 14</caption>\n",
              "<thead>\n",
              "\t<tr><th scope=col>state</th><th scope=col>year</th><th scope=col>fips</th><th scope=col>vmt</th><th scope=col>fatalityrate</th><th scope=col>sb_useage</th><th scope=col>speed65</th><th scope=col>speed70</th><th scope=col>drinkage21</th><th scope=col>ba08</th><th scope=col>income</th><th scope=col>age</th><th scope=col>primary</th><th scope=col>secondary</th></tr>\n",
              "\t<tr><th scope=col>&lt;chr&gt;</th><th scope=col>&lt;dbl&gt;</th><th scope=col>&lt;dbl&gt;</th><th scope=col>&lt;dbl&gt;</th><th scope=col>&lt;dbl&gt;</th><th scope=col>&lt;dbl&gt;</th><th scope=col>&lt;dbl&gt;</th><th scope=col>&lt;dbl&gt;</th><th scope=col>&lt;dbl&gt;</th><th scope=col>&lt;dbl&gt;</th><th scope=col>&lt;dbl&gt;</th><th scope=col>&lt;dbl&gt;</th><th scope=col>&lt;dbl&gt;</th><th scope=col>&lt;dbl&gt;</th></tr>\n",
              "</thead>\n",
              "<tbody>\n",
              "\t<tr><td>AK</td><td>1983</td><td>2</td><td>3358</td><td>0.04466945</td><td>NA</td><td>0</td><td>0</td><td>1</td><td>0</td><td>17973</td><td>28.23497</td><td>0</td><td>0</td></tr>\n",
              "\t<tr><td>AK</td><td>1984</td><td>2</td><td>3589</td><td>0.03733630</td><td>NA</td><td>0</td><td>0</td><td>1</td><td>0</td><td>18093</td><td>28.34354</td><td>0</td><td>0</td></tr>\n",
              "\t<tr><td>AK</td><td>1985</td><td>2</td><td>3840</td><td>0.03307291</td><td>NA</td><td>0</td><td>0</td><td>1</td><td>0</td><td>18925</td><td>28.37282</td><td>0</td><td>0</td></tr>\n",
              "\t<tr><td>AK</td><td>1986</td><td>2</td><td>4008</td><td>0.02519960</td><td>NA</td><td>0</td><td>0</td><td>1</td><td>0</td><td>18466</td><td>28.39665</td><td>0</td><td>0</td></tr>\n",
              "\t<tr><td>AK</td><td>1987</td><td>2</td><td>3900</td><td>0.01948718</td><td>NA</td><td>0</td><td>0</td><td>1</td><td>0</td><td>18021</td><td>28.45325</td><td>0</td><td>0</td></tr>\n",
              "\t<tr><td>AK</td><td>1988</td><td>2</td><td>3841</td><td>0.02525384</td><td>NA</td><td>0</td><td>0</td><td>1</td><td>0</td><td>18447</td><td>28.85142</td><td>0</td><td>0</td></tr>\n",
              "</tbody>\n",
              "</table>\n"
            ],
            "text/markdown": "\nA tibble: 6 × 14\n\n| state &lt;chr&gt; | year &lt;dbl&gt; | fips &lt;dbl&gt; | vmt &lt;dbl&gt; | fatalityrate &lt;dbl&gt; | sb_useage &lt;dbl&gt; | speed65 &lt;dbl&gt; | speed70 &lt;dbl&gt; | drinkage21 &lt;dbl&gt; | ba08 &lt;dbl&gt; | income &lt;dbl&gt; | age &lt;dbl&gt; | primary &lt;dbl&gt; | secondary &lt;dbl&gt; |\n|---|---|---|---|---|---|---|---|---|---|---|---|---|---|\n| AK | 1983 | 2 | 3358 | 0.04466945 | NA | 0 | 0 | 1 | 0 | 17973 | 28.23497 | 0 | 0 |\n| AK | 1984 | 2 | 3589 | 0.03733630 | NA | 0 | 0 | 1 | 0 | 18093 | 28.34354 | 0 | 0 |\n| AK | 1985 | 2 | 3840 | 0.03307291 | NA | 0 | 0 | 1 | 0 | 18925 | 28.37282 | 0 | 0 |\n| AK | 1986 | 2 | 4008 | 0.02519960 | NA | 0 | 0 | 1 | 0 | 18466 | 28.39665 | 0 | 0 |\n| AK | 1987 | 2 | 3900 | 0.01948718 | NA | 0 | 0 | 1 | 0 | 18021 | 28.45325 | 0 | 0 |\n| AK | 1988 | 2 | 3841 | 0.02525384 | NA | 0 | 0 | 1 | 0 | 18447 | 28.85142 | 0 | 0 |\n\n",
            "text/latex": "A tibble: 6 × 14\n\\begin{tabular}{llllllllllllll}\n state & year & fips & vmt & fatalityrate & sb\\_useage & speed65 & speed70 & drinkage21 & ba08 & income & age & primary & secondary\\\\\n <chr> & <dbl> & <dbl> & <dbl> & <dbl> & <dbl> & <dbl> & <dbl> & <dbl> & <dbl> & <dbl> & <dbl> & <dbl> & <dbl>\\\\\n\\hline\n\t AK & 1983 & 2 & 3358 & 0.04466945 & NA & 0 & 0 & 1 & 0 & 17973 & 28.23497 & 0 & 0\\\\\n\t AK & 1984 & 2 & 3589 & 0.03733630 & NA & 0 & 0 & 1 & 0 & 18093 & 28.34354 & 0 & 0\\\\\n\t AK & 1985 & 2 & 3840 & 0.03307291 & NA & 0 & 0 & 1 & 0 & 18925 & 28.37282 & 0 & 0\\\\\n\t AK & 1986 & 2 & 4008 & 0.02519960 & NA & 0 & 0 & 1 & 0 & 18466 & 28.39665 & 0 & 0\\\\\n\t AK & 1987 & 2 & 3900 & 0.01948718 & NA & 0 & 0 & 1 & 0 & 18021 & 28.45325 & 0 & 0\\\\\n\t AK & 1988 & 2 & 3841 & 0.02525384 & NA & 0 & 0 & 1 & 0 & 18447 & 28.85142 & 0 & 0\\\\\n\\end{tabular}\n",
            "text/plain": [
              "  state year fips vmt  fatalityrate sb_useage speed65 speed70 drinkage21 ba08\n",
              "1 AK    1983 2    3358 0.04466945   NA        0       0       1          0   \n",
              "2 AK    1984 2    3589 0.03733630   NA        0       0       1          0   \n",
              "3 AK    1985 2    3840 0.03307291   NA        0       0       1          0   \n",
              "4 AK    1986 2    4008 0.02519960   NA        0       0       1          0   \n",
              "5 AK    1987 2    3900 0.01948718   NA        0       0       1          0   \n",
              "6 AK    1988 2    3841 0.02525384   NA        0       0       1          0   \n",
              "  income age      primary secondary\n",
              "1 17973  28.23497 0       0        \n",
              "2 18093  28.34354 0       0        \n",
              "3 18925  28.37282 0       0        \n",
              "4 18466  28.39665 0       0        \n",
              "5 18021  28.45325 0       0        \n",
              "6 18447  28.85142 0       0        "
            ]
          },
          "metadata": {}
        }
      ],
      "source": [
        "library(tidyverse)\n",
        "\n",
        "check_installed <- require(fixest)\n",
        "if(check_installed==F){\n",
        "  install.packages(\"fixest\")\n",
        "  require(fixest)\n",
        "}\n",
        "\n",
        "# Load data\n",
        "seatbelts <- read_csv(\"https://raw.githubusercontent.com/tsvoronos/API202-students/main/data/seatbelts.csv\")\n",
        "head(seatbelts)\n"
      ]
    },
    {
      "cell_type": "markdown",
      "metadata": {
        "id": "tIl3nGigdeIl"
      },
      "source": [
        "# PART 1: Policy Application - Fixed Effects\n",
        "\n",
        "Traffic crashes are the leading cause of death for Americans between the ages of 5 and 32. Through various spending policies, the federal government has encouraged states to institute mandatory seat belt laws to reduce the number of fatalities and serious injuries. In this exercise you will investigate how effective these laws are in increasing seat belt use and reducing fatalities. The data set analyzed contains a panel of data from 50 U.S. states, plus the District of Columbia, for the years 1983-1997. \n",
        "\n",
        "This dataset was provided by Professor Liran Einav of Stanford University and was used in his paper with Alma Cohen, \"The Effects of Mandatory Seat Belt Laws on Driving Behavior and Traffic Fatalities\" in The Review of Economics and Statistics, 2003, Vol. 85, No. 4, pp 828-843.  The variables are as follows:\n",
        "\n",
        "* `fatalityrate`: number of fatalities per million of traffic miles\n",
        "* `sb_useage`: seat belt usage rate (measured as a proportion between 0 and 1 )\n",
        "* `speed65`: binary variable for 65 mph speed limit\n",
        "* `speed70`: binary variable for 70 mph or higher speed limit\n",
        "* `ba08`: binary variable for blood alcohol limit $\\leq .08 \\%$\n",
        "* `drinkage21`: binary variable for age 21 drinking age\n",
        "* `income`: per capita income\n",
        "* `age`: mean age\n",
        "* `primary`: binary variable for primary enforcement of seat belt laws\n",
        "* `secondary`: binary variable for secondary enforcement of seat belt laws\n",
        "* `vmt`: millions of traffic miles per year (note: total fatalities = fatalityrate $x$ vmt)\n",
        "* `state`: state\n",
        "* `year`: year\n"
      ]
    },
    {
      "cell_type": "markdown",
      "source": [
        "**1. Run the following three regressions:**"
      ],
      "metadata": {
        "id": "TouNU0AqFEdd"
      }
    },
    {
      "cell_type": "markdown",
      "source": [
        "Hint: Use the `feols` command from the `fixest` library (which we have been using for robust standard errors) to specify fixed effects. The syntax is:\n",
        "\n",
        "```\n",
        "feols(y ~ x1 + x2 | fe1 + fe2, data = dataset)\n",
        "```\n",
        "\n",
        "Where $y$ is the dependent variable, $x 1$ and $x 2$ are independent variables, and $f e 1$ and $f e 2$ are the variables that we wish to include as fixed effects."
      ],
      "metadata": {
        "id": "XtpZ7xzqGN1n"
      }
    },
    {
      "cell_type": "markdown",
      "source": [
        "**(a) Regression A: Fatality rate per million traffic miles on the seat belt usage rate, controlling for:**\n",
        "\n",
        "* whether the state has a 65 mph speed limit,\n",
        "* whether the state has a 70 mph or higher speed limit,\n",
        "* whether the state has a $0.08 \\%$ blood alcohol limit,\n",
        "* whether the state has a 21 drinking age,\n",
        "* the **log** of per capita income,\n",
        "* mean age, and \n",
        "* mean age squared"
      ],
      "metadata": {
        "id": "dBtYluZIFgZ5"
      }
    },
    {
      "cell_type": "code",
      "source": [
        "# Your code here\n",
        "\n"
      ],
      "metadata": {
        "id": "AJ-nn3JBF7kD"
      },
      "execution_count": 2,
      "outputs": []
    },
    {
      "cell_type": "markdown",
      "source": [
        "**(b) Regression B: add state fixed effects to regression A**"
      ],
      "metadata": {
        "id": "LjGvep0NF6lo"
      }
    },
    {
      "cell_type": "code",
      "source": [
        "# Your code here\n"
      ],
      "metadata": {
        "id": "mFzJ0axOF9pO"
      },
      "execution_count": 3,
      "outputs": []
    },
    {
      "cell_type": "markdown",
      "source": [
        "**(c) Regression C: add year fixed effects to regression B**"
      ],
      "metadata": {
        "id": "Uqh6ZylpGE4G"
      }
    },
    {
      "cell_type": "code",
      "source": [
        "# Your code here\n",
        "\n",
        "\n"
      ],
      "metadata": {
        "id": "i_yGOY58HGTP"
      },
      "execution_count": 4,
      "outputs": []
    },
    {
      "cell_type": "markdown",
      "source": [
        "Run the script below installing the package modelsummary (this may take a minute or so to install)."
      ],
      "metadata": {
        "id": "S7jhs2dbHdJQ"
      }
    },
    {
      "cell_type": "code",
      "source": [
        "check_installed <- require(modelsummary)\n",
        "if(check_installed==F){\n",
        "  install.packages(\"modelsummary\")\n",
        "  require(modelsummary)\n",
        "}"
      ],
      "metadata": {
        "id": "D-X5TJzaHkS3",
        "colab": {
          "base_uri": "https://localhost:8080/"
        },
        "outputId": "b3295ec2-35c2-42e6-ed7a-db185191e748"
      },
      "execution_count": 5,
      "outputs": [
        {
          "output_type": "stream",
          "name": "stderr",
          "text": [
            "Loading required package: modelsummary\n",
            "\n",
            "Warning message in library(package, lib.loc = lib.loc, character.only = TRUE, logical.return = TRUE, :\n",
            "“there is no package called ‘modelsummary’”\n",
            "Installing package into ‘/usr/local/lib/R/site-library’\n",
            "(as ‘lib’ is unspecified)\n",
            "\n",
            "also installing the dependencies ‘webshot’, ‘bayestestR’, ‘datawizard’, ‘checkmate’, ‘insight’, ‘kableExtra’, ‘parameters’, ‘performance’, ‘tables’\n",
            "\n",
            "\n",
            "Loading required package: modelsummary\n",
            "\n"
          ]
        }
      ]
    },
    {
      "cell_type": "markdown",
      "source": [
        "**(d) Run all three regressions in parts (a)-(c), and report the coefficient estimate and the standard error on the `sb_useage` variable in a nicely formatted table.**\n",
        "\n",
        "Hint: remember, you learnt how to create a nicely formatted table in API202."
      ],
      "metadata": {
        "id": "dZZVOePpH8us"
      }
    },
    {
      "cell_type": "code",
      "source": [
        "# Your code here\n",
        "\n",
        "\n",
        "\n"
      ],
      "metadata": {
        "id": "JmgDKQVxHqYo"
      },
      "execution_count": 6,
      "outputs": []
    },
    {
      "cell_type": "markdown",
      "source": [
        "**2. What does regression A suggest about the effect of increased seat belt use on fatalities? Interpret the `sb_useage` variable.**"
      ],
      "metadata": {
        "id": "C7GBSXZiIdfA"
      }
    },
    {
      "cell_type": "markdown",
      "source": [
        "Your answer here:\n",
        "\n"
      ],
      "metadata": {
        "id": "97Nq-M-SImq7"
      }
    },
    {
      "cell_type": "markdown",
      "source": [
        "**3. Interpret sb_useage in regression B.  What does regression B suggest about the effect of increased seat belt use on fatalities? In two to three sentences, offer one possible explanation for the differences between regression A and B and explain which model you believe to be more credible and why.**\n",
        "\n"
      ],
      "metadata": {
        "id": "3qmj-3AiIyPY"
      }
    },
    {
      "cell_type": "markdown",
      "source": [
        "Your answer:\n",
        "\n",
        "\n"
      ],
      "metadata": {
        "id": "GSHmnkbDIz4D"
      }
    },
    {
      "cell_type": "markdown",
      "source": [
        "**4. If the seatbelt usage rates within each of the 50 states was exactly constant during this time period, what would change in regression B?**"
      ],
      "metadata": {
        "id": "EBrnTc6-I9PJ"
      }
    },
    {
      "cell_type": "markdown",
      "source": [
        "Your answer here: \n"
      ],
      "metadata": {
        "id": "GCG1QgebJBvT"
      }
    },
    {
      "cell_type": "markdown",
      "source": [
        "**5. What does regression C suggest about the effect of increased seat belt use on fatalities? What does the inclusion of year fixed-effects help control?**\n"
      ],
      "metadata": {
        "id": "rBsab0kFJYP_"
      }
    },
    {
      "cell_type": "markdown",
      "source": [
        "Your answer here:\n",
        "\n"
      ],
      "metadata": {
        "id": "pSVb7gEhJkJl"
      }
    },
    {
      "cell_type": "markdown",
      "source": [
        "**6. If the only change in seatbelt usage rates was a 5 point increase in all states in 1990 due to a national safety campaign, what would change in regression C?**"
      ],
      "metadata": {
        "id": "dGyfLGf2Jai-"
      }
    },
    {
      "cell_type": "markdown",
      "source": [
        "Your answer here:\n"
      ],
      "metadata": {
        "id": "osydqYWaJfBI"
      }
    },
    {
      "cell_type": "markdown",
      "source": [
        "**7. Compare the economic significance of the coefficient on sb_useage in regressions A, B, and C by calculating the predicted change in the number of traffic fatalities if seat belt use increased from $60 \\%$ to $80 \\%$ for a hypothetical state where vehicle miles traveled is equivalent to the sample mean, all else equal?**\n",
        "\n",
        "(Hint: total fatalities $=$ fatality rate $*$ vmt. Use the average vmt to calculate the predicted change in total number of traffic fatalities for each regression)"
      ],
      "metadata": {
        "id": "lrxyoTzcJqUZ"
      }
    },
    {
      "cell_type": "markdown",
      "source": [
        "Your answer here:\n"
      ],
      "metadata": {
        "id": "-QU-Vyp5JwNS"
      }
    },
    {
      "cell_type": "code",
      "source": [
        "# Code if you calculate the magnitudes of seatbelt usage in R\n"
      ],
      "metadata": {
        "id": "zUkdlWN1MiOA"
      },
      "execution_count": 7,
      "outputs": []
    },
    {
      "cell_type": "markdown",
      "metadata": {
        "id": "r95kx7VgY3bF"
      },
      "source": [
        "# PART II: Relative Risk and HIV\n",
        "\n"
      ]
    },
    {
      "cell_type": "markdown",
      "metadata": {
        "id": "1trK1VvJZHEK"
      },
      "source": [
        "This portion of the problem set is based on the 2011 Dupas paper that you read about in the Kenya Intervention section of the Youth Impact Case:\n",
        "\n",
        "  > Dupas, Pascaline. (2011). Do Teenagers Respond to HIV Risk Information? Evidence from a Field Experiment in Kenya. American Economic Journal: Applied Economics, 3(1), 1-34.\n",
        "\n",
        "In the paper, Dupas ran a randomized experiment to test the effect of different kinds of information on the sexual behavior of teenagers in Kenya. 323 primary schools were randomized into receiving one of the following interventions, both of the interventions, or neither of them:\n",
        "\n",
        "* Treatment 1: \"Relative Risk\" information campaign providing information on the distribution of HIV in the population by gender and age group. This was the treatment of interest.\n",
        "* Treatment 2: \"Teacher Training\" program involving the official Kenya HIV/AIDS curriculum, including estimates on HIV/AIDS prevalence in the region. This was the \"standard\" treatment in Kenya at the time.\n",
        "\n",
        "All interventions were allocated at the school level, and targeted students in Grade 8 of each treated school."
      ]
    },
    {
      "cell_type": "markdown",
      "source": [
        "In her primary specification, Dupas ran the following regression as a Linear Probability Model (note the equation is shown over multiple lines for ease of reading):\n",
        "\n",
        "Equation 1\n",
        "$$\n",
        "\\begin{aligned}\n",
        "\\text { childbearing }_{i s}=\\beta_1 & +\\beta_2 T T_s+\\beta_3 R R_s \\\\\n",
        "& +\\gamma_1 I_{1 i}+\\cdots+\\gamma_j I_{j i} \\\\\n",
        "& +\\eta_1 S_{1 s}+\\cdots+\\eta_k S_{k s}+\\varepsilon_{i s}\n",
        "\\end{aligned}\n",
        "$$\n",
        "\n",
        "Where:\n",
        "* $\\text {childbearing }_{i s}$ is whether student $i$ in school $s$ has started childbearing\n",
        "* $T T_s$: $=1$ if the student's school received the Teacher training HIV/AIDS curriculum, $=0$ otherwise\n",
        "* $R R_S$: $=1$ if the student's school received the Relative Risk information campaign, $=0$ otherwise\n",
        "* $I_{1 i} \\ldots I_{j i}$ is a set of $j$ individual-level controls (and $\\gamma_1 \\ldots \\gamma_j$ their corresponding coefficients)\n",
        "* $S_{1 s} \\ldots S_{k s}$ is a set of $k$ school-level controls (and $\\eta_1 \\ldots \\eta_k$ their corresponding coefficients)"
      ],
      "metadata": {
        "id": "H5IPB9YANk25"
      }
    },
    {
      "cell_type": "markdown",
      "source": [
        "For this next part of the problem set, you will conduct an analysis similar to column (1) of Table 3 in the Dupas paper (page 19). Note that your results will differ from the authors' to an extent - this is OK! This is because the authors also included geographic variables on district and division, which we will not do because of complications this creates in our coding.\n",
        "\n",
        "The article specifies \"Individual characteristics\" and \"Primary school characteristics\" for these regressions. **Again, do not include the variables for district and division.** The following table describes which variables are included in the Dupas_DID.dta dataset:\n",
        "\n",
        "\n",
        "* Treatment Variables\n",
        "\n",
        "  * `sampleSD`: RR information\n",
        "  * `HIVtreat`: TT on HIV/AIDS curriculum\n",
        "\n",
        "\n",
        "* Individual Characteristics\n",
        "\n",
        "  * `age`: Age\n",
        "  * `agemissing`: Whether the student is missing a value for their age\n",
        "  * `double8`: Whether student is repeating grade 8 at baseline\n",
        "  * `cohort`: Whether a student was in Grade 8 or not\n",
        "\n",
        "* Primary School Characteristics\n",
        "\n",
        "  * `sdkcpe`: School 2003 KCPE score (a national exam for 8th graders) standardized by district\n",
        "  * `missingKCPE`: Missing value for KCPE score\n",
        "  * `clsize`: Class size\n",
        "  * `girl8perboy8`: Girl/Boy gender ratio\n",
        "  * `G_promorate`: Fraction of Girls promoted from 7 to 8 at end of 2003\n",
        "  * `teacherperpupil`: Teacher-pupil ratio as of 2003\n",
        "  * `timegroup`: Grouping of surveys into two groups (balanced across treatment/control groups)\n",
        "  * `d05v1`: Date of 1st school visit in 2005\n",
        "  * `d05v2`: Date of 2nd school visit in 2005\n",
        "  * `total_2km`: Number of other primary schools within 2km radius sampled for study\n",
        "  * `schoolid`: An identifier for the student’s school\n"
      ],
      "metadata": {
        "id": "PLtHdbntOk1j"
      }
    },
    {
      "cell_type": "code",
      "execution_count": 8,
      "metadata": {
        "id": "SdHLludz1NfM",
        "colab": {
          "base_uri": "https://localhost:8080/"
        },
        "outputId": "8562223c-5d02-4461-9a8e-6b0167ae99da"
      },
      "outputs": [
        {
          "output_type": "stream",
          "name": "stderr",
          "text": [
            "\u001b[1mRows: \u001b[22m\u001b[34m11972\u001b[39m \u001b[1mColumns: \u001b[22m\u001b[34m118\u001b[39m\n",
            "\u001b[36m──\u001b[39m \u001b[1mColumn specification\u001b[22m \u001b[36m────────────────────────────────────────────────────────\u001b[39m\n",
            "\u001b[1mDelimiter:\u001b[22m \",\"\n",
            "\u001b[31mchr\u001b[39m   (8): sex, std02, married04v1, married04v2, district, division, zone, g...\n",
            "\u001b[32mdbl\u001b[39m (108): pupilid, yrbirth, baseline, sch03v1, std03v1, pres03v1, d03v1, ag...\n",
            "\u001b[33mlgl\u001b[39m   (2): new2005v1, new05v2\n",
            "\n",
            "\u001b[36mℹ\u001b[39m Use `spec()` to retrieve the full column specification for this data.\n",
            "\u001b[36mℹ\u001b[39m Specify the column types or set `show_col_types = FALSE` to quiet this message.\n"
          ]
        }
      ],
      "source": [
        "library(tidyverse)\n",
        "\n",
        "# Load data\n",
        "dupas_did <- read_csv(\"https://raw.githubusercontent.com/tsvoronos/API202-students/main/data/dupas_did.csv\")"
      ]
    },
    {
      "cell_type": "markdown",
      "source": [
        "**1. First, restrict your dataset to students for whom the variable cohort = 1 (this will be explained later).**\n",
        "\n",
        "**Estimate a linear probability model on the outcome `fertafter12`, a dummy variable which equals 1 if the student was pregnant one year after the intervention, and 0 otherwise. Use all the control variables listed above.**"
      ],
      "metadata": {
        "id": "i5nuOdylYCh-"
      }
    },
    {
      "cell_type": "markdown",
      "source": [
        "Note: your R output from this regression should correspond closely to column (1) of Table 3. However, there will be some differences in the standard error as in this exercise we do not cluster the standard errors at the school level."
      ],
      "metadata": {
        "id": "tdbNAkUIbJ1Q"
      }
    },
    {
      "cell_type": "code",
      "source": [
        "# Your code here:\n",
        "\n"
      ],
      "metadata": {
        "id": "xl7sBPyPZP1r"
      },
      "execution_count": 9,
      "outputs": []
    },
    {
      "cell_type": "markdown",
      "source": [
        "**2. Would it be possible to add school fixed effects to this regression? Why or why not?**"
      ],
      "metadata": {
        "id": "_VVPHjRPZUIj"
      }
    },
    {
      "cell_type": "markdown",
      "source": [
        "Your answer here:"
      ],
      "metadata": {
        "id": "DOFkRmOcZshb"
      }
    },
    {
      "cell_type": "markdown",
      "source": [
        "**3. In addition, Dupas ran a difference in differences specification. Using the same schools as before, she compared students in Grade 8 to students in either Grade 7 or Grade 9 in both Relative Risk and nonRelative Risk schools. In Relative Risk schools, only 8thgraders received the intervention, while 7th and 9th graders did not. Note that these \"control\" grades (7 or 9 ) were not included in Equation 1. This specification was in the following form:**\n",
        "\n",
        "Equation 2\n",
        "$$\n",
        "\\begin{aligned}\n",
        "\\text { childbearing }_{i g s}=\\alpha_1 & +\\alpha_2 T T_s+\\alpha_3 R R_s+\\alpha_4 \\text { Grade } 8_g+\\alpha_5 R R_s * \\text { Grade } 8_g \\\\\n",
        "& +\\delta_1 I_{1 i}+\\cdots+\\delta_j I_{j i} \\\\\n",
        "& +\\theta_1 S_{1 s}+\\cdots+\\theta_k S_{k s}+\\omega_{i g s}\n",
        "\\end{aligned}\n",
        "$$\n",
        "\n",
        "Where:\n",
        "* $\\text {childbearing}_{i g s}$ is whether student $i$ in Grade $g$ in school $s$ has started childbearing\n",
        "* Grade $8_g$:$=1$ if the student was in Grade $8=0$ otherwise\n",
        "* All other variables are the same as in the previous regression"
      ],
      "metadata": {
        "id": "goZeJi9XaHRQ"
      }
    },
    {
      "cell_type": "markdown",
      "source": [
        "Note: You do not need to have read tthe paper in depth to answer these questions. All needed information is in the text of this problem set!"
      ],
      "metadata": {
        "id": "aIUAX938cBD7"
      }
    },
    {
      "cell_type": "markdown",
      "source": [
        "**(a) Which coefficient(s) represents the difference-in-differences estimate for the impact of the Relative Risk intervention? Carefully interpret that quantity in the context of the regression (you can refer to \"individual controls\" and \"school controls\" rather than naming each control variable).**"
      ],
      "metadata": {
        "id": "LXUZcYY0awkI"
      }
    },
    {
      "cell_type": "markdown",
      "source": [
        "Your answer here:"
      ],
      "metadata": {
        "id": "-axSFhmwa2Wk"
      }
    },
    {
      "cell_type": "markdown",
      "source": [
        "**(b) The variable for whether a student was in Grade 8 or not in this dataset is called `cohort`. Recreate the difference-in-differences regression in equation 2 by running a regression in R.**"
      ],
      "metadata": {
        "id": "bWXXbmhLbcVF"
      }
    },
    {
      "cell_type": "code",
      "source": [
        "# Your code here:\n",
        "\n"
      ],
      "metadata": {
        "id": "eWVJ1LMHcKGE"
      },
      "execution_count": 10,
      "outputs": []
    },
    {
      "cell_type": "markdown",
      "source": [
        "**(c) Describe a potential omitted variable or source of error that is controlled for in this second regression that is not accounted for in the primary regression. Be specific to this context.**"
      ],
      "metadata": {
        "id": "jfDF8uCdcPTT"
      }
    },
    {
      "cell_type": "markdown",
      "source": [
        "Your answer here:\n",
        "\n"
      ],
      "metadata": {
        "id": "3yqIIfj6cWVo"
      }
    },
    {
      "cell_type": "markdown",
      "source": [
        "**(d) Explain the assumption required for this difference-in-differences specification to yield the correct estimates in this example. Note that this might be challenging since there are no time \"trends\" in this model; instead of a pre and post period, we're comparing two different grades at the same time** \n",
        "\n",
        "Hint: remember that the goal of the difference-in-differences design is to make the comparison group an approximation of the treatment's counterfactual via differences or changes, rather than absolute levels."
      ],
      "metadata": {
        "id": "uU0K2g2TcdJU"
      }
    },
    {
      "cell_type": "markdown",
      "source": [
        "Your answer here:\n"
      ],
      "metadata": {
        "id": "tUm92D5Mco3v"
      }
    },
    {
      "cell_type": "markdown",
      "source": [
        "**4. In addition to *Equation 2*, Dupas ran an additional specification that included school fixed effects. In this specification, which variables from *Equation 2* could not be included in the regression? You can experiment with the data to see if your intuition is correct, using the `schoolid` variable and the fixed effects code from Part 1 of this problem set.**\n",
        "\n",
        "Note: if you do experiment with the data, note that the `sampleSD` variable will get dropped as it becomes collinear with school fixed effects in the regression. This variable is no longer our primary variable of interest, so it's OK that it gets subsumed by the fixed effects!:"
      ],
      "metadata": {
        "id": "6TY31Fe_c3Uz"
      }
    },
    {
      "cell_type": "markdown",
      "source": [
        "Your answer here:\n",
        "\n"
      ],
      "metadata": {
        "id": "rBbbgGSDdWjs"
      }
    },
    {
      "cell_type": "markdown",
      "source": [
        "**5. A policymaker who is smart but not well-versed in statistics does not understand what \"school fixed effects\" means. In plain language (i.e., not using words like \"variation,\" \"omitted variables,\" or \"bias\"), explain to this policymaker what comparisons are being made to estimate the impact of the program when using school fixed effects, and why this might be useful to do [one short paragraph].**"
      ],
      "metadata": {
        "id": "m1W7aLiHdbs7"
      }
    },
    {
      "cell_type": "markdown",
      "source": [
        "Your answer here:\n",
        "\n"
      ],
      "metadata": {
        "id": "0b_qqaJpdjHu"
      }
    }
  ],
  "metadata": {
    "colab": {
      "provenance": [],
      "include_colab_link": true
    },
    "kernelspec": {
      "display_name": "R",
      "language": "R",
      "name": "ir"
    },
    "language_info": {
      "codemirror_mode": "r",
      "file_extension": ".r",
      "mimetype": "text/x-r-source",
      "name": "R",
      "pygments_lexer": "r",
      "version": "4.2.1"
    }
  },
  "nbformat": 4,
  "nbformat_minor": 0
}