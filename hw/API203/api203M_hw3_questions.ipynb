{
  "cells": [
    {
      "cell_type": "markdown",
      "metadata": {
        "id": "view-in-github",
        "colab_type": "text"
      },
      "source": [
        "<a href=\"https://colab.research.google.com/github/tsvoronos/API202-students/blob/main/hw/API203/api203M_hw3_questions.ipynb\" target=\"_parent\"><img src=\"https://colab.research.google.com/assets/colab-badge.svg\" alt=\"Open In Colab\"/></a>"
      ]
    },
    {
      "cell_type": "markdown",
      "metadata": {
        "id": "llzlIZkjYwoE"
      },
      "source": [
        "# API-203M A PROBLEM SET #3\n",
        "\n",
        "---\n",
        "\n",
        "\n",
        "**Due on Wednesday, March 29, at 11:59 p.m.**"
      ]
    },
    {
      "cell_type": "markdown",
      "metadata": {
        "id": "XDBPOFCGY65Y"
      },
      "source": [
        "**I - INSTRUCTIONS**  \n",
        "To successfully complete this problem set, please follow these steps:\n",
        "\n",
        "1. **Create a copy of this Jupyter notebook in your own drive by clicking `Copy to Drive` in the menubar (this is explained below in more detail below) - *if you do not do this your work will not be saved!***\n",
        "    1. Remember to save your work frequently by pressing `command-S` or clicking `File > Save` in the menubar.\n",
        "    1. We recommend completing this problem set in Google Chrome.\n",
        "2. **Insert all your answers into your copy of the document.** \n",
        "    1. Please include every portion of your submission in this document unless a separate electronic file is explicitly requested. \n",
        "    3. All numerical calculations should be done in the notebook itself, using R code. If you have to do calculations by hand, include a picture of your handwritten work.\n",
        "    2. To add an image of handwritten work, screenshots, or anything else, add a new text cell and click the small image icon in the menubar above the cell. After inserting an image, press the `esc` key to show the image. If you have trouble with this method, upload your image to [Freeimage.host](https://freeimage.host), copy a Markdown link, and paste it in a text cell.\n",
        "3. **Once your document is complete, please save and submit the notebook on Canvas as a PDF.** \n",
        "    1. Click `View > Expand sections` in the menubar to make sure all work is visible (if it is greyed out then it is already visible).\n",
        "    1. Click `Runtime > Run all` in the menubar to make sure all of your code is executed.\n",
        "    1. Click `File > Print` in the menubar and choose the `Save as PDF` option in Chrome to export your notebook as a PDF. \n",
        "    1. Check to make sure answers do not get cut off - when you go to print the PDF we recommend clicking on `More settings` and setting `Margins` to `None`.\n",
        "    1. Alternatively, use [this Google Chrome extension](https://chrome.google.com/webstore/detail/gofullpage-full-page-scre/fdpohaocaechififmbbbbbknoalclacl) to create a single PDF without having to worry about margins.\n",
        "    1. Submit your file on Canvas.\n"
      ]
    },
    {
      "cell_type": "markdown",
      "metadata": {
        "id": "SQcwWI_VY9bx"
      },
      "source": [
        "**II - IDENTIFICATION**\n",
        "1. **Your Full Name:** `     `  \n",
        "\n",
        "2. **Group Members (classmates with whom you worked on this problem set):**  \n",
        "    1. `     `\n",
        "    2. `     `\n",
        "    3. `     `\n",
        "    4. `     `\n",
        "    \n",
        "3. **Compliance with HKS Academic Code**  \n",
        "We abide by the Harvard Kennedy School Academic code for all aspects of the course. In terms of problem sets, unless explicitly written otherwise, the norms are the following: You are free (and encouraged) to discuss problem sets with your classmates. However, you must hand in your own unique written work and code in all cases. Any copy/paste of another’s work is plagiarism. In other words, you may work with your classmate(s), sitting side-by-side (physically or remotely!) and going through the problem set question by question, but you must each type your own answers and your own code. For more details, please see syllabus.\n",
        "\n",
        "    **I certify that my work in this problem set complies with the HKS Academic Code**\n",
        "    - [ ] Yes\n",
        "    - [ ] No\n",
        "\n",
        "---"
      ]
    },
    {
      "cell_type": "markdown",
      "metadata": {
        "id": "d5711e37-1060-49bc-99a6-d15b04756f16"
      },
      "source": [
        "## Load `R` libraries and data\n",
        "\n",
        "**Please refer to Sheet 1 in this [R Cheat Sheet](https://bit.ly/HKS-R) which includes the commands you learned last semester in addition to a number of additional ones.**\n",
        "\n",
        "The code cell below imports the R tidyverse. Make sure to run it before starting the problem set!\n",
        "\n",
        "*Note: Click the \"play\" button that appears when you hover over a cell to run it. The first time you do this you may receive an alert that this notebook was not authored by Google. If so, click \"Run anyway\" to proceed.*"
      ]
    },
    {
      "cell_type": "code",
      "execution_count": 3,
      "metadata": {
        "id": "aa889d79-5ab9-42af-8590-30819c45124f",
        "tags": [],
        "colab": {
          "base_uri": "https://localhost:8080/"
        },
        "outputId": "2fac31f6-aadd-49a1-a7ac-28821af42286"
      },
      "outputs": [
        {
          "output_type": "stream",
          "name": "stderr",
          "text": [
            "Warning message in system(\"timedatectl\", intern = TRUE):\n",
            "“running command 'timedatectl' had status 1”\n",
            "── \u001b[1mAttaching packages\u001b[22m ─────────────────────────────────────── tidyverse 1.3.1 ──\n",
            "\n",
            "\u001b[32m✔\u001b[39m \u001b[34mggplot2\u001b[39m 3.4.1     \u001b[32m✔\u001b[39m \u001b[34mpurrr  \u001b[39m 1.0.1\n",
            "\u001b[32m✔\u001b[39m \u001b[34mtibble \u001b[39m 3.2.0     \u001b[32m✔\u001b[39m \u001b[34mdplyr  \u001b[39m 1.1.0\n",
            "\u001b[32m✔\u001b[39m \u001b[34mtidyr  \u001b[39m 1.3.0     \u001b[32m✔\u001b[39m \u001b[34mstringr\u001b[39m 1.4.1\n",
            "\u001b[32m✔\u001b[39m \u001b[34mreadr  \u001b[39m 2.1.4     \u001b[32m✔\u001b[39m \u001b[34mforcats\u001b[39m 1.0.0\n",
            "\n",
            "── \u001b[1mConflicts\u001b[22m ────────────────────────────────────────── tidyverse_conflicts() ──\n",
            "\u001b[31m✖\u001b[39m \u001b[34mdplyr\u001b[39m::\u001b[32mfilter()\u001b[39m masks \u001b[34mstats\u001b[39m::filter()\n",
            "\u001b[31m✖\u001b[39m \u001b[34mdplyr\u001b[39m::\u001b[32mlag()\u001b[39m    masks \u001b[34mstats\u001b[39m::lag()\n",
            "\n",
            "Loading required package: fixest\n",
            "\n",
            "Warning message in library(package, lib.loc = lib.loc, character.only = TRUE, logical.return = TRUE, :\n",
            "“there is no package called ‘fixest’”\n",
            "Installing package into ‘/usr/local/lib/R/site-library’\n",
            "(as ‘lib’ is unspecified)\n",
            "\n",
            "also installing the dependencies ‘zoo’, ‘Formula’, ‘numDeriv’, ‘sandwich’, ‘Rcpp’, ‘dreamerr’\n",
            "\n",
            "\n",
            "Loading required package: fixest\n",
            "\n",
            "\u001b[1mRows: \u001b[22m\u001b[34m1000\u001b[39m \u001b[1mColumns: \u001b[22m\u001b[34m2\u001b[39m\n",
            "\u001b[36m──\u001b[39m \u001b[1mColumn specification\u001b[22m \u001b[36m────────────────────────────────────────────────────────\u001b[39m\n",
            "\u001b[1mDelimiter:\u001b[22m \",\"\n",
            "\u001b[32mdbl\u001b[39m (2): pre_score, post_score\n",
            "\n",
            "\u001b[36mℹ\u001b[39m Use `spec()` to retrieve the full column specification for this data.\n",
            "\u001b[36mℹ\u001b[39m Specify the column types or set `show_col_types = FALSE` to quiet this message.\n"
          ]
        }
      ],
      "source": [
        "library(tidyverse)\n",
        "\n",
        "check_installed <- require(fixest)\n",
        "if(check_installed==F){\n",
        "  install.packages(\"fixest\")\n",
        "  require(fixest)\n",
        "}\n",
        "\n",
        "# Load data\n",
        "rd_tutor <- read_csv(\"https://raw.githubusercontent.com/tsvoronos/API202-students/main/data/rd_tutor.csv\")"
      ]
    },
    {
      "cell_type": "markdown",
      "metadata": {
        "id": "tIl3nGigdeIl"
      },
      "source": [
        "# PART 1: The Regression Discontinuity Design\n",
        "\n",
        "For this problem set, we will be using some simulated data (rd_tutor.csv) of an education intervention. Students took a pre-test and if their score was below 75 they were given additional help during the class. At the end of the class, all students took a post-test. We want to determine whether the additional help provided to the struggling students resulted in better outcomes.\n",
        "As we discussed in class, RD models are focused on estimating the treatment coefficient (called the “indicator coefficient” here) in as unbiased a way as possible. As we build out our model, focus on this coefficient."
      ]
    },
    {
      "cell_type": "markdown",
      "source": [
        "**1. To determine whether the additional help provided to the struggling students resulted in better outcomes we will create an indicator for whether a student gets the intervention, based on the pre-test score cutoff.**"
      ],
      "metadata": {
        "id": "D2kqSb2BE1fN"
      }
    },
    {
      "cell_type": "markdown",
      "source": [
        "**(a) Create the indicator described above then calculate and report the mean change in test scores for those who received and those that did not receive the intervention. What is the difference in the mean change in test scores for the two groups?** "
      ],
      "metadata": {
        "id": "yTP58tZDFEwQ"
      }
    },
    {
      "cell_type": "code",
      "source": [
        "# Your code here:\n",
        "\n"
      ],
      "metadata": {
        "id": "-51CGyo4MC5H"
      },
      "execution_count": 4,
      "outputs": []
    },
    {
      "cell_type": "markdown",
      "source": [
        "Your answer here:\n"
      ],
      "metadata": {
        "id": "X2ebrj_VFJrB"
      }
    },
    {
      "cell_type": "markdown",
      "source": [
        "**(b) Think about the calculation you did in point a. Which empirical method have you implicitly used among those discussed in class? For this to be an unbiased measure of the causal impact of the intervention, what assumption would we have to make? Is this a reasonable assumption?**"
      ],
      "metadata": {
        "id": "F5yaSqAav-i7"
      }
    },
    {
      "cell_type": "markdown",
      "source": [
        "Your answer here:\n",
        "\n"
      ],
      "metadata": {
        "id": "J7cplkBuwqkF"
      }
    },
    {
      "cell_type": "markdown",
      "source": [
        "**(c) Present a scatterplot of pre-test scores on the x-axis and post-test scores on the y-axis. Add a vertical line at 75 to show the cutoff for the intervention.**"
      ],
      "metadata": {
        "id": "5JT7GPLeFm7Y"
      }
    },
    {
      "cell_type": "code",
      "source": [
        "# Your code here:\n",
        "\n"
      ],
      "metadata": {
        "id": "dGnskYlFGw2K"
      },
      "execution_count": 5,
      "outputs": []
    },
    {
      "cell_type": "markdown",
      "source": [
        "**(d) Inspect the scatterplot. Is there visual evidence of a program effect? Explain the criteria that you use to determine this visually.**"
      ],
      "metadata": {
        "id": "h1Q1hk7vG1Ln"
      }
    },
    {
      "cell_type": "markdown",
      "source": [
        "Your answer here:\n",
        "\n"
      ],
      "metadata": {
        "id": "0FVzOKthG4gR"
      }
    },
    {
      "cell_type": "markdown",
      "source": [
        "**2. Run a regression of post-test score on pre-test score and an indicator for whether a student received the intervention. Interpret the coefficient on the intervention indicator (the one you created in question 1a).**"
      ],
      "metadata": {
        "id": "19m4KkWMHKO9"
      }
    },
    {
      "cell_type": "code",
      "source": [
        "# Your code here:\n"
      ],
      "metadata": {
        "id": "GAEWPJ3xMl_t"
      },
      "execution_count": 6,
      "outputs": []
    },
    {
      "cell_type": "markdown",
      "source": [
        "Your answer here:\n",
        "\n"
      ],
      "metadata": {
        "id": "6sDvk_IZHXqb"
      }
    },
    {
      "cell_type": "markdown",
      "source": [
        "**3. Now we will examine a regression with post-test score on pre-test score, an indicator for the intervention, and the interaction of the indicator with the pre-test score.**\n",
        "\n",
        "Hint: You can more easily specify interactions by using * or : in the R formula. X1:X2 interacts two variables X1 and X2 and X1*X2 interacts them AND includes X1 and X2 terms in the regression. E.g., Y ~ X1 * X2 would regress Y on X1, X2, and their interaction"
      ],
      "metadata": {
        "id": "_0bXXjRpHUYK"
      }
    },
    {
      "cell_type": "markdown",
      "source": [
        "**(a) Run the regression outlined in the instructions for question 3. Interpret the coefficient on the indicator for the intervention.**"
      ],
      "metadata": {
        "id": "B9YgL9wTHpCF"
      }
    },
    {
      "cell_type": "code",
      "source": [
        "# Your code here:\n",
        "\n"
      ],
      "metadata": {
        "id": "YiEMqKpLM_Nn"
      },
      "execution_count": 7,
      "outputs": []
    },
    {
      "cell_type": "markdown",
      "source": [
        "Your answer here:\n",
        "\n"
      ],
      "metadata": {
        "id": "lSPbY9R0H5uR"
      }
    },
    {
      "cell_type": "markdown",
      "source": [
        "**(b) Present a scatterplot of pre-test scores on the x-axis and predicted post-test scores on the y-axis. Add a vertical line at 75 to show the cutoff for the intervention.**\n",
        "\n",
        "Hint: Create a new variable in the dataset for predicted post-test scores. Use `model$fitted.values`, where `model`  is the name of your regression object in question 3a to get the predicted values."
      ],
      "metadata": {
        "id": "ED5z2rIoH7Yi"
      }
    },
    {
      "cell_type": "code",
      "source": [
        "# Your code here:\n",
        "\n"
      ],
      "metadata": {
        "id": "UmoX7dBlNVBl"
      },
      "execution_count": 8,
      "outputs": []
    },
    {
      "cell_type": "markdown",
      "source": [
        "**4. Re-center the pre-test score by subtracting the cut-off value (75) from each observation. Re-run the regression from question 3 using this re-centered pre-test score.**"
      ],
      "metadata": {
        "id": "pTNOZZ8vIRsI"
      }
    },
    {
      "cell_type": "markdown",
      "source": [
        "**(a) Run the regression outlined in the instructions for question 4.  What changed and what stayed the same? Explain why this happened.**"
      ],
      "metadata": {
        "id": "mLu7WGrsIUTS"
      }
    },
    {
      "cell_type": "code",
      "source": [
        "# Your code here:\n",
        "\n"
      ],
      "metadata": {
        "id": "WbDkKbRwNx3G"
      },
      "execution_count": 9,
      "outputs": []
    },
    {
      "cell_type": "markdown",
      "source": [
        "Your answer here:\n",
        "\n"
      ],
      "metadata": {
        "id": "JldIxfYNIdQW"
      }
    },
    {
      "cell_type": "markdown",
      "source": [
        "**(b) What is the utility of using a re-centered specification for this model in terms of interpretation? (Hint: It might help to draw a graph and map the coefficients appropriately)**"
      ],
      "metadata": {
        "id": "8NUSATe5ImjD"
      }
    },
    {
      "cell_type": "markdown",
      "source": [
        "Your answer here:\n"
      ],
      "metadata": {
        "id": "FIdrmL51ItaV"
      }
    },
    {
      "cell_type": "markdown",
      "source": [
        "**(c) Present a scatterplot of the pretest scores on the x-axis and fitted scores for this re-centered specification on the y-axis. Add a vertical line at the re-centered cutoff.**"
      ],
      "metadata": {
        "id": "mPYzM-c3Iy1H"
      }
    },
    {
      "cell_type": "code",
      "source": [
        "# Your code here:\n",
        "\n"
      ],
      "metadata": {
        "id": "onHg3IDGOLNc"
      },
      "execution_count": 10,
      "outputs": []
    },
    {
      "cell_type": "markdown",
      "source": [
        "**5. What assumptions must we make for this indicator to identify the causal impact of the intervention?**"
      ],
      "metadata": {
        "id": "dkKPh89xI2ss"
      }
    },
    {
      "cell_type": "markdown",
      "source": [
        "Your answer here:\n",
        "\n"
      ],
      "metadata": {
        "id": "mTBWaFBhJAYE"
      }
    },
    {
      "cell_type": "markdown",
      "source": [
        "**6. How generalizable is this finding? Comment on unique external validity concerns related to using an RD specification.**"
      ],
      "metadata": {
        "id": "VraEVClgJHfX"
      }
    },
    {
      "cell_type": "markdown",
      "source": [
        "Your answer here:\n",
        "\n"
      ],
      "metadata": {
        "id": "fwZJiaO-JPGf"
      }
    },
    {
      "cell_type": "markdown",
      "source": [
        "**7. An important component of an RD analysis is conducting sensitivity analyses to determine the extent to which your results are determined by modeling choices or other factors. To that end, a colleague asks you to run a regression like in question 4 but also add 2- and 3-degree polynomial terms of the re-centered score, alone and interacted with the intervention indicator:**\n",
        "\n",
        "$$\n",
        "\\begin{aligned}\n",
        "& \\text { Test }_{\\text {Post }}=\\alpha_0+\\alpha_1\\left(\\text { Test }_{\\text {Pre }}-75\\right)+\\alpha_2\\left(\\text { Test }_{\\text {Pre }}-75\\right)^2+\\alpha_3\\left(\\text { Test }_{\\text {Pre }}-75\\right)^3+\\beta_0 \\text { Treat } \\\\\n",
        "& +\\beta_1 \\text { Treat } \\cdot\\left(\\text { Test }_{\\text {Pre }}-75\\right)+\\beta_2 \\text { Treat } \\cdot\\left(\\text { Test }_{\\text {Pre }}-75\\right)^2+\\beta_3 \\text { Treat } \\cdot\\left(\\text { Test }_{\\text {Pre }}-75\\right)^3+\\epsilon \\\\\n",
        "&\n",
        "\\end{aligned}\n",
        "$$"
      ],
      "metadata": {
        "id": "Sib1kQghJXKN"
      }
    },
    {
      "cell_type": "markdown",
      "source": [
        "**(a) Why would your colleague suggest that you add these terms? What is the advantage of doing so?**"
      ],
      "metadata": {
        "id": "1aLitqDSJnAR"
      }
    },
    {
      "cell_type": "markdown",
      "source": [
        "Your answer here:\n"
      ],
      "metadata": {
        "id": "dsao7FebJQBx"
      }
    },
    {
      "cell_type": "markdown",
      "source": [
        "**(b) Run the regression in the prompt for question 7. Interpret the coefficient on the indicator.**  \n",
        "\n",
        "Hint: you can create the squared and cubic terms manually, or just add the higher ordered polynomials directly to the regression formula (e.g., Y ~ X + X^2 + X^3). [NOTE: with `feols` you should be able to just add higher ordered polynomials to the variables without enclosing them in I() e.g., Y ~ X + I(X^2) + I(X^3)]"
      ],
      "metadata": {
        "id": "w1mGLkcfJwpg"
      }
    },
    {
      "cell_type": "code",
      "source": [
        "# Your code here:\n",
        "\n"
      ],
      "metadata": {
        "id": "Ak6_9B0_PJXN"
      },
      "execution_count": 11,
      "outputs": []
    },
    {
      "cell_type": "markdown",
      "source": [
        "Your answer here:\n"
      ],
      "metadata": {
        "id": "ZBE-GZJ5KCg1"
      }
    },
    {
      "cell_type": "markdown",
      "source": [
        "**(c) Present a scatterplot of the pre-test scores versus fitted scores for this higher order regression. Add a vertical line for the intervention.**"
      ],
      "metadata": {
        "id": "xTVskiJHKEYe"
      }
    },
    {
      "cell_type": "code",
      "source": [
        "# Your code here:\n",
        "\n"
      ],
      "metadata": {
        "id": "OLLdV-9vQA8a"
      },
      "execution_count": 12,
      "outputs": []
    },
    {
      "cell_type": "markdown",
      "source": [
        "**8. Comparing the regressions in questions 4 and 7, what does the difference in the values of the coefficient for the indicator suggest about the sensitivity to modeling choices?**"
      ],
      "metadata": {
        "id": "Nm23oNtKKG02"
      }
    },
    {
      "cell_type": "markdown",
      "source": [
        "Your answer here:\n",
        "\n"
      ],
      "metadata": {
        "id": "JjVzaBp4KIvO"
      }
    },
    {
      "cell_type": "markdown",
      "source": [
        "**9. Another test to check for the validity of your estimate of the causal impact of the intervention is to do a placebo test, wherein you check to see whether you would have found an effect at an arbitrary cutoff along the forcing variable. Repeat the analysis from the prior question (with a re-centered pre score and 2- and 3-degree polynomials and interaction terms), but using 70 as a cutoff.**"
      ],
      "metadata": {
        "id": "Sh5l7XTqKLB5"
      }
    },
    {
      "cell_type": "markdown",
      "source": [
        "**(a) Run the regression in the question 9 directions. Interpret the indicator coefficient.**"
      ],
      "metadata": {
        "id": "FHCPAFMwKPIk"
      }
    },
    {
      "cell_type": "code",
      "source": [
        "# Your code here:\n",
        "\n"
      ],
      "metadata": {
        "id": "pvYxXkkKQSw4"
      },
      "execution_count": 13,
      "outputs": []
    },
    {
      "cell_type": "markdown",
      "source": [
        "Your answer here:\n",
        "\n"
      ],
      "metadata": {
        "id": "FzF8biEXKTy2"
      }
    },
    {
      "cell_type": "markdown",
      "source": [
        "**(b) What does this placebo test suggest to you about the validity of your estimate of the causal impact of the intervention?**"
      ],
      "metadata": {
        "id": "j0IAWPj7KWeP"
      }
    },
    {
      "cell_type": "markdown",
      "source": [
        "Your answer here:\n"
      ],
      "metadata": {
        "id": "44Z3LCq1KY1e"
      }
    }
  ],
  "metadata": {
    "colab": {
      "provenance": [],
      "include_colab_link": true
    },
    "kernelspec": {
      "display_name": "R",
      "language": "R",
      "name": "ir"
    },
    "language_info": {
      "codemirror_mode": "r",
      "file_extension": ".r",
      "mimetype": "text/x-r-source",
      "name": "R",
      "pygments_lexer": "r",
      "version": "4.2.1"
    }
  },
  "nbformat": 4,
  "nbformat_minor": 0
}